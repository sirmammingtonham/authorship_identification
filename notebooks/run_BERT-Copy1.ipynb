{
 "cells": [
  {
   "cell_type": "code",
   "execution_count": 1,
   "metadata": {
    "colab": {
     "base_uri": "https://localhost:8080/"
    },
    "executionInfo": {
     "elapsed": 804,
     "status": "ok",
     "timestamp": 1668038988074,
     "user": {
      "displayName": "Yang Su",
      "userId": "02255409601147553219"
     },
     "user_tz": 300
    },
    "id": "5rMzpzIpaQox",
    "outputId": "7bc7df52-20b5-4943-b2b7-3dff3d8b6496"
   },
   "outputs": [
    {
     "name": "stderr",
     "output_type": "stream",
     "text": [
      "/home/ys724/.conda/envs/venv/lib/python3.8/site-packages/tqdm/auto.py:22: TqdmWarning: IProgress not found. Please update jupyter and ipywidgets. See https://ipywidgets.readthedocs.io/en/stable/user_install.html\n",
      "  from .autonotebook import tqdm as notebook_tqdm\n",
      "/home/ys724/.conda/envs/venv/lib/python3.8/site-packages/scipy/__init__.py:146: UserWarning: A NumPy version >=1.16.5 and <1.23.0 is required for this version of SciPy (detected version 1.23.4\n",
      "  warnings.warn(f\"A NumPy version >={np_minversion} and <{np_maxversion}\"\n"
     ]
    }
   ],
   "source": [
    "# from google.colab import drive\n",
    "# drive.mount('/content/drive')\n",
    "\n",
    "# import os\n",
    "# os.chdir(\"drive/MyDrive/Colab Notebooks/Authorship Identification/\")\n",
    "\n",
    "import torch\n",
    "import numpy as np\n",
    "import pandas as pd\n",
    "from scipy import sparse\n",
    "from sklearn import preprocessing\n",
    "from sklearn.feature_extraction.text import TfidfVectorizer\n",
    "from transformers import DistilBertTokenizer, BertTokenizer, DebertaTokenizer\n",
    "\n",
    "random_seed = 42\n",
    "np.random.seed = 42\n",
    "torch.random.seed = 42"
   ]
  },
  {
   "cell_type": "markdown",
   "metadata": {
    "id": "Ee77QrMg9wSq"
   },
   "source": [
    "### Load C50 Dataset (if already loaded)"
   ]
  },
  {
   "cell_type": "markdown",
   "metadata": {
    "id": "p3bN7yWQkfv8"
   },
   "source": [
    "- this (original dataset) is 50 train - 50 test split"
   ]
  },
  {
   "cell_type": "code",
   "execution_count": 23,
   "metadata": {
    "id": "MXBXPc3g9rUN"
   },
   "outputs": [],
   "source": [
    "train_df = pd.read_csv('C50/train.csv')\n",
    "test_df = pd.read_csv('C50/test.csv')"
   ]
  },
  {
   "cell_type": "markdown",
   "metadata": {
    "id": "osbEmbZ-4Sgj"
   },
   "source": [
    "- this dataset is the original one with entity names removed"
   ]
  },
  {
   "cell_type": "code",
   "execution_count": 2,
   "metadata": {
    "executionInfo": {
     "elapsed": 210,
     "status": "ok",
     "timestamp": 1668040072128,
     "user": {
      "displayName": "Yang Su",
      "userId": "02255409601147553219"
     },
     "user_tz": 300
    },
    "id": "jtn4mZWz3hqz"
   },
   "outputs": [],
   "source": [
    "train_df = pd.read_csv('C50/train_noents.csv')\n",
    "test_df = pd.read_csv('C50/test_noents.csv')\n",
    "train_df.rename(columns={'text': 'content', 'label': 'author'}, inplace=True)\n",
    "test_df.rename(columns={'text': 'content', 'label': 'author'}, inplace=True)"
   ]
  },
  {
   "cell_type": "markdown",
   "metadata": {
    "id": "6KCKg8WBknTs"
   },
   "source": [
    "- this is 90 train - 10 test split"
   ]
  },
  {
   "cell_type": "code",
   "execution_count": 17,
   "metadata": {
    "id": "6qizdu9fkmz8"
   },
   "outputs": [],
   "source": [
    "test_frac = 0.1\n",
    "train_df = pd.concat([train_df, test_df])\n",
    "test_df = train_df.sample(frac=test_frac, random_state=random_seed)\n",
    "train_df = train_df.drop(test_df.index)"
   ]
  },
  {
   "cell_type": "code",
   "execution_count": 3,
   "metadata": {
    "colab": {
     "base_uri": "https://localhost:8080/",
     "height": 206
    },
    "executionInfo": {
     "elapsed": 504,
     "status": "ok",
     "timestamp": 1668040073943,
     "user": {
      "displayName": "Yang Su",
      "userId": "02255409601147553219"
     },
     "user_tz": 300
    },
    "id": "cNmEMg0g2HzD",
    "outputId": "709140a0-d064-44fc-deb2-b228d4c39363"
   },
   "outputs": [
    {
     "data": {
      "text/html": [
       "<div>\n",
       "<style scoped>\n",
       "    .dataframe tbody tr th:only-of-type {\n",
       "        vertical-align: middle;\n",
       "    }\n",
       "\n",
       "    .dataframe tbody tr th {\n",
       "        vertical-align: top;\n",
       "    }\n",
       "\n",
       "    .dataframe thead th {\n",
       "        text-align: right;\n",
       "    }\n",
       "</style>\n",
       "<table border=\"1\" class=\"dataframe\">\n",
       "  <thead>\n",
       "    <tr style=\"text-align: right;\">\n",
       "      <th></th>\n",
       "      <th>content</th>\n",
       "      <th>author</th>\n",
       "    </tr>\n",
       "  </thead>\n",
       "  <tbody>\n",
       "    <tr>\n",
       "      <th>0</th>\n",
       "      <td>The capital market, roundly criticised for a l...</td>\n",
       "      <td>1</td>\n",
       "    </tr>\n",
       "    <tr>\n",
       "      <th>1</th>\n",
       "      <td>beat the Republic 3-0 in a ice hockey game on ...</td>\n",
       "      <td>1</td>\n",
       "    </tr>\n",
       "    <tr>\n",
       "      <th>2</th>\n",
       "      <td>The fall in the trade deficit to crowns in fro...</td>\n",
       "      <td>1</td>\n",
       "    </tr>\n",
       "    <tr>\n",
       "      <th>3</th>\n",
       "      <td>paper concern a.s. on said its net profit fell...</td>\n",
       "      <td>1</td>\n",
       "    </tr>\n",
       "    <tr>\n",
       "      <th>4</th>\n",
       "      <td>shares rallied on following the coalition gove...</td>\n",
       "      <td>1</td>\n",
       "    </tr>\n",
       "  </tbody>\n",
       "</table>\n",
       "</div>"
      ],
      "text/plain": [
       "                                             content  author\n",
       "0  The capital market, roundly criticised for a l...       1\n",
       "1  beat the Republic 3-0 in a ice hockey game on ...       1\n",
       "2  The fall in the trade deficit to crowns in fro...       1\n",
       "3  paper concern a.s. on said its net profit fell...       1\n",
       "4  shares rallied on following the coalition gove...       1"
      ]
     },
     "execution_count": 3,
     "metadata": {},
     "output_type": "execute_result"
    }
   ],
   "source": [
    "train_df.head()"
   ]
  },
  {
   "cell_type": "markdown",
   "metadata": {
    "id": "X0d03x1zf5Qf"
   },
   "source": [
    "### Load \"All the News\" 1 Dataset"
   ]
  },
  {
   "cell_type": "code",
   "execution_count": 2,
   "metadata": {
    "colab": {
     "base_uri": "https://localhost:8080/"
    },
    "executionInfo": {
     "elapsed": 6519,
     "status": "ok",
     "timestamp": 1668036510611,
     "user": {
      "displayName": "Yang Su",
      "userId": "02255409601147553219"
     },
     "user_tz": 300
    },
    "id": "bEqlpU6Ff8eY",
    "outputId": "53eab2d9-b20f-4acd-caef-fe40ce5108ba"
   },
   "outputs": [
    {
     "name": "stdout",
     "output_type": "stream",
     "text": [
      "The authors are ['Breitbart News' 'Pam Key' 'Charlie Spiering' 'Jerome Hudson'\n",
      " 'John Hayward' 'Daniel Nussbaum' 'AWR Hawkins' 'Ian Hanchett'\n",
      " 'Joel B. Pollak' 'Alex Swoyer']\n"
     ]
    },
    {
     "data": {
      "text/plain": [
       "(5000, 10)"
      ]
     },
     "execution_count": 2,
     "metadata": {},
     "output_type": "execute_result"
    }
   ],
   "source": [
    "train_df = pd.read_csv('All the News/all_the_news1_noents.csv')\n",
    "train_df = train_df[(train_df.publication == 'Breitbart')]\n",
    "top10_authors = train_df[['author','id']].groupby('author').count().sort_values(by='id', ascending=False).head(10).reset_index() # this == what the paper proposed\n",
    "print('The authors are', top10_authors.author.values)\n",
    "train_df = pd.merge(train_df, top10_authors[['author']], on='author', how='right')\n",
    "train_df = train_df.groupby(by='author').sample(500, random_state=random_seed)\n",
    "train_df.shape"
   ]
  },
  {
   "cell_type": "markdown",
   "metadata": {
    "id": "6BDDlKnbeDUu"
   },
   "source": [
    "### Preprocessing"
   ]
  },
  {
   "cell_type": "code",
   "execution_count": 3,
   "metadata": {
    "executionInfo": {
     "elapsed": 875,
     "status": "ok",
     "timestamp": 1668040082236,
     "user": {
      "displayName": "Yang Su",
      "userId": "02255409601147553219"
     },
     "user_tz": 300
    },
    "id": "Wt6Zc73y4sFD"
   },
   "outputs": [],
   "source": [
    "# if C50 split 50-50\n",
    "test_frac = 0\n",
    "\n",
    "# if NOT C50 split 50-50\n",
    "test_frac = 0.15\n",
    "test_df = train_df.sample(frac=test_frac, random_state=random_seed)\n",
    "train_df = train_df.drop(test_df.index).reset_index()\n",
    "test_df = test_df.reset_index()\n",
    "\n",
    "le = preprocessing.LabelEncoder()\n",
    "le.fit(train_df['author'])\n",
    "train_df['author_id'] = le.transform(train_df['author']).astype(int)\n",
    "test_df['author_id'] = le.transform(test_df['author']).astype(int)\n",
    "tokenizer = BertTokenizer.from_pretrained('bert-base-uncased')"
   ]
  },
  {
   "cell_type": "code",
   "execution_count": 4,
   "metadata": {
    "colab": {
     "base_uri": "https://localhost:8080/"
    },
    "executionInfo": {
     "elapsed": 783,
     "status": "ok",
     "timestamp": 1668040087088,
     "user": {
      "displayName": "Yang Su",
      "userId": "02255409601147553219"
     },
     "user_tz": 300
    },
    "id": "keYoKbPLifti",
    "outputId": "71e76a53-f862-42c1-eef6-da12928d96d7"
   },
   "outputs": [
    {
     "name": "stdout",
     "output_type": "stream",
     "text": [
      "The average length of text of an article in training set is 365.8708235294118 and in test set is 381.47866666666664\n"
     ]
    }
   ],
   "source": [
    "print('The average length of text of an article in training set is', np.mean([len(content.split()) for content in train_df['content'].values]), \n",
    "      'and in test set is', np.mean([len(content.split()) for content in test_df['content'].values]))"
   ]
  },
  {
   "cell_type": "code",
   "execution_count": 5,
   "metadata": {},
   "outputs": [],
   "source": [
    "valid_frac = 0.1 / (1 - test_frac)\n",
    "valid_df = train_df.sample(frac=valid_frac, random_state=random_seed)\n",
    "train_df = train_df.drop(valid_df.index).reset_index()\n",
    "valid_df = valid_df.reset_index()"
   ]
  },
  {
   "cell_type": "code",
   "execution_count": 6,
   "metadata": {
    "colab": {
     "base_uri": "https://localhost:8080/"
    },
    "executionInfo": {
     "elapsed": 529,
     "status": "ok",
     "timestamp": 1668040015466,
     "user": {
      "displayName": "Yang Su",
      "userId": "02255409601147553219"
     },
     "user_tz": 300
    },
    "id": "Byd3S_GRhFjr",
    "outputId": "6ea6d056-f683-4608-c999-ee4714a907cd"
   },
   "outputs": [
    {
     "name": "stdout",
     "output_type": "stream",
     "text": [
      "8    \n",
      "yes\n"
     ]
    }
   ],
   "source": [
    "def debug():\n",
    "    # text = tokenizer(\"Commonwealth _ of Australia (_) managing\", padding='max_length', max_length = 32, truncation=True, return_tensors=\"pt\")\n",
    "    # print(text)\n",
    "    # mask_val = tokenizer.vocab.get('_')\n",
    "    # text['attention_mask'] = torch.where(text['input_ids'] == mask_val, 0, text['attention_mask'])\n",
    "    # print(text)\n",
    "    text = \"Westpac Banking Corp Ltd is expected to report on Tuesday that its net profit growth was reined\"\n",
    "    sub = \"Banking\"\n",
    "    i = text.find(sub)\n",
    "    print(i, text[i-1], text[i+len(sub)])\n",
    "    if i == -1 or (i > 0 and text[i-1].isalpha()) or (i+len(sub) < len(text) and text[i+len(sub)].isalpha()):\n",
    "        print('no')\n",
    "    else:\n",
    "        print('yes')\n",
    "\n",
    "debug()"
   ]
  },
  {
   "cell_type": "code",
   "execution_count": 7,
   "metadata": {
    "executionInfo": {
     "elapsed": 330,
     "status": "ok",
     "timestamp": 1668040084521,
     "user": {
      "displayName": "Yang Su",
      "userId": "02255409601147553219"
     },
     "user_tz": 300
    },
    "id": "PFq0C3KtP8iR"
   },
   "outputs": [],
   "source": [
    "def mask_contents(threshold):\n",
    "    vectorizer = TfidfVectorizer(ngram_range=(1, 2), lowercase=False) #, stop_words='english')\n",
    "    vectorizer.fit(pd.concat([train_df['content'], valid_df['content']]))\n",
    "    X_train = vectorizer.transform(train_df['content'])\n",
    "    X_valid = vectorizer.transform(valid_df['content'])\n",
    "    X_test = vectorizer.transform(test_df['content'])\n",
    "    feat_names = vectorizer.get_feature_names_out()\n",
    "    feat_idf = vectorizer.idf_\n",
    "\n",
    "    def mask_content(X, df):\n",
    "        mask_words = set(feat_names[feat_idf >= threshold])\n",
    "        ret = []\n",
    "        for i in range(df['content'].shape[0]):\n",
    "            text = df['content'][i]\n",
    "            text = ' '.join(['_' if word in mask_words else word for word in text.split()])\n",
    "          # for mask_word in mask_words:\n",
    "          #   while True:\n",
    "          #     i = text.find(mask_word)\n",
    "          #     if i == -1 or (i > 0 and text[i-1].isalpha()) or (i+len(mask_word) < len(text) and text[i+len(mask_word)].isalpha()):\n",
    "          #       break\n",
    "          #     text = text[:i] + '_' + text[i+len(mask_word):]\n",
    "            ret.append(text)\n",
    "        return ret\n",
    "\n",
    "    train_df['masked_content'] = mask_content(X_train, train_df)\n",
    "    valid_df['masked_content'] = mask_content(X_valid, valid_df)\n",
    "    test_df['masked_content'] = mask_content(X_test, test_df)"
   ]
  },
  {
   "cell_type": "markdown",
   "metadata": {
    "id": "A7xzXXdd6RID"
   },
   "source": [
    "### Dataset Class"
   ]
  },
  {
   "cell_type": "code",
   "execution_count": 8,
   "metadata": {
    "executionInfo": {
     "elapsed": 2,
     "status": "ok",
     "timestamp": 1668040088490,
     "user": {
      "displayName": "Yang Su",
      "userId": "02255409601147553219"
     },
     "user_tz": 300
    },
    "id": "F0fUzQPv5pDE"
   },
   "outputs": [],
   "source": [
    "class Dataset(torch.utils.data.Dataset):\n",
    "\n",
    "    def __init__(self, df):\n",
    "\n",
    "        self.labels = df['author_id'].values\n",
    "        self.texts = [tokenizer(text, \n",
    "                               padding='max_length', max_length = 512, truncation=True,\n",
    "                                return_tensors=\"pt\") for text in df['masked_content']]\n",
    "        # add attention mask\n",
    "        mask_val = tokenizer.vocab.get('_')\n",
    "        for text in self.texts:\n",
    "            text['attention_mask'] = torch.where(text['input_ids'] == mask_val, 0, text['attention_mask'])\n",
    "\n",
    "    def classes(self):\n",
    "        return self.labels\n",
    "\n",
    "    def __len__(self):\n",
    "        return len(self.labels)\n",
    "\n",
    "    def get_batch_labels(self, idx):\n",
    "        # Fetch a batch of labels\n",
    "        return np.array(self.labels[idx])\n",
    "\n",
    "    def get_batch_texts(self, idx):\n",
    "        # Fetch a batch of inputs\n",
    "        return self.texts[idx]\n",
    "\n",
    "    def __getitem__(self, idx):\n",
    "\n",
    "        batch_texts = self.get_batch_texts(idx)\n",
    "        batch_y = self.get_batch_labels(idx)\n",
    "\n",
    "        return batch_texts, batch_y"
   ]
  },
  {
   "cell_type": "markdown",
   "metadata": {
    "id": "PsNlow3J6Us5"
   },
   "source": [
    "### Model Class"
   ]
  },
  {
   "cell_type": "code",
   "execution_count": 9,
   "metadata": {
    "executionInfo": {
     "elapsed": 2,
     "status": "ok",
     "timestamp": 1668040089555,
     "user": {
      "displayName": "Yang Su",
      "userId": "02255409601147553219"
     },
     "user_tz": 300
    },
    "id": "1cGKWv_F6at7"
   },
   "outputs": [],
   "source": [
    "from torch import nn\n",
    "from transformers import DistilBertForSequenceClassification, BertForSequenceClassification, DebertaForSequenceClassification, get_linear_schedule_with_warmup\n",
    "\n",
    "class BertClassifier(nn.Module):\n",
    "\n",
    "    def __init__(self, dropout=0.5):\n",
    "\n",
    "        super().__init__()\n",
    "\n",
    "        self.bert = BertForSequenceClassification.from_pretrained('bert-base-uncased', num_labels=len(le.classes_))\n",
    "        # self.dropout = nn.Dropout(dropout)\n",
    "        # self.linear = nn.Linear(768, 50)\n",
    "        # self.relu = nn.ReLU()\n",
    "\n",
    "    def forward(self, input_id, labels=None):\n",
    "\n",
    "        # pooled_output, = self.bert(input_ids=input_id, attention_mask=mask, return_dict=False)\n",
    "        # pooled_output = pooled_output[:,0,:]\n",
    "        # dropout_output = self.dropout(pooled_output)\n",
    "        # linear_output = self.linear(dropout_output)\n",
    "        # final_layer = self.relu(linear_output)\n",
    "        # print(input_id.shape, labels.shape)\n",
    "        final_layer = self.bert(input_id, labels=labels)\n",
    "\n",
    "        return final_layer"
   ]
  },
  {
   "cell_type": "markdown",
   "metadata": {
    "id": "MOWKtqfQ6zMl"
   },
   "source": [
    "### Training"
   ]
  },
  {
   "cell_type": "code",
   "execution_count": 11,
   "metadata": {
    "executionInfo": {
     "elapsed": 2,
     "status": "ok",
     "timestamp": 1668040091489,
     "user": {
      "displayName": "Yang Su",
      "userId": "02255409601147553219"
     },
     "user_tz": 300
    },
    "id": "MDXX8kH8Lifw"
   },
   "outputs": [],
   "source": [
    "# !git clone https://gist.github.com/NTT123/4596e5533e573c8ceab2f319ab5d36a2 jslog\n",
    "# import random\n",
    "# import math\n",
    "# import time\n",
    "# from jslog.jslogger import JSLogger\n",
    "\n",
    "# logger = JSLogger('train/valid loss', ['train', 'valid'])\n",
    "# logger_ = JSLogger('train/valid accuracy', ['train', 'valid'])"
   ]
  },
  {
   "cell_type": "code",
   "execution_count": 10,
   "metadata": {
    "colab": {
     "base_uri": "https://localhost:8080/",
     "height": 1000
    },
    "executionInfo": {
     "elapsed": 1179738,
     "status": "ok",
     "timestamp": 1668042674342,
     "user": {
      "displayName": "Yang Su",
      "userId": "02255409601147553219"
     },
     "user_tz": 300
    },
    "id": "wwv_Nnaw6y8t",
    "outputId": "a8710410-5417-4c74-c521-64aecf595737",
    "scrolled": false
   },
   "outputs": [
    {
     "name": "stderr",
     "output_type": "stream",
     "text": [
      "Some weights of the model checkpoint at bert-base-uncased were not used when initializing BertForSequenceClassification: ['cls.predictions.transform.dense.weight', 'cls.predictions.transform.dense.bias', 'cls.seq_relationship.weight', 'cls.predictions.decoder.weight', 'cls.predictions.bias', 'cls.predictions.transform.LayerNorm.weight', 'cls.seq_relationship.bias', 'cls.predictions.transform.LayerNorm.bias']\n",
      "- This IS expected if you are initializing BertForSequenceClassification from the checkpoint of a model trained on another task or with another architecture (e.g. initializing a BertForSequenceClassification model from a BertForPreTraining model).\n",
      "- This IS NOT expected if you are initializing BertForSequenceClassification from the checkpoint of a model that you expect to be exactly identical (initializing a BertForSequenceClassification model from a BertForSequenceClassification model).\n",
      "Some weights of BertForSequenceClassification were not initialized from the model checkpoint at bert-base-uncased and are newly initialized: ['classifier.bias', 'classifier.weight']\n",
      "You should probably TRAIN this model on a down-stream task to be able to use it for predictions and inference.\n"
     ]
    },
    {
     "name": "stdout",
     "output_type": "stream",
     "text": [
      "There are 109489930 parameters\n",
      "0       released a statement via email in which she said the decision is a clear demonstration of the im...\n",
      "1       Former and current congressional candidate believes Lt. Governor gun control ballot initiative w...\n",
      "2       On was suspended for after bringing an empty . shell casing to school to show his friends. [’s s...\n",
      "3       presidential hopeful used to release a new ad warning that politicians are incrementally weakeni...\n",
      "4       The ’s and , held in , , produced a “economic impact. ”[According to The this made the conventio...\n",
      "                                                       ...                                                 \n",
      "3745    In a preview clip of an interview set to air on broadcast of “,” President said Presidents and w...\n",
      "3746    at the League Conference, Director said law enforcement “officers and deputies and agents” need ...\n",
      "3747    at a press gathering on the campaign trail in , , Sen. ( ) responded to the controversy involvin...\n",
      "3748    on ’s “,” columnist for said some are at stage of panic over presumptive presidential nominee . ...\n",
      "3749    on ’s “,” Sen. ( ) said Attorney General should return and tell why he said something “that just...\n",
      "Name: masked_content, Length: 3750, dtype: object\n"
     ]
    }
   ],
   "source": [
    "from torch.optim import AdamW\n",
    "from tqdm import tqdm\n",
    "from sklearn.metrics import accuracy_score, f1_score\n",
    "\n",
    "def train(model, train_data, val_data, learning_rate, epochs, batch_size):\n",
    "\n",
    "    train, val = Dataset(train_data), Dataset(val_data)\n",
    "\n",
    "    train_dataloader = torch.utils.data.DataLoader(train, batch_size=batch_size, shuffle=True)\n",
    "    val_dataloader = torch.utils.data.DataLoader(val, batch_size=batch_size)\n",
    "\n",
    "    use_cuda = torch.cuda.is_available()\n",
    "    device = torch.device(\"cuda\" if use_cuda else \"cpu\")\n",
    "\n",
    "    criterion = nn.CrossEntropyLoss()\n",
    "    optimizer = AdamW(model.parameters(), lr=learning_rate)\n",
    "    lr_scheduler = get_linear_schedule_with_warmup(\n",
    "        optimizer=optimizer,\n",
    "        num_warmup_steps=100,\n",
    "        num_training_steps=len(train_dataloader) * epochs,\n",
    "    )\n",
    "\n",
    "    if use_cuda:\n",
    "        \n",
    "        print('cuda version', torch.__version__)\n",
    "        model = model.cuda()\n",
    "        criterion = criterion.cuda()\n",
    "\n",
    "    for epoch_num in range(epochs):\n",
    "        \n",
    "        train_loss = 0\n",
    "        train_pred = []\n",
    "        train_truth = []\n",
    "        model.train()\n",
    "\n",
    "        for train_input, train_label in tqdm(train_dataloader):\n",
    "\n",
    "            train_label = train_label.to(device)\n",
    "            # mask = train_input['attention_mask'].to(device)\n",
    "            input_id = train_input['input_ids'].squeeze(1).to(device)\n",
    "\n",
    "            output = model(input_id, train_label)\n",
    "                \n",
    "            # batch_loss = criterion(output, train_label.long())\n",
    "            batch_loss = output.loss\n",
    "            train_loss += batch_loss.item()\n",
    "            train_pred.append(output.logits.argmax(dim=1))\n",
    "            train_truth.append(train_label)\n",
    "\n",
    "            model.zero_grad()\n",
    "            batch_loss.backward()\n",
    "            optimizer.step()\n",
    "            lr_scheduler.step()\n",
    "                \n",
    "        train_truth = torch.cat(train_truth).detach().cpu().numpy()\n",
    "        train_pred = torch.cat(train_pred).detach().cpu().numpy()\n",
    "        train_acc = accuracy_score(train_truth, train_pred)\n",
    "        train_f1 = f1_score(train_truth, train_pred, average='macro')\n",
    "            \n",
    "        val_loss = 0\n",
    "        val_pred = []\n",
    "        val_truth = []\n",
    "        model.eval()\n",
    "\n",
    "        with torch.no_grad():\n",
    "\n",
    "            for val_input, val_label in val_dataloader:\n",
    "\n",
    "                val_label = val_label.to(device)\n",
    "                # mask = val_input['attention_mask'].to(device)\n",
    "                input_id = val_input['input_ids'].squeeze(1).to(device)\n",
    "\n",
    "                output = model(input_id, val_label)\n",
    "\n",
    "                # batch_loss = criterion(output, val_label.long())\n",
    "                batch_loss = output.loss\n",
    "                val_loss += batch_loss.item()\n",
    "                val_pred.append(output.logits.argmax(dim=1))\n",
    "                val_truth.append(val_label)\n",
    "            \n",
    "        val_truth = torch.cat(val_truth).detach().cpu().numpy()\n",
    "        val_pred = torch.cat(val_pred).detach().cpu().numpy()\n",
    "        val_acc = accuracy_score(val_truth, val_pred)\n",
    "        val_f1 = f1_score(val_truth, val_pred, average='macro')\n",
    "            \n",
    "        print('Epochs: {} | Train Loss: {:.4f} | Train Accuracy: {:.4f} | Train F1: {:.4f}'\\\n",
    "                .format(epoch_num + 1, train_loss, train_acc, train_f1))\n",
    "        print('           | Val Loss:   {:.4f} | Val Accuracy:   {:.4f} | Val F1:   {:.4f}'\\\n",
    "                .format(val_loss, val_acc, val_f1))\n",
    "            \n",
    "        # logger.log(epoch_num + 1, {'train': total_loss_train / len(train_data), 'valid': total_loss_val / len(val_data)})\n",
    "        # logger_.log(epoch_num + 1, {'train': total_acc_train / len(train_data), 'valid': total_acc_val / len(val_data)})\n",
    "    return train_acc, train_f1, val_acc, val_f1\n",
    "\n",
    "# logger.show()\n",
    "# logger_.show()\n",
    "pd.options.display.max_colwidth = 100       \n",
    "EPOCHS = 10\n",
    "LR = 2e-5\n",
    "BATCH_SIZE = 16\n",
    "model = BertClassifier()\n",
    "print('There are', sum(p.numel() for p in model.parameters()), 'parameters')\n",
    "\n",
    "mask_contents(threshold=10.)\n",
    "print(train_df['masked_content'])\n",
    "              \n",
    "# train(model, train_df, valid_df, LR, EPOCHS, BATCH_SIZE)"
   ]
  },
  {
   "cell_type": "markdown",
   "metadata": {
    "id": "Rv_BDjcu7MWm"
   },
   "source": [
    "### Evaluate"
   ]
  },
  {
   "cell_type": "code",
   "execution_count": 11,
   "metadata": {
    "colab": {
     "base_uri": "https://localhost:8080/"
    },
    "executionInfo": {
     "elapsed": 57465,
     "status": "ok",
     "timestamp": 1668042731796,
     "user": {
      "displayName": "Yang Su",
      "userId": "02255409601147553219"
     },
     "user_tz": 300
    },
    "id": "_v6cYf8e7OMw",
    "outputId": "5606f1c7-0c75-4ec0-ae90-83706ccd36b1"
   },
   "outputs": [],
   "source": [
    "def evaluate(model, test_data):\n",
    "\n",
    "    test = Dataset(test_data)\n",
    "\n",
    "    test_dataloader = torch.utils.data.DataLoader(test, batch_size=32)\n",
    "\n",
    "    use_cuda = torch.cuda.is_available()\n",
    "    device = torch.device(\"cuda\" if use_cuda else \"cpu\")\n",
    "\n",
    "    if use_cuda:\n",
    "\n",
    "        model = model.cuda()\n",
    "\n",
    "    test_pred = []\n",
    "    test_truth = []\n",
    "    model.eval()\n",
    "    \n",
    "    with torch.no_grad():\n",
    "\n",
    "        for test_input, test_label in test_dataloader:\n",
    "            \n",
    "            test_label = test_label.to(device)\n",
    "            # mask = test_input['attention_mask'].to(device)\n",
    "            input_id = test_input['input_ids'].squeeze(1).to(device)\n",
    "\n",
    "            output = model(input_id, test_label)\n",
    "\n",
    "            test_pred.append(output.logits.argmax(dim=1))\n",
    "            test_truth.append(test_label)\n",
    "        \n",
    "        test_truth = torch.cat(test_truth).detach().cpu().numpy()\n",
    "        test_pred = torch.cat(test_pred).detach().cpu().numpy()\n",
    "        test_acc = accuracy_score(test_truth, test_pred)\n",
    "        test_f1 = f1_score(test_truth, test_pred, average='macro')\n",
    "    \n",
    "    print('Test Accuracy:  {:.4f} | Test F1:  {:.4f}'.format(test_acc, test_f1))\n",
    "    return test_acc, test_f1\n",
    "    \n",
    "# print(test_df['masked_content'])\n",
    "# evaluate(model, test_df)"
   ]
  },
  {
   "cell_type": "markdown",
   "metadata": {},
   "source": [
    "### Fine-Tuning"
   ]
  },
  {
   "cell_type": "code",
   "execution_count": 14,
   "metadata": {},
   "outputs": [],
   "source": [
    "def fine_tuning(lr_list, epoch_list, batch_list, checkpoint_path='tuning2'):\n",
    "    \n",
    "    index_list, index2_list, index3_list = [], [], []\n",
    "    train_accs, train_f1s = [], []\n",
    "    test_accs, test_f1s = [], []\n",
    "    \n",
    "    for lr in lr_list:\n",
    "        for epoch in epoch_list:\n",
    "            for batch_size in batch_list:\n",
    "            \n",
    "                model = BertClassifier()\n",
    "                # mask_contents(threshold=threshold)\n",
    "                print('lr at {}, epoch at {}, batch_size at {}'.format(lr, epoch, batch_size))\n",
    "                train_acc, train_f1, val_acc, val_f1 = train(model, train_df, valid_df, lr, epoch, batch_size)\n",
    "                test_acc, test_f1 = evaluate(model, test_df)\n",
    "\n",
    "                train_accs.append(train_acc)\n",
    "                train_f1s.append(train_f1)\n",
    "                test_accs.append(test_acc)\n",
    "                test_f1s.append(test_f1)\n",
    "                index_list.append(lr)\n",
    "                index2_list.append(epoch)\n",
    "                index3_list.append(batch_size)\n",
    "\n",
    "                result_df = pd.DataFrame(index_list, columns=['lr'])\n",
    "                result_df['epoch'] = index2_list\n",
    "                result_df['batch_size'] = index3_list\n",
    "                result_df['train_accs'] = train_accs\n",
    "                result_df['train_f1s'] = train_f1s\n",
    "                result_df['test_accs'] = test_accs\n",
    "                result_df['test_f1s'] = test_f1s\n",
    "                result_df['model_name'] = 'bert_uncased'\n",
    "                result_df.to_csv(checkpoint_path + '.csv', index=False)\n",
    "                # break\n",
    "    return index_list, index2_list, index3_list, train_accs, train_f1s, test_accs, test_f1s"
   ]
  },
  {
   "cell_type": "code",
   "execution_count": 15,
   "metadata": {},
   "outputs": [
    {
     "name": "stderr",
     "output_type": "stream",
     "text": [
      "Some weights of the model checkpoint at bert-base-uncased were not used when initializing BertForSequenceClassification: ['cls.predictions.transform.dense.weight', 'cls.predictions.transform.dense.bias', 'cls.seq_relationship.weight', 'cls.predictions.decoder.weight', 'cls.predictions.bias', 'cls.predictions.transform.LayerNorm.weight', 'cls.seq_relationship.bias', 'cls.predictions.transform.LayerNorm.bias']\n",
      "- This IS expected if you are initializing BertForSequenceClassification from the checkpoint of a model trained on another task or with another architecture (e.g. initializing a BertForSequenceClassification model from a BertForPreTraining model).\n",
      "- This IS NOT expected if you are initializing BertForSequenceClassification from the checkpoint of a model that you expect to be exactly identical (initializing a BertForSequenceClassification model from a BertForSequenceClassification model).\n",
      "Some weights of BertForSequenceClassification were not initialized from the model checkpoint at bert-base-uncased and are newly initialized: ['classifier.bias', 'classifier.weight']\n",
      "You should probably TRAIN this model on a down-stream task to be able to use it for predictions and inference.\n"
     ]
    },
    {
     "name": "stdout",
     "output_type": "stream",
     "text": [
      "lr at 2e-05, epoch at 15, batch_size at 8\n",
      "cuda version 1.13.0\n"
     ]
    },
    {
     "name": "stderr",
     "output_type": "stream",
     "text": [
      "100%|█████████████████████████████████████████| 469/469 [01:41<00:00,  4.60it/s]\n"
     ]
    },
    {
     "name": "stdout",
     "output_type": "stream",
     "text": [
      "Epochs: 1 | Train Loss: 595.1981 | Train Accuracy: 0.6075 | Train F1: 0.6097\n",
      "           | Val Loss:   29.6077 | Val Accuracy:   0.8580 | Val F1:   0.8653\n"
     ]
    },
    {
     "name": "stderr",
     "output_type": "stream",
     "text": [
      "100%|█████████████████████████████████████████| 469/469 [01:42<00:00,  4.57it/s]\n"
     ]
    },
    {
     "name": "stdout",
     "output_type": "stream",
     "text": [
      "Epochs: 2 | Train Loss: 177.7380 | Train Accuracy: 0.8931 | Train F1: 0.8932\n",
      "           | Val Loss:   26.3167 | Val Accuracy:   0.8680 | Val F1:   0.8701\n"
     ]
    },
    {
     "name": "stderr",
     "output_type": "stream",
     "text": [
      "100%|█████████████████████████████████████████| 469/469 [01:42<00:00,  4.57it/s]\n"
     ]
    },
    {
     "name": "stdout",
     "output_type": "stream",
     "text": [
      "Epochs: 3 | Train Loss: 84.0845 | Train Accuracy: 0.9528 | Train F1: 0.9527\n",
      "           | Val Loss:   16.1461 | Val Accuracy:   0.9220 | Val F1:   0.9261\n"
     ]
    },
    {
     "name": "stderr",
     "output_type": "stream",
     "text": [
      " 30%|████████████▌                            | 143/469 [00:31<01:11,  4.55it/s]\n"
     ]
    },
    {
     "ename": "KeyboardInterrupt",
     "evalue": "",
     "output_type": "error",
     "traceback": [
      "\u001b[0;31m---------------------------------------------------------------------------\u001b[0m",
      "\u001b[0;31mKeyboardInterrupt\u001b[0m                         Traceback (most recent call last)",
      "Input \u001b[0;32mIn [15]\u001b[0m, in \u001b[0;36m<cell line: 6>\u001b[0;34m()\u001b[0m\n\u001b[1;32m      4\u001b[0m epoch_list \u001b[38;5;241m=\u001b[39m [\u001b[38;5;241m15\u001b[39m] \u001b[38;5;66;03m#[10, 15]\u001b[39;00m\n\u001b[1;32m      5\u001b[0m batch_list \u001b[38;5;241m=\u001b[39m [\u001b[38;5;241m8\u001b[39m, \u001b[38;5;241m16\u001b[39m, \u001b[38;5;241m32\u001b[39m] \u001b[38;5;66;03m#[8, 16, 32]\u001b[39;00m\n\u001b[0;32m----> 6\u001b[0m \u001b[43mfine_tuning\u001b[49m\u001b[43m(\u001b[49m\u001b[43mlr_list\u001b[49m\u001b[38;5;241;43m=\u001b[39;49m\u001b[43mlr_list\u001b[49m\u001b[43m,\u001b[49m\u001b[43m \u001b[49m\u001b[43mepoch_list\u001b[49m\u001b[38;5;241;43m=\u001b[39;49m\u001b[43mepoch_list\u001b[49m\u001b[43m,\u001b[49m\u001b[43m \u001b[49m\u001b[43mbatch_list\u001b[49m\u001b[38;5;241;43m=\u001b[39;49m\u001b[43mbatch_list\u001b[49m\u001b[43m)\u001b[49m\n",
      "Input \u001b[0;32mIn [14]\u001b[0m, in \u001b[0;36mfine_tuning\u001b[0;34m(lr_list, epoch_list, batch_list, checkpoint_path)\u001b[0m\n\u001b[1;32m     12\u001b[0m \u001b[38;5;66;03m# mask_contents(threshold=threshold)\u001b[39;00m\n\u001b[1;32m     13\u001b[0m \u001b[38;5;28mprint\u001b[39m(\u001b[38;5;124m'\u001b[39m\u001b[38;5;124mlr at \u001b[39m\u001b[38;5;132;01m{}\u001b[39;00m\u001b[38;5;124m, epoch at \u001b[39m\u001b[38;5;132;01m{}\u001b[39;00m\u001b[38;5;124m, batch_size at \u001b[39m\u001b[38;5;132;01m{}\u001b[39;00m\u001b[38;5;124m'\u001b[39m\u001b[38;5;241m.\u001b[39mformat(lr, epoch, batch_size))\n\u001b[0;32m---> 14\u001b[0m train_acc, train_f1, val_acc, val_f1 \u001b[38;5;241m=\u001b[39m \u001b[43mtrain\u001b[49m\u001b[43m(\u001b[49m\u001b[43mmodel\u001b[49m\u001b[43m,\u001b[49m\u001b[43m \u001b[49m\u001b[43mtrain_df\u001b[49m\u001b[43m,\u001b[49m\u001b[43m \u001b[49m\u001b[43mvalid_df\u001b[49m\u001b[43m,\u001b[49m\u001b[43m \u001b[49m\u001b[43mlr\u001b[49m\u001b[43m,\u001b[49m\u001b[43m \u001b[49m\u001b[43mepoch\u001b[49m\u001b[43m,\u001b[49m\u001b[43m \u001b[49m\u001b[43mbatch_size\u001b[49m\u001b[43m)\u001b[49m\n\u001b[1;32m     15\u001b[0m test_acc, test_f1 \u001b[38;5;241m=\u001b[39m evaluate(model, test_df)\n\u001b[1;32m     17\u001b[0m train_accs\u001b[38;5;241m.\u001b[39mappend(train_acc)\n",
      "Input \u001b[0;32mIn [10]\u001b[0m, in \u001b[0;36mtrain\u001b[0;34m(model, train_data, val_data, learning_rate, epochs, batch_size)\u001b[0m\n\u001b[1;32m     48\u001b[0m train_truth\u001b[38;5;241m.\u001b[39mappend(train_label)\n\u001b[1;32m     50\u001b[0m model\u001b[38;5;241m.\u001b[39mzero_grad()\n\u001b[0;32m---> 51\u001b[0m \u001b[43mbatch_loss\u001b[49m\u001b[38;5;241;43m.\u001b[39;49m\u001b[43mbackward\u001b[49m\u001b[43m(\u001b[49m\u001b[43m)\u001b[49m\n\u001b[1;32m     52\u001b[0m optimizer\u001b[38;5;241m.\u001b[39mstep()\n\u001b[1;32m     53\u001b[0m lr_scheduler\u001b[38;5;241m.\u001b[39mstep()\n",
      "File \u001b[0;32m~/.conda/envs/venv/lib/python3.8/site-packages/torch/_tensor.py:487\u001b[0m, in \u001b[0;36mTensor.backward\u001b[0;34m(self, gradient, retain_graph, create_graph, inputs)\u001b[0m\n\u001b[1;32m    477\u001b[0m \u001b[38;5;28;01mif\u001b[39;00m has_torch_function_unary(\u001b[38;5;28mself\u001b[39m):\n\u001b[1;32m    478\u001b[0m     \u001b[38;5;28;01mreturn\u001b[39;00m handle_torch_function(\n\u001b[1;32m    479\u001b[0m         Tensor\u001b[38;5;241m.\u001b[39mbackward,\n\u001b[1;32m    480\u001b[0m         (\u001b[38;5;28mself\u001b[39m,),\n\u001b[0;32m   (...)\u001b[0m\n\u001b[1;32m    485\u001b[0m         inputs\u001b[38;5;241m=\u001b[39minputs,\n\u001b[1;32m    486\u001b[0m     )\n\u001b[0;32m--> 487\u001b[0m \u001b[43mtorch\u001b[49m\u001b[38;5;241;43m.\u001b[39;49m\u001b[43mautograd\u001b[49m\u001b[38;5;241;43m.\u001b[39;49m\u001b[43mbackward\u001b[49m\u001b[43m(\u001b[49m\n\u001b[1;32m    488\u001b[0m \u001b[43m    \u001b[49m\u001b[38;5;28;43mself\u001b[39;49m\u001b[43m,\u001b[49m\u001b[43m \u001b[49m\u001b[43mgradient\u001b[49m\u001b[43m,\u001b[49m\u001b[43m \u001b[49m\u001b[43mretain_graph\u001b[49m\u001b[43m,\u001b[49m\u001b[43m \u001b[49m\u001b[43mcreate_graph\u001b[49m\u001b[43m,\u001b[49m\u001b[43m \u001b[49m\u001b[43minputs\u001b[49m\u001b[38;5;241;43m=\u001b[39;49m\u001b[43minputs\u001b[49m\n\u001b[1;32m    489\u001b[0m \u001b[43m\u001b[49m\u001b[43m)\u001b[49m\n",
      "File \u001b[0;32m~/.conda/envs/venv/lib/python3.8/site-packages/torch/autograd/__init__.py:197\u001b[0m, in \u001b[0;36mbackward\u001b[0;34m(tensors, grad_tensors, retain_graph, create_graph, grad_variables, inputs)\u001b[0m\n\u001b[1;32m    192\u001b[0m     retain_graph \u001b[38;5;241m=\u001b[39m create_graph\n\u001b[1;32m    194\u001b[0m \u001b[38;5;66;03m# The reason we repeat same the comment below is that\u001b[39;00m\n\u001b[1;32m    195\u001b[0m \u001b[38;5;66;03m# some Python versions print out the first line of a multi-line function\u001b[39;00m\n\u001b[1;32m    196\u001b[0m \u001b[38;5;66;03m# calls in the traceback and some print out the last line\u001b[39;00m\n\u001b[0;32m--> 197\u001b[0m \u001b[43mVariable\u001b[49m\u001b[38;5;241;43m.\u001b[39;49m\u001b[43m_execution_engine\u001b[49m\u001b[38;5;241;43m.\u001b[39;49m\u001b[43mrun_backward\u001b[49m\u001b[43m(\u001b[49m\u001b[43m  \u001b[49m\u001b[38;5;66;43;03m# Calls into the C++ engine to run the backward pass\u001b[39;49;00m\n\u001b[1;32m    198\u001b[0m \u001b[43m    \u001b[49m\u001b[43mtensors\u001b[49m\u001b[43m,\u001b[49m\u001b[43m \u001b[49m\u001b[43mgrad_tensors_\u001b[49m\u001b[43m,\u001b[49m\u001b[43m \u001b[49m\u001b[43mretain_graph\u001b[49m\u001b[43m,\u001b[49m\u001b[43m \u001b[49m\u001b[43mcreate_graph\u001b[49m\u001b[43m,\u001b[49m\u001b[43m \u001b[49m\u001b[43minputs\u001b[49m\u001b[43m,\u001b[49m\n\u001b[1;32m    199\u001b[0m \u001b[43m    \u001b[49m\u001b[43mallow_unreachable\u001b[49m\u001b[38;5;241;43m=\u001b[39;49m\u001b[38;5;28;43;01mTrue\u001b[39;49;00m\u001b[43m,\u001b[49m\u001b[43m \u001b[49m\u001b[43maccumulate_grad\u001b[49m\u001b[38;5;241;43m=\u001b[39;49m\u001b[38;5;28;43;01mTrue\u001b[39;49;00m\u001b[43m)\u001b[49m\n",
      "\u001b[0;31mKeyboardInterrupt\u001b[0m: "
     ]
    }
   ],
   "source": [
    "# C50 [5e-5 + 10 + 16, 2e-5 + 15 + 16, 1e-5 + 15 + 8]\n",
    "# All The News []\n",
    "lr_list = [2e-5] #[5e-5, 2e-5, 1e-5]\n",
    "epoch_list = [15] #[10, 15]\n",
    "batch_list = [8, 16, 32] #[8, 16, 32]\n",
    "fine_tuning(lr_list=lr_list, epoch_list=epoch_list, batch_list=batch_list)"
   ]
  },
  {
   "cell_type": "markdown",
   "metadata": {},
   "source": [
    "### Grid Search IDF"
   ]
  },
  {
   "cell_type": "code",
   "execution_count": 14,
   "metadata": {},
   "outputs": [],
   "source": [
    "import warnings\n",
    "\n",
    "def grid_search_idf(threshold_list, checkpoint_path='checkpoint'):\n",
    "    \n",
    "    index_list = []\n",
    "    train_accs, train_f1s = [], []\n",
    "    test_accs, test_f1s = [], []\n",
    "    \n",
    "    for threshold in threshold_list:\n",
    "        \n",
    "        # warnings.filterwarnings(action='once')\n",
    "        model = BertClassifier()\n",
    "        mask_contents(threshold=threshold)\n",
    "        print('idf removal threshold at', threshold)\n",
    "        print(train_df['masked_content'])\n",
    "        train_acc, train_f1, val_acc, val_f1 = train(model, train_df, valid_df, LR, EPOCHS, BATCH_SIZE)\n",
    "        test_acc, test_f1 = evaluate(model, test_df)\n",
    "        \n",
    "        train_accs.append(train_acc)\n",
    "        train_f1s.append(train_f1)\n",
    "        test_accs.append(test_acc)\n",
    "        test_f1s.append(test_f1)\n",
    "        index_list.append(threshold)\n",
    "        \n",
    "        result_df = pd.DataFrame(index_list, columns=['idf_threshold'])\n",
    "        result_df['train_accs'] = train_accs\n",
    "        result_df['train_f1s'] = train_f1s\n",
    "        result_df['test_accs'] = test_accs\n",
    "        result_df['test_f1s'] = test_f1s\n",
    "        result_df['model_name'] = 'bert_uncased'\n",
    "        result_df.to_csv(checkpoint_path + '.csv', index=False)\n",
    "        # break\n",
    "    return index_list, train_accs, train_f1s, test_accs, test_f1s"
   ]
  },
  {
   "cell_type": "code",
   "execution_count": 15,
   "metadata": {},
   "outputs": [
    {
     "name": "stderr",
     "output_type": "stream",
     "text": [
      "Some weights of the model checkpoint at bert-base-uncased were not used when initializing BertForSequenceClassification: ['cls.predictions.transform.LayerNorm.weight', 'cls.seq_relationship.weight', 'cls.predictions.transform.dense.bias', 'cls.seq_relationship.bias', 'cls.predictions.transform.dense.weight', 'cls.predictions.transform.LayerNorm.bias', 'cls.predictions.bias', 'cls.predictions.decoder.weight']\n",
      "- This IS expected if you are initializing BertForSequenceClassification from the checkpoint of a model trained on another task or with another architecture (e.g. initializing a BertForSequenceClassification model from a BertForPreTraining model).\n",
      "- This IS NOT expected if you are initializing BertForSequenceClassification from the checkpoint of a model that you expect to be exactly identical (initializing a BertForSequenceClassification model from a BertForSequenceClassification model).\n",
      "Some weights of BertForSequenceClassification were not initialized from the model checkpoint at bert-base-uncased and are newly initialized: ['classifier.weight', 'classifier.bias']\n",
      "You should probably TRAIN this model on a down-stream task to be able to use it for predictions and inference.\n"
     ]
    },
    {
     "name": "stdout",
     "output_type": "stream",
     "text": [
      "idf removal threshold at 10.0\n",
      "0       The capital market, roundly criticised for a lack of transparency, needs an independent regulato...\n",
      "1       beat the Republic 3-0 in a ice hockey game on , setting up a showdown for group supremacy agains...\n",
      "2       The fall in the trade deficit to crowns in from in buoyed market sentiment, and the goods import...\n",
      "3       paper concern a.s. on said its net profit fell as a shutdown of its main paper mill, coupled wit...\n",
      "4       shares rallied on following the coalition government's win in elections, but analysts said the r...\n",
      "                                                       ...                                                 \n",
      "2245    \"\" -- counter-culture anthem of the 's -- is being used in a commericial for a bank and some fan...\n",
      "2246    , the flamboyant stock picker hired recently to spearhead drive to dominate the market, has been...\n",
      "2247    , 's biggest city and financial capital, is bracing for a near shutdown when protesters hit the ...\n",
      "2248    Anti-government protests swept across 's biggest city on as demonstrators in shut down the trans...\n",
      "2249    , biggest power utility, said that it would take a huge () charge in to strengthen its financial...\n",
      "Name: masked_content, Length: 2250, dtype: object\n",
      "cuda version 1.13.0\n"
     ]
    },
    {
     "name": "stderr",
     "output_type": "stream",
     "text": [
      "100%|█████████████████████████████████████████| 141/141 [01:38<00:00,  1.43it/s]\n"
     ]
    },
    {
     "name": "stdout",
     "output_type": "stream",
     "text": [
      "Epochs: 1 | Train Loss: 550.2232 | Train Accuracy: 0.0351 | Train F1: 0.0176\n",
      "           | Val Loss:   59.8704 | Val Accuracy:   0.0680 | Val F1:   0.0356\n"
     ]
    },
    {
     "name": "stderr",
     "output_type": "stream",
     "text": [
      "100%|█████████████████████████████████████████| 141/141 [01:23<00:00,  1.69it/s]\n"
     ]
    },
    {
     "name": "stdout",
     "output_type": "stream",
     "text": [
      "Epochs: 2 | Train Loss: 461.5917 | Train Accuracy: 0.2862 | Train F1: 0.2549\n",
      "           | Val Loss:   45.1188 | Val Accuracy:   0.4280 | Val F1:   0.3670\n"
     ]
    },
    {
     "name": "stderr",
     "output_type": "stream",
     "text": [
      "100%|█████████████████████████████████████████| 141/141 [01:25<00:00,  1.65it/s]\n"
     ]
    },
    {
     "name": "stdout",
     "output_type": "stream",
     "text": [
      "Epochs: 3 | Train Loss: 346.1387 | Train Accuracy: 0.5351 | Train F1: 0.4899\n",
      "           | Val Loss:   34.3918 | Val Accuracy:   0.5320 | Val F1:   0.4807\n"
     ]
    },
    {
     "name": "stderr",
     "output_type": "stream",
     "text": [
      "100%|█████████████████████████████████████████| 141/141 [01:26<00:00,  1.63it/s]\n"
     ]
    },
    {
     "name": "stdout",
     "output_type": "stream",
     "text": [
      "Epochs: 4 | Train Loss: 268.3808 | Train Accuracy: 0.6373 | Train F1: 0.6070\n",
      "           | Val Loss:   28.9515 | Val Accuracy:   0.5960 | Val F1:   0.5594\n"
     ]
    },
    {
     "name": "stderr",
     "output_type": "stream",
     "text": [
      "100%|█████████████████████████████████████████| 141/141 [01:24<00:00,  1.66it/s]\n"
     ]
    },
    {
     "name": "stdout",
     "output_type": "stream",
     "text": [
      "Epochs: 5 | Train Loss: 212.7974 | Train Accuracy: 0.7253 | Train F1: 0.7050\n",
      "           | Val Loss:   24.0788 | Val Accuracy:   0.6760 | Val F1:   0.6336\n"
     ]
    },
    {
     "name": "stderr",
     "output_type": "stream",
     "text": [
      "100%|█████████████████████████████████████████| 141/141 [01:23<00:00,  1.68it/s]\n"
     ]
    },
    {
     "name": "stdout",
     "output_type": "stream",
     "text": [
      "Epochs: 6 | Train Loss: 169.2888 | Train Accuracy: 0.8062 | Train F1: 0.7973\n",
      "           | Val Loss:   20.8430 | Val Accuracy:   0.6640 | Val F1:   0.6451\n"
     ]
    },
    {
     "name": "stderr",
     "output_type": "stream",
     "text": [
      "100%|█████████████████████████████████████████| 141/141 [01:25<00:00,  1.64it/s]\n"
     ]
    },
    {
     "name": "stdout",
     "output_type": "stream",
     "text": [
      "Epochs: 7 | Train Loss: 138.5270 | Train Accuracy: 0.8542 | Train F1: 0.8501\n",
      "           | Val Loss:   19.0347 | Val Accuracy:   0.7240 | Val F1:   0.7085\n"
     ]
    },
    {
     "name": "stderr",
     "output_type": "stream",
     "text": [
      "100%|█████████████████████████████████████████| 141/141 [01:25<00:00,  1.64it/s]\n"
     ]
    },
    {
     "name": "stdout",
     "output_type": "stream",
     "text": [
      "Epochs: 8 | Train Loss: 113.5811 | Train Accuracy: 0.8991 | Train F1: 0.8951\n",
      "           | Val Loss:   17.5416 | Val Accuracy:   0.7160 | Val F1:   0.6985\n"
     ]
    },
    {
     "name": "stderr",
     "output_type": "stream",
     "text": [
      "100%|█████████████████████████████████████████| 141/141 [01:26<00:00,  1.63it/s]\n"
     ]
    },
    {
     "name": "stdout",
     "output_type": "stream",
     "text": [
      "Epochs: 9 | Train Loss: 93.7077 | Train Accuracy: 0.9302 | Train F1: 0.9283\n",
      "           | Val Loss:   15.2412 | Val Accuracy:   0.7760 | Val F1:   0.7644\n"
     ]
    },
    {
     "name": "stderr",
     "output_type": "stream",
     "text": [
      "100%|█████████████████████████████████████████| 141/141 [01:25<00:00,  1.65it/s]\n"
     ]
    },
    {
     "name": "stdout",
     "output_type": "stream",
     "text": [
      "Epochs: 10 | Train Loss: 78.8180 | Train Accuracy: 0.9538 | Train F1: 0.9528\n",
      "           | Val Loss:   14.7126 | Val Accuracy:   0.7840 | Val F1:   0.7818\n"
     ]
    },
    {
     "name": "stderr",
     "output_type": "stream",
     "text": [
      "100%|█████████████████████████████████████████| 141/141 [01:22<00:00,  1.70it/s]\n"
     ]
    },
    {
     "name": "stdout",
     "output_type": "stream",
     "text": [
      "Epochs: 11 | Train Loss: 66.5752 | Train Accuracy: 0.9747 | Train F1: 0.9741\n",
      "           | Val Loss:   13.6979 | Val Accuracy:   0.7960 | Val F1:   0.7883\n"
     ]
    },
    {
     "name": "stderr",
     "output_type": "stream",
     "text": [
      "100%|█████████████████████████████████████████| 141/141 [01:26<00:00,  1.64it/s]\n"
     ]
    },
    {
     "name": "stdout",
     "output_type": "stream",
     "text": [
      "Epochs: 12 | Train Loss: 58.5916 | Train Accuracy: 0.9809 | Train F1: 0.9809\n",
      "           | Val Loss:   13.4515 | Val Accuracy:   0.8000 | Val F1:   0.7965\n"
     ]
    },
    {
     "name": "stderr",
     "output_type": "stream",
     "text": [
      "100%|█████████████████████████████████████████| 141/141 [01:23<00:00,  1.68it/s]\n"
     ]
    },
    {
     "name": "stdout",
     "output_type": "stream",
     "text": [
      "Epochs: 13 | Train Loss: 52.2945 | Train Accuracy: 0.9898 | Train F1: 0.9897\n",
      "           | Val Loss:   12.9643 | Val Accuracy:   0.7920 | Val F1:   0.7854\n"
     ]
    },
    {
     "name": "stderr",
     "output_type": "stream",
     "text": [
      "100%|█████████████████████████████████████████| 141/141 [01:24<00:00,  1.67it/s]\n"
     ]
    },
    {
     "name": "stdout",
     "output_type": "stream",
     "text": [
      "Epochs: 14 | Train Loss: 48.9512 | Train Accuracy: 0.9902 | Train F1: 0.9903\n",
      "           | Val Loss:   12.6345 | Val Accuracy:   0.8000 | Val F1:   0.7874\n"
     ]
    },
    {
     "name": "stderr",
     "output_type": "stream",
     "text": [
      "100%|█████████████████████████████████████████| 141/141 [01:23<00:00,  1.68it/s]\n"
     ]
    },
    {
     "name": "stdout",
     "output_type": "stream",
     "text": [
      "Epochs: 15 | Train Loss: 46.5174 | Train Accuracy: 0.9960 | Train F1: 0.9960\n",
      "           | Val Loss:   12.6025 | Val Accuracy:   0.8080 | Val F1:   0.7992\n",
      "Test Accuracy:  0.6092 | Test F1:  0.6055\n"
     ]
    },
    {
     "name": "stderr",
     "output_type": "stream",
     "text": [
      "Some weights of the model checkpoint at bert-base-uncased were not used when initializing BertForSequenceClassification: ['cls.predictions.transform.LayerNorm.weight', 'cls.seq_relationship.weight', 'cls.predictions.transform.dense.bias', 'cls.seq_relationship.bias', 'cls.predictions.transform.dense.weight', 'cls.predictions.transform.LayerNorm.bias', 'cls.predictions.bias', 'cls.predictions.decoder.weight']\n",
      "- This IS expected if you are initializing BertForSequenceClassification from the checkpoint of a model trained on another task or with another architecture (e.g. initializing a BertForSequenceClassification model from a BertForPreTraining model).\n",
      "- This IS NOT expected if you are initializing BertForSequenceClassification from the checkpoint of a model that you expect to be exactly identical (initializing a BertForSequenceClassification model from a BertForSequenceClassification model).\n",
      "Some weights of BertForSequenceClassification were not initialized from the model checkpoint at bert-base-uncased and are newly initialized: ['classifier.weight', 'classifier.bias']\n",
      "You should probably TRAIN this model on a down-stream task to be able to use it for predictions and inference.\n"
     ]
    },
    {
     "name": "stdout",
     "output_type": "stream",
     "text": [
      "idf removal threshold at 9.5\n",
      "0       The capital market, roundly criticised for a lack of transparency, needs an independent regulato...\n",
      "1       beat the Republic 3-0 in a ice hockey game on , setting up a showdown for group supremacy agains...\n",
      "2       The fall in the trade deficit to crowns in from in buoyed market sentiment, and the goods import...\n",
      "3       paper concern a.s. on said its net profit fell as a shutdown of its main paper mill, coupled wit...\n",
      "4       shares rallied on following the coalition government's win in elections, but analysts said the r...\n",
      "                                                       ...                                                 \n",
      "2245    \"\" -- counter-culture anthem of the 's -- is being used in a commericial for a bank and some fan...\n",
      "2246    , the flamboyant stock picker hired recently to spearhead drive to dominate the market, has been...\n",
      "2247    , 's biggest city and financial capital, is bracing for a near shutdown when protesters hit the ...\n",
      "2248    Anti-government protests swept across 's biggest city on as demonstrators in shut down the trans...\n",
      "2249    , biggest power utility, said that it would take a huge () charge in to strengthen its financial...\n",
      "Name: masked_content, Length: 2250, dtype: object\n",
      "cuda version 1.13.0\n"
     ]
    },
    {
     "name": "stderr",
     "output_type": "stream",
     "text": [
      "100%|█████████████████████████████████████████| 141/141 [01:24<00:00,  1.67it/s]\n"
     ]
    },
    {
     "name": "stdout",
     "output_type": "stream",
     "text": [
      "Epochs: 1 | Train Loss: 552.1946 | Train Accuracy: 0.0351 | Train F1: 0.0230\n",
      "           | Val Loss:   61.1238 | Val Accuracy:   0.0600 | Val F1:   0.0276\n"
     ]
    },
    {
     "name": "stderr",
     "output_type": "stream",
     "text": [
      "100%|█████████████████████████████████████████| 141/141 [01:26<00:00,  1.64it/s]\n"
     ]
    },
    {
     "name": "stdout",
     "output_type": "stream",
     "text": [
      "Epochs: 2 | Train Loss: 483.0313 | Train Accuracy: 0.2396 | Train F1: 0.2033\n",
      "           | Val Loss:   47.6166 | Val Accuracy:   0.3920 | Val F1:   0.3216\n"
     ]
    },
    {
     "name": "stderr",
     "output_type": "stream",
     "text": [
      "100%|█████████████████████████████████████████| 141/141 [01:28<00:00,  1.59it/s]\n"
     ]
    },
    {
     "name": "stdout",
     "output_type": "stream",
     "text": [
      "Epochs: 3 | Train Loss: 366.6828 | Train Accuracy: 0.4747 | Train F1: 0.4135\n",
      "           | Val Loss:   37.3574 | Val Accuracy:   0.4800 | Val F1:   0.4276\n"
     ]
    },
    {
     "name": "stderr",
     "output_type": "stream",
     "text": [
      "100%|█████████████████████████████████████████| 141/141 [01:24<00:00,  1.66it/s]\n"
     ]
    },
    {
     "name": "stdout",
     "output_type": "stream",
     "text": [
      "Epochs: 4 | Train Loss: 280.5803 | Train Accuracy: 0.6067 | Train F1: 0.5629\n",
      "           | Val Loss:   29.8069 | Val Accuracy:   0.5680 | Val F1:   0.5052\n"
     ]
    },
    {
     "name": "stderr",
     "output_type": "stream",
     "text": [
      "100%|█████████████████████████████████████████| 141/141 [01:25<00:00,  1.65it/s]\n"
     ]
    },
    {
     "name": "stdout",
     "output_type": "stream",
     "text": [
      "Epochs: 5 | Train Loss: 218.6320 | Train Accuracy: 0.7164 | Train F1: 0.6902\n",
      "           | Val Loss:   25.0693 | Val Accuracy:   0.6080 | Val F1:   0.5702\n"
     ]
    },
    {
     "name": "stderr",
     "output_type": "stream",
     "text": [
      "100%|█████████████████████████████████████████| 141/141 [01:23<00:00,  1.70it/s]\n"
     ]
    },
    {
     "name": "stdout",
     "output_type": "stream",
     "text": [
      "Epochs: 6 | Train Loss: 169.4768 | Train Accuracy: 0.8111 | Train F1: 0.7971\n",
      "           | Val Loss:   20.9934 | Val Accuracy:   0.6720 | Val F1:   0.6296\n"
     ]
    },
    {
     "name": "stderr",
     "output_type": "stream",
     "text": [
      "100%|█████████████████████████████████████████| 141/141 [01:22<00:00,  1.71it/s]\n"
     ]
    },
    {
     "name": "stdout",
     "output_type": "stream",
     "text": [
      "Epochs: 7 | Train Loss: 132.2210 | Train Accuracy: 0.8711 | Train F1: 0.8616\n",
      "           | Val Loss:   18.5356 | Val Accuracy:   0.7080 | Val F1:   0.6887\n"
     ]
    },
    {
     "name": "stderr",
     "output_type": "stream",
     "text": [
      "100%|█████████████████████████████████████████| 141/141 [01:24<00:00,  1.67it/s]\n"
     ]
    },
    {
     "name": "stdout",
     "output_type": "stream",
     "text": [
      "Epochs: 8 | Train Loss: 105.2219 | Train Accuracy: 0.9222 | Train F1: 0.9201\n",
      "           | Val Loss:   16.8369 | Val Accuracy:   0.7360 | Val F1:   0.7207\n"
     ]
    },
    {
     "name": "stderr",
     "output_type": "stream",
     "text": [
      "100%|█████████████████████████████████████████| 141/141 [01:27<00:00,  1.61it/s]\n"
     ]
    },
    {
     "name": "stdout",
     "output_type": "stream",
     "text": [
      "Epochs: 9 | Train Loss: 84.6603 | Train Accuracy: 0.9498 | Train F1: 0.9483\n",
      "           | Val Loss:   15.1876 | Val Accuracy:   0.7560 | Val F1:   0.7329\n"
     ]
    },
    {
     "name": "stderr",
     "output_type": "stream",
     "text": [
      "100%|█████████████████████████████████████████| 141/141 [01:25<00:00,  1.64it/s]\n"
     ]
    },
    {
     "name": "stdout",
     "output_type": "stream",
     "text": [
      "Epochs: 10 | Train Loss: 68.9760 | Train Accuracy: 0.9689 | Train F1: 0.9679\n",
      "           | Val Loss:   13.9397 | Val Accuracy:   0.7680 | Val F1:   0.7431\n"
     ]
    },
    {
     "name": "stderr",
     "output_type": "stream",
     "text": [
      "100%|█████████████████████████████████████████| 141/141 [01:25<00:00,  1.65it/s]\n"
     ]
    },
    {
     "name": "stdout",
     "output_type": "stream",
     "text": [
      "Epochs: 11 | Train Loss: 57.9840 | Train Accuracy: 0.9822 | Train F1: 0.9820\n",
      "           | Val Loss:   13.2110 | Val Accuracy:   0.7880 | Val F1:   0.7740\n"
     ]
    },
    {
     "name": "stderr",
     "output_type": "stream",
     "text": [
      "100%|█████████████████████████████████████████| 141/141 [01:25<00:00,  1.64it/s]\n"
     ]
    },
    {
     "name": "stdout",
     "output_type": "stream",
     "text": [
      "Epochs: 12 | Train Loss: 49.9220 | Train Accuracy: 0.9898 | Train F1: 0.9896\n",
      "           | Val Loss:   12.6932 | Val Accuracy:   0.7960 | Val F1:   0.7727\n"
     ]
    },
    {
     "name": "stderr",
     "output_type": "stream",
     "text": [
      "100%|█████████████████████████████████████████| 141/141 [01:25<00:00,  1.65it/s]\n"
     ]
    },
    {
     "name": "stdout",
     "output_type": "stream",
     "text": [
      "Epochs: 13 | Train Loss: 44.2721 | Train Accuracy: 0.9933 | Train F1: 0.9932\n",
      "           | Val Loss:   12.4584 | Val Accuracy:   0.8040 | Val F1:   0.7881\n"
     ]
    },
    {
     "name": "stderr",
     "output_type": "stream",
     "text": [
      "100%|█████████████████████████████████████████| 141/141 [01:27<00:00,  1.61it/s]\n"
     ]
    },
    {
     "name": "stdout",
     "output_type": "stream",
     "text": [
      "Epochs: 14 | Train Loss: 41.0203 | Train Accuracy: 0.9964 | Train F1: 0.9964\n",
      "           | Val Loss:   12.1899 | Val Accuracy:   0.8000 | Val F1:   0.7788\n"
     ]
    },
    {
     "name": "stderr",
     "output_type": "stream",
     "text": [
      "100%|█████████████████████████████████████████| 141/141 [01:25<00:00,  1.64it/s]\n"
     ]
    },
    {
     "name": "stdout",
     "output_type": "stream",
     "text": [
      "Epochs: 15 | Train Loss: 39.3353 | Train Accuracy: 0.9978 | Train F1: 0.9977\n",
      "           | Val Loss:   12.0659 | Val Accuracy:   0.8000 | Val F1:   0.7821\n",
      "Test Accuracy:  0.6280 | Test F1:  0.6259\n"
     ]
    },
    {
     "name": "stderr",
     "output_type": "stream",
     "text": [
      "Some weights of the model checkpoint at bert-base-uncased were not used when initializing BertForSequenceClassification: ['cls.predictions.transform.LayerNorm.weight', 'cls.seq_relationship.weight', 'cls.predictions.transform.dense.bias', 'cls.seq_relationship.bias', 'cls.predictions.transform.dense.weight', 'cls.predictions.transform.LayerNorm.bias', 'cls.predictions.bias', 'cls.predictions.decoder.weight']\n",
      "- This IS expected if you are initializing BertForSequenceClassification from the checkpoint of a model trained on another task or with another architecture (e.g. initializing a BertForSequenceClassification model from a BertForPreTraining model).\n",
      "- This IS NOT expected if you are initializing BertForSequenceClassification from the checkpoint of a model that you expect to be exactly identical (initializing a BertForSequenceClassification model from a BertForSequenceClassification model).\n",
      "Some weights of BertForSequenceClassification were not initialized from the model checkpoint at bert-base-uncased and are newly initialized: ['classifier.weight', 'classifier.bias']\n",
      "You should probably TRAIN this model on a down-stream task to be able to use it for predictions and inference.\n"
     ]
    },
    {
     "name": "stdout",
     "output_type": "stream",
     "text": [
      "idf removal threshold at 9.0\n",
      "0       The capital market, roundly criticised for a lack of transparency, needs an independent regulato...\n",
      "1       beat the Republic 3-0 in a ice hockey game on , setting up a showdown for group supremacy agains...\n",
      "2       The fall in the trade deficit to crowns in from in buoyed market sentiment, and the goods import...\n",
      "3       paper concern a.s. on said its net profit fell as a shutdown of its main paper mill, coupled wit...\n",
      "4       shares rallied on following the coalition government's win in elections, but analysts said the r...\n",
      "                                                       ...                                                 \n",
      "2245    \"\" -- counter-culture anthem of the 's -- is being used in a commericial for a bank and some fan...\n",
      "2246    , the flamboyant stock picker hired recently to spearhead drive to dominate the market, has been...\n",
      "2247    , 's biggest city and financial capital, is bracing for a near shutdown when protesters hit the ...\n",
      "2248    Anti-government protests swept across 's biggest city on as demonstrators in shut down the trans...\n",
      "2249    , biggest power utility, said that it would take a huge () charge in to strengthen its financial...\n",
      "Name: masked_content, Length: 2250, dtype: object\n",
      "cuda version 1.13.0\n"
     ]
    },
    {
     "name": "stderr",
     "output_type": "stream",
     "text": [
      "100%|█████████████████████████████████████████| 141/141 [01:22<00:00,  1.72it/s]\n"
     ]
    },
    {
     "name": "stdout",
     "output_type": "stream",
     "text": [
      "Epochs: 1 | Train Loss: 545.6690 | Train Accuracy: 0.0391 | Train F1: 0.0310\n",
      "           | Val Loss:   56.8319 | Val Accuracy:   0.2280 | Val F1:   0.1398\n"
     ]
    },
    {
     "name": "stderr",
     "output_type": "stream",
     "text": [
      "100%|█████████████████████████████████████████| 141/141 [01:24<00:00,  1.66it/s]\n"
     ]
    },
    {
     "name": "stdout",
     "output_type": "stream",
     "text": [
      "Epochs: 2 | Train Loss: 445.5411 | Train Accuracy: 0.3191 | Train F1: 0.2811\n",
      "           | Val Loss:   42.7870 | Val Accuracy:   0.5240 | Val F1:   0.4227\n"
     ]
    },
    {
     "name": "stderr",
     "output_type": "stream",
     "text": [
      "100%|█████████████████████████████████████████| 141/141 [01:24<00:00,  1.67it/s]\n"
     ]
    },
    {
     "name": "stdout",
     "output_type": "stream",
     "text": [
      "Epochs: 3 | Train Loss: 338.6640 | Train Accuracy: 0.5360 | Train F1: 0.4960\n",
      "           | Val Loss:   34.1993 | Val Accuracy:   0.5560 | Val F1:   0.4679\n"
     ]
    },
    {
     "name": "stderr",
     "output_type": "stream",
     "text": [
      "100%|█████████████████████████████████████████| 141/141 [01:27<00:00,  1.61it/s]\n"
     ]
    },
    {
     "name": "stdout",
     "output_type": "stream",
     "text": [
      "Epochs: 4 | Train Loss: 260.6475 | Train Accuracy: 0.6564 | Train F1: 0.6315\n",
      "           | Val Loss:   27.6729 | Val Accuracy:   0.6160 | Val F1:   0.5299\n"
     ]
    },
    {
     "name": "stderr",
     "output_type": "stream",
     "text": [
      "100%|█████████████████████████████████████████| 141/141 [01:24<00:00,  1.66it/s]\n"
     ]
    },
    {
     "name": "stdout",
     "output_type": "stream",
     "text": [
      "Epochs: 5 | Train Loss: 205.7296 | Train Accuracy: 0.7311 | Train F1: 0.7138\n",
      "           | Val Loss:   23.1741 | Val Accuracy:   0.6680 | Val F1:   0.6216\n"
     ]
    },
    {
     "name": "stderr",
     "output_type": "stream",
     "text": [
      "100%|█████████████████████████████████████████| 141/141 [01:25<00:00,  1.66it/s]\n"
     ]
    },
    {
     "name": "stdout",
     "output_type": "stream",
     "text": [
      "Epochs: 6 | Train Loss: 162.0240 | Train Accuracy: 0.8222 | Train F1: 0.8126\n",
      "           | Val Loss:   19.9237 | Val Accuracy:   0.7280 | Val F1:   0.6754\n"
     ]
    },
    {
     "name": "stderr",
     "output_type": "stream",
     "text": [
      "100%|█████████████████████████████████████████| 141/141 [01:27<00:00,  1.61it/s]\n"
     ]
    },
    {
     "name": "stdout",
     "output_type": "stream",
     "text": [
      "Epochs: 7 | Train Loss: 128.2476 | Train Accuracy: 0.8738 | Train F1: 0.8686\n",
      "           | Val Loss:   17.7218 | Val Accuracy:   0.7520 | Val F1:   0.7175\n"
     ]
    },
    {
     "name": "stderr",
     "output_type": "stream",
     "text": [
      "100%|█████████████████████████████████████████| 141/141 [01:25<00:00,  1.65it/s]\n"
     ]
    },
    {
     "name": "stdout",
     "output_type": "stream",
     "text": [
      "Epochs: 8 | Train Loss: 101.2882 | Train Accuracy: 0.9276 | Train F1: 0.9249\n",
      "           | Val Loss:   16.8412 | Val Accuracy:   0.7600 | Val F1:   0.7211\n"
     ]
    },
    {
     "name": "stderr",
     "output_type": "stream",
     "text": [
      "100%|█████████████████████████████████████████| 141/141 [01:27<00:00,  1.62it/s]\n"
     ]
    },
    {
     "name": "stdout",
     "output_type": "stream",
     "text": [
      "Epochs: 9 | Train Loss: 82.1711 | Train Accuracy: 0.9569 | Train F1: 0.9564\n",
      "           | Val Loss:   14.7878 | Val Accuracy:   0.7800 | Val F1:   0.7648\n"
     ]
    },
    {
     "name": "stderr",
     "output_type": "stream",
     "text": [
      "100%|█████████████████████████████████████████| 141/141 [01:27<00:00,  1.60it/s]\n"
     ]
    },
    {
     "name": "stdout",
     "output_type": "stream",
     "text": [
      "Epochs: 10 | Train Loss: 67.3053 | Train Accuracy: 0.9773 | Train F1: 0.9773\n",
      "           | Val Loss:   14.2406 | Val Accuracy:   0.7680 | Val F1:   0.7535\n"
     ]
    },
    {
     "name": "stderr",
     "output_type": "stream",
     "text": [
      "100%|█████████████████████████████████████████| 141/141 [01:26<00:00,  1.62it/s]\n"
     ]
    },
    {
     "name": "stdout",
     "output_type": "stream",
     "text": [
      "Epochs: 11 | Train Loss: 57.0654 | Train Accuracy: 0.9876 | Train F1: 0.9875\n",
      "           | Val Loss:   13.7323 | Val Accuracy:   0.7720 | Val F1:   0.7563\n"
     ]
    },
    {
     "name": "stderr",
     "output_type": "stream",
     "text": [
      "100%|█████████████████████████████████████████| 141/141 [01:28<00:00,  1.60it/s]\n"
     ]
    },
    {
     "name": "stdout",
     "output_type": "stream",
     "text": [
      "Epochs: 12 | Train Loss: 49.9826 | Train Accuracy: 0.9907 | Train F1: 0.9906\n",
      "           | Val Loss:   12.9256 | Val Accuracy:   0.7800 | Val F1:   0.7685\n"
     ]
    },
    {
     "name": "stderr",
     "output_type": "stream",
     "text": [
      "100%|█████████████████████████████████████████| 141/141 [01:29<00:00,  1.58it/s]\n"
     ]
    },
    {
     "name": "stdout",
     "output_type": "stream",
     "text": [
      "Epochs: 13 | Train Loss: 44.1601 | Train Accuracy: 0.9956 | Train F1: 0.9956\n",
      "           | Val Loss:   12.8948 | Val Accuracy:   0.7880 | Val F1:   0.7756\n"
     ]
    },
    {
     "name": "stderr",
     "output_type": "stream",
     "text": [
      "100%|█████████████████████████████████████████| 141/141 [01:26<00:00,  1.62it/s]\n"
     ]
    },
    {
     "name": "stdout",
     "output_type": "stream",
     "text": [
      "Epochs: 14 | Train Loss: 40.8485 | Train Accuracy: 0.9964 | Train F1: 0.9964\n",
      "           | Val Loss:   12.6227 | Val Accuracy:   0.7760 | Val F1:   0.7606\n"
     ]
    },
    {
     "name": "stderr",
     "output_type": "stream",
     "text": [
      "100%|█████████████████████████████████████████| 141/141 [01:27<00:00,  1.61it/s]\n"
     ]
    },
    {
     "name": "stdout",
     "output_type": "stream",
     "text": [
      "Epochs: 15 | Train Loss: 39.2317 | Train Accuracy: 0.9969 | Train F1: 0.9969\n",
      "           | Val Loss:   12.6787 | Val Accuracy:   0.7800 | Val F1:   0.7675\n",
      "Test Accuracy:  0.6204 | Test F1:  0.6162\n"
     ]
    },
    {
     "name": "stderr",
     "output_type": "stream",
     "text": [
      "Some weights of the model checkpoint at bert-base-uncased were not used when initializing BertForSequenceClassification: ['cls.predictions.transform.LayerNorm.weight', 'cls.seq_relationship.weight', 'cls.predictions.transform.dense.bias', 'cls.seq_relationship.bias', 'cls.predictions.transform.dense.weight', 'cls.predictions.transform.LayerNorm.bias', 'cls.predictions.bias', 'cls.predictions.decoder.weight']\n",
      "- This IS expected if you are initializing BertForSequenceClassification from the checkpoint of a model trained on another task or with another architecture (e.g. initializing a BertForSequenceClassification model from a BertForPreTraining model).\n",
      "- This IS NOT expected if you are initializing BertForSequenceClassification from the checkpoint of a model that you expect to be exactly identical (initializing a BertForSequenceClassification model from a BertForSequenceClassification model).\n",
      "Some weights of BertForSequenceClassification were not initialized from the model checkpoint at bert-base-uncased and are newly initialized: ['classifier.weight', 'classifier.bias']\n",
      "You should probably TRAIN this model on a down-stream task to be able to use it for predictions and inference.\n"
     ]
    },
    {
     "name": "stdout",
     "output_type": "stream",
     "text": [
      "idf removal threshold at 8.5\n",
      "0       The capital market, roundly criticised for a lack of transparency, needs an independent regulato...\n",
      "1       beat the Republic 3-0 in a ice hockey game on , setting up a showdown for group supremacy agains...\n",
      "2       The fall in the trade deficit to crowns in from in buoyed market sentiment, and the goods import...\n",
      "3       paper concern a.s. on said its net profit fell as a shutdown of its main paper mill, coupled wit...\n",
      "4       shares rallied on following the coalition government's win in elections, but analysts said the r...\n",
      "                                                       ...                                                 \n",
      "2245    \"\" -- counter-culture anthem of the 's -- is being used in a commericial for a bank and some fan...\n",
      "2246    , the flamboyant stock picker hired recently to spearhead drive to dominate the market, has been...\n",
      "2247    , 's biggest city and financial capital, is bracing for a near shutdown when protesters hit the ...\n",
      "2248    Anti-government protests swept across 's biggest city on as demonstrators in shut down the trans...\n",
      "2249    , biggest power utility, said that it would take a huge () charge in to strengthen its financial...\n",
      "Name: masked_content, Length: 2250, dtype: object\n",
      "cuda version 1.13.0\n"
     ]
    },
    {
     "name": "stderr",
     "output_type": "stream",
     "text": [
      "100%|█████████████████████████████████████████| 141/141 [01:25<00:00,  1.65it/s]\n"
     ]
    },
    {
     "name": "stdout",
     "output_type": "stream",
     "text": [
      "Epochs: 1 | Train Loss: 547.8119 | Train Accuracy: 0.0356 | Train F1: 0.0247\n",
      "           | Val Loss:   59.9728 | Val Accuracy:   0.0680 | Val F1:   0.0340\n"
     ]
    },
    {
     "name": "stderr",
     "output_type": "stream",
     "text": [
      "100%|█████████████████████████████████████████| 141/141 [01:27<00:00,  1.61it/s]\n"
     ]
    },
    {
     "name": "stdout",
     "output_type": "stream",
     "text": [
      "Epochs: 2 | Train Loss: 469.1858 | Train Accuracy: 0.2507 | Train F1: 0.2128\n",
      "           | Val Loss:   45.0238 | Val Accuracy:   0.4600 | Val F1:   0.3663\n"
     ]
    },
    {
     "name": "stderr",
     "output_type": "stream",
     "text": [
      "100%|█████████████████████████████████████████| 141/141 [01:26<00:00,  1.62it/s]\n"
     ]
    },
    {
     "name": "stdout",
     "output_type": "stream",
     "text": [
      "Epochs: 3 | Train Loss: 357.3934 | Train Accuracy: 0.5049 | Train F1: 0.4607\n",
      "           | Val Loss:   35.5113 | Val Accuracy:   0.5240 | Val F1:   0.4499\n"
     ]
    },
    {
     "name": "stderr",
     "output_type": "stream",
     "text": [
      "100%|█████████████████████████████████████████| 141/141 [01:27<00:00,  1.61it/s]\n"
     ]
    },
    {
     "name": "stdout",
     "output_type": "stream",
     "text": [
      "Epochs: 4 | Train Loss: 277.5387 | Train Accuracy: 0.6307 | Train F1: 0.6063\n",
      "           | Val Loss:   28.7479 | Val Accuracy:   0.6040 | Val F1:   0.5383\n"
     ]
    },
    {
     "name": "stderr",
     "output_type": "stream",
     "text": [
      "100%|█████████████████████████████████████████| 141/141 [01:28<00:00,  1.60it/s]\n"
     ]
    },
    {
     "name": "stdout",
     "output_type": "stream",
     "text": [
      "Epochs: 5 | Train Loss: 217.5627 | Train Accuracy: 0.7324 | Train F1: 0.7196\n",
      "           | Val Loss:   24.2615 | Val Accuracy:   0.6320 | Val F1:   0.5946\n"
     ]
    },
    {
     "name": "stderr",
     "output_type": "stream",
     "text": [
      "100%|█████████████████████████████████████████| 141/141 [01:27<00:00,  1.62it/s]\n"
     ]
    },
    {
     "name": "stdout",
     "output_type": "stream",
     "text": [
      "Epochs: 6 | Train Loss: 173.2185 | Train Accuracy: 0.7978 | Train F1: 0.7897\n",
      "           | Val Loss:   20.7701 | Val Accuracy:   0.7080 | Val F1:   0.6823\n"
     ]
    },
    {
     "name": "stderr",
     "output_type": "stream",
     "text": [
      "100%|█████████████████████████████████████████| 141/141 [01:29<00:00,  1.58it/s]\n"
     ]
    },
    {
     "name": "stdout",
     "output_type": "stream",
     "text": [
      "Epochs: 7 | Train Loss: 138.7811 | Train Accuracy: 0.8644 | Train F1: 0.8616\n",
      "           | Val Loss:   18.6614 | Val Accuracy:   0.7080 | Val F1:   0.6703\n"
     ]
    },
    {
     "name": "stderr",
     "output_type": "stream",
     "text": [
      "100%|█████████████████████████████████████████| 141/141 [01:27<00:00,  1.61it/s]\n"
     ]
    },
    {
     "name": "stdout",
     "output_type": "stream",
     "text": [
      "Epochs: 8 | Train Loss: 112.7359 | Train Accuracy: 0.9000 | Train F1: 0.8975\n",
      "           | Val Loss:   16.4997 | Val Accuracy:   0.7400 | Val F1:   0.6881\n"
     ]
    },
    {
     "name": "stderr",
     "output_type": "stream",
     "text": [
      "100%|█████████████████████████████████████████| 141/141 [01:28<00:00,  1.60it/s]\n"
     ]
    },
    {
     "name": "stdout",
     "output_type": "stream",
     "text": [
      "Epochs: 9 | Train Loss: 91.4834 | Train Accuracy: 0.9391 | Train F1: 0.9378\n",
      "           | Val Loss:   15.1998 | Val Accuracy:   0.7640 | Val F1:   0.7382\n"
     ]
    },
    {
     "name": "stderr",
     "output_type": "stream",
     "text": [
      "100%|█████████████████████████████████████████| 141/141 [01:26<00:00,  1.63it/s]\n"
     ]
    },
    {
     "name": "stdout",
     "output_type": "stream",
     "text": [
      "Epochs: 10 | Train Loss: 75.3522 | Train Accuracy: 0.9644 | Train F1: 0.9639\n",
      "           | Val Loss:   14.7451 | Val Accuracy:   0.7640 | Val F1:   0.7372\n"
     ]
    },
    {
     "name": "stderr",
     "output_type": "stream",
     "text": [
      "100%|█████████████████████████████████████████| 141/141 [01:27<00:00,  1.61it/s]\n"
     ]
    },
    {
     "name": "stdout",
     "output_type": "stream",
     "text": [
      "Epochs: 11 | Train Loss: 63.8301 | Train Accuracy: 0.9778 | Train F1: 0.9775\n",
      "           | Val Loss:   13.5316 | Val Accuracy:   0.7920 | Val F1:   0.7710\n"
     ]
    },
    {
     "name": "stderr",
     "output_type": "stream",
     "text": [
      "100%|█████████████████████████████████████████| 141/141 [01:27<00:00,  1.61it/s]\n"
     ]
    },
    {
     "name": "stdout",
     "output_type": "stream",
     "text": [
      "Epochs: 12 | Train Loss: 55.7171 | Train Accuracy: 0.9836 | Train F1: 0.9831\n",
      "           | Val Loss:   12.9863 | Val Accuracy:   0.8080 | Val F1:   0.7838\n"
     ]
    },
    {
     "name": "stderr",
     "output_type": "stream",
     "text": [
      "100%|█████████████████████████████████████████| 141/141 [01:28<00:00,  1.59it/s]\n"
     ]
    },
    {
     "name": "stdout",
     "output_type": "stream",
     "text": [
      "Epochs: 13 | Train Loss: 48.8430 | Train Accuracy: 0.9911 | Train F1: 0.9910\n",
      "           | Val Loss:   12.7448 | Val Accuracy:   0.7880 | Val F1:   0.7706\n"
     ]
    },
    {
     "name": "stderr",
     "output_type": "stream",
     "text": [
      "100%|█████████████████████████████████████████| 141/141 [01:28<00:00,  1.59it/s]\n"
     ]
    },
    {
     "name": "stdout",
     "output_type": "stream",
     "text": [
      "Epochs: 14 | Train Loss: 45.3138 | Train Accuracy: 0.9960 | Train F1: 0.9960\n",
      "           | Val Loss:   12.3038 | Val Accuracy:   0.7960 | Val F1:   0.7769\n"
     ]
    },
    {
     "name": "stderr",
     "output_type": "stream",
     "text": [
      "100%|█████████████████████████████████████████| 141/141 [01:27<00:00,  1.61it/s]\n"
     ]
    },
    {
     "name": "stdout",
     "output_type": "stream",
     "text": [
      "Epochs: 15 | Train Loss: 43.1101 | Train Accuracy: 0.9960 | Train F1: 0.9960\n",
      "           | Val Loss:   12.3001 | Val Accuracy:   0.8120 | Val F1:   0.7915\n",
      "Test Accuracy:  0.6108 | Test F1:  0.6039\n"
     ]
    },
    {
     "name": "stderr",
     "output_type": "stream",
     "text": [
      "Some weights of the model checkpoint at bert-base-uncased were not used when initializing BertForSequenceClassification: ['cls.predictions.transform.LayerNorm.weight', 'cls.seq_relationship.weight', 'cls.predictions.transform.dense.bias', 'cls.seq_relationship.bias', 'cls.predictions.transform.dense.weight', 'cls.predictions.transform.LayerNorm.bias', 'cls.predictions.bias', 'cls.predictions.decoder.weight']\n",
      "- This IS expected if you are initializing BertForSequenceClassification from the checkpoint of a model trained on another task or with another architecture (e.g. initializing a BertForSequenceClassification model from a BertForPreTraining model).\n",
      "- This IS NOT expected if you are initializing BertForSequenceClassification from the checkpoint of a model that you expect to be exactly identical (initializing a BertForSequenceClassification model from a BertForSequenceClassification model).\n",
      "Some weights of BertForSequenceClassification were not initialized from the model checkpoint at bert-base-uncased and are newly initialized: ['classifier.weight', 'classifier.bias']\n",
      "You should probably TRAIN this model on a down-stream task to be able to use it for predictions and inference.\n"
     ]
    },
    {
     "name": "stdout",
     "output_type": "stream",
     "text": [
      "idf removal threshold at 8.0\n",
      "0       The capital market, roundly criticised for a lack of transparency, needs an independent regulato...\n",
      "1       beat the Republic 3-0 in a ice hockey game on , setting up a showdown for group supremacy agains...\n",
      "2       The fall in the trade deficit to crowns in from in buoyed market sentiment, and the goods import...\n",
      "3       paper concern a.s. on said its net profit fell as a shutdown of its main paper mill, coupled wit...\n",
      "4       shares rallied on following the coalition government's win in elections, but analysts said the r...\n",
      "                                                       ...                                                 \n",
      "2245    \"\" -- counter-culture anthem of the 's -- is being used in a _ for a bank and some fans are up i...\n",
      "2246    , the flamboyant stock picker hired recently to spearhead drive to dominate the market, has been...\n",
      "2247    , 's biggest city and financial capital, is _ for a near shutdown when protesters hit the street...\n",
      "2248    Anti-government protests swept across 's biggest city on as demonstrators in shut down the trans...\n",
      "2249    , biggest power utility, said that it would take a huge () charge in to strengthen its financial...\n",
      "Name: masked_content, Length: 2250, dtype: object\n",
      "cuda version 1.13.0\n"
     ]
    },
    {
     "name": "stderr",
     "output_type": "stream",
     "text": [
      "100%|█████████████████████████████████████████| 141/141 [01:24<00:00,  1.68it/s]\n"
     ]
    },
    {
     "name": "stdout",
     "output_type": "stream",
     "text": [
      "Epochs: 1 | Train Loss: 544.3266 | Train Accuracy: 0.0547 | Train F1: 0.0354\n",
      "           | Val Loss:   56.4350 | Val Accuracy:   0.1480 | Val F1:   0.0763\n"
     ]
    },
    {
     "name": "stderr",
     "output_type": "stream",
     "text": [
      "100%|█████████████████████████████████████████| 141/141 [01:26<00:00,  1.63it/s]\n"
     ]
    },
    {
     "name": "stdout",
     "output_type": "stream",
     "text": [
      "Epochs: 2 | Train Loss: 441.3210 | Train Accuracy: 0.3013 | Train F1: 0.2578\n",
      "           | Val Loss:   42.6535 | Val Accuracy:   0.4320 | Val F1:   0.3305\n"
     ]
    },
    {
     "name": "stderr",
     "output_type": "stream",
     "text": [
      "100%|█████████████████████████████████████████| 141/141 [01:26<00:00,  1.63it/s]\n"
     ]
    },
    {
     "name": "stdout",
     "output_type": "stream",
     "text": [
      "Epochs: 3 | Train Loss: 336.2253 | Train Accuracy: 0.5209 | Train F1: 0.4698\n",
      "           | Val Loss:   33.2633 | Val Accuracy:   0.6000 | Val F1:   0.5168\n"
     ]
    },
    {
     "name": "stderr",
     "output_type": "stream",
     "text": [
      "100%|█████████████████████████████████████████| 141/141 [01:27<00:00,  1.61it/s]\n"
     ]
    },
    {
     "name": "stdout",
     "output_type": "stream",
     "text": [
      "Epochs: 4 | Train Loss: 262.3604 | Train Accuracy: 0.6533 | Train F1: 0.6263\n",
      "           | Val Loss:   27.5371 | Val Accuracy:   0.6000 | Val F1:   0.5385\n"
     ]
    },
    {
     "name": "stderr",
     "output_type": "stream",
     "text": [
      "100%|█████████████████████████████████████████| 141/141 [01:28<00:00,  1.59it/s]\n"
     ]
    },
    {
     "name": "stdout",
     "output_type": "stream",
     "text": [
      "Epochs: 5 | Train Loss: 207.3152 | Train Accuracy: 0.7218 | Train F1: 0.7054\n",
      "           | Val Loss:   23.9238 | Val Accuracy:   0.6480 | Val F1:   0.5958\n"
     ]
    },
    {
     "name": "stderr",
     "output_type": "stream",
     "text": [
      "100%|█████████████████████████████████████████| 141/141 [01:27<00:00,  1.61it/s]\n"
     ]
    },
    {
     "name": "stdout",
     "output_type": "stream",
     "text": [
      "Epochs: 6 | Train Loss: 166.5604 | Train Accuracy: 0.7969 | Train F1: 0.7855\n",
      "           | Val Loss:   19.9664 | Val Accuracy:   0.7160 | Val F1:   0.6778\n"
     ]
    },
    {
     "name": "stderr",
     "output_type": "stream",
     "text": [
      "100%|█████████████████████████████████████████| 141/141 [01:26<00:00,  1.62it/s]\n"
     ]
    },
    {
     "name": "stdout",
     "output_type": "stream",
     "text": [
      "Epochs: 7 | Train Loss: 135.9366 | Train Accuracy: 0.8453 | Train F1: 0.8370\n",
      "           | Val Loss:   18.0559 | Val Accuracy:   0.6920 | Val F1:   0.6624\n"
     ]
    },
    {
     "name": "stderr",
     "output_type": "stream",
     "text": [
      "100%|█████████████████████████████████████████| 141/141 [01:27<00:00,  1.61it/s]\n"
     ]
    },
    {
     "name": "stdout",
     "output_type": "stream",
     "text": [
      "Epochs: 8 | Train Loss: 110.9053 | Train Accuracy: 0.8938 | Train F1: 0.8848\n",
      "           | Val Loss:   16.2063 | Val Accuracy:   0.7280 | Val F1:   0.7063\n"
     ]
    },
    {
     "name": "stderr",
     "output_type": "stream",
     "text": [
      "100%|█████████████████████████████████████████| 141/141 [01:27<00:00,  1.61it/s]\n"
     ]
    },
    {
     "name": "stdout",
     "output_type": "stream",
     "text": [
      "Epochs: 9 | Train Loss: 91.8830 | Train Accuracy: 0.9271 | Train F1: 0.9205\n",
      "           | Val Loss:   15.0072 | Val Accuracy:   0.7640 | Val F1:   0.7476\n"
     ]
    },
    {
     "name": "stderr",
     "output_type": "stream",
     "text": [
      "100%|█████████████████████████████████████████| 141/141 [01:28<00:00,  1.59it/s]\n"
     ]
    },
    {
     "name": "stdout",
     "output_type": "stream",
     "text": [
      "Epochs: 10 | Train Loss: 78.0685 | Train Accuracy: 0.9480 | Train F1: 0.9422\n",
      "           | Val Loss:   14.0629 | Val Accuracy:   0.7640 | Val F1:   0.7502\n"
     ]
    },
    {
     "name": "stderr",
     "output_type": "stream",
     "text": [
      "100%|█████████████████████████████████████████| 141/141 [01:28<00:00,  1.60it/s]\n"
     ]
    },
    {
     "name": "stdout",
     "output_type": "stream",
     "text": [
      "Epochs: 11 | Train Loss: 65.7859 | Train Accuracy: 0.9636 | Train F1: 0.9605\n",
      "           | Val Loss:   13.8327 | Val Accuracy:   0.7560 | Val F1:   0.7408\n"
     ]
    },
    {
     "name": "stderr",
     "output_type": "stream",
     "text": [
      "100%|█████████████████████████████████████████| 141/141 [01:29<00:00,  1.57it/s]\n"
     ]
    },
    {
     "name": "stdout",
     "output_type": "stream",
     "text": [
      "Epochs: 12 | Train Loss: 57.4366 | Train Accuracy: 0.9769 | Train F1: 0.9736\n",
      "           | Val Loss:   13.1504 | Val Accuracy:   0.7720 | Val F1:   0.7573\n"
     ]
    },
    {
     "name": "stderr",
     "output_type": "stream",
     "text": [
      "100%|█████████████████████████████████████████| 141/141 [01:25<00:00,  1.64it/s]\n"
     ]
    },
    {
     "name": "stdout",
     "output_type": "stream",
     "text": [
      "Epochs: 13 | Train Loss: 51.8157 | Train Accuracy: 0.9813 | Train F1: 0.9797\n",
      "           | Val Loss:   12.8255 | Val Accuracy:   0.7720 | Val F1:   0.7588\n"
     ]
    },
    {
     "name": "stderr",
     "output_type": "stream",
     "text": [
      "100%|█████████████████████████████████████████| 141/141 [01:27<00:00,  1.61it/s]\n"
     ]
    },
    {
     "name": "stdout",
     "output_type": "stream",
     "text": [
      "Epochs: 14 | Train Loss: 47.8295 | Train Accuracy: 0.9871 | Train F1: 0.9862\n",
      "           | Val Loss:   12.5425 | Val Accuracy:   0.7680 | Val F1:   0.7587\n"
     ]
    },
    {
     "name": "stderr",
     "output_type": "stream",
     "text": [
      "100%|█████████████████████████████████████████| 141/141 [01:25<00:00,  1.64it/s]\n"
     ]
    },
    {
     "name": "stdout",
     "output_type": "stream",
     "text": [
      "Epochs: 15 | Train Loss: 45.8359 | Train Accuracy: 0.9884 | Train F1: 0.9877\n",
      "           | Val Loss:   12.6230 | Val Accuracy:   0.7640 | Val F1:   0.7489\n",
      "Test Accuracy:  0.6092 | Test F1:  0.6035\n"
     ]
    },
    {
     "name": "stderr",
     "output_type": "stream",
     "text": [
      "Some weights of the model checkpoint at bert-base-uncased were not used when initializing BertForSequenceClassification: ['cls.predictions.transform.LayerNorm.weight', 'cls.seq_relationship.weight', 'cls.predictions.transform.dense.bias', 'cls.seq_relationship.bias', 'cls.predictions.transform.dense.weight', 'cls.predictions.transform.LayerNorm.bias', 'cls.predictions.bias', 'cls.predictions.decoder.weight']\n",
      "- This IS expected if you are initializing BertForSequenceClassification from the checkpoint of a model trained on another task or with another architecture (e.g. initializing a BertForSequenceClassification model from a BertForPreTraining model).\n",
      "- This IS NOT expected if you are initializing BertForSequenceClassification from the checkpoint of a model that you expect to be exactly identical (initializing a BertForSequenceClassification model from a BertForSequenceClassification model).\n",
      "Some weights of BertForSequenceClassification were not initialized from the model checkpoint at bert-base-uncased and are newly initialized: ['classifier.weight', 'classifier.bias']\n",
      "You should probably TRAIN this model on a down-stream task to be able to use it for predictions and inference.\n"
     ]
    },
    {
     "name": "stdout",
     "output_type": "stream",
     "text": [
      "idf removal threshold at 7.5\n",
      "0       The capital market, _ criticised for a lack of transparency, needs an independent regulator, but...\n",
      "1       beat the Republic 3-0 in a ice hockey game on , setting up a showdown for group _ against and le...\n",
      "2       The fall in the trade deficit to crowns in from in buoyed market sentiment, and the goods import...\n",
      "3       paper concern a.s. on said its net profit fell as a shutdown of its main paper mill, coupled wit...\n",
      "4       shares rallied on following the coalition government's win in elections, but analysts said the r...\n",
      "                                                       ...                                                 \n",
      "2245    \"\" -- counter-culture _ of the 's -- is being used in a _ for a bank and some fans are up in arm...\n",
      "2246    , the flamboyant stock picker hired recently to spearhead drive to dominate the market, has been...\n",
      "2247    , 's biggest city and financial capital, is _ for a near shutdown when protesters hit the street...\n",
      "2248    Anti-government protests swept across 's biggest city on as demonstrators in shut down the trans...\n",
      "2249    , biggest power utility, said that it would take a huge () charge in to strengthen its financial...\n",
      "Name: masked_content, Length: 2250, dtype: object\n",
      "cuda version 1.13.0\n"
     ]
    },
    {
     "name": "stderr",
     "output_type": "stream",
     "text": [
      "100%|█████████████████████████████████████████| 141/141 [01:24<00:00,  1.67it/s]\n"
     ]
    },
    {
     "name": "stdout",
     "output_type": "stream",
     "text": [
      "Epochs: 1 | Train Loss: 543.1617 | Train Accuracy: 0.0444 | Train F1: 0.0378\n",
      "           | Val Loss:   56.8691 | Val Accuracy:   0.1320 | Val F1:   0.1075\n"
     ]
    },
    {
     "name": "stderr",
     "output_type": "stream",
     "text": [
      "100%|█████████████████████████████████████████| 141/141 [01:25<00:00,  1.65it/s]\n"
     ]
    },
    {
     "name": "stdout",
     "output_type": "stream",
     "text": [
      "Epochs: 2 | Train Loss: 438.6305 | Train Accuracy: 0.3196 | Train F1: 0.2841\n",
      "           | Val Loss:   42.7082 | Val Accuracy:   0.4200 | Val F1:   0.3502\n"
     ]
    },
    {
     "name": "stderr",
     "output_type": "stream",
     "text": [
      "100%|█████████████████████████████████████████| 141/141 [01:25<00:00,  1.65it/s]\n"
     ]
    },
    {
     "name": "stdout",
     "output_type": "stream",
     "text": [
      "Epochs: 3 | Train Loss: 337.5981 | Train Accuracy: 0.5333 | Train F1: 0.4953\n",
      "           | Val Loss:   33.9039 | Val Accuracy:   0.5360 | Val F1:   0.4971\n"
     ]
    },
    {
     "name": "stderr",
     "output_type": "stream",
     "text": [
      "100%|█████████████████████████████████████████| 141/141 [01:24<00:00,  1.66it/s]\n"
     ]
    },
    {
     "name": "stdout",
     "output_type": "stream",
     "text": [
      "Epochs: 4 | Train Loss: 264.8288 | Train Accuracy: 0.6449 | Train F1: 0.6258\n",
      "           | Val Loss:   27.7451 | Val Accuracy:   0.6400 | Val F1:   0.6101\n"
     ]
    },
    {
     "name": "stderr",
     "output_type": "stream",
     "text": [
      "100%|█████████████████████████████████████████| 141/141 [01:27<00:00,  1.60it/s]\n"
     ]
    },
    {
     "name": "stdout",
     "output_type": "stream",
     "text": [
      "Epochs: 5 | Train Loss: 209.1207 | Train Accuracy: 0.7440 | Train F1: 0.7360\n",
      "           | Val Loss:   23.9122 | Val Accuracy:   0.6800 | Val F1:   0.6453\n"
     ]
    },
    {
     "name": "stderr",
     "output_type": "stream",
     "text": [
      "100%|█████████████████████████████████████████| 141/141 [01:27<00:00,  1.60it/s]\n"
     ]
    },
    {
     "name": "stdout",
     "output_type": "stream",
     "text": [
      "Epochs: 6 | Train Loss: 165.5356 | Train Accuracy: 0.8116 | Train F1: 0.8064\n",
      "           | Val Loss:   20.2934 | Val Accuracy:   0.7120 | Val F1:   0.7023\n"
     ]
    },
    {
     "name": "stderr",
     "output_type": "stream",
     "text": [
      "100%|█████████████████████████████████████████| 141/141 [01:28<00:00,  1.60it/s]\n"
     ]
    },
    {
     "name": "stdout",
     "output_type": "stream",
     "text": [
      "Epochs: 7 | Train Loss: 133.6930 | Train Accuracy: 0.8560 | Train F1: 0.8522\n",
      "           | Val Loss:   17.8711 | Val Accuracy:   0.7400 | Val F1:   0.7301\n"
     ]
    },
    {
     "name": "stderr",
     "output_type": "stream",
     "text": [
      "100%|█████████████████████████████████████████| 141/141 [01:27<00:00,  1.62it/s]\n"
     ]
    },
    {
     "name": "stdout",
     "output_type": "stream",
     "text": [
      "Epochs: 8 | Train Loss: 108.4332 | Train Accuracy: 0.9093 | Train F1: 0.9077\n",
      "           | Val Loss:   16.6376 | Val Accuracy:   0.7440 | Val F1:   0.7214\n"
     ]
    },
    {
     "name": "stderr",
     "output_type": "stream",
     "text": [
      "100%|█████████████████████████████████████████| 141/141 [01:27<00:00,  1.61it/s]\n"
     ]
    },
    {
     "name": "stdout",
     "output_type": "stream",
     "text": [
      "Epochs: 9 | Train Loss: 90.6728 | Train Accuracy: 0.9316 | Train F1: 0.9300\n",
      "           | Val Loss:   15.4686 | Val Accuracy:   0.7480 | Val F1:   0.7381\n"
     ]
    },
    {
     "name": "stderr",
     "output_type": "stream",
     "text": [
      "100%|█████████████████████████████████████████| 141/141 [01:26<00:00,  1.62it/s]\n"
     ]
    },
    {
     "name": "stdout",
     "output_type": "stream",
     "text": [
      "Epochs: 10 | Train Loss: 75.0130 | Train Accuracy: 0.9618 | Train F1: 0.9612\n",
      "           | Val Loss:   13.9986 | Val Accuracy:   0.7760 | Val F1:   0.7622\n"
     ]
    },
    {
     "name": "stderr",
     "output_type": "stream",
     "text": [
      "100%|█████████████████████████████████████████| 141/141 [01:28<00:00,  1.59it/s]\n"
     ]
    },
    {
     "name": "stdout",
     "output_type": "stream",
     "text": [
      "Epochs: 11 | Train Loss: 64.2943 | Train Accuracy: 0.9733 | Train F1: 0.9730\n",
      "           | Val Loss:   13.6550 | Val Accuracy:   0.7920 | Val F1:   0.7839\n"
     ]
    },
    {
     "name": "stderr",
     "output_type": "stream",
     "text": [
      "100%|█████████████████████████████████████████| 141/141 [01:27<00:00,  1.61it/s]\n"
     ]
    },
    {
     "name": "stdout",
     "output_type": "stream",
     "text": [
      "Epochs: 12 | Train Loss: 56.1876 | Train Accuracy: 0.9862 | Train F1: 0.9860\n",
      "           | Val Loss:   13.3161 | Val Accuracy:   0.8000 | Val F1:   0.7846\n"
     ]
    },
    {
     "name": "stderr",
     "output_type": "stream",
     "text": [
      "100%|█████████████████████████████████████████| 141/141 [01:26<00:00,  1.63it/s]\n"
     ]
    },
    {
     "name": "stdout",
     "output_type": "stream",
     "text": [
      "Epochs: 13 | Train Loss: 50.2843 | Train Accuracy: 0.9907 | Train F1: 0.9906\n",
      "           | Val Loss:   13.0983 | Val Accuracy:   0.8200 | Val F1:   0.8009\n"
     ]
    },
    {
     "name": "stderr",
     "output_type": "stream",
     "text": [
      "100%|█████████████████████████████████████████| 141/141 [01:26<00:00,  1.64it/s]\n"
     ]
    },
    {
     "name": "stdout",
     "output_type": "stream",
     "text": [
      "Epochs: 14 | Train Loss: 46.1909 | Train Accuracy: 0.9947 | Train F1: 0.9946\n",
      "           | Val Loss:   12.7936 | Val Accuracy:   0.8080 | Val F1:   0.7918\n"
     ]
    },
    {
     "name": "stderr",
     "output_type": "stream",
     "text": [
      "100%|█████████████████████████████████████████| 141/141 [01:28<00:00,  1.60it/s]\n"
     ]
    },
    {
     "name": "stdout",
     "output_type": "stream",
     "text": [
      "Epochs: 15 | Train Loss: 44.1613 | Train Accuracy: 0.9960 | Train F1: 0.9959\n",
      "           | Val Loss:   12.6964 | Val Accuracy:   0.8280 | Val F1:   0.8131\n",
      "Test Accuracy:  0.6056 | Test F1:  0.6007\n"
     ]
    },
    {
     "name": "stderr",
     "output_type": "stream",
     "text": [
      "Some weights of the model checkpoint at bert-base-uncased were not used when initializing BertForSequenceClassification: ['cls.predictions.transform.LayerNorm.weight', 'cls.seq_relationship.weight', 'cls.predictions.transform.dense.bias', 'cls.seq_relationship.bias', 'cls.predictions.transform.dense.weight', 'cls.predictions.transform.LayerNorm.bias', 'cls.predictions.bias', 'cls.predictions.decoder.weight']\n",
      "- This IS expected if you are initializing BertForSequenceClassification from the checkpoint of a model trained on another task or with another architecture (e.g. initializing a BertForSequenceClassification model from a BertForPreTraining model).\n",
      "- This IS NOT expected if you are initializing BertForSequenceClassification from the checkpoint of a model that you expect to be exactly identical (initializing a BertForSequenceClassification model from a BertForSequenceClassification model).\n",
      "Some weights of BertForSequenceClassification were not initialized from the model checkpoint at bert-base-uncased and are newly initialized: ['classifier.weight', 'classifier.bias']\n",
      "You should probably TRAIN this model on a down-stream task to be able to use it for predictions and inference.\n"
     ]
    },
    {
     "name": "stdout",
     "output_type": "stream",
     "text": [
      "idf removal threshold at 7.0\n",
      "0       The capital market, _ criticised for a lack of transparency, needs an independent regulator, but...\n",
      "1       beat the Republic 3-0 in a ice hockey game on , setting up a showdown for group _ against and le...\n",
      "2       The fall in the trade deficit to crowns in from in buoyed market sentiment, and the goods import...\n",
      "3       paper concern a.s. on said its net profit fell as a shutdown of its main paper mill, coupled wit...\n",
      "4       shares rallied on following the coalition government's win in elections, but analysts said the r...\n",
      "                                                       ...                                                 \n",
      "2245    \"\" -- counter-culture _ of the 's -- is being used in a _ for a bank and some fans are up in arm...\n",
      "2246    , the flamboyant stock picker hired recently to _ drive to dominate the market, has been removed...\n",
      "2247    , 's biggest city and financial capital, is _ for a near shutdown when protesters hit the street...\n",
      "2248    Anti-government protests swept across 's biggest city on as demonstrators in shut down the trans...\n",
      "2249    , biggest power utility, said that it would take a huge () charge in to strengthen its financial...\n",
      "Name: masked_content, Length: 2250, dtype: object\n",
      "cuda version 1.13.0\n"
     ]
    },
    {
     "name": "stderr",
     "output_type": "stream",
     "text": [
      "100%|█████████████████████████████████████████| 141/141 [01:25<00:00,  1.64it/s]\n"
     ]
    },
    {
     "name": "stdout",
     "output_type": "stream",
     "text": [
      "Epochs: 1 | Train Loss: 547.8157 | Train Accuracy: 0.0396 | Train F1: 0.0266\n",
      "           | Val Loss:   57.8942 | Val Accuracy:   0.0880 | Val F1:   0.0659\n"
     ]
    },
    {
     "name": "stderr",
     "output_type": "stream",
     "text": [
      "100%|█████████████████████████████████████████| 141/141 [01:25<00:00,  1.65it/s]\n"
     ]
    },
    {
     "name": "stdout",
     "output_type": "stream",
     "text": [
      "Epochs: 2 | Train Loss: 450.0931 | Train Accuracy: 0.3040 | Train F1: 0.2617\n",
      "           | Val Loss:   43.7971 | Val Accuracy:   0.4840 | Val F1:   0.3806\n"
     ]
    },
    {
     "name": "stderr",
     "output_type": "stream",
     "text": [
      "100%|█████████████████████████████████████████| 141/141 [01:27<00:00,  1.61it/s]\n"
     ]
    },
    {
     "name": "stdout",
     "output_type": "stream",
     "text": [
      "Epochs: 3 | Train Loss: 340.5478 | Train Accuracy: 0.5284 | Train F1: 0.4859\n",
      "           | Val Loss:   34.1065 | Val Accuracy:   0.5560 | Val F1:   0.4521\n"
     ]
    },
    {
     "name": "stderr",
     "output_type": "stream",
     "text": [
      "100%|█████████████████████████████████████████| 141/141 [01:28<00:00,  1.59it/s]\n"
     ]
    },
    {
     "name": "stdout",
     "output_type": "stream",
     "text": [
      "Epochs: 4 | Train Loss: 264.7741 | Train Accuracy: 0.6387 | Train F1: 0.6156\n",
      "           | Val Loss:   27.3134 | Val Accuracy:   0.6680 | Val F1:   0.5954\n"
     ]
    },
    {
     "name": "stderr",
     "output_type": "stream",
     "text": [
      "100%|█████████████████████████████████████████| 141/141 [01:27<00:00,  1.62it/s]\n"
     ]
    },
    {
     "name": "stdout",
     "output_type": "stream",
     "text": [
      "Epochs: 5 | Train Loss: 208.0517 | Train Accuracy: 0.7387 | Train F1: 0.7242\n",
      "           | Val Loss:   22.8972 | Val Accuracy:   0.7240 | Val F1:   0.6730\n"
     ]
    },
    {
     "name": "stderr",
     "output_type": "stream",
     "text": [
      "100%|█████████████████████████████████████████| 141/141 [01:26<00:00,  1.62it/s]\n"
     ]
    },
    {
     "name": "stdout",
     "output_type": "stream",
     "text": [
      "Epochs: 6 | Train Loss: 164.8351 | Train Accuracy: 0.8102 | Train F1: 0.7984\n",
      "           | Val Loss:   19.6179 | Val Accuracy:   0.7400 | Val F1:   0.7013\n"
     ]
    },
    {
     "name": "stderr",
     "output_type": "stream",
     "text": [
      "100%|█████████████████████████████████████████| 141/141 [01:30<00:00,  1.56it/s]\n"
     ]
    },
    {
     "name": "stdout",
     "output_type": "stream",
     "text": [
      "Epochs: 7 | Train Loss: 131.5745 | Train Accuracy: 0.8702 | Train F1: 0.8637\n",
      "           | Val Loss:   17.1826 | Val Accuracy:   0.7840 | Val F1:   0.7414\n"
     ]
    },
    {
     "name": "stderr",
     "output_type": "stream",
     "text": [
      "100%|█████████████████████████████████████████| 141/141 [01:28<00:00,  1.60it/s]\n"
     ]
    },
    {
     "name": "stdout",
     "output_type": "stream",
     "text": [
      "Epochs: 8 | Train Loss: 105.1313 | Train Accuracy: 0.9107 | Train F1: 0.9076\n",
      "           | Val Loss:   15.6629 | Val Accuracy:   0.7920 | Val F1:   0.7763\n"
     ]
    },
    {
     "name": "stderr",
     "output_type": "stream",
     "text": [
      "100%|█████████████████████████████████████████| 141/141 [01:25<00:00,  1.65it/s]\n"
     ]
    },
    {
     "name": "stdout",
     "output_type": "stream",
     "text": [
      "Epochs: 9 | Train Loss: 85.1930 | Train Accuracy: 0.9480 | Train F1: 0.9469\n",
      "           | Val Loss:   14.2413 | Val Accuracy:   0.7880 | Val F1:   0.7809\n"
     ]
    },
    {
     "name": "stderr",
     "output_type": "stream",
     "text": [
      "100%|█████████████████████████████████████████| 141/141 [01:28<00:00,  1.59it/s]\n"
     ]
    },
    {
     "name": "stdout",
     "output_type": "stream",
     "text": [
      "Epochs: 10 | Train Loss: 71.0432 | Train Accuracy: 0.9627 | Train F1: 0.9620\n",
      "           | Val Loss:   13.6141 | Val Accuracy:   0.7760 | Val F1:   0.7528\n"
     ]
    },
    {
     "name": "stderr",
     "output_type": "stream",
     "text": [
      "100%|█████████████████████████████████████████| 141/141 [01:26<00:00,  1.62it/s]\n"
     ]
    },
    {
     "name": "stdout",
     "output_type": "stream",
     "text": [
      "Epochs: 11 | Train Loss: 59.9374 | Train Accuracy: 0.9791 | Train F1: 0.9788\n",
      "           | Val Loss:   13.1307 | Val Accuracy:   0.7920 | Val F1:   0.7858\n"
     ]
    },
    {
     "name": "stderr",
     "output_type": "stream",
     "text": [
      "100%|█████████████████████████████████████████| 141/141 [01:27<00:00,  1.62it/s]\n"
     ]
    },
    {
     "name": "stdout",
     "output_type": "stream",
     "text": [
      "Epochs: 12 | Train Loss: 51.3739 | Train Accuracy: 0.9853 | Train F1: 0.9852\n",
      "           | Val Loss:   12.6772 | Val Accuracy:   0.7880 | Val F1:   0.7633\n"
     ]
    },
    {
     "name": "stderr",
     "output_type": "stream",
     "text": [
      "100%|█████████████████████████████████████████| 141/141 [01:26<00:00,  1.63it/s]\n"
     ]
    },
    {
     "name": "stdout",
     "output_type": "stream",
     "text": [
      "Epochs: 13 | Train Loss: 46.2469 | Train Accuracy: 0.9876 | Train F1: 0.9873\n",
      "           | Val Loss:   12.4155 | Val Accuracy:   0.7960 | Val F1:   0.7842\n"
     ]
    },
    {
     "name": "stderr",
     "output_type": "stream",
     "text": [
      "100%|█████████████████████████████████████████| 141/141 [01:28<00:00,  1.60it/s]\n"
     ]
    },
    {
     "name": "stdout",
     "output_type": "stream",
     "text": [
      "Epochs: 14 | Train Loss: 42.6094 | Train Accuracy: 0.9951 | Train F1: 0.9951\n",
      "           | Val Loss:   12.3786 | Val Accuracy:   0.7920 | Val F1:   0.7665\n"
     ]
    },
    {
     "name": "stderr",
     "output_type": "stream",
     "text": [
      "100%|█████████████████████████████████████████| 141/141 [01:27<00:00,  1.61it/s]\n"
     ]
    },
    {
     "name": "stdout",
     "output_type": "stream",
     "text": [
      "Epochs: 15 | Train Loss: 40.4833 | Train Accuracy: 0.9982 | Train F1: 0.9982\n",
      "           | Val Loss:   12.2665 | Val Accuracy:   0.8080 | Val F1:   0.7996\n",
      "Test Accuracy:  0.6056 | Test F1:  0.6017\n"
     ]
    },
    {
     "name": "stderr",
     "output_type": "stream",
     "text": [
      "Some weights of the model checkpoint at bert-base-uncased were not used when initializing BertForSequenceClassification: ['cls.predictions.transform.LayerNorm.weight', 'cls.seq_relationship.weight', 'cls.predictions.transform.dense.bias', 'cls.seq_relationship.bias', 'cls.predictions.transform.dense.weight', 'cls.predictions.transform.LayerNorm.bias', 'cls.predictions.bias', 'cls.predictions.decoder.weight']\n",
      "- This IS expected if you are initializing BertForSequenceClassification from the checkpoint of a model trained on another task or with another architecture (e.g. initializing a BertForSequenceClassification model from a BertForPreTraining model).\n",
      "- This IS NOT expected if you are initializing BertForSequenceClassification from the checkpoint of a model that you expect to be exactly identical (initializing a BertForSequenceClassification model from a BertForSequenceClassification model).\n",
      "Some weights of BertForSequenceClassification were not initialized from the model checkpoint at bert-base-uncased and are newly initialized: ['classifier.weight', 'classifier.bias']\n",
      "You should probably TRAIN this model on a down-stream task to be able to use it for predictions and inference.\n"
     ]
    },
    {
     "name": "stdout",
     "output_type": "stream",
     "text": [
      "idf removal threshold at 6.5\n",
      "0       The capital market, _ criticised for a lack of transparency, needs an independent regulator, but...\n",
      "1       beat the _ 3-0 in a ice _ game on , setting up a _ for group _ against and leaving the _ world _...\n",
      "2       The fall in the trade deficit to crowns in from in buoyed market sentiment, and the goods import...\n",
      "3       paper concern a.s. on said its net profit fell as a shutdown of its main paper mill, coupled wit...\n",
      "4       shares rallied on following the coalition government's win in elections, but analysts said the r...\n",
      "                                                       ...                                                 \n",
      "2245    \"\" -- counter-culture _ of the 's -- is being used in a _ for a bank and some fans are up in arm...\n",
      "2246    , the _ stock _ hired recently to _ drive to dominate the market, has been removed from her fund...\n",
      "2247    , 's biggest city and financial capital, is _ for a near shutdown when protesters hit the street...\n",
      "2248    Anti-government protests swept across 's biggest city on as demonstrators in shut down the trans...\n",
      "2249    , biggest power utility, said that it would take a huge () charge in to strengthen its financial...\n",
      "Name: masked_content, Length: 2250, dtype: object\n",
      "cuda version 1.13.0\n"
     ]
    },
    {
     "name": "stderr",
     "output_type": "stream",
     "text": [
      "100%|█████████████████████████████████████████| 141/141 [01:25<00:00,  1.65it/s]\n"
     ]
    },
    {
     "name": "stdout",
     "output_type": "stream",
     "text": [
      "Epochs: 1 | Train Loss: 546.8009 | Train Accuracy: 0.0440 | Train F1: 0.0368\n",
      "           | Val Loss:   58.4389 | Val Accuracy:   0.1120 | Val F1:   0.0686\n"
     ]
    },
    {
     "name": "stderr",
     "output_type": "stream",
     "text": [
      "100%|█████████████████████████████████████████| 141/141 [01:26<00:00,  1.64it/s]\n"
     ]
    },
    {
     "name": "stdout",
     "output_type": "stream",
     "text": [
      "Epochs: 2 | Train Loss: 441.4921 | Train Accuracy: 0.3218 | Train F1: 0.2748\n",
      "           | Val Loss:   42.3960 | Val Accuracy:   0.4360 | Val F1:   0.3528\n"
     ]
    },
    {
     "name": "stderr",
     "output_type": "stream",
     "text": [
      "100%|█████████████████████████████████████████| 141/141 [01:25<00:00,  1.64it/s]\n"
     ]
    },
    {
     "name": "stdout",
     "output_type": "stream",
     "text": [
      "Epochs: 3 | Train Loss: 338.4493 | Train Accuracy: 0.5120 | Train F1: 0.4668\n",
      "           | Val Loss:   34.4107 | Val Accuracy:   0.5520 | Val F1:   0.4547\n"
     ]
    },
    {
     "name": "stderr",
     "output_type": "stream",
     "text": [
      "100%|█████████████████████████████████████████| 141/141 [01:27<00:00,  1.62it/s]\n"
     ]
    },
    {
     "name": "stdout",
     "output_type": "stream",
     "text": [
      "Epochs: 4 | Train Loss: 263.2964 | Train Accuracy: 0.6480 | Train F1: 0.6260\n",
      "           | Val Loss:   28.0984 | Val Accuracy:   0.5880 | Val F1:   0.5281\n"
     ]
    },
    {
     "name": "stderr",
     "output_type": "stream",
     "text": [
      "100%|█████████████████████████████████████████| 141/141 [01:27<00:00,  1.61it/s]\n"
     ]
    },
    {
     "name": "stdout",
     "output_type": "stream",
     "text": [
      "Epochs: 5 | Train Loss: 208.2546 | Train Accuracy: 0.7391 | Train F1: 0.7267\n",
      "           | Val Loss:   24.2735 | Val Accuracy:   0.6800 | Val F1:   0.6449\n"
     ]
    },
    {
     "name": "stderr",
     "output_type": "stream",
     "text": [
      "100%|█████████████████████████████████████████| 141/141 [01:27<00:00,  1.60it/s]\n"
     ]
    },
    {
     "name": "stdout",
     "output_type": "stream",
     "text": [
      "Epochs: 6 | Train Loss: 165.7873 | Train Accuracy: 0.8164 | Train F1: 0.8107\n",
      "           | Val Loss:   20.9784 | Val Accuracy:   0.6920 | Val F1:   0.6655\n"
     ]
    },
    {
     "name": "stderr",
     "output_type": "stream",
     "text": [
      "100%|█████████████████████████████████████████| 141/141 [01:28<00:00,  1.60it/s]\n"
     ]
    },
    {
     "name": "stdout",
     "output_type": "stream",
     "text": [
      "Epochs: 7 | Train Loss: 132.1105 | Train Accuracy: 0.8804 | Train F1: 0.8755\n",
      "           | Val Loss:   19.2166 | Val Accuracy:   0.7240 | Val F1:   0.7042\n"
     ]
    },
    {
     "name": "stderr",
     "output_type": "stream",
     "text": [
      "100%|█████████████████████████████████████████| 141/141 [01:26<00:00,  1.63it/s]\n"
     ]
    },
    {
     "name": "stdout",
     "output_type": "stream",
     "text": [
      "Epochs: 8 | Train Loss: 106.6034 | Train Accuracy: 0.9187 | Train F1: 0.9155\n",
      "           | Val Loss:   16.8579 | Val Accuracy:   0.7280 | Val F1:   0.7241\n"
     ]
    },
    {
     "name": "stderr",
     "output_type": "stream",
     "text": [
      "100%|█████████████████████████████████████████| 141/141 [01:26<00:00,  1.63it/s]\n"
     ]
    },
    {
     "name": "stdout",
     "output_type": "stream",
     "text": [
      "Epochs: 9 | Train Loss: 87.0886 | Train Accuracy: 0.9480 | Train F1: 0.9469\n",
      "           | Val Loss:   15.4139 | Val Accuracy:   0.7720 | Val F1:   0.7585\n"
     ]
    },
    {
     "name": "stderr",
     "output_type": "stream",
     "text": [
      "100%|█████████████████████████████████████████| 141/141 [01:26<00:00,  1.63it/s]\n"
     ]
    },
    {
     "name": "stdout",
     "output_type": "stream",
     "text": [
      "Epochs: 10 | Train Loss: 71.5476 | Train Accuracy: 0.9640 | Train F1: 0.9633\n",
      "           | Val Loss:   14.4888 | Val Accuracy:   0.7640 | Val F1:   0.7589\n"
     ]
    },
    {
     "name": "stderr",
     "output_type": "stream",
     "text": [
      "100%|█████████████████████████████████████████| 141/141 [01:26<00:00,  1.63it/s]\n"
     ]
    },
    {
     "name": "stdout",
     "output_type": "stream",
     "text": [
      "Epochs: 11 | Train Loss: 60.7118 | Train Accuracy: 0.9778 | Train F1: 0.9774\n",
      "           | Val Loss:   13.8176 | Val Accuracy:   0.7920 | Val F1:   0.7843\n"
     ]
    },
    {
     "name": "stderr",
     "output_type": "stream",
     "text": [
      "100%|█████████████████████████████████████████| 141/141 [01:26<00:00,  1.63it/s]\n"
     ]
    },
    {
     "name": "stdout",
     "output_type": "stream",
     "text": [
      "Epochs: 12 | Train Loss: 53.4849 | Train Accuracy: 0.9836 | Train F1: 0.9832\n",
      "           | Val Loss:   13.7821 | Val Accuracy:   0.7960 | Val F1:   0.7899\n"
     ]
    },
    {
     "name": "stderr",
     "output_type": "stream",
     "text": [
      "100%|█████████████████████████████████████████| 141/141 [01:26<00:00,  1.63it/s]\n"
     ]
    },
    {
     "name": "stdout",
     "output_type": "stream",
     "text": [
      "Epochs: 13 | Train Loss: 47.4676 | Train Accuracy: 0.9911 | Train F1: 0.9910\n",
      "           | Val Loss:   13.3590 | Val Accuracy:   0.7920 | Val F1:   0.7889\n"
     ]
    },
    {
     "name": "stderr",
     "output_type": "stream",
     "text": [
      "100%|█████████████████████████████████████████| 141/141 [01:27<00:00,  1.62it/s]\n"
     ]
    },
    {
     "name": "stdout",
     "output_type": "stream",
     "text": [
      "Epochs: 14 | Train Loss: 44.6493 | Train Accuracy: 0.9911 | Train F1: 0.9910\n",
      "           | Val Loss:   13.1845 | Val Accuracy:   0.7920 | Val F1:   0.7878\n"
     ]
    },
    {
     "name": "stderr",
     "output_type": "stream",
     "text": [
      "100%|█████████████████████████████████████████| 141/141 [01:26<00:00,  1.63it/s]\n"
     ]
    },
    {
     "name": "stdout",
     "output_type": "stream",
     "text": [
      "Epochs: 15 | Train Loss: 42.8698 | Train Accuracy: 0.9933 | Train F1: 0.9932\n",
      "           | Val Loss:   13.1776 | Val Accuracy:   0.7880 | Val F1:   0.7838\n",
      "Test Accuracy:  0.5932 | Test F1:  0.5884\n"
     ]
    },
    {
     "name": "stderr",
     "output_type": "stream",
     "text": [
      "Some weights of the model checkpoint at bert-base-uncased were not used when initializing BertForSequenceClassification: ['cls.predictions.transform.LayerNorm.weight', 'cls.seq_relationship.weight', 'cls.predictions.transform.dense.bias', 'cls.seq_relationship.bias', 'cls.predictions.transform.dense.weight', 'cls.predictions.transform.LayerNorm.bias', 'cls.predictions.bias', 'cls.predictions.decoder.weight']\n",
      "- This IS expected if you are initializing BertForSequenceClassification from the checkpoint of a model trained on another task or with another architecture (e.g. initializing a BertForSequenceClassification model from a BertForPreTraining model).\n",
      "- This IS NOT expected if you are initializing BertForSequenceClassification from the checkpoint of a model that you expect to be exactly identical (initializing a BertForSequenceClassification model from a BertForSequenceClassification model).\n",
      "Some weights of BertForSequenceClassification were not initialized from the model checkpoint at bert-base-uncased and are newly initialized: ['classifier.weight', 'classifier.bias']\n",
      "You should probably TRAIN this model on a down-stream task to be able to use it for predictions and inference.\n"
     ]
    },
    {
     "name": "stdout",
     "output_type": "stream",
     "text": [
      "idf removal threshold at 6.0\n",
      "0       The capital market, _ criticised for a lack of transparency, needs an independent regulator, but...\n",
      "1       beat the _ 3-0 in a ice _ game on , setting up a _ for group _ against and leaving the _ world _...\n",
      "2       The fall in the trade deficit to crowns in from in buoyed market sentiment, and the goods import...\n",
      "3       paper concern a.s. on said its net profit fell as a shutdown of its main paper mill, coupled wit...\n",
      "4       shares rallied on following the coalition government's win in elections, but analysts said the r...\n",
      "                                                       ...                                                 \n",
      "2245    \"\" -- counter-culture _ of the 's -- is being used in a _ for a bank and some fans are up in arm...\n",
      "2246    , the _ stock _ hired recently to _ drive to dominate the market, has been removed from her fund...\n",
      "2247    , 's biggest city and financial capital, is _ for a near shutdown when protesters hit the street...\n",
      "2248    Anti-government protests swept across 's biggest city on as demonstrators in shut down the _ sys...\n",
      "2249    , biggest power utility, said that it would take a huge () charge in to strengthen its financial...\n",
      "Name: masked_content, Length: 2250, dtype: object\n",
      "cuda version 1.13.0\n"
     ]
    },
    {
     "name": "stderr",
     "output_type": "stream",
     "text": [
      "100%|█████████████████████████████████████████| 141/141 [01:25<00:00,  1.65it/s]\n"
     ]
    },
    {
     "name": "stdout",
     "output_type": "stream",
     "text": [
      "Epochs: 1 | Train Loss: 545.1122 | Train Accuracy: 0.0333 | Train F1: 0.0201\n",
      "           | Val Loss:   57.4729 | Val Accuracy:   0.1280 | Val F1:   0.0619\n"
     ]
    },
    {
     "name": "stderr",
     "output_type": "stream",
     "text": [
      "100%|█████████████████████████████████████████| 141/141 [01:25<00:00,  1.64it/s]\n"
     ]
    },
    {
     "name": "stdout",
     "output_type": "stream",
     "text": [
      "Epochs: 2 | Train Loss: 456.4119 | Train Accuracy: 0.2480 | Train F1: 0.2137\n",
      "           | Val Loss:   45.4192 | Val Accuracy:   0.4120 | Val F1:   0.3374\n"
     ]
    },
    {
     "name": "stderr",
     "output_type": "stream",
     "text": [
      "100%|█████████████████████████████████████████| 141/141 [01:26<00:00,  1.64it/s]\n"
     ]
    },
    {
     "name": "stdout",
     "output_type": "stream",
     "text": [
      "Epochs: 3 | Train Loss: 356.5252 | Train Accuracy: 0.4724 | Train F1: 0.4270\n",
      "           | Val Loss:   36.0088 | Val Accuracy:   0.5000 | Val F1:   0.4420\n"
     ]
    },
    {
     "name": "stderr",
     "output_type": "stream",
     "text": [
      "100%|█████████████████████████████████████████| 141/141 [01:26<00:00,  1.63it/s]\n"
     ]
    },
    {
     "name": "stdout",
     "output_type": "stream",
     "text": [
      "Epochs: 4 | Train Loss: 283.2964 | Train Accuracy: 0.5951 | Train F1: 0.5638\n",
      "           | Val Loss:   29.6648 | Val Accuracy:   0.6320 | Val F1:   0.5780\n"
     ]
    },
    {
     "name": "stderr",
     "output_type": "stream",
     "text": [
      "100%|█████████████████████████████████████████| 141/141 [01:25<00:00,  1.65it/s]\n"
     ]
    },
    {
     "name": "stdout",
     "output_type": "stream",
     "text": [
      "Epochs: 5 | Train Loss: 224.9873 | Train Accuracy: 0.7107 | Train F1: 0.6942\n",
      "           | Val Loss:   24.9175 | Val Accuracy:   0.7000 | Val F1:   0.6498\n"
     ]
    },
    {
     "name": "stderr",
     "output_type": "stream",
     "text": [
      "100%|█████████████████████████████████████████| 141/141 [01:26<00:00,  1.63it/s]\n"
     ]
    },
    {
     "name": "stdout",
     "output_type": "stream",
     "text": [
      "Epochs: 6 | Train Loss: 180.0145 | Train Accuracy: 0.7787 | Train F1: 0.7713\n",
      "           | Val Loss:   21.9798 | Val Accuracy:   0.7040 | Val F1:   0.6677\n"
     ]
    },
    {
     "name": "stderr",
     "output_type": "stream",
     "text": [
      "100%|█████████████████████████████████████████| 141/141 [01:28<00:00,  1.59it/s]\n"
     ]
    },
    {
     "name": "stdout",
     "output_type": "stream",
     "text": [
      "Epochs: 7 | Train Loss: 144.0817 | Train Accuracy: 0.8596 | Train F1: 0.8547\n",
      "           | Val Loss:   19.4636 | Val Accuracy:   0.7200 | Val F1:   0.6837\n"
     ]
    },
    {
     "name": "stderr",
     "output_type": "stream",
     "text": [
      "100%|█████████████████████████████████████████| 141/141 [01:27<00:00,  1.62it/s]\n"
     ]
    },
    {
     "name": "stdout",
     "output_type": "stream",
     "text": [
      "Epochs: 8 | Train Loss: 116.6679 | Train Accuracy: 0.9049 | Train F1: 0.9032\n",
      "           | Val Loss:   16.6694 | Val Accuracy:   0.7600 | Val F1:   0.7283\n"
     ]
    },
    {
     "name": "stderr",
     "output_type": "stream",
     "text": [
      "100%|█████████████████████████████████████████| 141/141 [01:27<00:00,  1.62it/s]\n"
     ]
    },
    {
     "name": "stdout",
     "output_type": "stream",
     "text": [
      "Epochs: 9 | Train Loss: 94.3236 | Train Accuracy: 0.9418 | Train F1: 0.9410\n",
      "           | Val Loss:   16.1349 | Val Accuracy:   0.7400 | Val F1:   0.7089\n"
     ]
    },
    {
     "name": "stderr",
     "output_type": "stream",
     "text": [
      "100%|█████████████████████████████████████████| 141/141 [01:26<00:00,  1.63it/s]\n"
     ]
    },
    {
     "name": "stdout",
     "output_type": "stream",
     "text": [
      "Epochs: 10 | Train Loss: 79.0521 | Train Accuracy: 0.9622 | Train F1: 0.9615\n",
      "           | Val Loss:   14.3184 | Val Accuracy:   0.7880 | Val F1:   0.7628\n"
     ]
    },
    {
     "name": "stderr",
     "output_type": "stream",
     "text": [
      "100%|█████████████████████████████████████████| 141/141 [01:26<00:00,  1.63it/s]\n"
     ]
    },
    {
     "name": "stdout",
     "output_type": "stream",
     "text": [
      "Epochs: 11 | Train Loss: 67.2600 | Train Accuracy: 0.9756 | Train F1: 0.9751\n",
      "           | Val Loss:   13.6149 | Val Accuracy:   0.8000 | Val F1:   0.7602\n"
     ]
    },
    {
     "name": "stderr",
     "output_type": "stream",
     "text": [
      "100%|█████████████████████████████████████████| 141/141 [01:28<00:00,  1.59it/s]\n"
     ]
    },
    {
     "name": "stdout",
     "output_type": "stream",
     "text": [
      "Epochs: 12 | Train Loss: 58.6056 | Train Accuracy: 0.9849 | Train F1: 0.9846\n",
      "           | Val Loss:   13.1373 | Val Accuracy:   0.7960 | Val F1:   0.7705\n"
     ]
    },
    {
     "name": "stderr",
     "output_type": "stream",
     "text": [
      "100%|█████████████████████████████████████████| 141/141 [01:27<00:00,  1.61it/s]\n"
     ]
    },
    {
     "name": "stdout",
     "output_type": "stream",
     "text": [
      "Epochs: 13 | Train Loss: 52.9590 | Train Accuracy: 0.9871 | Train F1: 0.9868\n",
      "           | Val Loss:   12.7683 | Val Accuracy:   0.8040 | Val F1:   0.7825\n"
     ]
    },
    {
     "name": "stderr",
     "output_type": "stream",
     "text": [
      "100%|█████████████████████████████████████████| 141/141 [01:27<00:00,  1.61it/s]\n"
     ]
    },
    {
     "name": "stdout",
     "output_type": "stream",
     "text": [
      "Epochs: 14 | Train Loss: 49.0651 | Train Accuracy: 0.9907 | Train F1: 0.9906\n",
      "           | Val Loss:   12.4441 | Val Accuracy:   0.8000 | Val F1:   0.7803\n"
     ]
    },
    {
     "name": "stderr",
     "output_type": "stream",
     "text": [
      "100%|█████████████████████████████████████████| 141/141 [01:27<00:00,  1.62it/s]\n"
     ]
    },
    {
     "name": "stdout",
     "output_type": "stream",
     "text": [
      "Epochs: 15 | Train Loss: 46.6515 | Train Accuracy: 0.9942 | Train F1: 0.9940\n",
      "           | Val Loss:   12.4656 | Val Accuracy:   0.8040 | Val F1:   0.7810\n",
      "Test Accuracy:  0.6100 | Test F1:  0.6090\n"
     ]
    },
    {
     "name": "stderr",
     "output_type": "stream",
     "text": [
      "Some weights of the model checkpoint at bert-base-uncased were not used when initializing BertForSequenceClassification: ['cls.predictions.transform.LayerNorm.weight', 'cls.seq_relationship.weight', 'cls.predictions.transform.dense.bias', 'cls.seq_relationship.bias', 'cls.predictions.transform.dense.weight', 'cls.predictions.transform.LayerNorm.bias', 'cls.predictions.bias', 'cls.predictions.decoder.weight']\n",
      "- This IS expected if you are initializing BertForSequenceClassification from the checkpoint of a model trained on another task or with another architecture (e.g. initializing a BertForSequenceClassification model from a BertForPreTraining model).\n",
      "- This IS NOT expected if you are initializing BertForSequenceClassification from the checkpoint of a model that you expect to be exactly identical (initializing a BertForSequenceClassification model from a BertForSequenceClassification model).\n",
      "Some weights of BertForSequenceClassification were not initialized from the model checkpoint at bert-base-uncased and are newly initialized: ['classifier.weight', 'classifier.bias']\n",
      "You should probably TRAIN this model on a down-stream task to be able to use it for predictions and inference.\n"
     ]
    },
    {
     "name": "stdout",
     "output_type": "stream",
     "text": [
      "idf removal threshold at 5.5\n",
      "0       The capital market, _ criticised for a lack of transparency, needs an independent regulator, but...\n",
      "1       beat the _ 3-0 in a _ _ game on , setting up a _ for group _ against and leaving the _ world _ _...\n",
      "2       The fall in the trade deficit to crowns in from in _ market sentiment, and the goods imported sh...\n",
      "3       paper concern a.s. on said its net profit fell as a _ of its main paper mill, _ with a downturn ...\n",
      "4       shares _ on following the coalition government's win in elections, but analysts said the rise wa...\n",
      "                                                       ...                                                 \n",
      "2245    \"\" -- counter-culture _ of the 's -- is being used in a _ for a bank and some _ are up in arms. ...\n",
      "2246    , the _ stock _ hired recently to _ drive to _ the market, has been removed from her fund as she...\n",
      "2247    , 's biggest city and financial capital, is _ for a near _ when _ hit the _ against deep budget ...\n",
      "2248    Anti-government protests _ across 's biggest city on as _ in shut down the _ system, _ businesse...\n",
      "2249    , biggest power utility, said that it would take a huge () charge in to strengthen its financial...\n",
      "Name: masked_content, Length: 2250, dtype: object\n",
      "cuda version 1.13.0\n"
     ]
    },
    {
     "name": "stderr",
     "output_type": "stream",
     "text": [
      "100%|█████████████████████████████████████████| 141/141 [01:24<00:00,  1.66it/s]\n"
     ]
    },
    {
     "name": "stdout",
     "output_type": "stream",
     "text": [
      "Epochs: 1 | Train Loss: 544.9005 | Train Accuracy: 0.0444 | Train F1: 0.0339\n",
      "           | Val Loss:   56.8193 | Val Accuracy:   0.1720 | Val F1:   0.0863\n"
     ]
    },
    {
     "name": "stderr",
     "output_type": "stream",
     "text": [
      "100%|█████████████████████████████████████████| 141/141 [01:25<00:00,  1.66it/s]\n"
     ]
    },
    {
     "name": "stdout",
     "output_type": "stream",
     "text": [
      "Epochs: 2 | Train Loss: 453.4688 | Train Accuracy: 0.2796 | Train F1: 0.2359\n",
      "           | Val Loss:   44.7312 | Val Accuracy:   0.3840 | Val F1:   0.2965\n"
     ]
    },
    {
     "name": "stderr",
     "output_type": "stream",
     "text": [
      "100%|█████████████████████████████████████████| 141/141 [01:29<00:00,  1.57it/s]\n"
     ]
    },
    {
     "name": "stdout",
     "output_type": "stream",
     "text": [
      "Epochs: 3 | Train Loss: 354.8201 | Train Accuracy: 0.4871 | Train F1: 0.4526\n",
      "           | Val Loss:   35.4897 | Val Accuracy:   0.5560 | Val F1:   0.4753\n"
     ]
    },
    {
     "name": "stderr",
     "output_type": "stream",
     "text": [
      "100%|█████████████████████████████████████████| 141/141 [01:25<00:00,  1.65it/s]\n"
     ]
    },
    {
     "name": "stdout",
     "output_type": "stream",
     "text": [
      "Epochs: 4 | Train Loss: 280.3967 | Train Accuracy: 0.6204 | Train F1: 0.5963\n",
      "           | Val Loss:   29.4893 | Val Accuracy:   0.6120 | Val F1:   0.5405\n"
     ]
    },
    {
     "name": "stderr",
     "output_type": "stream",
     "text": [
      "100%|█████████████████████████████████████████| 141/141 [01:26<00:00,  1.63it/s]\n"
     ]
    },
    {
     "name": "stdout",
     "output_type": "stream",
     "text": [
      "Epochs: 5 | Train Loss: 224.3960 | Train Accuracy: 0.7236 | Train F1: 0.7125\n",
      "           | Val Loss:   25.1749 | Val Accuracy:   0.6240 | Val F1:   0.5628\n"
     ]
    },
    {
     "name": "stderr",
     "output_type": "stream",
     "text": [
      "100%|█████████████████████████████████████████| 141/141 [01:27<00:00,  1.61it/s]\n"
     ]
    },
    {
     "name": "stdout",
     "output_type": "stream",
     "text": [
      "Epochs: 6 | Train Loss: 180.1351 | Train Accuracy: 0.7822 | Train F1: 0.7726\n",
      "           | Val Loss:   21.7336 | Val Accuracy:   0.6760 | Val F1:   0.6276\n"
     ]
    },
    {
     "name": "stderr",
     "output_type": "stream",
     "text": [
      "100%|█████████████████████████████████████████| 141/141 [01:26<00:00,  1.63it/s]\n"
     ]
    },
    {
     "name": "stdout",
     "output_type": "stream",
     "text": [
      "Epochs: 7 | Train Loss: 144.4155 | Train Accuracy: 0.8436 | Train F1: 0.8374\n",
      "           | Val Loss:   19.7515 | Val Accuracy:   0.6920 | Val F1:   0.6550\n"
     ]
    },
    {
     "name": "stderr",
     "output_type": "stream",
     "text": [
      "100%|█████████████████████████████████████████| 141/141 [01:26<00:00,  1.63it/s]\n"
     ]
    },
    {
     "name": "stdout",
     "output_type": "stream",
     "text": [
      "Epochs: 8 | Train Loss: 118.1760 | Train Accuracy: 0.8996 | Train F1: 0.8963\n",
      "           | Val Loss:   17.2988 | Val Accuracy:   0.7320 | Val F1:   0.6938\n"
     ]
    },
    {
     "name": "stderr",
     "output_type": "stream",
     "text": [
      "100%|█████████████████████████████████████████| 141/141 [01:27<00:00,  1.61it/s]\n"
     ]
    },
    {
     "name": "stdout",
     "output_type": "stream",
     "text": [
      "Epochs: 9 | Train Loss: 97.1874 | Train Accuracy: 0.9307 | Train F1: 0.9291\n",
      "           | Val Loss:   16.0664 | Val Accuracy:   0.7320 | Val F1:   0.6946\n"
     ]
    },
    {
     "name": "stderr",
     "output_type": "stream",
     "text": [
      "100%|█████████████████████████████████████████| 141/141 [01:26<00:00,  1.63it/s]\n"
     ]
    },
    {
     "name": "stdout",
     "output_type": "stream",
     "text": [
      "Epochs: 10 | Train Loss: 81.6710 | Train Accuracy: 0.9533 | Train F1: 0.9521\n",
      "           | Val Loss:   15.1580 | Val Accuracy:   0.7560 | Val F1:   0.7296\n"
     ]
    },
    {
     "name": "stderr",
     "output_type": "stream",
     "text": [
      "100%|█████████████████████████████████████████| 141/141 [01:29<00:00,  1.57it/s]\n"
     ]
    },
    {
     "name": "stdout",
     "output_type": "stream",
     "text": [
      "Epochs: 11 | Train Loss: 70.6490 | Train Accuracy: 0.9644 | Train F1: 0.9641\n",
      "           | Val Loss:   14.6623 | Val Accuracy:   0.7360 | Val F1:   0.6957\n"
     ]
    },
    {
     "name": "stderr",
     "output_type": "stream",
     "text": [
      "100%|█████████████████████████████████████████| 141/141 [01:27<00:00,  1.60it/s]\n"
     ]
    },
    {
     "name": "stdout",
     "output_type": "stream",
     "text": [
      "Epochs: 12 | Train Loss: 61.6188 | Train Accuracy: 0.9787 | Train F1: 0.9783\n",
      "           | Val Loss:   13.9272 | Val Accuracy:   0.7560 | Val F1:   0.7308\n"
     ]
    },
    {
     "name": "stderr",
     "output_type": "stream",
     "text": [
      "100%|█████████████████████████████████████████| 141/141 [01:28<00:00,  1.60it/s]\n"
     ]
    },
    {
     "name": "stdout",
     "output_type": "stream",
     "text": [
      "Epochs: 13 | Train Loss: 55.1617 | Train Accuracy: 0.9898 | Train F1: 0.9897\n",
      "           | Val Loss:   13.5057 | Val Accuracy:   0.7560 | Val F1:   0.7407\n"
     ]
    },
    {
     "name": "stderr",
     "output_type": "stream",
     "text": [
      "100%|█████████████████████████████████████████| 141/141 [01:26<00:00,  1.63it/s]\n"
     ]
    },
    {
     "name": "stdout",
     "output_type": "stream",
     "text": [
      "Epochs: 14 | Train Loss: 51.2025 | Train Accuracy: 0.9893 | Train F1: 0.9892\n",
      "           | Val Loss:   13.2934 | Val Accuracy:   0.7600 | Val F1:   0.7359\n"
     ]
    },
    {
     "name": "stderr",
     "output_type": "stream",
     "text": [
      "100%|█████████████████████████████████████████| 141/141 [01:27<00:00,  1.61it/s]\n"
     ]
    },
    {
     "name": "stdout",
     "output_type": "stream",
     "text": [
      "Epochs: 15 | Train Loss: 48.9218 | Train Accuracy: 0.9920 | Train F1: 0.9919\n",
      "           | Val Loss:   13.1335 | Val Accuracy:   0.7600 | Val F1:   0.7365\n",
      "Test Accuracy:  0.6020 | Test F1:  0.6020\n"
     ]
    },
    {
     "name": "stderr",
     "output_type": "stream",
     "text": [
      "Some weights of the model checkpoint at bert-base-uncased were not used when initializing BertForSequenceClassification: ['cls.predictions.transform.LayerNorm.weight', 'cls.seq_relationship.weight', 'cls.predictions.transform.dense.bias', 'cls.seq_relationship.bias', 'cls.predictions.transform.dense.weight', 'cls.predictions.transform.LayerNorm.bias', 'cls.predictions.bias', 'cls.predictions.decoder.weight']\n",
      "- This IS expected if you are initializing BertForSequenceClassification from the checkpoint of a model trained on another task or with another architecture (e.g. initializing a BertForSequenceClassification model from a BertForPreTraining model).\n",
      "- This IS NOT expected if you are initializing BertForSequenceClassification from the checkpoint of a model that you expect to be exactly identical (initializing a BertForSequenceClassification model from a BertForSequenceClassification model).\n",
      "Some weights of BertForSequenceClassification were not initialized from the model checkpoint at bert-base-uncased and are newly initialized: ['classifier.weight', 'classifier.bias']\n",
      "You should probably TRAIN this model on a down-stream task to be able to use it for predictions and inference.\n"
     ]
    },
    {
     "name": "stdout",
     "output_type": "stream",
     "text": [
      "idf removal threshold at 5.0\n",
      "0       The capital market, _ criticised for a lack of transparency, needs an independent regulator, but...\n",
      "1       beat the _ 3-0 in a _ _ game on , setting up a _ for group _ against and leaving the _ world _ _...\n",
      "2       The fall in the trade deficit to crowns in from in _ market sentiment, and the goods _ show indu...\n",
      "3       paper concern a.s. on said its net profit fell as a _ of its main paper mill, _ with a _ in the ...\n",
      "4       shares _ on following the coalition government's win in elections, but analysts said the rise wa...\n",
      "                                                       ...                                                 \n",
      "2245    \"\" -- counter-culture _ of the 's -- is being used in a _ for a bank and some _ are up in arms. ...\n",
      "2246    , the _ stock _ _ recently to _ drive to _ the market, has been _ from her fund as she is _ by r...\n",
      "2247    , 's biggest city and financial capital, is _ for a near _ when _ hit the _ against deep budget ...\n",
      "2248    Anti-government protests _ across 's biggest city on as _ in shut down the _ system, _ businesse...\n",
      "2249    , biggest power utility, said that it would take a huge () charge in to strengthen its financial...\n",
      "Name: masked_content, Length: 2250, dtype: object\n",
      "cuda version 1.13.0\n"
     ]
    },
    {
     "name": "stderr",
     "output_type": "stream",
     "text": [
      "100%|█████████████████████████████████████████| 141/141 [01:25<00:00,  1.64it/s]\n"
     ]
    },
    {
     "name": "stdout",
     "output_type": "stream",
     "text": [
      "Epochs: 1 | Train Loss: 550.7766 | Train Accuracy: 0.0320 | Train F1: 0.0183\n",
      "           | Val Loss:   61.3259 | Val Accuracy:   0.0400 | Val F1:   0.0115\n"
     ]
    },
    {
     "name": "stderr",
     "output_type": "stream",
     "text": [
      "100%|█████████████████████████████████████████| 141/141 [01:25<00:00,  1.65it/s]\n"
     ]
    },
    {
     "name": "stdout",
     "output_type": "stream",
     "text": [
      "Epochs: 2 | Train Loss: 491.5761 | Train Accuracy: 0.1969 | Train F1: 0.1516\n",
      "           | Val Loss:   48.5824 | Val Accuracy:   0.3320 | Val F1:   0.2672\n"
     ]
    },
    {
     "name": "stderr",
     "output_type": "stream",
     "text": [
      "100%|█████████████████████████████████████████| 141/141 [01:27<00:00,  1.62it/s]\n"
     ]
    },
    {
     "name": "stdout",
     "output_type": "stream",
     "text": [
      "Epochs: 3 | Train Loss: 383.6277 | Train Accuracy: 0.4356 | Train F1: 0.3934\n",
      "           | Val Loss:   38.3968 | Val Accuracy:   0.5120 | Val F1:   0.4369\n"
     ]
    },
    {
     "name": "stderr",
     "output_type": "stream",
     "text": [
      "100%|█████████████████████████████████████████| 141/141 [01:27<00:00,  1.62it/s]\n"
     ]
    },
    {
     "name": "stdout",
     "output_type": "stream",
     "text": [
      "Epochs: 4 | Train Loss: 301.8775 | Train Accuracy: 0.5827 | Train F1: 0.5527\n",
      "           | Val Loss:   31.2303 | Val Accuracy:   0.6080 | Val F1:   0.5513\n"
     ]
    },
    {
     "name": "stderr",
     "output_type": "stream",
     "text": [
      "100%|█████████████████████████████████████████| 141/141 [01:27<00:00,  1.61it/s]\n"
     ]
    },
    {
     "name": "stdout",
     "output_type": "stream",
     "text": [
      "Epochs: 5 | Train Loss: 237.2310 | Train Accuracy: 0.6947 | Train F1: 0.6770\n",
      "           | Val Loss:   26.2269 | Val Accuracy:   0.6280 | Val F1:   0.5682\n"
     ]
    },
    {
     "name": "stderr",
     "output_type": "stream",
     "text": [
      "100%|█████████████████████████████████████████| 141/141 [01:25<00:00,  1.64it/s]\n"
     ]
    },
    {
     "name": "stdout",
     "output_type": "stream",
     "text": [
      "Epochs: 6 | Train Loss: 188.2190 | Train Accuracy: 0.7773 | Train F1: 0.7693\n",
      "           | Val Loss:   22.9438 | Val Accuracy:   0.6760 | Val F1:   0.6281\n"
     ]
    },
    {
     "name": "stderr",
     "output_type": "stream",
     "text": [
      "100%|█████████████████████████████████████████| 141/141 [01:25<00:00,  1.65it/s]\n"
     ]
    },
    {
     "name": "stdout",
     "output_type": "stream",
     "text": [
      "Epochs: 7 | Train Loss: 149.6868 | Train Accuracy: 0.8422 | Train F1: 0.8351\n",
      "           | Val Loss:   19.7616 | Val Accuracy:   0.7120 | Val F1:   0.6881\n"
     ]
    },
    {
     "name": "stderr",
     "output_type": "stream",
     "text": [
      "100%|█████████████████████████████████████████| 141/141 [01:26<00:00,  1.63it/s]\n"
     ]
    },
    {
     "name": "stdout",
     "output_type": "stream",
     "text": [
      "Epochs: 8 | Train Loss: 120.0112 | Train Accuracy: 0.9009 | Train F1: 0.8961\n",
      "           | Val Loss:   17.9785 | Val Accuracy:   0.7200 | Val F1:   0.6878\n"
     ]
    },
    {
     "name": "stderr",
     "output_type": "stream",
     "text": [
      "100%|█████████████████████████████████████████| 141/141 [01:27<00:00,  1.62it/s]\n"
     ]
    },
    {
     "name": "stdout",
     "output_type": "stream",
     "text": [
      "Epochs: 9 | Train Loss: 97.0877 | Train Accuracy: 0.9329 | Train F1: 0.9306\n",
      "           | Val Loss:   15.7845 | Val Accuracy:   0.7600 | Val F1:   0.7231\n"
     ]
    },
    {
     "name": "stderr",
     "output_type": "stream",
     "text": [
      "100%|█████████████████████████████████████████| 141/141 [01:27<00:00,  1.62it/s]\n"
     ]
    },
    {
     "name": "stdout",
     "output_type": "stream",
     "text": [
      "Epochs: 10 | Train Loss: 80.0206 | Train Accuracy: 0.9533 | Train F1: 0.9519\n",
      "           | Val Loss:   15.1702 | Val Accuracy:   0.7800 | Val F1:   0.7661\n"
     ]
    },
    {
     "name": "stderr",
     "output_type": "stream",
     "text": [
      "100%|█████████████████████████████████████████| 141/141 [01:26<00:00,  1.62it/s]\n"
     ]
    },
    {
     "name": "stdout",
     "output_type": "stream",
     "text": [
      "Epochs: 11 | Train Loss: 67.8785 | Train Accuracy: 0.9733 | Train F1: 0.9726\n",
      "           | Val Loss:   14.0598 | Val Accuracy:   0.7880 | Val F1:   0.7579\n"
     ]
    },
    {
     "name": "stderr",
     "output_type": "stream",
     "text": [
      "100%|█████████████████████████████████████████| 141/141 [01:26<00:00,  1.62it/s]\n"
     ]
    },
    {
     "name": "stdout",
     "output_type": "stream",
     "text": [
      "Epochs: 12 | Train Loss: 58.6677 | Train Accuracy: 0.9809 | Train F1: 0.9804\n",
      "           | Val Loss:   13.6865 | Val Accuracy:   0.8160 | Val F1:   0.7979\n"
     ]
    },
    {
     "name": "stderr",
     "output_type": "stream",
     "text": [
      "100%|█████████████████████████████████████████| 141/141 [01:27<00:00,  1.62it/s]\n"
     ]
    },
    {
     "name": "stdout",
     "output_type": "stream",
     "text": [
      "Epochs: 13 | Train Loss: 52.1952 | Train Accuracy: 0.9853 | Train F1: 0.9850\n",
      "           | Val Loss:   13.2268 | Val Accuracy:   0.8080 | Val F1:   0.7949\n"
     ]
    },
    {
     "name": "stderr",
     "output_type": "stream",
     "text": [
      "100%|█████████████████████████████████████████| 141/141 [01:26<00:00,  1.62it/s]\n"
     ]
    },
    {
     "name": "stdout",
     "output_type": "stream",
     "text": [
      "Epochs: 14 | Train Loss: 48.4050 | Train Accuracy: 0.9867 | Train F1: 0.9863\n",
      "           | Val Loss:   13.2762 | Val Accuracy:   0.7920 | Val F1:   0.7761\n"
     ]
    },
    {
     "name": "stderr",
     "output_type": "stream",
     "text": [
      "100%|█████████████████████████████████████████| 141/141 [01:27<00:00,  1.60it/s]\n"
     ]
    },
    {
     "name": "stdout",
     "output_type": "stream",
     "text": [
      "Epochs: 15 | Train Loss: 45.7474 | Train Accuracy: 0.9911 | Train F1: 0.9909\n",
      "           | Val Loss:   13.1331 | Val Accuracy:   0.8000 | Val F1:   0.7904\n",
      "Test Accuracy:  0.5864 | Test F1:  0.5816\n"
     ]
    },
    {
     "name": "stderr",
     "output_type": "stream",
     "text": [
      "Some weights of the model checkpoint at bert-base-uncased were not used when initializing BertForSequenceClassification: ['cls.predictions.transform.LayerNorm.weight', 'cls.seq_relationship.weight', 'cls.predictions.transform.dense.bias', 'cls.seq_relationship.bias', 'cls.predictions.transform.dense.weight', 'cls.predictions.transform.LayerNorm.bias', 'cls.predictions.bias', 'cls.predictions.decoder.weight']\n",
      "- This IS expected if you are initializing BertForSequenceClassification from the checkpoint of a model trained on another task or with another architecture (e.g. initializing a BertForSequenceClassification model from a BertForPreTraining model).\n",
      "- This IS NOT expected if you are initializing BertForSequenceClassification from the checkpoint of a model that you expect to be exactly identical (initializing a BertForSequenceClassification model from a BertForSequenceClassification model).\n",
      "Some weights of BertForSequenceClassification were not initialized from the model checkpoint at bert-base-uncased and are newly initialized: ['classifier.weight', 'classifier.bias']\n",
      "You should probably TRAIN this model on a down-stream task to be able to use it for predictions and inference.\n"
     ]
    },
    {
     "name": "stdout",
     "output_type": "stream",
     "text": [
      "idf removal threshold at 4.5\n",
      "0       The capital market, _ _ for a lack of transparency, needs an independent regulator, but it is no...\n",
      "1       _ the _ 3-0 in a _ _ _ on , setting up a _ for group _ against and leaving the _ world _ _ for a...\n",
      "2       The fall in the trade _ to _ in from in _ market sentiment, and the goods _ show industrial rest...\n",
      "3       _ concern a.s. on said its net profit fell as a _ of its main _ mill, _ with a _ in the _ _ bit ...\n",
      "4       shares _ on following the _ government's win in elections, but analysts said the rise was due mo...\n",
      "                                                       ...                                                 \n",
      "2245    \"\" -- counter-culture _ of the 's -- is being used in a _ for a bank and some _ are up in arms. ...\n",
      "2246    , the _ stock _ _ recently to _ drive to _ the market, has been _ from her fund as she is _ by r...\n",
      "2247    , 's biggest city and financial capital, is _ for a near _ when _ hit the _ against _ budget cut...\n",
      "2248    Anti-government _ _ across 's biggest city on as _ in _ down the _ system, _ businesses and trie...\n",
      "2249    , biggest power utility, said that it would take a huge () charge in to _ its financial structur...\n",
      "Name: masked_content, Length: 2250, dtype: object\n",
      "cuda version 1.13.0\n"
     ]
    },
    {
     "name": "stderr",
     "output_type": "stream",
     "text": [
      "100%|█████████████████████████████████████████| 141/141 [01:26<00:00,  1.63it/s]\n"
     ]
    },
    {
     "name": "stdout",
     "output_type": "stream",
     "text": [
      "Epochs: 1 | Train Loss: 547.8288 | Train Accuracy: 0.0356 | Train F1: 0.0194\n",
      "           | Val Loss:   59.4684 | Val Accuracy:   0.1080 | Val F1:   0.0517\n"
     ]
    },
    {
     "name": "stderr",
     "output_type": "stream",
     "text": [
      "100%|█████████████████████████████████████████| 141/141 [01:24<00:00,  1.67it/s]\n"
     ]
    },
    {
     "name": "stdout",
     "output_type": "stream",
     "text": [
      "Epochs: 2 | Train Loss: 468.8100 | Train Accuracy: 0.2111 | Train F1: 0.1741\n",
      "           | Val Loss:   47.1702 | Val Accuracy:   0.3560 | Val F1:   0.2870\n"
     ]
    },
    {
     "name": "stderr",
     "output_type": "stream",
     "text": [
      "100%|█████████████████████████████████████████| 141/141 [01:27<00:00,  1.60it/s]\n"
     ]
    },
    {
     "name": "stdout",
     "output_type": "stream",
     "text": [
      "Epochs: 3 | Train Loss: 376.6755 | Train Accuracy: 0.4178 | Train F1: 0.3756\n",
      "           | Val Loss:   38.5178 | Val Accuracy:   0.4880 | Val F1:   0.4254\n"
     ]
    },
    {
     "name": "stderr",
     "output_type": "stream",
     "text": [
      "100%|█████████████████████████████████████████| 141/141 [01:26<00:00,  1.62it/s]\n"
     ]
    },
    {
     "name": "stdout",
     "output_type": "stream",
     "text": [
      "Epochs: 4 | Train Loss: 301.3985 | Train Accuracy: 0.5662 | Train F1: 0.5401\n",
      "           | Val Loss:   32.1363 | Val Accuracy:   0.5760 | Val F1:   0.5161\n"
     ]
    },
    {
     "name": "stderr",
     "output_type": "stream",
     "text": [
      "100%|█████████████████████████████████████████| 141/141 [01:26<00:00,  1.63it/s]\n"
     ]
    },
    {
     "name": "stdout",
     "output_type": "stream",
     "text": [
      "Epochs: 5 | Train Loss: 241.7832 | Train Accuracy: 0.6729 | Train F1: 0.6585\n",
      "           | Val Loss:   27.2420 | Val Accuracy:   0.6200 | Val F1:   0.5590\n"
     ]
    },
    {
     "name": "stderr",
     "output_type": "stream",
     "text": [
      "100%|█████████████████████████████████████████| 141/141 [01:28<00:00,  1.59it/s]\n"
     ]
    },
    {
     "name": "stdout",
     "output_type": "stream",
     "text": [
      "Epochs: 6 | Train Loss: 194.0568 | Train Accuracy: 0.7671 | Train F1: 0.7583\n",
      "           | Val Loss:   24.0822 | Val Accuracy:   0.6880 | Val F1:   0.6454\n"
     ]
    },
    {
     "name": "stderr",
     "output_type": "stream",
     "text": [
      "100%|█████████████████████████████████████████| 141/141 [01:29<00:00,  1.58it/s]\n"
     ]
    },
    {
     "name": "stdout",
     "output_type": "stream",
     "text": [
      "Epochs: 7 | Train Loss: 157.5379 | Train Accuracy: 0.8427 | Train F1: 0.8373\n",
      "           | Val Loss:   21.1774 | Val Accuracy:   0.7040 | Val F1:   0.6667\n"
     ]
    },
    {
     "name": "stderr",
     "output_type": "stream",
     "text": [
      "100%|█████████████████████████████████████████| 141/141 [01:26<00:00,  1.63it/s]\n"
     ]
    },
    {
     "name": "stdout",
     "output_type": "stream",
     "text": [
      "Epochs: 8 | Train Loss: 128.8493 | Train Accuracy: 0.8880 | Train F1: 0.8838\n",
      "           | Val Loss:   19.3029 | Val Accuracy:   0.7400 | Val F1:   0.7072\n"
     ]
    },
    {
     "name": "stderr",
     "output_type": "stream",
     "text": [
      "100%|█████████████████████████████████████████| 141/141 [01:28<00:00,  1.60it/s]\n"
     ]
    },
    {
     "name": "stdout",
     "output_type": "stream",
     "text": [
      "Epochs: 9 | Train Loss: 105.5590 | Train Accuracy: 0.9218 | Train F1: 0.9189\n",
      "           | Val Loss:   17.9119 | Val Accuracy:   0.7440 | Val F1:   0.7283\n"
     ]
    },
    {
     "name": "stderr",
     "output_type": "stream",
     "text": [
      "100%|█████████████████████████████████████████| 141/141 [01:28<00:00,  1.60it/s]\n"
     ]
    },
    {
     "name": "stdout",
     "output_type": "stream",
     "text": [
      "Epochs: 10 | Train Loss: 87.5294 | Train Accuracy: 0.9520 | Train F1: 0.9508\n",
      "           | Val Loss:   16.7353 | Val Accuracy:   0.7640 | Val F1:   0.7398\n"
     ]
    },
    {
     "name": "stderr",
     "output_type": "stream",
     "text": [
      "100%|█████████████████████████████████████████| 141/141 [01:29<00:00,  1.58it/s]\n"
     ]
    },
    {
     "name": "stdout",
     "output_type": "stream",
     "text": [
      "Epochs: 11 | Train Loss: 74.4285 | Train Accuracy: 0.9649 | Train F1: 0.9630\n",
      "           | Val Loss:   15.7356 | Val Accuracy:   0.7720 | Val F1:   0.7550\n"
     ]
    },
    {
     "name": "stderr",
     "output_type": "stream",
     "text": [
      "100%|█████████████████████████████████████████| 141/141 [01:27<00:00,  1.61it/s]\n"
     ]
    },
    {
     "name": "stdout",
     "output_type": "stream",
     "text": [
      "Epochs: 12 | Train Loss: 64.8127 | Train Accuracy: 0.9751 | Train F1: 0.9733\n",
      "           | Val Loss:   15.2340 | Val Accuracy:   0.7720 | Val F1:   0.7484\n"
     ]
    },
    {
     "name": "stderr",
     "output_type": "stream",
     "text": [
      "100%|█████████████████████████████████████████| 141/141 [01:28<00:00,  1.59it/s]\n"
     ]
    },
    {
     "name": "stdout",
     "output_type": "stream",
     "text": [
      "Epochs: 13 | Train Loss: 58.2425 | Train Accuracy: 0.9831 | Train F1: 0.9818\n",
      "           | Val Loss:   14.6709 | Val Accuracy:   0.7680 | Val F1:   0.7476\n"
     ]
    },
    {
     "name": "stderr",
     "output_type": "stream",
     "text": [
      "100%|█████████████████████████████████████████| 141/141 [01:26<00:00,  1.63it/s]\n"
     ]
    },
    {
     "name": "stdout",
     "output_type": "stream",
     "text": [
      "Epochs: 14 | Train Loss: 54.0913 | Train Accuracy: 0.9867 | Train F1: 0.9863\n",
      "           | Val Loss:   14.4824 | Val Accuracy:   0.7880 | Val F1:   0.7667\n"
     ]
    },
    {
     "name": "stderr",
     "output_type": "stream",
     "text": [
      "100%|█████████████████████████████████████████| 141/141 [01:27<00:00,  1.62it/s]\n"
     ]
    },
    {
     "name": "stdout",
     "output_type": "stream",
     "text": [
      "Epochs: 15 | Train Loss: 51.4708 | Train Accuracy: 0.9889 | Train F1: 0.9882\n",
      "           | Val Loss:   14.5266 | Val Accuracy:   0.7800 | Val F1:   0.7614\n",
      "Test Accuracy:  0.5684 | Test F1:  0.5635\n"
     ]
    },
    {
     "name": "stderr",
     "output_type": "stream",
     "text": [
      "Some weights of the model checkpoint at bert-base-uncased were not used when initializing BertForSequenceClassification: ['cls.predictions.transform.LayerNorm.weight', 'cls.seq_relationship.weight', 'cls.predictions.transform.dense.bias', 'cls.seq_relationship.bias', 'cls.predictions.transform.dense.weight', 'cls.predictions.transform.LayerNorm.bias', 'cls.predictions.bias', 'cls.predictions.decoder.weight']\n",
      "- This IS expected if you are initializing BertForSequenceClassification from the checkpoint of a model trained on another task or with another architecture (e.g. initializing a BertForSequenceClassification model from a BertForPreTraining model).\n",
      "- This IS NOT expected if you are initializing BertForSequenceClassification from the checkpoint of a model that you expect to be exactly identical (initializing a BertForSequenceClassification model from a BertForSequenceClassification model).\n",
      "Some weights of BertForSequenceClassification were not initialized from the model checkpoint at bert-base-uncased and are newly initialized: ['classifier.weight', 'classifier.bias']\n",
      "You should probably TRAIN this model on a down-stream task to be able to use it for predictions and inference.\n"
     ]
    },
    {
     "name": "stdout",
     "output_type": "stream",
     "text": [
      "idf removal threshold at 4.0\n",
      "0       The capital market, _ _ for a _ of transparency, needs an independent regulator, but it is not a...\n",
      "1       _ the _ 3-0 in a _ _ _ on , _ up a _ for group _ against and _ the _ world _ _ for answers. The ...\n",
      "2       The fall in the trade _ to _ in from in _ market sentiment, and the _ _ show _ restructuring is ...\n",
      "3       _ concern a.s. on said its net profit fell as a _ of its main _ mill, _ with a _ in the _ _ bit ...\n",
      "4       shares _ on following the _ government's win in elections, but analysts said the rise was due mo...\n",
      "                                                       ...                                                 \n",
      "2245    \"\" -- counter-culture _ of the 's -- is being used in a _ for a bank and some _ are up in arms. ...\n",
      "2246    , the _ stock _ _ recently to _ _ to _ the market, has been _ from _ fund as she is _ by regulat...\n",
      "2247    , 's biggest city and financial capital, is _ for a near _ when _ hit the _ against _ _ _ by 's ...\n",
      "2248    Anti-government _ _ across 's biggest city on as _ in _ down the _ system, _ businesses and _ to...\n",
      "2249    , biggest power utility, said that it would take a huge () charge in to _ its financial structur...\n",
      "Name: masked_content, Length: 2250, dtype: object\n",
      "cuda version 1.13.0\n"
     ]
    },
    {
     "name": "stderr",
     "output_type": "stream",
     "text": [
      "100%|█████████████████████████████████████████| 141/141 [01:24<00:00,  1.67it/s]\n"
     ]
    },
    {
     "name": "stdout",
     "output_type": "stream",
     "text": [
      "Epochs: 1 | Train Loss: 551.5193 | Train Accuracy: 0.0298 | Train F1: 0.0132\n",
      "           | Val Loss:   61.3760 | Val Accuracy:   0.0440 | Val F1:   0.0139\n"
     ]
    },
    {
     "name": "stderr",
     "output_type": "stream",
     "text": [
      "100%|█████████████████████████████████████████| 141/141 [01:27<00:00,  1.62it/s]\n"
     ]
    },
    {
     "name": "stdout",
     "output_type": "stream",
     "text": [
      "Epochs: 2 | Train Loss: 489.8229 | Train Accuracy: 0.1693 | Train F1: 0.1375\n",
      "           | Val Loss:   49.1745 | Val Accuracy:   0.3040 | Val F1:   0.2248\n"
     ]
    },
    {
     "name": "stderr",
     "output_type": "stream",
     "text": [
      "100%|█████████████████████████████████████████| 141/141 [01:25<00:00,  1.65it/s]\n"
     ]
    },
    {
     "name": "stdout",
     "output_type": "stream",
     "text": [
      "Epochs: 3 | Train Loss: 389.6359 | Train Accuracy: 0.4102 | Train F1: 0.3690\n",
      "           | Val Loss:   39.4996 | Val Accuracy:   0.4840 | Val F1:   0.4318\n"
     ]
    },
    {
     "name": "stderr",
     "output_type": "stream",
     "text": [
      "100%|█████████████████████████████████████████| 141/141 [01:26<00:00,  1.63it/s]\n"
     ]
    },
    {
     "name": "stdout",
     "output_type": "stream",
     "text": [
      "Epochs: 4 | Train Loss: 311.7821 | Train Accuracy: 0.5596 | Train F1: 0.5356\n",
      "           | Val Loss:   32.7198 | Val Accuracy:   0.5600 | Val F1:   0.5261\n"
     ]
    },
    {
     "name": "stderr",
     "output_type": "stream",
     "text": [
      "100%|█████████████████████████████████████████| 141/141 [01:26<00:00,  1.62it/s]\n"
     ]
    },
    {
     "name": "stdout",
     "output_type": "stream",
     "text": [
      "Epochs: 5 | Train Loss: 247.1725 | Train Accuracy: 0.6787 | Train F1: 0.6592\n",
      "           | Val Loss:   28.4111 | Val Accuracy:   0.6120 | Val F1:   0.5593\n"
     ]
    },
    {
     "name": "stderr",
     "output_type": "stream",
     "text": [
      "100%|█████████████████████████████████████████| 141/141 [01:26<00:00,  1.64it/s]\n"
     ]
    },
    {
     "name": "stdout",
     "output_type": "stream",
     "text": [
      "Epochs: 6 | Train Loss: 197.6550 | Train Accuracy: 0.7671 | Train F1: 0.7551\n",
      "           | Val Loss:   25.8538 | Val Accuracy:   0.6400 | Val F1:   0.6105\n"
     ]
    },
    {
     "name": "stderr",
     "output_type": "stream",
     "text": [
      "100%|█████████████████████████████████████████| 141/141 [01:27<00:00,  1.61it/s]\n"
     ]
    },
    {
     "name": "stdout",
     "output_type": "stream",
     "text": [
      "Epochs: 7 | Train Loss: 158.9596 | Train Accuracy: 0.8338 | Train F1: 0.8288\n",
      "           | Val Loss:   21.8438 | Val Accuracy:   0.6640 | Val F1:   0.6374\n"
     ]
    },
    {
     "name": "stderr",
     "output_type": "stream",
     "text": [
      "100%|█████████████████████████████████████████| 141/141 [01:26<00:00,  1.62it/s]\n"
     ]
    },
    {
     "name": "stdout",
     "output_type": "stream",
     "text": [
      "Epochs: 8 | Train Loss: 126.4021 | Train Accuracy: 0.9004 | Train F1: 0.8988\n",
      "           | Val Loss:   20.0939 | Val Accuracy:   0.7000 | Val F1:   0.6734\n"
     ]
    },
    {
     "name": "stderr",
     "output_type": "stream",
     "text": [
      "100%|█████████████████████████████████████████| 141/141 [01:27<00:00,  1.61it/s]\n"
     ]
    },
    {
     "name": "stdout",
     "output_type": "stream",
     "text": [
      "Epochs: 9 | Train Loss: 103.6440 | Train Accuracy: 0.9329 | Train F1: 0.9329\n",
      "           | Val Loss:   18.7424 | Val Accuracy:   0.7160 | Val F1:   0.7063\n"
     ]
    },
    {
     "name": "stderr",
     "output_type": "stream",
     "text": [
      "100%|█████████████████████████████████████████| 141/141 [01:27<00:00,  1.61it/s]\n"
     ]
    },
    {
     "name": "stdout",
     "output_type": "stream",
     "text": [
      "Epochs: 10 | Train Loss: 86.3517 | Train Accuracy: 0.9627 | Train F1: 0.9627\n",
      "           | Val Loss:   17.1529 | Val Accuracy:   0.7320 | Val F1:   0.7113\n"
     ]
    },
    {
     "name": "stderr",
     "output_type": "stream",
     "text": [
      "100%|█████████████████████████████████████████| 141/141 [01:27<00:00,  1.61it/s]\n"
     ]
    },
    {
     "name": "stdout",
     "output_type": "stream",
     "text": [
      "Epochs: 11 | Train Loss: 73.1675 | Train Accuracy: 0.9742 | Train F1: 0.9741\n",
      "           | Val Loss:   16.3157 | Val Accuracy:   0.7560 | Val F1:   0.7391\n"
     ]
    },
    {
     "name": "stderr",
     "output_type": "stream",
     "text": [
      "100%|█████████████████████████████████████████| 141/141 [01:27<00:00,  1.62it/s]\n"
     ]
    },
    {
     "name": "stdout",
     "output_type": "stream",
     "text": [
      "Epochs: 12 | Train Loss: 63.5640 | Train Accuracy: 0.9844 | Train F1: 0.9846\n",
      "           | Val Loss:   16.2153 | Val Accuracy:   0.7200 | Val F1:   0.7101\n"
     ]
    },
    {
     "name": "stderr",
     "output_type": "stream",
     "text": [
      "100%|█████████████████████████████████████████| 141/141 [01:27<00:00,  1.62it/s]\n"
     ]
    },
    {
     "name": "stdout",
     "output_type": "stream",
     "text": [
      "Epochs: 13 | Train Loss: 56.6161 | Train Accuracy: 0.9880 | Train F1: 0.9880\n",
      "           | Val Loss:   15.6043 | Val Accuracy:   0.7560 | Val F1:   0.7402\n"
     ]
    },
    {
     "name": "stderr",
     "output_type": "stream",
     "text": [
      "100%|█████████████████████████████████████████| 141/141 [01:26<00:00,  1.63it/s]\n"
     ]
    },
    {
     "name": "stdout",
     "output_type": "stream",
     "text": [
      "Epochs: 14 | Train Loss: 52.8627 | Train Accuracy: 0.9929 | Train F1: 0.9930\n",
      "           | Val Loss:   15.4458 | Val Accuracy:   0.7640 | Val F1:   0.7531\n"
     ]
    },
    {
     "name": "stderr",
     "output_type": "stream",
     "text": [
      "100%|█████████████████████████████████████████| 141/141 [01:27<00:00,  1.62it/s]\n"
     ]
    },
    {
     "name": "stdout",
     "output_type": "stream",
     "text": [
      "Epochs: 15 | Train Loss: 50.1660 | Train Accuracy: 0.9929 | Train F1: 0.9930\n",
      "           | Val Loss:   15.2222 | Val Accuracy:   0.7520 | Val F1:   0.7385\n",
      "Test Accuracy:  0.5544 | Test F1:  0.5495\n"
     ]
    },
    {
     "name": "stderr",
     "output_type": "stream",
     "text": [
      "Some weights of the model checkpoint at bert-base-uncased were not used when initializing BertForSequenceClassification: ['cls.predictions.transform.LayerNorm.weight', 'cls.seq_relationship.weight', 'cls.predictions.transform.dense.bias', 'cls.seq_relationship.bias', 'cls.predictions.transform.dense.weight', 'cls.predictions.transform.LayerNorm.bias', 'cls.predictions.bias', 'cls.predictions.decoder.weight']\n",
      "- This IS expected if you are initializing BertForSequenceClassification from the checkpoint of a model trained on another task or with another architecture (e.g. initializing a BertForSequenceClassification model from a BertForPreTraining model).\n",
      "- This IS NOT expected if you are initializing BertForSequenceClassification from the checkpoint of a model that you expect to be exactly identical (initializing a BertForSequenceClassification model from a BertForSequenceClassification model).\n",
      "Some weights of BertForSequenceClassification were not initialized from the model checkpoint at bert-base-uncased and are newly initialized: ['classifier.weight', 'classifier.bias']\n",
      "You should probably TRAIN this model on a down-stream task to be able to use it for predictions and inference.\n"
     ]
    },
    {
     "name": "stdout",
     "output_type": "stream",
     "text": [
      "idf removal threshold at 3.5\n",
      "0       The capital market, _ _ for a _ of transparency, _ an _ regulator, but it is not a _ for all of ...\n",
      "1       _ the _ 3-0 in a _ _ _ on , _ up a _ for group _ against and _ the _ world _ _ for answers. The ...\n",
      "2       The _ in the trade _ to _ in from in _ market sentiment, and the _ _ show _ _ is on track, analy...\n",
      "3       _ _ a.s. on said its net profit fell as a _ of its main _ mill, _ with a _ in the _ _ _ into its...\n",
      "4       shares _ on _ the _ government's _ in elections, but analysts said the rise was due more to a _ ...\n",
      "                                                       ...                                                 \n",
      "2245    \"\" -- counter-culture _ of the 's -- is being used in a _ for a bank and some _ are up in arms. ...\n",
      "2246    , the _ stock _ _ recently to _ _ to _ the market, has been _ from _ _ as she is _ by regulators...\n",
      "2247    , 's biggest _ and financial capital, is _ for a _ _ when _ hit the _ against _ _ _ by 's _ gove...\n",
      "2248    Anti-government _ _ _ 's biggest _ on as _ in _ down the _ system, _ businesses and _ to _ into ...\n",
      "2249    , biggest power utility, said that it would take a huge () _ in to _ its financial structure. Th...\n",
      "Name: masked_content, Length: 2250, dtype: object\n",
      "cuda version 1.13.0\n"
     ]
    },
    {
     "name": "stderr",
     "output_type": "stream",
     "text": [
      "100%|█████████████████████████████████████████| 141/141 [01:22<00:00,  1.70it/s]\n"
     ]
    },
    {
     "name": "stdout",
     "output_type": "stream",
     "text": [
      "Epochs: 1 | Train Loss: 552.8613 | Train Accuracy: 0.0284 | Train F1: 0.0207\n",
      "           | Val Loss:   61.8464 | Val Accuracy:   0.0280 | Val F1:   0.0045\n"
     ]
    },
    {
     "name": "stderr",
     "output_type": "stream",
     "text": [
      "100%|█████████████████████████████████████████| 141/141 [01:25<00:00,  1.65it/s]\n"
     ]
    },
    {
     "name": "stdout",
     "output_type": "stream",
     "text": [
      "Epochs: 2 | Train Loss: 498.1234 | Train Accuracy: 0.1653 | Train F1: 0.1298\n",
      "           | Val Loss:   50.1995 | Val Accuracy:   0.2720 | Val F1:   0.2279\n"
     ]
    },
    {
     "name": "stderr",
     "output_type": "stream",
     "text": [
      "100%|█████████████████████████████████████████| 141/141 [01:27<00:00,  1.62it/s]\n"
     ]
    },
    {
     "name": "stdout",
     "output_type": "stream",
     "text": [
      "Epochs: 3 | Train Loss: 393.8210 | Train Accuracy: 0.3898 | Train F1: 0.3426\n",
      "           | Val Loss:   41.1593 | Val Accuracy:   0.3880 | Val F1:   0.3299\n"
     ]
    },
    {
     "name": "stderr",
     "output_type": "stream",
     "text": [
      "100%|█████████████████████████████████████████| 141/141 [01:26<00:00,  1.62it/s]\n"
     ]
    },
    {
     "name": "stdout",
     "output_type": "stream",
     "text": [
      "Epochs: 4 | Train Loss: 312.0034 | Train Accuracy: 0.5444 | Train F1: 0.5114\n",
      "           | Val Loss:   34.0840 | Val Accuracy:   0.5000 | Val F1:   0.4445\n"
     ]
    },
    {
     "name": "stderr",
     "output_type": "stream",
     "text": [
      "100%|█████████████████████████████████████████| 141/141 [01:27<00:00,  1.62it/s]\n"
     ]
    },
    {
     "name": "stdout",
     "output_type": "stream",
     "text": [
      "Epochs: 5 | Train Loss: 250.0152 | Train Accuracy: 0.6716 | Train F1: 0.6546\n",
      "           | Val Loss:   29.2978 | Val Accuracy:   0.6000 | Val F1:   0.5571\n"
     ]
    },
    {
     "name": "stderr",
     "output_type": "stream",
     "text": [
      "100%|█████████████████████████████████████████| 141/141 [01:27<00:00,  1.61it/s]\n"
     ]
    },
    {
     "name": "stdout",
     "output_type": "stream",
     "text": [
      "Epochs: 6 | Train Loss: 201.4806 | Train Accuracy: 0.7653 | Train F1: 0.7580\n",
      "           | Val Loss:   25.9606 | Val Accuracy:   0.6280 | Val F1:   0.5894\n"
     ]
    },
    {
     "name": "stderr",
     "output_type": "stream",
     "text": [
      "100%|█████████████████████████████████████████| 141/141 [01:28<00:00,  1.60it/s]\n"
     ]
    },
    {
     "name": "stdout",
     "output_type": "stream",
     "text": [
      "Epochs: 7 | Train Loss: 160.1251 | Train Accuracy: 0.8498 | Train F1: 0.8464\n",
      "           | Val Loss:   23.5986 | Val Accuracy:   0.6760 | Val F1:   0.6471\n"
     ]
    },
    {
     "name": "stderr",
     "output_type": "stream",
     "text": [
      "100%|█████████████████████████████████████████| 141/141 [01:27<00:00,  1.61it/s]\n"
     ]
    },
    {
     "name": "stdout",
     "output_type": "stream",
     "text": [
      "Epochs: 8 | Train Loss: 131.6670 | Train Accuracy: 0.8836 | Train F1: 0.8813\n",
      "           | Val Loss:   21.6865 | Val Accuracy:   0.6760 | Val F1:   0.6559\n"
     ]
    },
    {
     "name": "stderr",
     "output_type": "stream",
     "text": [
      "100%|█████████████████████████████████████████| 141/141 [01:26<00:00,  1.63it/s]\n"
     ]
    },
    {
     "name": "stdout",
     "output_type": "stream",
     "text": [
      "Epochs: 9 | Train Loss: 106.5076 | Train Accuracy: 0.9258 | Train F1: 0.9249\n",
      "           | Val Loss:   20.1706 | Val Accuracy:   0.6880 | Val F1:   0.6705\n"
     ]
    },
    {
     "name": "stderr",
     "output_type": "stream",
     "text": [
      "100%|█████████████████████████████████████████| 141/141 [01:26<00:00,  1.62it/s]\n"
     ]
    },
    {
     "name": "stdout",
     "output_type": "stream",
     "text": [
      "Epochs: 10 | Train Loss: 88.6508 | Train Accuracy: 0.9498 | Train F1: 0.9493\n",
      "           | Val Loss:   19.8015 | Val Accuracy:   0.7000 | Val F1:   0.6935\n"
     ]
    },
    {
     "name": "stderr",
     "output_type": "stream",
     "text": [
      "100%|█████████████████████████████████████████| 141/141 [01:28<00:00,  1.60it/s]\n"
     ]
    },
    {
     "name": "stdout",
     "output_type": "stream",
     "text": [
      "Epochs: 11 | Train Loss: 75.6089 | Train Accuracy: 0.9622 | Train F1: 0.9613\n",
      "           | Val Loss:   18.3309 | Val Accuracy:   0.7040 | Val F1:   0.6880\n"
     ]
    },
    {
     "name": "stderr",
     "output_type": "stream",
     "text": [
      "100%|█████████████████████████████████████████| 141/141 [01:26<00:00,  1.62it/s]\n"
     ]
    },
    {
     "name": "stdout",
     "output_type": "stream",
     "text": [
      "Epochs: 12 | Train Loss: 66.5425 | Train Accuracy: 0.9698 | Train F1: 0.9691\n",
      "           | Val Loss:   17.7959 | Val Accuracy:   0.7320 | Val F1:   0.7225\n"
     ]
    },
    {
     "name": "stderr",
     "output_type": "stream",
     "text": [
      "100%|█████████████████████████████████████████| 141/141 [01:27<00:00,  1.61it/s]\n"
     ]
    },
    {
     "name": "stdout",
     "output_type": "stream",
     "text": [
      "Epochs: 13 | Train Loss: 59.7308 | Train Accuracy: 0.9800 | Train F1: 0.9798\n",
      "           | Val Loss:   17.7316 | Val Accuracy:   0.7160 | Val F1:   0.6978\n"
     ]
    },
    {
     "name": "stderr",
     "output_type": "stream",
     "text": [
      "100%|█████████████████████████████████████████| 141/141 [01:26<00:00,  1.62it/s]\n"
     ]
    },
    {
     "name": "stdout",
     "output_type": "stream",
     "text": [
      "Epochs: 14 | Train Loss: 54.6335 | Train Accuracy: 0.9898 | Train F1: 0.9897\n",
      "           | Val Loss:   17.4800 | Val Accuracy:   0.7200 | Val F1:   0.7032\n"
     ]
    },
    {
     "name": "stderr",
     "output_type": "stream",
     "text": [
      "100%|█████████████████████████████████████████| 141/141 [01:25<00:00,  1.65it/s]\n"
     ]
    },
    {
     "name": "stdout",
     "output_type": "stream",
     "text": [
      "Epochs: 15 | Train Loss: 52.4767 | Train Accuracy: 0.9880 | Train F1: 0.9879\n",
      "           | Val Loss:   17.3101 | Val Accuracy:   0.7280 | Val F1:   0.7096\n",
      "Test Accuracy:  0.5360 | Test F1:  0.5328\n"
     ]
    },
    {
     "name": "stderr",
     "output_type": "stream",
     "text": [
      "Some weights of the model checkpoint at bert-base-uncased were not used when initializing BertForSequenceClassification: ['cls.predictions.transform.LayerNorm.weight', 'cls.seq_relationship.weight', 'cls.predictions.transform.dense.bias', 'cls.seq_relationship.bias', 'cls.predictions.transform.dense.weight', 'cls.predictions.transform.LayerNorm.bias', 'cls.predictions.bias', 'cls.predictions.decoder.weight']\n",
      "- This IS expected if you are initializing BertForSequenceClassification from the checkpoint of a model trained on another task or with another architecture (e.g. initializing a BertForSequenceClassification model from a BertForPreTraining model).\n",
      "- This IS NOT expected if you are initializing BertForSequenceClassification from the checkpoint of a model that you expect to be exactly identical (initializing a BertForSequenceClassification model from a BertForSequenceClassification model).\n",
      "Some weights of BertForSequenceClassification were not initialized from the model checkpoint at bert-base-uncased and are newly initialized: ['classifier.weight', 'classifier.bias']\n",
      "You should probably TRAIN this model on a down-stream task to be able to use it for predictions and inference.\n"
     ]
    },
    {
     "name": "stdout",
     "output_type": "stream",
     "text": [
      "idf removal threshold at 3.0\n",
      "0       The _ market, _ _ for a _ of transparency, _ an _ regulator, but it is not a _ for all of the ma...\n",
      "1       _ the _ 3-0 in a _ _ _ on , _ up a _ for group _ against and _ the _ world _ _ for answers. The ...\n",
      "2       The _ in the _ _ to _ in from in _ market sentiment, and the _ _ _ _ _ is on track, analysts sai...\n",
      "3       _ _ a.s. on said its _ profit _ as a _ of its _ _ mill, _ with a _ in the _ _ _ into its _ line....\n",
      "4       shares _ on _ the _ government's _ in elections, but analysts said the rise was due more to a _ ...\n",
      "                                                       ...                                                 \n",
      "2245    \"\" -- counter-culture _ of the 's -- is being used in a _ for a bank and some _ are up in arms. ...\n",
      "2246    , the _ stock _ _ _ to _ _ to _ the market, has been _ from _ _ as _ is _ by regulators. The _ m...\n",
      "2247    , 's biggest _ and financial capital, is _ for a _ _ when _ _ the _ against _ _ _ by 's _ govern...\n",
      "2248    Anti-government _ _ _ 's biggest _ on as _ in _ down the _ system, _ _ and _ to _ into . \"We've ...\n",
      "2249    , biggest _ utility, said that it would take a _ () _ in to _ its financial structure. The debt-...\n",
      "Name: masked_content, Length: 2250, dtype: object\n",
      "cuda version 1.13.0\n"
     ]
    },
    {
     "name": "stderr",
     "output_type": "stream",
     "text": [
      "100%|█████████████████████████████████████████| 141/141 [01:26<00:00,  1.63it/s]\n"
     ]
    },
    {
     "name": "stdout",
     "output_type": "stream",
     "text": [
      "Epochs: 1 | Train Loss: 553.0537 | Train Accuracy: 0.0276 | Train F1: 0.0137\n",
      "           | Val Loss:   62.7742 | Val Accuracy:   0.0200 | Val F1:   0.0017\n"
     ]
    },
    {
     "name": "stderr",
     "output_type": "stream",
     "text": [
      "100%|█████████████████████████████████████████| 141/141 [01:25<00:00,  1.65it/s]\n"
     ]
    },
    {
     "name": "stdout",
     "output_type": "stream",
     "text": [
      "Epochs: 2 | Train Loss: 518.7290 | Train Accuracy: 0.0938 | Train F1: 0.0630\n",
      "           | Val Loss:   52.6656 | Val Accuracy:   0.2720 | Val F1:   0.2082\n"
     ]
    },
    {
     "name": "stderr",
     "output_type": "stream",
     "text": [
      "100%|█████████████████████████████████████████| 141/141 [01:26<00:00,  1.63it/s]\n"
     ]
    },
    {
     "name": "stdout",
     "output_type": "stream",
     "text": [
      "Epochs: 3 | Train Loss: 422.9285 | Train Accuracy: 0.3164 | Train F1: 0.2774\n",
      "           | Val Loss:   43.9672 | Val Accuracy:   0.3600 | Val F1:   0.2913\n"
     ]
    },
    {
     "name": "stderr",
     "output_type": "stream",
     "text": [
      "100%|█████████████████████████████████████████| 141/141 [01:27<00:00,  1.61it/s]\n"
     ]
    },
    {
     "name": "stdout",
     "output_type": "stream",
     "text": [
      "Epochs: 4 | Train Loss: 338.8816 | Train Accuracy: 0.4964 | Train F1: 0.4574\n",
      "           | Val Loss:   37.1672 | Val Accuracy:   0.4360 | Val F1:   0.3753\n"
     ]
    },
    {
     "name": "stderr",
     "output_type": "stream",
     "text": [
      "100%|█████████████████████████████████████████| 141/141 [01:25<00:00,  1.65it/s]\n"
     ]
    },
    {
     "name": "stdout",
     "output_type": "stream",
     "text": [
      "Epochs: 5 | Train Loss: 272.2118 | Train Accuracy: 0.6182 | Train F1: 0.5943\n",
      "           | Val Loss:   32.3687 | Val Accuracy:   0.5040 | Val F1:   0.4523\n"
     ]
    },
    {
     "name": "stderr",
     "output_type": "stream",
     "text": [
      "100%|█████████████████████████████████████████| 141/141 [01:26<00:00,  1.63it/s]\n"
     ]
    },
    {
     "name": "stdout",
     "output_type": "stream",
     "text": [
      "Epochs: 6 | Train Loss: 220.0234 | Train Accuracy: 0.7276 | Train F1: 0.7136\n",
      "           | Val Loss:   28.5648 | Val Accuracy:   0.5760 | Val F1:   0.5441\n"
     ]
    },
    {
     "name": "stderr",
     "output_type": "stream",
     "text": [
      "100%|█████████████████████████████████████████| 141/141 [01:27<00:00,  1.61it/s]\n"
     ]
    },
    {
     "name": "stdout",
     "output_type": "stream",
     "text": [
      "Epochs: 7 | Train Loss: 178.9745 | Train Accuracy: 0.8067 | Train F1: 0.7986\n",
      "           | Val Loss:   25.8990 | Val Accuracy:   0.6120 | Val F1:   0.5756\n"
     ]
    },
    {
     "name": "stderr",
     "output_type": "stream",
     "text": [
      "100%|█████████████████████████████████████████| 141/141 [01:26<00:00,  1.62it/s]\n"
     ]
    },
    {
     "name": "stdout",
     "output_type": "stream",
     "text": [
      "Epochs: 8 | Train Loss: 146.2738 | Train Accuracy: 0.8604 | Train F1: 0.8548\n",
      "           | Val Loss:   23.1552 | Val Accuracy:   0.6600 | Val F1:   0.6623\n"
     ]
    },
    {
     "name": "stderr",
     "output_type": "stream",
     "text": [
      "100%|█████████████████████████████████████████| 141/141 [01:26<00:00,  1.64it/s]\n"
     ]
    },
    {
     "name": "stdout",
     "output_type": "stream",
     "text": [
      "Epochs: 9 | Train Loss: 118.9081 | Train Accuracy: 0.9107 | Train F1: 0.9071\n",
      "           | Val Loss:   21.6975 | Val Accuracy:   0.6800 | Val F1:   0.6521\n"
     ]
    },
    {
     "name": "stderr",
     "output_type": "stream",
     "text": [
      "100%|█████████████████████████████████████████| 141/141 [01:27<00:00,  1.62it/s]\n"
     ]
    },
    {
     "name": "stdout",
     "output_type": "stream",
     "text": [
      "Epochs: 10 | Train Loss: 99.4621 | Train Accuracy: 0.9444 | Train F1: 0.9439\n",
      "           | Val Loss:   20.5191 | Val Accuracy:   0.7040 | Val F1:   0.6818\n"
     ]
    },
    {
     "name": "stderr",
     "output_type": "stream",
     "text": [
      "100%|█████████████████████████████████████████| 141/141 [01:26<00:00,  1.62it/s]\n"
     ]
    },
    {
     "name": "stdout",
     "output_type": "stream",
     "text": [
      "Epochs: 11 | Train Loss: 85.0400 | Train Accuracy: 0.9591 | Train F1: 0.9581\n",
      "           | Val Loss:   19.5501 | Val Accuracy:   0.7200 | Val F1:   0.6981\n"
     ]
    },
    {
     "name": "stderr",
     "output_type": "stream",
     "text": [
      "100%|█████████████████████████████████████████| 141/141 [01:26<00:00,  1.63it/s]\n"
     ]
    },
    {
     "name": "stdout",
     "output_type": "stream",
     "text": [
      "Epochs: 12 | Train Loss: 73.3597 | Train Accuracy: 0.9724 | Train F1: 0.9721\n",
      "           | Val Loss:   19.0741 | Val Accuracy:   0.7160 | Val F1:   0.6973\n"
     ]
    },
    {
     "name": "stderr",
     "output_type": "stream",
     "text": [
      "100%|█████████████████████████████████████████| 141/141 [01:26<00:00,  1.62it/s]\n"
     ]
    },
    {
     "name": "stdout",
     "output_type": "stream",
     "text": [
      "Epochs: 13 | Train Loss: 66.9646 | Train Accuracy: 0.9791 | Train F1: 0.9788\n",
      "           | Val Loss:   18.7739 | Val Accuracy:   0.7320 | Val F1:   0.7126\n"
     ]
    },
    {
     "name": "stderr",
     "output_type": "stream",
     "text": [
      "100%|█████████████████████████████████████████| 141/141 [01:27<00:00,  1.61it/s]\n"
     ]
    },
    {
     "name": "stdout",
     "output_type": "stream",
     "text": [
      "Epochs: 14 | Train Loss: 61.3157 | Train Accuracy: 0.9862 | Train F1: 0.9862\n",
      "           | Val Loss:   18.5065 | Val Accuracy:   0.7280 | Val F1:   0.7188\n"
     ]
    },
    {
     "name": "stderr",
     "output_type": "stream",
     "text": [
      "100%|█████████████████████████████████████████| 141/141 [01:27<00:00,  1.61it/s]\n"
     ]
    },
    {
     "name": "stdout",
     "output_type": "stream",
     "text": [
      "Epochs: 15 | Train Loss: 58.8804 | Train Accuracy: 0.9858 | Train F1: 0.9855\n",
      "           | Val Loss:   18.4804 | Val Accuracy:   0.7360 | Val F1:   0.7297\n",
      "Test Accuracy:  0.5328 | Test F1:  0.5286\n"
     ]
    },
    {
     "name": "stderr",
     "output_type": "stream",
     "text": [
      "Some weights of the model checkpoint at bert-base-uncased were not used when initializing BertForSequenceClassification: ['cls.predictions.transform.LayerNorm.weight', 'cls.seq_relationship.weight', 'cls.predictions.transform.dense.bias', 'cls.seq_relationship.bias', 'cls.predictions.transform.dense.weight', 'cls.predictions.transform.LayerNorm.bias', 'cls.predictions.bias', 'cls.predictions.decoder.weight']\n",
      "- This IS expected if you are initializing BertForSequenceClassification from the checkpoint of a model trained on another task or with another architecture (e.g. initializing a BertForSequenceClassification model from a BertForPreTraining model).\n",
      "- This IS NOT expected if you are initializing BertForSequenceClassification from the checkpoint of a model that you expect to be exactly identical (initializing a BertForSequenceClassification model from a BertForSequenceClassification model).\n",
      "Some weights of BertForSequenceClassification were not initialized from the model checkpoint at bert-base-uncased and are newly initialized: ['classifier.weight', 'classifier.bias']\n",
      "You should probably TRAIN this model on a down-stream task to be able to use it for predictions and inference.\n"
     ]
    },
    {
     "name": "stdout",
     "output_type": "stream",
     "text": [
      "idf removal threshold at 2.5\n",
      "0       The _ market, _ _ for a _ of transparency, _ an _ regulator, but it is not a _ for all of the ma...\n",
      "1       _ the _ 3-0 in a _ _ _ on , _ up a _ for group _ _ and _ the _ world _ _ for answers. The fast-s...\n",
      "2       The _ in the _ _ to _ in from in _ market sentiment, and the _ _ _ _ _ is on track, analysts sai...\n",
      "3       _ _ a.s. on said its _ _ _ as a _ of its _ _ mill, _ with a _ in the _ _ _ into its _ line. said...\n",
      "4       shares _ on _ the _ government's _ in elections, but analysts said the _ was _ more to a _ _ tha...\n",
      "                                                       ...                                                 \n",
      "2245    \"\" -- counter-culture _ of the 's -- is _ _ in a _ for a _ and some _ are up in arms. is _ a _ _...\n",
      "2246    , the _ stock _ _ _ to _ _ to _ the market, has been _ from _ _ as _ is _ by regulators. The _ _...\n",
      "2247    , 's _ _ and _ capital, is _ for a _ _ when _ _ the _ _ _ _ _ by 's _ government. The so-called ...\n",
      "2248    Anti-government _ _ _ 's _ _ on as _ in _ down the _ system, _ _ and _ to _ into . \"We've _ to t...\n",
      "2249    , _ _ utility, said that it would take a _ () _ in to _ its _ structure. The debt-laden, _ gover...\n",
      "Name: masked_content, Length: 2250, dtype: object\n",
      "cuda version 1.13.0\n"
     ]
    },
    {
     "name": "stderr",
     "output_type": "stream",
     "text": [
      "100%|█████████████████████████████████████████| 141/141 [01:24<00:00,  1.66it/s]\n"
     ]
    },
    {
     "name": "stdout",
     "output_type": "stream",
     "text": [
      "Epochs: 1 | Train Loss: 552.5349 | Train Accuracy: 0.0333 | Train F1: 0.0162\n",
      "           | Val Loss:   61.0401 | Val Accuracy:   0.0520 | Val F1:   0.0158\n"
     ]
    },
    {
     "name": "stderr",
     "output_type": "stream",
     "text": [
      "100%|█████████████████████████████████████████| 141/141 [01:26<00:00,  1.62it/s]\n"
     ]
    },
    {
     "name": "stdout",
     "output_type": "stream",
     "text": [
      "Epochs: 2 | Train Loss: 493.2901 | Train Accuracy: 0.1782 | Train F1: 0.1372\n",
      "           | Val Loss:   50.3002 | Val Accuracy:   0.2640 | Val F1:   0.2031\n"
     ]
    },
    {
     "name": "stderr",
     "output_type": "stream",
     "text": [
      "100%|█████████████████████████████████████████| 141/141 [01:27<00:00,  1.61it/s]\n"
     ]
    },
    {
     "name": "stdout",
     "output_type": "stream",
     "text": [
      "Epochs: 3 | Train Loss: 397.8694 | Train Accuracy: 0.3711 | Train F1: 0.3040\n",
      "           | Val Loss:   42.0384 | Val Accuracy:   0.3960 | Val F1:   0.3324\n"
     ]
    },
    {
     "name": "stderr",
     "output_type": "stream",
     "text": [
      "100%|█████████████████████████████████████████| 141/141 [01:27<00:00,  1.62it/s]\n"
     ]
    },
    {
     "name": "stdout",
     "output_type": "stream",
     "text": [
      "Epochs: 4 | Train Loss: 325.7269 | Train Accuracy: 0.4951 | Train F1: 0.4460\n",
      "           | Val Loss:   37.0926 | Val Accuracy:   0.4600 | Val F1:   0.3829\n"
     ]
    },
    {
     "name": "stderr",
     "output_type": "stream",
     "text": [
      "100%|█████████████████████████████████████████| 141/141 [01:27<00:00,  1.62it/s]\n"
     ]
    },
    {
     "name": "stdout",
     "output_type": "stream",
     "text": [
      "Epochs: 5 | Train Loss: 266.6901 | Train Accuracy: 0.6222 | Train F1: 0.5894\n",
      "           | Val Loss:   31.7486 | Val Accuracy:   0.5280 | Val F1:   0.4909\n"
     ]
    },
    {
     "name": "stderr",
     "output_type": "stream",
     "text": [
      "100%|█████████████████████████████████████████| 141/141 [01:27<00:00,  1.61it/s]\n"
     ]
    },
    {
     "name": "stdout",
     "output_type": "stream",
     "text": [
      "Epochs: 6 | Train Loss: 217.7919 | Train Accuracy: 0.7396 | Train F1: 0.7291\n",
      "           | Val Loss:   28.7533 | Val Accuracy:   0.5240 | Val F1:   0.4844\n"
     ]
    },
    {
     "name": "stderr",
     "output_type": "stream",
     "text": [
      "100%|█████████████████████████████████████████| 141/141 [01:27<00:00,  1.61it/s]\n"
     ]
    },
    {
     "name": "stdout",
     "output_type": "stream",
     "text": [
      "Epochs: 7 | Train Loss: 178.1440 | Train Accuracy: 0.8018 | Train F1: 0.7935\n",
      "           | Val Loss:   25.9977 | Val Accuracy:   0.5880 | Val F1:   0.5581\n"
     ]
    },
    {
     "name": "stderr",
     "output_type": "stream",
     "text": [
      "100%|█████████████████████████████████████████| 141/141 [01:25<00:00,  1.64it/s]\n"
     ]
    },
    {
     "name": "stdout",
     "output_type": "stream",
     "text": [
      "Epochs: 8 | Train Loss: 144.1378 | Train Accuracy: 0.8787 | Train F1: 0.8771\n",
      "           | Val Loss:   23.9603 | Val Accuracy:   0.6440 | Val F1:   0.6392\n"
     ]
    },
    {
     "name": "stderr",
     "output_type": "stream",
     "text": [
      "100%|█████████████████████████████████████████| 141/141 [01:28<00:00,  1.60it/s]\n"
     ]
    },
    {
     "name": "stdout",
     "output_type": "stream",
     "text": [
      "Epochs: 9 | Train Loss: 118.7984 | Train Accuracy: 0.9129 | Train F1: 0.9113\n",
      "           | Val Loss:   22.1325 | Val Accuracy:   0.6840 | Val F1:   0.6460\n"
     ]
    },
    {
     "name": "stderr",
     "output_type": "stream",
     "text": [
      "100%|█████████████████████████████████████████| 141/141 [01:28<00:00,  1.59it/s]\n"
     ]
    },
    {
     "name": "stdout",
     "output_type": "stream",
     "text": [
      "Epochs: 10 | Train Loss: 98.7959 | Train Accuracy: 0.9480 | Train F1: 0.9477\n",
      "           | Val Loss:   21.4711 | Val Accuracy:   0.6560 | Val F1:   0.6438\n"
     ]
    },
    {
     "name": "stderr",
     "output_type": "stream",
     "text": [
      "100%|█████████████████████████████████████████| 141/141 [01:26<00:00,  1.63it/s]\n"
     ]
    },
    {
     "name": "stdout",
     "output_type": "stream",
     "text": [
      "Epochs: 11 | Train Loss: 84.5318 | Train Accuracy: 0.9613 | Train F1: 0.9610\n",
      "           | Val Loss:   20.5657 | Val Accuracy:   0.6880 | Val F1:   0.6649\n"
     ]
    },
    {
     "name": "stderr",
     "output_type": "stream",
     "text": [
      "100%|█████████████████████████████████████████| 141/141 [01:26<00:00,  1.62it/s]\n"
     ]
    },
    {
     "name": "stdout",
     "output_type": "stream",
     "text": [
      "Epochs: 12 | Train Loss: 74.4660 | Train Accuracy: 0.9747 | Train F1: 0.9746\n",
      "           | Val Loss:   19.9539 | Val Accuracy:   0.6960 | Val F1:   0.6769\n"
     ]
    },
    {
     "name": "stderr",
     "output_type": "stream",
     "text": [
      "100%|█████████████████████████████████████████| 141/141 [01:26<00:00,  1.63it/s]\n"
     ]
    },
    {
     "name": "stdout",
     "output_type": "stream",
     "text": [
      "Epochs: 13 | Train Loss: 66.9575 | Train Accuracy: 0.9791 | Train F1: 0.9791\n",
      "           | Val Loss:   19.7189 | Val Accuracy:   0.6840 | Val F1:   0.6669\n"
     ]
    },
    {
     "name": "stderr",
     "output_type": "stream",
     "text": [
      "100%|█████████████████████████████████████████| 141/141 [01:28<00:00,  1.59it/s]\n"
     ]
    },
    {
     "name": "stdout",
     "output_type": "stream",
     "text": [
      "Epochs: 14 | Train Loss: 61.6201 | Train Accuracy: 0.9827 | Train F1: 0.9828\n",
      "           | Val Loss:   19.6343 | Val Accuracy:   0.6880 | Val F1:   0.6731\n"
     ]
    },
    {
     "name": "stderr",
     "output_type": "stream",
     "text": [
      "100%|█████████████████████████████████████████| 141/141 [01:26<00:00,  1.63it/s]\n"
     ]
    },
    {
     "name": "stdout",
     "output_type": "stream",
     "text": [
      "Epochs: 15 | Train Loss: 58.7805 | Train Accuracy: 0.9876 | Train F1: 0.9877\n",
      "           | Val Loss:   19.4601 | Val Accuracy:   0.6920 | Val F1:   0.6767\n",
      "Test Accuracy:  0.5100 | Test F1:  0.5051\n"
     ]
    },
    {
     "name": "stderr",
     "output_type": "stream",
     "text": [
      "Some weights of the model checkpoint at bert-base-uncased were not used when initializing BertForSequenceClassification: ['cls.predictions.transform.LayerNorm.weight', 'cls.seq_relationship.weight', 'cls.predictions.transform.dense.bias', 'cls.seq_relationship.bias', 'cls.predictions.transform.dense.weight', 'cls.predictions.transform.LayerNorm.bias', 'cls.predictions.bias', 'cls.predictions.decoder.weight']\n",
      "- This IS expected if you are initializing BertForSequenceClassification from the checkpoint of a model trained on another task or with another architecture (e.g. initializing a BertForSequenceClassification model from a BertForPreTraining model).\n",
      "- This IS NOT expected if you are initializing BertForSequenceClassification from the checkpoint of a model that you expect to be exactly identical (initializing a BertForSequenceClassification model from a BertForSequenceClassification model).\n",
      "Some weights of BertForSequenceClassification were not initialized from the model checkpoint at bert-base-uncased and are newly initialized: ['classifier.weight', 'classifier.bias']\n",
      "You should probably TRAIN this model on a down-stream task to be able to use it for predictions and inference.\n"
     ]
    },
    {
     "name": "stdout",
     "output_type": "stream",
     "text": [
      "idf removal threshold at 2.0\n",
      "0       The _ market, _ _ for a _ of transparency, _ an _ regulator, but it is not a _ for all of the ma...\n",
      "1       _ the _ 3-0 in a _ _ _ on , _ up a _ for _ _ _ and _ the _ _ _ _ for answers. The fast-skating _...\n",
      "2       The _ in the _ _ to _ in from in _ market sentiment, and the _ _ _ _ _ is on track, analysts sai...\n",
      "3       _ _ a.s. on said its _ _ _ as a _ of its _ _ mill, _ with a _ in the _ _ _ into its _ line. said...\n",
      "4       _ _ on _ the _ government's _ in elections, but analysts said the _ was _ more to a _ _ than to ...\n",
      "                                                       ...                                                 \n",
      "2245    \"\" -- counter-culture _ of the 's -- is _ _ in a _ for a _ and some _ are up in arms. is _ a _ _...\n",
      "2246    , the _ _ _ _ _ to _ _ to _ the market, has been _ from _ _ as _ is _ by regulators. The _ _ -- ...\n",
      "2247    , 's _ _ and _ capital, is _ for a _ _ when _ _ the _ _ _ _ _ by 's _ government. The so-called ...\n",
      "2248    Anti-government _ _ _ 's _ _ on as _ in _ _ the _ system, _ _ and _ to _ into . \"We've _ to the ...\n",
      "2249    , _ _ utility, said that it would _ a _ () _ in to _ its _ structure. The debt-laden, _ governme...\n",
      "Name: masked_content, Length: 2250, dtype: object\n",
      "cuda version 1.13.0\n"
     ]
    },
    {
     "name": "stderr",
     "output_type": "stream",
     "text": [
      "100%|█████████████████████████████████████████| 141/141 [01:26<00:00,  1.63it/s]\n"
     ]
    },
    {
     "name": "stdout",
     "output_type": "stream",
     "text": [
      "Epochs: 1 | Train Loss: 551.9670 | Train Accuracy: 0.0289 | Train F1: 0.0133\n",
      "           | Val Loss:   62.1177 | Val Accuracy:   0.0440 | Val F1:   0.0095\n"
     ]
    },
    {
     "name": "stderr",
     "output_type": "stream",
     "text": [
      "100%|█████████████████████████████████████████| 141/141 [01:25<00:00,  1.65it/s]\n"
     ]
    },
    {
     "name": "stdout",
     "output_type": "stream",
     "text": [
      "Epochs: 2 | Train Loss: 531.4052 | Train Accuracy: 0.0769 | Train F1: 0.0509\n",
      "           | Val Loss:   56.2084 | Val Accuracy:   0.1960 | Val F1:   0.1092\n"
     ]
    },
    {
     "name": "stderr",
     "output_type": "stream",
     "text": [
      "100%|█████████████████████████████████████████| 141/141 [01:27<00:00,  1.61it/s]\n"
     ]
    },
    {
     "name": "stdout",
     "output_type": "stream",
     "text": [
      "Epochs: 3 | Train Loss: 450.6425 | Train Accuracy: 0.2573 | Train F1: 0.2140\n",
      "           | Val Loss:   46.2836 | Val Accuracy:   0.3120 | Val F1:   0.2560\n"
     ]
    },
    {
     "name": "stderr",
     "output_type": "stream",
     "text": [
      "100%|█████████████████████████████████████████| 141/141 [01:27<00:00,  1.61it/s]\n"
     ]
    },
    {
     "name": "stdout",
     "output_type": "stream",
     "text": [
      "Epochs: 4 | Train Loss: 369.9585 | Train Accuracy: 0.4022 | Train F1: 0.3501\n",
      "           | Val Loss:   39.6706 | Val Accuracy:   0.4160 | Val F1:   0.3502\n"
     ]
    },
    {
     "name": "stderr",
     "output_type": "stream",
     "text": [
      "100%|█████████████████████████████████████████| 141/141 [01:26<00:00,  1.63it/s]\n"
     ]
    },
    {
     "name": "stdout",
     "output_type": "stream",
     "text": [
      "Epochs: 5 | Train Loss: 304.1834 | Train Accuracy: 0.5209 | Train F1: 0.4848\n",
      "           | Val Loss:   34.8263 | Val Accuracy:   0.4560 | Val F1:   0.4118\n"
     ]
    },
    {
     "name": "stderr",
     "output_type": "stream",
     "text": [
      "100%|█████████████████████████████████████████| 141/141 [01:26<00:00,  1.62it/s]\n"
     ]
    },
    {
     "name": "stdout",
     "output_type": "stream",
     "text": [
      "Epochs: 6 | Train Loss: 251.5308 | Train Accuracy: 0.6360 | Train F1: 0.6147\n",
      "           | Val Loss:   30.9540 | Val Accuracy:   0.4920 | Val F1:   0.4425\n"
     ]
    },
    {
     "name": "stderr",
     "output_type": "stream",
     "text": [
      "100%|█████████████████████████████████████████| 141/141 [01:27<00:00,  1.61it/s]\n"
     ]
    },
    {
     "name": "stdout",
     "output_type": "stream",
     "text": [
      "Epochs: 7 | Train Loss: 207.2312 | Train Accuracy: 0.7498 | Train F1: 0.7380\n",
      "           | Val Loss:   28.2238 | Val Accuracy:   0.5560 | Val F1:   0.5148\n"
     ]
    },
    {
     "name": "stderr",
     "output_type": "stream",
     "text": [
      "100%|█████████████████████████████████████████| 141/141 [01:28<00:00,  1.60it/s]\n"
     ]
    },
    {
     "name": "stdout",
     "output_type": "stream",
     "text": [
      "Epochs: 8 | Train Loss: 171.8763 | Train Accuracy: 0.8209 | Train F1: 0.8149\n",
      "           | Val Loss:   26.5921 | Val Accuracy:   0.5720 | Val F1:   0.5354\n"
     ]
    },
    {
     "name": "stderr",
     "output_type": "stream",
     "text": [
      "100%|█████████████████████████████████████████| 141/141 [01:27<00:00,  1.61it/s]\n"
     ]
    },
    {
     "name": "stdout",
     "output_type": "stream",
     "text": [
      "Epochs: 9 | Train Loss: 143.8023 | Train Accuracy: 0.8724 | Train F1: 0.8662\n",
      "           | Val Loss:   25.1096 | Val Accuracy:   0.6040 | Val F1:   0.5634\n"
     ]
    },
    {
     "name": "stderr",
     "output_type": "stream",
     "text": [
      "100%|█████████████████████████████████████████| 141/141 [01:26<00:00,  1.63it/s]\n"
     ]
    },
    {
     "name": "stdout",
     "output_type": "stream",
     "text": [
      "Epochs: 10 | Train Loss: 122.1309 | Train Accuracy: 0.9040 | Train F1: 0.9013\n",
      "           | Val Loss:   23.6817 | Val Accuracy:   0.6400 | Val F1:   0.5989\n"
     ]
    },
    {
     "name": "stderr",
     "output_type": "stream",
     "text": [
      "100%|█████████████████████████████████████████| 141/141 [01:27<00:00,  1.61it/s]\n"
     ]
    },
    {
     "name": "stdout",
     "output_type": "stream",
     "text": [
      "Epochs: 11 | Train Loss: 104.8496 | Train Accuracy: 0.9280 | Train F1: 0.9259\n",
      "           | Val Loss:   22.6105 | Val Accuracy:   0.6440 | Val F1:   0.5959\n"
     ]
    },
    {
     "name": "stderr",
     "output_type": "stream",
     "text": [
      "100%|█████████████████████████████████████████| 141/141 [01:27<00:00,  1.61it/s]\n"
     ]
    },
    {
     "name": "stdout",
     "output_type": "stream",
     "text": [
      "Epochs: 12 | Train Loss: 91.7896 | Train Accuracy: 0.9493 | Train F1: 0.9478\n",
      "           | Val Loss:   22.0769 | Val Accuracy:   0.6520 | Val F1:   0.6110\n"
     ]
    },
    {
     "name": "stderr",
     "output_type": "stream",
     "text": [
      "100%|█████████████████████████████████████████| 141/141 [01:27<00:00,  1.62it/s]\n"
     ]
    },
    {
     "name": "stdout",
     "output_type": "stream",
     "text": [
      "Epochs: 13 | Train Loss: 82.6556 | Train Accuracy: 0.9622 | Train F1: 0.9612\n",
      "           | Val Loss:   21.7916 | Val Accuracy:   0.6440 | Val F1:   0.6057\n"
     ]
    },
    {
     "name": "stderr",
     "output_type": "stream",
     "text": [
      "100%|█████████████████████████████████████████| 141/141 [01:28<00:00,  1.59it/s]\n"
     ]
    },
    {
     "name": "stdout",
     "output_type": "stream",
     "text": [
      "Epochs: 14 | Train Loss: 76.8944 | Train Accuracy: 0.9671 | Train F1: 0.9662\n",
      "           | Val Loss:   21.8100 | Val Accuracy:   0.6440 | Val F1:   0.6062\n"
     ]
    },
    {
     "name": "stderr",
     "output_type": "stream",
     "text": [
      "100%|█████████████████████████████████████████| 141/141 [01:27<00:00,  1.62it/s]\n"
     ]
    },
    {
     "name": "stdout",
     "output_type": "stream",
     "text": [
      "Epochs: 15 | Train Loss: 73.7173 | Train Accuracy: 0.9747 | Train F1: 0.9742\n",
      "           | Val Loss:   21.6463 | Val Accuracy:   0.6400 | Val F1:   0.6028\n",
      "Test Accuracy:  0.4832 | Test F1:  0.4778\n"
     ]
    },
    {
     "name": "stderr",
     "output_type": "stream",
     "text": [
      "Some weights of the model checkpoint at bert-base-uncased were not used when initializing BertForSequenceClassification: ['cls.predictions.transform.LayerNorm.weight', 'cls.seq_relationship.weight', 'cls.predictions.transform.dense.bias', 'cls.seq_relationship.bias', 'cls.predictions.transform.dense.weight', 'cls.predictions.transform.LayerNorm.bias', 'cls.predictions.bias', 'cls.predictions.decoder.weight']\n",
      "- This IS expected if you are initializing BertForSequenceClassification from the checkpoint of a model trained on another task or with another architecture (e.g. initializing a BertForSequenceClassification model from a BertForPreTraining model).\n",
      "- This IS NOT expected if you are initializing BertForSequenceClassification from the checkpoint of a model that you expect to be exactly identical (initializing a BertForSequenceClassification model from a BertForSequenceClassification model).\n",
      "Some weights of BertForSequenceClassification were not initialized from the model checkpoint at bert-base-uncased and are newly initialized: ['classifier.weight', 'classifier.bias']\n",
      "You should probably TRAIN this model on a down-stream task to be able to use it for predictions and inference.\n"
     ]
    },
    {
     "name": "stdout",
     "output_type": "stream",
     "text": [
      "idf removal threshold at 1.5\n",
      "0       The _ market, _ _ for a _ of transparency, _ an _ regulator, but it is not a _ for _ of the mark...\n",
      "1       _ the _ 3-0 in a _ _ _ on , _ up a _ for _ _ _ and _ the _ _ _ _ for answers. The fast-skating _...\n",
      "2       The _ in the _ _ to _ in from in _ _ sentiment, and the _ _ _ _ _ is on track, _ said on . () _ ...\n",
      "3       _ _ a.s. on said its _ _ _ as a _ of its _ _ mill, _ with a _ in the _ _ _ _ its _ line. said it...\n",
      "4       _ _ on _ the _ government's _ in elections, but _ said the _ was _ _ to a _ _ _ to a _ in _ sent...\n",
      "                                                       ...                                                 \n",
      "2245    \"\" -- counter-culture _ of the 's -- is _ _ in a _ for a _ and _ _ are up in arms. is _ a _ _ _ ...\n",
      "2246    , the _ _ _ _ _ to _ _ to _ the market, has _ _ from _ _ as _ is _ by regulators. The _ _ -- _ '...\n",
      "2247    , 's _ _ and _ capital, is _ for a _ _ _ _ _ the _ _ _ _ _ by 's _ government. The so-called \"\" ...\n",
      "2248    Anti-government _ _ _ 's _ _ on as _ in _ _ the _ system, _ _ and _ to _ _ . \"We've _ to the _ _...\n",
      "2249    , _ _ utility, said that it would _ a _ () _ in to _ its _ structure. The debt-laden, _ governme...\n",
      "Name: masked_content, Length: 2250, dtype: object\n",
      "cuda version 1.13.0\n"
     ]
    },
    {
     "name": "stderr",
     "output_type": "stream",
     "text": [
      "100%|█████████████████████████████████████████| 141/141 [01:25<00:00,  1.65it/s]\n"
     ]
    },
    {
     "name": "stdout",
     "output_type": "stream",
     "text": [
      "Epochs: 1 | Train Loss: 552.1703 | Train Accuracy: 0.0249 | Train F1: 0.0133\n",
      "           | Val Loss:   62.3298 | Val Accuracy:   0.0280 | Val F1:   0.0104\n"
     ]
    },
    {
     "name": "stderr",
     "output_type": "stream",
     "text": [
      "100%|█████████████████████████████████████████| 141/141 [01:26<00:00,  1.63it/s]\n"
     ]
    },
    {
     "name": "stdout",
     "output_type": "stream",
     "text": [
      "Epochs: 2 | Train Loss: 529.5559 | Train Accuracy: 0.0702 | Train F1: 0.0511\n",
      "           | Val Loss:   57.0716 | Val Accuracy:   0.1320 | Val F1:   0.0730\n"
     ]
    },
    {
     "name": "stderr",
     "output_type": "stream",
     "text": [
      "100%|█████████████████████████████████████████| 141/141 [01:27<00:00,  1.61it/s]\n"
     ]
    },
    {
     "name": "stdout",
     "output_type": "stream",
     "text": [
      "Epochs: 3 | Train Loss: 451.6420 | Train Accuracy: 0.2538 | Train F1: 0.2068\n",
      "           | Val Loss:   47.3256 | Val Accuracy:   0.2920 | Val F1:   0.2355\n"
     ]
    },
    {
     "name": "stderr",
     "output_type": "stream",
     "text": [
      "100%|█████████████████████████████████████████| 141/141 [01:28<00:00,  1.59it/s]\n"
     ]
    },
    {
     "name": "stdout",
     "output_type": "stream",
     "text": [
      "Epochs: 4 | Train Loss: 372.6802 | Train Accuracy: 0.4160 | Train F1: 0.3587\n",
      "           | Val Loss:   41.2559 | Val Accuracy:   0.4120 | Val F1:   0.3610\n"
     ]
    },
    {
     "name": "stderr",
     "output_type": "stream",
     "text": [
      "100%|█████████████████████████████████████████| 141/141 [01:27<00:00,  1.62it/s]\n"
     ]
    },
    {
     "name": "stdout",
     "output_type": "stream",
     "text": [
      "Epochs: 5 | Train Loss: 307.7450 | Train Accuracy: 0.5476 | Train F1: 0.5045\n",
      "           | Val Loss:   35.9772 | Val Accuracy:   0.4680 | Val F1:   0.4112\n"
     ]
    },
    {
     "name": "stderr",
     "output_type": "stream",
     "text": [
      "100%|█████████████████████████████████████████| 141/141 [01:27<00:00,  1.60it/s]\n"
     ]
    },
    {
     "name": "stdout",
     "output_type": "stream",
     "text": [
      "Epochs: 6 | Train Loss: 252.5391 | Train Accuracy: 0.6556 | Train F1: 0.6328\n",
      "           | Val Loss:   31.3227 | Val Accuracy:   0.5480 | Val F1:   0.4996\n"
     ]
    },
    {
     "name": "stderr",
     "output_type": "stream",
     "text": [
      "100%|█████████████████████████████████████████| 141/141 [01:26<00:00,  1.62it/s]\n"
     ]
    },
    {
     "name": "stdout",
     "output_type": "stream",
     "text": [
      "Epochs: 7 | Train Loss: 207.4441 | Train Accuracy: 0.7627 | Train F1: 0.7510\n",
      "           | Val Loss:   28.3566 | Val Accuracy:   0.5600 | Val F1:   0.5086\n"
     ]
    },
    {
     "name": "stderr",
     "output_type": "stream",
     "text": [
      "100%|█████████████████████████████████████████| 141/141 [01:26<00:00,  1.63it/s]\n"
     ]
    },
    {
     "name": "stdout",
     "output_type": "stream",
     "text": [
      "Epochs: 8 | Train Loss: 171.1749 | Train Accuracy: 0.8240 | Train F1: 0.8144\n",
      "           | Val Loss:   26.7205 | Val Accuracy:   0.6160 | Val F1:   0.5668\n"
     ]
    },
    {
     "name": "stderr",
     "output_type": "stream",
     "text": [
      "100%|█████████████████████████████████████████| 141/141 [01:26<00:00,  1.62it/s]\n"
     ]
    },
    {
     "name": "stdout",
     "output_type": "stream",
     "text": [
      "Epochs: 9 | Train Loss: 141.1489 | Train Accuracy: 0.8902 | Train F1: 0.8861\n",
      "           | Val Loss:   24.3947 | Val Accuracy:   0.6360 | Val F1:   0.6066\n"
     ]
    },
    {
     "name": "stderr",
     "output_type": "stream",
     "text": [
      "100%|█████████████████████████████████████████| 141/141 [01:27<00:00,  1.62it/s]\n"
     ]
    },
    {
     "name": "stdout",
     "output_type": "stream",
     "text": [
      "Epochs: 10 | Train Loss: 117.9541 | Train Accuracy: 0.9249 | Train F1: 0.9233\n",
      "           | Val Loss:   22.9139 | Val Accuracy:   0.6480 | Val F1:   0.6100\n"
     ]
    },
    {
     "name": "stderr",
     "output_type": "stream",
     "text": [
      "100%|█████████████████████████████████████████| 141/141 [01:26<00:00,  1.63it/s]\n"
     ]
    },
    {
     "name": "stdout",
     "output_type": "stream",
     "text": [
      "Epochs: 11 | Train Loss: 101.4925 | Train Accuracy: 0.9404 | Train F1: 0.9386\n",
      "           | Val Loss:   22.0814 | Val Accuracy:   0.6720 | Val F1:   0.6351\n"
     ]
    },
    {
     "name": "stderr",
     "output_type": "stream",
     "text": [
      "100%|█████████████████████████████████████████| 141/141 [01:26<00:00,  1.64it/s]\n"
     ]
    },
    {
     "name": "stdout",
     "output_type": "stream",
     "text": [
      "Epochs: 12 | Train Loss: 88.2166 | Train Accuracy: 0.9609 | Train F1: 0.9603\n",
      "           | Val Loss:   21.2171 | Val Accuracy:   0.6600 | Val F1:   0.6239\n"
     ]
    },
    {
     "name": "stderr",
     "output_type": "stream",
     "text": [
      "100%|█████████████████████████████████████████| 141/141 [01:27<00:00,  1.62it/s]\n"
     ]
    },
    {
     "name": "stdout",
     "output_type": "stream",
     "text": [
      "Epochs: 13 | Train Loss: 79.7207 | Train Accuracy: 0.9707 | Train F1: 0.9704\n",
      "           | Val Loss:   20.9621 | Val Accuracy:   0.6680 | Val F1:   0.6439\n"
     ]
    },
    {
     "name": "stderr",
     "output_type": "stream",
     "text": [
      "100%|█████████████████████████████████████████| 141/141 [01:25<00:00,  1.64it/s]\n"
     ]
    },
    {
     "name": "stdout",
     "output_type": "stream",
     "text": [
      "Epochs: 14 | Train Loss: 72.6325 | Train Accuracy: 0.9809 | Train F1: 0.9807\n",
      "           | Val Loss:   20.8237 | Val Accuracy:   0.6640 | Val F1:   0.6322\n"
     ]
    },
    {
     "name": "stderr",
     "output_type": "stream",
     "text": [
      "100%|█████████████████████████████████████████| 141/141 [01:26<00:00,  1.63it/s]\n"
     ]
    },
    {
     "name": "stdout",
     "output_type": "stream",
     "text": [
      "Epochs: 15 | Train Loss: 70.2369 | Train Accuracy: 0.9804 | Train F1: 0.9803\n",
      "           | Val Loss:   20.6775 | Val Accuracy:   0.6680 | Val F1:   0.6385\n",
      "Test Accuracy:  0.5080 | Test F1:  0.5028\n"
     ]
    },
    {
     "data": {
      "text/plain": [
       "([10.0,\n",
       "  9.5,\n",
       "  9.0,\n",
       "  8.5,\n",
       "  8.0,\n",
       "  7.5,\n",
       "  7.0,\n",
       "  6.5,\n",
       "  6.0,\n",
       "  5.5,\n",
       "  5.0,\n",
       "  4.5,\n",
       "  4.0,\n",
       "  3.5,\n",
       "  3.0,\n",
       "  2.5,\n",
       "  2.0,\n",
       "  1.5],\n",
       " [0.996,\n",
       "  0.9977777777777778,\n",
       "  0.9968888888888889,\n",
       "  0.996,\n",
       "  0.9884444444444445,\n",
       "  0.996,\n",
       "  0.9982222222222222,\n",
       "  0.9933333333333333,\n",
       "  0.9942222222222222,\n",
       "  0.992,\n",
       "  0.9911111111111112,\n",
       "  0.9888888888888889,\n",
       "  0.9928888888888889,\n",
       "  0.988,\n",
       "  0.9857777777777778,\n",
       "  0.9875555555555555,\n",
       "  0.9746666666666667,\n",
       "  0.9804444444444445],\n",
       " [0.9959642800473014,\n",
       "  0.9977092598261774,\n",
       "  0.9969006964151248,\n",
       "  0.995976240283706,\n",
       "  0.9877127538679704,\n",
       "  0.9958688123532511,\n",
       "  0.9981964351557647,\n",
       "  0.9932460689747131,\n",
       "  0.994009167454589,\n",
       "  0.9919352127819567,\n",
       "  0.9909322250261116,\n",
       "  0.9881834563664834,\n",
       "  0.9929590924891909,\n",
       "  0.987932655916726,\n",
       "  0.9854612925034312,\n",
       "  0.9876574827279331,\n",
       "  0.9742435640531251,\n",
       "  0.9802586740963428],\n",
       " [0.6092,\n",
       "  0.628,\n",
       "  0.6204,\n",
       "  0.6108,\n",
       "  0.6092,\n",
       "  0.6056,\n",
       "  0.6056,\n",
       "  0.5932,\n",
       "  0.61,\n",
       "  0.602,\n",
       "  0.5864,\n",
       "  0.5684,\n",
       "  0.5544,\n",
       "  0.536,\n",
       "  0.5328,\n",
       "  0.51,\n",
       "  0.4832,\n",
       "  0.508],\n",
       " [0.6054982963682167,\n",
       "  0.6259000528412406,\n",
       "  0.6162122945176894,\n",
       "  0.6038858019982455,\n",
       "  0.6034521117008241,\n",
       "  0.6006896678761184,\n",
       "  0.6017027966931312,\n",
       "  0.5883615739039163,\n",
       "  0.609047621893145,\n",
       "  0.6020200436983966,\n",
       "  0.5815550001683872,\n",
       "  0.5634607475913831,\n",
       "  0.5494883900758372,\n",
       "  0.5327589791031976,\n",
       "  0.5286205735541591,\n",
       "  0.5051472820160078,\n",
       "  0.47778471470350103,\n",
       "  0.5027646481300335])"
      ]
     },
     "execution_count": 15,
     "metadata": {},
     "output_type": "execute_result"
    }
   ],
   "source": [
    "pd.options.display.max_colwidth = 100            \n",
    "EPOCHS = 15\n",
    "LR = 2e-5\n",
    "BATCH_SIZE = 16\n",
    "grid_search_idf(threshold_list=np.arange(10., 1., -0.5))"
   ]
  },
  {
   "cell_type": "markdown",
   "metadata": {
    "id": "ZApbTcWjQMde"
   },
   "source": [
    "### Saliency Map"
   ]
  },
  {
   "cell_type": "code",
   "execution_count": null,
   "metadata": {
    "id": "sBiT2X4NQOL1"
   },
   "outputs": [],
   "source": [
    "def get_saliency_map(model, df):\n",
    "    input_text = [tokenizer(text, padding='max_length', max_length = 512, truncation=True, return_tensors=\"pt\") for text in df['content']]\n",
    "    input = input_text[0]\n",
    "    print(input.shape)\n",
    "    for param in model.parameters():\n",
    "        param.requires_grad = False\n",
    "    model.eval()\n",
    "    # input.unsqueeze_(0)\n",
    "    input.requires_grad = True\n",
    "    preds = model(input)\n",
    "    score, indices = torch.max(preds, 1)\n",
    "    #backward pass to get gradients of score predicted class w.r.t. input image\n",
    "    score.backward()\n",
    "    #get max along channel axis\n",
    "    slc, _ = torch.max(torch.abs(input.grad[0]), dim=0)\n",
    "    #normalize to [0..1]\n",
    "    slc = (slc - slc.min())/(slc.max()-slc.min())\n",
    "    return slc\n",
    "\n",
    "input_slc = get_saliency_map(model, train_df)\n",
    "print(input_slc.shape)\n",
    "input_slc"
   ]
  },
  {
   "cell_type": "markdown",
   "metadata": {
    "id": "D88rs5MvQLQ9"
   },
   "source": [
    "### SHAP"
   ]
  },
  {
   "cell_type": "code",
   "execution_count": null,
   "metadata": {
    "colab": {
     "base_uri": "https://localhost:8080/",
     "height": 69,
     "referenced_widgets": [
      "dcab5a979939476c82f093439fff5727",
      "5cbbe15dece24cf3911c00f7db8e1614",
      "5e90c71339ef41249bb67de526223c54",
      "2523a9bcd4e64d7aba736eb8d4969c0c",
      "c822bbdecfbb47b7997fdf9da6e6e696",
      "06860822f884497ba299cc9293ecb57a",
      "abd33785ca0a4446a322acd52b003cef",
      "793d44f5f6cd4b61a43d33e8bdf8c1c2",
      "7920057913524c9b82b2d786c9de04bb",
      "9e162044bfb54506a6bdf64347ac3954",
      "0c9de959b02449e285794ad424e5b7c5",
      "ec2929e2846f4f3ba9adcdb719aa0734",
      "7c129a485dd54ff8881a82d3feb0579c",
      "220e48323927424fac008796af507795",
      "dec1ada1356140aeb3a7b1f4628707c5",
      "a5d358b0730844c0b02b96bd2f9abf72",
      "877ab9697e3f4a4a93559e8e11bae1da",
      "1444797dd2b7452986ce271d39181035",
      "a860e95402d7473e9575cb3c34b816ed",
      "bb692e7025e84973b48def9548dc2c38",
      "75b20cfd32344c9e83d6d06fed412c66",
      "e15c4d7ec9f54cd38cca81d59cca6e69",
      "a75980817b6645c2976f7b78b31ebe35",
      "2c09c7b13b6848bcaa01c7edc83df2b2",
      "0fbab92fb5d141c599118fcb0b017ed0",
      "89410ad834764d259ce47ea8a0f569a2",
      "a63ed4e90e5f4d848798167662a19977",
      "a0684f736a954d1daeca0da348913608",
      "312b4ab6e5e341d18eb385d5fff9ad52",
      "0d435e9934a846eba201bc46ffc7e535",
      "3bb8f7dae8e9417c900c00913bf62335",
      "995280c29b654f7895700a8880219e16",
      "b0f69226bef346babd2bb8364bc47265"
     ]
    },
    "executionInfo": {
     "elapsed": 34753,
     "status": "ok",
     "timestamp": 1668042766547,
     "user": {
      "displayName": "Yang Su",
      "userId": "02255409601147553219"
     },
     "user_tz": 300
    },
    "id": "1pa1MPloNwzx",
    "outputId": "2b92a177-3102-4e0f-dcef-7a50774f989b"
   },
   "outputs": [],
   "source": [
    "import shap\n",
    "import scipy as sp\n",
    "\n",
    "def f(x):\n",
    "    tv = torch.tensor([tokenizer.encode(v, padding='max_length', \\\n",
    "        max_length=512, truncation=True) for v in x]).cuda()\n",
    "    outputs = model(tv)[0].detach().cpu().numpy()\n",
    "    scores = (np.exp(outputs).T / np.exp(outputs).sum(-1)).T\n",
    "    val = sp.special.logit(scores[:,1]) # use one vs rest logit units\n",
    "    return val\n",
    "\n",
    "explainer = shap.Explainer(f, tokenizer)\n",
    "shap_values = explainer(train_df['masked_content'][:3], fixed_context=1, batch_size=32)"
   ]
  },
  {
   "cell_type": "code",
   "execution_count": null,
   "metadata": {
    "id": "Jk6VyEd0Oqkx"
   },
   "outputs": [],
   "source": [
    "shap.plots.bar(shap_values.abs.mean(0)) # default"
   ]
  },
  {
   "cell_type": "code",
   "execution_count": null,
   "metadata": {
    "id": "V6UetRMHOrGi"
   },
   "outputs": [],
   "source": [
    "shap.plots.bar(shap_values.abs.sum(0))"
   ]
  },
  {
   "cell_type": "code",
   "execution_count": null,
   "metadata": {
    "id": "fnPH7iWNED1A"
   },
   "outputs": [],
   "source": [
    "shap.plots.bar(shap_values.abs.max(0))"
   ]
  },
  {
   "cell_type": "code",
   "execution_count": null,
   "metadata": {
    "colab": {
     "base_uri": "https://localhost:8080/",
     "height": 758,
     "output_embedded_package_id": "1-F4-hjXaPqU5Map1uBCuiDCO7Xm3DTFs"
    },
    "executionInfo": {
     "elapsed": 1569,
     "status": "ok",
     "timestamp": 1668042768104,
     "user": {
      "displayName": "Yang Su",
      "userId": "02255409601147553219"
     },
     "user_tz": 300
    },
    "id": "fiRXOjnkebQ7",
    "outputId": "4737b43c-4bdf-47cf-cbd0-46c7b8dd9b66"
   },
   "outputs": [],
   "source": [
    "shap.plots.text(shap_values)"
   ]
  }
 ],
 "metadata": {
  "accelerator": "GPU",
  "colab": {
   "authorship_tag": "ABX9TyOXSKqSuD+oAsk0hGEM557k",
   "collapsed_sections": [],
   "mount_file_id": "1ZO6zy-jb5c4IFPs9bJj9_z3Pqk4m9KHQ",
   "provenance": []
  },
  "gpuClass": "standard",
  "kernelspec": {
   "display_name": "ys724",
   "language": "python",
   "name": "ys724"
  },
  "language_info": {
   "codemirror_mode": {
    "name": "ipython",
    "version": 3
   },
   "file_extension": ".py",
   "mimetype": "text/x-python",
   "name": "python",
   "nbconvert_exporter": "python",
   "pygments_lexer": "ipython3",
   "version": "3.8.8"
  },
  "vscode": {
   "interpreter": {
    "hash": "20093269b19d49e29b5b3c0cabfa6df86376d30f0399478180579ee0de4d490b"
   }
  },
  "widgets": {
   "application/vnd.jupyter.widget-state+json": {
    "06860822f884497ba299cc9293ecb57a": {
     "model_module": "@jupyter-widgets/base",
     "model_module_version": "1.2.0",
     "model_name": "LayoutModel",
     "state": {
      "_model_module": "@jupyter-widgets/base",
      "_model_module_version": "1.2.0",
      "_model_name": "LayoutModel",
      "_view_count": null,
      "_view_module": "@jupyter-widgets/base",
      "_view_module_version": "1.2.0",
      "_view_name": "LayoutView",
      "align_content": null,
      "align_items": null,
      "align_self": null,
      "border": null,
      "bottom": null,
      "display": null,
      "flex": null,
      "flex_flow": null,
      "grid_area": null,
      "grid_auto_columns": null,
      "grid_auto_flow": null,
      "grid_auto_rows": null,
      "grid_column": null,
      "grid_gap": null,
      "grid_row": null,
      "grid_template_areas": null,
      "grid_template_columns": null,
      "grid_template_rows": null,
      "height": null,
      "justify_content": null,
      "justify_items": null,
      "left": null,
      "margin": null,
      "max_height": null,
      "max_width": null,
      "min_height": null,
      "min_width": null,
      "object_fit": null,
      "object_position": null,
      "order": null,
      "overflow": null,
      "overflow_x": null,
      "overflow_y": null,
      "padding": null,
      "right": null,
      "top": null,
      "visibility": null,
      "width": null
     }
    },
    "0c9de959b02449e285794ad424e5b7c5": {
     "model_module": "@jupyter-widgets/controls",
     "model_module_version": "1.5.0",
     "model_name": "DescriptionStyleModel",
     "state": {
      "_model_module": "@jupyter-widgets/controls",
      "_model_module_version": "1.5.0",
      "_model_name": "DescriptionStyleModel",
      "_view_count": null,
      "_view_module": "@jupyter-widgets/base",
      "_view_module_version": "1.2.0",
      "_view_name": "StyleView",
      "description_width": ""
     }
    },
    "0d435e9934a846eba201bc46ffc7e535": {
     "model_module": "@jupyter-widgets/base",
     "model_module_version": "1.2.0",
     "model_name": "LayoutModel",
     "state": {
      "_model_module": "@jupyter-widgets/base",
      "_model_module_version": "1.2.0",
      "_model_name": "LayoutModel",
      "_view_count": null,
      "_view_module": "@jupyter-widgets/base",
      "_view_module_version": "1.2.0",
      "_view_name": "LayoutView",
      "align_content": null,
      "align_items": null,
      "align_self": null,
      "border": null,
      "bottom": null,
      "display": null,
      "flex": null,
      "flex_flow": null,
      "grid_area": null,
      "grid_auto_columns": null,
      "grid_auto_flow": null,
      "grid_auto_rows": null,
      "grid_column": null,
      "grid_gap": null,
      "grid_row": null,
      "grid_template_areas": null,
      "grid_template_columns": null,
      "grid_template_rows": null,
      "height": null,
      "justify_content": null,
      "justify_items": null,
      "left": null,
      "margin": null,
      "max_height": null,
      "max_width": null,
      "min_height": null,
      "min_width": null,
      "object_fit": null,
      "object_position": null,
      "order": null,
      "overflow": null,
      "overflow_x": null,
      "overflow_y": null,
      "padding": null,
      "right": null,
      "top": null,
      "visibility": null,
      "width": null
     }
    },
    "0fbab92fb5d141c599118fcb0b017ed0": {
     "model_module": "@jupyter-widgets/controls",
     "model_module_version": "1.5.0",
     "model_name": "FloatProgressModel",
     "state": {
      "_dom_classes": [],
      "_model_module": "@jupyter-widgets/controls",
      "_model_module_version": "1.5.0",
      "_model_name": "FloatProgressModel",
      "_view_count": null,
      "_view_module": "@jupyter-widgets/controls",
      "_view_module_version": "1.5.0",
      "_view_name": "ProgressView",
      "bar_style": "",
      "description": "",
      "description_tooltip": null,
      "layout": "IPY_MODEL_0d435e9934a846eba201bc46ffc7e535",
      "max": 498,
      "min": 0,
      "orientation": "horizontal",
      "style": "IPY_MODEL_3bb8f7dae8e9417c900c00913bf62335",
      "value": 498
     }
    },
    "1444797dd2b7452986ce271d39181035": {
     "model_module": "@jupyter-widgets/controls",
     "model_module_version": "1.5.0",
     "model_name": "DescriptionStyleModel",
     "state": {
      "_model_module": "@jupyter-widgets/controls",
      "_model_module_version": "1.5.0",
      "_model_name": "DescriptionStyleModel",
      "_view_count": null,
      "_view_module": "@jupyter-widgets/base",
      "_view_module_version": "1.2.0",
      "_view_name": "StyleView",
      "description_width": ""
     }
    },
    "220e48323927424fac008796af507795": {
     "model_module": "@jupyter-widgets/controls",
     "model_module_version": "1.5.0",
     "model_name": "FloatProgressModel",
     "state": {
      "_dom_classes": [],
      "_model_module": "@jupyter-widgets/controls",
      "_model_module_version": "1.5.0",
      "_model_name": "FloatProgressModel",
      "_view_count": null,
      "_view_module": "@jupyter-widgets/controls",
      "_view_module_version": "1.5.0",
      "_view_name": "ProgressView",
      "bar_style": "",
      "description": "",
      "description_tooltip": null,
      "layout": "IPY_MODEL_a860e95402d7473e9575cb3c34b816ed",
      "max": 498,
      "min": 0,
      "orientation": "horizontal",
      "style": "IPY_MODEL_bb692e7025e84973b48def9548dc2c38",
      "value": 498
     }
    },
    "2523a9bcd4e64d7aba736eb8d4969c0c": {
     "model_module": "@jupyter-widgets/controls",
     "model_module_version": "1.5.0",
     "model_name": "HTMLModel",
     "state": {
      "_dom_classes": [],
      "_model_module": "@jupyter-widgets/controls",
      "_model_module_version": "1.5.0",
      "_model_name": "HTMLModel",
      "_view_count": null,
      "_view_module": "@jupyter-widgets/controls",
      "_view_module_version": "1.5.0",
      "_view_name": "HTMLView",
      "description": "",
      "description_tooltip": null,
      "layout": "IPY_MODEL_9e162044bfb54506a6bdf64347ac3954",
      "placeholder": "​",
      "style": "IPY_MODEL_0c9de959b02449e285794ad424e5b7c5",
      "value": " 530/? [00:05&lt;00:00, 60.52it/s]"
     }
    },
    "2c09c7b13b6848bcaa01c7edc83df2b2": {
     "model_module": "@jupyter-widgets/controls",
     "model_module_version": "1.5.0",
     "model_name": "HTMLModel",
     "state": {
      "_dom_classes": [],
      "_model_module": "@jupyter-widgets/controls",
      "_model_module_version": "1.5.0",
      "_model_name": "HTMLModel",
      "_view_count": null,
      "_view_module": "@jupyter-widgets/controls",
      "_view_module_version": "1.5.0",
      "_view_name": "HTMLView",
      "description": "",
      "description_tooltip": null,
      "layout": "IPY_MODEL_a0684f736a954d1daeca0da348913608",
      "placeholder": "​",
      "style": "IPY_MODEL_312b4ab6e5e341d18eb385d5fff9ad52",
      "value": ""
     }
    },
    "312b4ab6e5e341d18eb385d5fff9ad52": {
     "model_module": "@jupyter-widgets/controls",
     "model_module_version": "1.5.0",
     "model_name": "DescriptionStyleModel",
     "state": {
      "_model_module": "@jupyter-widgets/controls",
      "_model_module_version": "1.5.0",
      "_model_name": "DescriptionStyleModel",
      "_view_count": null,
      "_view_module": "@jupyter-widgets/base",
      "_view_module_version": "1.2.0",
      "_view_name": "StyleView",
      "description_width": ""
     }
    },
    "3bb8f7dae8e9417c900c00913bf62335": {
     "model_module": "@jupyter-widgets/controls",
     "model_module_version": "1.5.0",
     "model_name": "ProgressStyleModel",
     "state": {
      "_model_module": "@jupyter-widgets/controls",
      "_model_module_version": "1.5.0",
      "_model_name": "ProgressStyleModel",
      "_view_count": null,
      "_view_module": "@jupyter-widgets/base",
      "_view_module_version": "1.2.0",
      "_view_name": "StyleView",
      "bar_color": null,
      "description_width": ""
     }
    },
    "5cbbe15dece24cf3911c00f7db8e1614": {
     "model_module": "@jupyter-widgets/controls",
     "model_module_version": "1.5.0",
     "model_name": "HTMLModel",
     "state": {
      "_dom_classes": [],
      "_model_module": "@jupyter-widgets/controls",
      "_model_module_version": "1.5.0",
      "_model_name": "HTMLModel",
      "_view_count": null,
      "_view_module": "@jupyter-widgets/controls",
      "_view_module_version": "1.5.0",
      "_view_name": "HTMLView",
      "description": "",
      "description_tooltip": null,
      "layout": "IPY_MODEL_06860822f884497ba299cc9293ecb57a",
      "placeholder": "​",
      "style": "IPY_MODEL_abd33785ca0a4446a322acd52b003cef",
      "value": ""
     }
    },
    "5e90c71339ef41249bb67de526223c54": {
     "model_module": "@jupyter-widgets/controls",
     "model_module_version": "1.5.0",
     "model_name": "FloatProgressModel",
     "state": {
      "_dom_classes": [],
      "_model_module": "@jupyter-widgets/controls",
      "_model_module_version": "1.5.0",
      "_model_name": "FloatProgressModel",
      "_view_count": null,
      "_view_module": "@jupyter-widgets/controls",
      "_view_module_version": "1.5.0",
      "_view_name": "ProgressView",
      "bar_style": "",
      "description": "",
      "description_tooltip": null,
      "layout": "IPY_MODEL_793d44f5f6cd4b61a43d33e8bdf8c1c2",
      "max": 498,
      "min": 0,
      "orientation": "horizontal",
      "style": "IPY_MODEL_7920057913524c9b82b2d786c9de04bb",
      "value": 498
     }
    },
    "75b20cfd32344c9e83d6d06fed412c66": {
     "model_module": "@jupyter-widgets/base",
     "model_module_version": "1.2.0",
     "model_name": "LayoutModel",
     "state": {
      "_model_module": "@jupyter-widgets/base",
      "_model_module_version": "1.2.0",
      "_model_name": "LayoutModel",
      "_view_count": null,
      "_view_module": "@jupyter-widgets/base",
      "_view_module_version": "1.2.0",
      "_view_name": "LayoutView",
      "align_content": null,
      "align_items": null,
      "align_self": null,
      "border": null,
      "bottom": null,
      "display": null,
      "flex": null,
      "flex_flow": null,
      "grid_area": null,
      "grid_auto_columns": null,
      "grid_auto_flow": null,
      "grid_auto_rows": null,
      "grid_column": null,
      "grid_gap": null,
      "grid_row": null,
      "grid_template_areas": null,
      "grid_template_columns": null,
      "grid_template_rows": null,
      "height": null,
      "justify_content": null,
      "justify_items": null,
      "left": null,
      "margin": null,
      "max_height": null,
      "max_width": null,
      "min_height": null,
      "min_width": null,
      "object_fit": null,
      "object_position": null,
      "order": null,
      "overflow": null,
      "overflow_x": null,
      "overflow_y": null,
      "padding": null,
      "right": null,
      "top": null,
      "visibility": null,
      "width": null
     }
    },
    "7920057913524c9b82b2d786c9de04bb": {
     "model_module": "@jupyter-widgets/controls",
     "model_module_version": "1.5.0",
     "model_name": "ProgressStyleModel",
     "state": {
      "_model_module": "@jupyter-widgets/controls",
      "_model_module_version": "1.5.0",
      "_model_name": "ProgressStyleModel",
      "_view_count": null,
      "_view_module": "@jupyter-widgets/base",
      "_view_module_version": "1.2.0",
      "_view_name": "StyleView",
      "bar_color": null,
      "description_width": ""
     }
    },
    "793d44f5f6cd4b61a43d33e8bdf8c1c2": {
     "model_module": "@jupyter-widgets/base",
     "model_module_version": "1.2.0",
     "model_name": "LayoutModel",
     "state": {
      "_model_module": "@jupyter-widgets/base",
      "_model_module_version": "1.2.0",
      "_model_name": "LayoutModel",
      "_view_count": null,
      "_view_module": "@jupyter-widgets/base",
      "_view_module_version": "1.2.0",
      "_view_name": "LayoutView",
      "align_content": null,
      "align_items": null,
      "align_self": null,
      "border": null,
      "bottom": null,
      "display": null,
      "flex": null,
      "flex_flow": null,
      "grid_area": null,
      "grid_auto_columns": null,
      "grid_auto_flow": null,
      "grid_auto_rows": null,
      "grid_column": null,
      "grid_gap": null,
      "grid_row": null,
      "grid_template_areas": null,
      "grid_template_columns": null,
      "grid_template_rows": null,
      "height": null,
      "justify_content": null,
      "justify_items": null,
      "left": null,
      "margin": null,
      "max_height": null,
      "max_width": null,
      "min_height": null,
      "min_width": null,
      "object_fit": null,
      "object_position": null,
      "order": null,
      "overflow": null,
      "overflow_x": null,
      "overflow_y": null,
      "padding": null,
      "right": null,
      "top": null,
      "visibility": null,
      "width": null
     }
    },
    "7c129a485dd54ff8881a82d3feb0579c": {
     "model_module": "@jupyter-widgets/controls",
     "model_module_version": "1.5.0",
     "model_name": "HTMLModel",
     "state": {
      "_dom_classes": [],
      "_model_module": "@jupyter-widgets/controls",
      "_model_module_version": "1.5.0",
      "_model_name": "HTMLModel",
      "_view_count": null,
      "_view_module": "@jupyter-widgets/controls",
      "_view_module_version": "1.5.0",
      "_view_name": "HTMLView",
      "description": "",
      "description_tooltip": null,
      "layout": "IPY_MODEL_877ab9697e3f4a4a93559e8e11bae1da",
      "placeholder": "​",
      "style": "IPY_MODEL_1444797dd2b7452986ce271d39181035",
      "value": ""
     }
    },
    "877ab9697e3f4a4a93559e8e11bae1da": {
     "model_module": "@jupyter-widgets/base",
     "model_module_version": "1.2.0",
     "model_name": "LayoutModel",
     "state": {
      "_model_module": "@jupyter-widgets/base",
      "_model_module_version": "1.2.0",
      "_model_name": "LayoutModel",
      "_view_count": null,
      "_view_module": "@jupyter-widgets/base",
      "_view_module_version": "1.2.0",
      "_view_name": "LayoutView",
      "align_content": null,
      "align_items": null,
      "align_self": null,
      "border": null,
      "bottom": null,
      "display": null,
      "flex": null,
      "flex_flow": null,
      "grid_area": null,
      "grid_auto_columns": null,
      "grid_auto_flow": null,
      "grid_auto_rows": null,
      "grid_column": null,
      "grid_gap": null,
      "grid_row": null,
      "grid_template_areas": null,
      "grid_template_columns": null,
      "grid_template_rows": null,
      "height": null,
      "justify_content": null,
      "justify_items": null,
      "left": null,
      "margin": null,
      "max_height": null,
      "max_width": null,
      "min_height": null,
      "min_width": null,
      "object_fit": null,
      "object_position": null,
      "order": null,
      "overflow": null,
      "overflow_x": null,
      "overflow_y": null,
      "padding": null,
      "right": null,
      "top": null,
      "visibility": null,
      "width": null
     }
    },
    "89410ad834764d259ce47ea8a0f569a2": {
     "model_module": "@jupyter-widgets/controls",
     "model_module_version": "1.5.0",
     "model_name": "HTMLModel",
     "state": {
      "_dom_classes": [],
      "_model_module": "@jupyter-widgets/controls",
      "_model_module_version": "1.5.0",
      "_model_name": "HTMLModel",
      "_view_count": null,
      "_view_module": "@jupyter-widgets/controls",
      "_view_module_version": "1.5.0",
      "_view_name": "HTMLView",
      "description": "",
      "description_tooltip": null,
      "layout": "IPY_MODEL_995280c29b654f7895700a8880219e16",
      "placeholder": "​",
      "style": "IPY_MODEL_b0f69226bef346babd2bb8364bc47265",
      "value": " 530/? [00:04&lt;00:00, 78.77it/s]"
     }
    },
    "995280c29b654f7895700a8880219e16": {
     "model_module": "@jupyter-widgets/base",
     "model_module_version": "1.2.0",
     "model_name": "LayoutModel",
     "state": {
      "_model_module": "@jupyter-widgets/base",
      "_model_module_version": "1.2.0",
      "_model_name": "LayoutModel",
      "_view_count": null,
      "_view_module": "@jupyter-widgets/base",
      "_view_module_version": "1.2.0",
      "_view_name": "LayoutView",
      "align_content": null,
      "align_items": null,
      "align_self": null,
      "border": null,
      "bottom": null,
      "display": null,
      "flex": null,
      "flex_flow": null,
      "grid_area": null,
      "grid_auto_columns": null,
      "grid_auto_flow": null,
      "grid_auto_rows": null,
      "grid_column": null,
      "grid_gap": null,
      "grid_row": null,
      "grid_template_areas": null,
      "grid_template_columns": null,
      "grid_template_rows": null,
      "height": null,
      "justify_content": null,
      "justify_items": null,
      "left": null,
      "margin": null,
      "max_height": null,
      "max_width": null,
      "min_height": null,
      "min_width": null,
      "object_fit": null,
      "object_position": null,
      "order": null,
      "overflow": null,
      "overflow_x": null,
      "overflow_y": null,
      "padding": null,
      "right": null,
      "top": null,
      "visibility": null,
      "width": null
     }
    },
    "9e162044bfb54506a6bdf64347ac3954": {
     "model_module": "@jupyter-widgets/base",
     "model_module_version": "1.2.0",
     "model_name": "LayoutModel",
     "state": {
      "_model_module": "@jupyter-widgets/base",
      "_model_module_version": "1.2.0",
      "_model_name": "LayoutModel",
      "_view_count": null,
      "_view_module": "@jupyter-widgets/base",
      "_view_module_version": "1.2.0",
      "_view_name": "LayoutView",
      "align_content": null,
      "align_items": null,
      "align_self": null,
      "border": null,
      "bottom": null,
      "display": null,
      "flex": null,
      "flex_flow": null,
      "grid_area": null,
      "grid_auto_columns": null,
      "grid_auto_flow": null,
      "grid_auto_rows": null,
      "grid_column": null,
      "grid_gap": null,
      "grid_row": null,
      "grid_template_areas": null,
      "grid_template_columns": null,
      "grid_template_rows": null,
      "height": null,
      "justify_content": null,
      "justify_items": null,
      "left": null,
      "margin": null,
      "max_height": null,
      "max_width": null,
      "min_height": null,
      "min_width": null,
      "object_fit": null,
      "object_position": null,
      "order": null,
      "overflow": null,
      "overflow_x": null,
      "overflow_y": null,
      "padding": null,
      "right": null,
      "top": null,
      "visibility": null,
      "width": null
     }
    },
    "a0684f736a954d1daeca0da348913608": {
     "model_module": "@jupyter-widgets/base",
     "model_module_version": "1.2.0",
     "model_name": "LayoutModel",
     "state": {
      "_model_module": "@jupyter-widgets/base",
      "_model_module_version": "1.2.0",
      "_model_name": "LayoutModel",
      "_view_count": null,
      "_view_module": "@jupyter-widgets/base",
      "_view_module_version": "1.2.0",
      "_view_name": "LayoutView",
      "align_content": null,
      "align_items": null,
      "align_self": null,
      "border": null,
      "bottom": null,
      "display": null,
      "flex": null,
      "flex_flow": null,
      "grid_area": null,
      "grid_auto_columns": null,
      "grid_auto_flow": null,
      "grid_auto_rows": null,
      "grid_column": null,
      "grid_gap": null,
      "grid_row": null,
      "grid_template_areas": null,
      "grid_template_columns": null,
      "grid_template_rows": null,
      "height": null,
      "justify_content": null,
      "justify_items": null,
      "left": null,
      "margin": null,
      "max_height": null,
      "max_width": null,
      "min_height": null,
      "min_width": null,
      "object_fit": null,
      "object_position": null,
      "order": null,
      "overflow": null,
      "overflow_x": null,
      "overflow_y": null,
      "padding": null,
      "right": null,
      "top": null,
      "visibility": null,
      "width": null
     }
    },
    "a5d358b0730844c0b02b96bd2f9abf72": {
     "model_module": "@jupyter-widgets/base",
     "model_module_version": "1.2.0",
     "model_name": "LayoutModel",
     "state": {
      "_model_module": "@jupyter-widgets/base",
      "_model_module_version": "1.2.0",
      "_model_name": "LayoutModel",
      "_view_count": null,
      "_view_module": "@jupyter-widgets/base",
      "_view_module_version": "1.2.0",
      "_view_name": "LayoutView",
      "align_content": null,
      "align_items": null,
      "align_self": null,
      "border": null,
      "bottom": null,
      "display": null,
      "flex": null,
      "flex_flow": null,
      "grid_area": null,
      "grid_auto_columns": null,
      "grid_auto_flow": null,
      "grid_auto_rows": null,
      "grid_column": null,
      "grid_gap": null,
      "grid_row": null,
      "grid_template_areas": null,
      "grid_template_columns": null,
      "grid_template_rows": null,
      "height": null,
      "justify_content": null,
      "justify_items": null,
      "left": null,
      "margin": null,
      "max_height": null,
      "max_width": null,
      "min_height": null,
      "min_width": null,
      "object_fit": null,
      "object_position": null,
      "order": null,
      "overflow": null,
      "overflow_x": null,
      "overflow_y": null,
      "padding": null,
      "right": null,
      "top": null,
      "visibility": "hidden",
      "width": null
     }
    },
    "a63ed4e90e5f4d848798167662a19977": {
     "model_module": "@jupyter-widgets/base",
     "model_module_version": "1.2.0",
     "model_name": "LayoutModel",
     "state": {
      "_model_module": "@jupyter-widgets/base",
      "_model_module_version": "1.2.0",
      "_model_name": "LayoutModel",
      "_view_count": null,
      "_view_module": "@jupyter-widgets/base",
      "_view_module_version": "1.2.0",
      "_view_name": "LayoutView",
      "align_content": null,
      "align_items": null,
      "align_self": null,
      "border": null,
      "bottom": null,
      "display": null,
      "flex": null,
      "flex_flow": null,
      "grid_area": null,
      "grid_auto_columns": null,
      "grid_auto_flow": null,
      "grid_auto_rows": null,
      "grid_column": null,
      "grid_gap": null,
      "grid_row": null,
      "grid_template_areas": null,
      "grid_template_columns": null,
      "grid_template_rows": null,
      "height": null,
      "justify_content": null,
      "justify_items": null,
      "left": null,
      "margin": null,
      "max_height": null,
      "max_width": null,
      "min_height": null,
      "min_width": null,
      "object_fit": null,
      "object_position": null,
      "order": null,
      "overflow": null,
      "overflow_x": null,
      "overflow_y": null,
      "padding": null,
      "right": null,
      "top": null,
      "visibility": "hidden",
      "width": null
     }
    },
    "a75980817b6645c2976f7b78b31ebe35": {
     "model_module": "@jupyter-widgets/controls",
     "model_module_version": "1.5.0",
     "model_name": "HBoxModel",
     "state": {
      "_dom_classes": [],
      "_model_module": "@jupyter-widgets/controls",
      "_model_module_version": "1.5.0",
      "_model_name": "HBoxModel",
      "_view_count": null,
      "_view_module": "@jupyter-widgets/controls",
      "_view_module_version": "1.5.0",
      "_view_name": "HBoxView",
      "box_style": "",
      "children": [
       "IPY_MODEL_2c09c7b13b6848bcaa01c7edc83df2b2",
       "IPY_MODEL_0fbab92fb5d141c599118fcb0b017ed0",
       "IPY_MODEL_89410ad834764d259ce47ea8a0f569a2"
      ],
      "layout": "IPY_MODEL_a63ed4e90e5f4d848798167662a19977"
     }
    },
    "a860e95402d7473e9575cb3c34b816ed": {
     "model_module": "@jupyter-widgets/base",
     "model_module_version": "1.2.0",
     "model_name": "LayoutModel",
     "state": {
      "_model_module": "@jupyter-widgets/base",
      "_model_module_version": "1.2.0",
      "_model_name": "LayoutModel",
      "_view_count": null,
      "_view_module": "@jupyter-widgets/base",
      "_view_module_version": "1.2.0",
      "_view_name": "LayoutView",
      "align_content": null,
      "align_items": null,
      "align_self": null,
      "border": null,
      "bottom": null,
      "display": null,
      "flex": null,
      "flex_flow": null,
      "grid_area": null,
      "grid_auto_columns": null,
      "grid_auto_flow": null,
      "grid_auto_rows": null,
      "grid_column": null,
      "grid_gap": null,
      "grid_row": null,
      "grid_template_areas": null,
      "grid_template_columns": null,
      "grid_template_rows": null,
      "height": null,
      "justify_content": null,
      "justify_items": null,
      "left": null,
      "margin": null,
      "max_height": null,
      "max_width": null,
      "min_height": null,
      "min_width": null,
      "object_fit": null,
      "object_position": null,
      "order": null,
      "overflow": null,
      "overflow_x": null,
      "overflow_y": null,
      "padding": null,
      "right": null,
      "top": null,
      "visibility": null,
      "width": null
     }
    },
    "abd33785ca0a4446a322acd52b003cef": {
     "model_module": "@jupyter-widgets/controls",
     "model_module_version": "1.5.0",
     "model_name": "DescriptionStyleModel",
     "state": {
      "_model_module": "@jupyter-widgets/controls",
      "_model_module_version": "1.5.0",
      "_model_name": "DescriptionStyleModel",
      "_view_count": null,
      "_view_module": "@jupyter-widgets/base",
      "_view_module_version": "1.2.0",
      "_view_name": "StyleView",
      "description_width": ""
     }
    },
    "b0f69226bef346babd2bb8364bc47265": {
     "model_module": "@jupyter-widgets/controls",
     "model_module_version": "1.5.0",
     "model_name": "DescriptionStyleModel",
     "state": {
      "_model_module": "@jupyter-widgets/controls",
      "_model_module_version": "1.5.0",
      "_model_name": "DescriptionStyleModel",
      "_view_count": null,
      "_view_module": "@jupyter-widgets/base",
      "_view_module_version": "1.2.0",
      "_view_name": "StyleView",
      "description_width": ""
     }
    },
    "bb692e7025e84973b48def9548dc2c38": {
     "model_module": "@jupyter-widgets/controls",
     "model_module_version": "1.5.0",
     "model_name": "ProgressStyleModel",
     "state": {
      "_model_module": "@jupyter-widgets/controls",
      "_model_module_version": "1.5.0",
      "_model_name": "ProgressStyleModel",
      "_view_count": null,
      "_view_module": "@jupyter-widgets/base",
      "_view_module_version": "1.2.0",
      "_view_name": "StyleView",
      "bar_color": null,
      "description_width": ""
     }
    },
    "c822bbdecfbb47b7997fdf9da6e6e696": {
     "model_module": "@jupyter-widgets/base",
     "model_module_version": "1.2.0",
     "model_name": "LayoutModel",
     "state": {
      "_model_module": "@jupyter-widgets/base",
      "_model_module_version": "1.2.0",
      "_model_name": "LayoutModel",
      "_view_count": null,
      "_view_module": "@jupyter-widgets/base",
      "_view_module_version": "1.2.0",
      "_view_name": "LayoutView",
      "align_content": null,
      "align_items": null,
      "align_self": null,
      "border": null,
      "bottom": null,
      "display": null,
      "flex": null,
      "flex_flow": null,
      "grid_area": null,
      "grid_auto_columns": null,
      "grid_auto_flow": null,
      "grid_auto_rows": null,
      "grid_column": null,
      "grid_gap": null,
      "grid_row": null,
      "grid_template_areas": null,
      "grid_template_columns": null,
      "grid_template_rows": null,
      "height": null,
      "justify_content": null,
      "justify_items": null,
      "left": null,
      "margin": null,
      "max_height": null,
      "max_width": null,
      "min_height": null,
      "min_width": null,
      "object_fit": null,
      "object_position": null,
      "order": null,
      "overflow": null,
      "overflow_x": null,
      "overflow_y": null,
      "padding": null,
      "right": null,
      "top": null,
      "visibility": "hidden",
      "width": null
     }
    },
    "dcab5a979939476c82f093439fff5727": {
     "model_module": "@jupyter-widgets/controls",
     "model_module_version": "1.5.0",
     "model_name": "HBoxModel",
     "state": {
      "_dom_classes": [],
      "_model_module": "@jupyter-widgets/controls",
      "_model_module_version": "1.5.0",
      "_model_name": "HBoxModel",
      "_view_count": null,
      "_view_module": "@jupyter-widgets/controls",
      "_view_module_version": "1.5.0",
      "_view_name": "HBoxView",
      "box_style": "",
      "children": [
       "IPY_MODEL_5cbbe15dece24cf3911c00f7db8e1614",
       "IPY_MODEL_5e90c71339ef41249bb67de526223c54",
       "IPY_MODEL_2523a9bcd4e64d7aba736eb8d4969c0c"
      ],
      "layout": "IPY_MODEL_c822bbdecfbb47b7997fdf9da6e6e696"
     }
    },
    "dec1ada1356140aeb3a7b1f4628707c5": {
     "model_module": "@jupyter-widgets/controls",
     "model_module_version": "1.5.0",
     "model_name": "HTMLModel",
     "state": {
      "_dom_classes": [],
      "_model_module": "@jupyter-widgets/controls",
      "_model_module_version": "1.5.0",
      "_model_name": "HTMLModel",
      "_view_count": null,
      "_view_module": "@jupyter-widgets/controls",
      "_view_module_version": "1.5.0",
      "_view_name": "HTMLView",
      "description": "",
      "description_tooltip": null,
      "layout": "IPY_MODEL_75b20cfd32344c9e83d6d06fed412c66",
      "placeholder": "​",
      "style": "IPY_MODEL_e15c4d7ec9f54cd38cca81d59cca6e69",
      "value": " 530/? [00:06&lt;00:00, 50.13it/s]"
     }
    },
    "e15c4d7ec9f54cd38cca81d59cca6e69": {
     "model_module": "@jupyter-widgets/controls",
     "model_module_version": "1.5.0",
     "model_name": "DescriptionStyleModel",
     "state": {
      "_model_module": "@jupyter-widgets/controls",
      "_model_module_version": "1.5.0",
      "_model_name": "DescriptionStyleModel",
      "_view_count": null,
      "_view_module": "@jupyter-widgets/base",
      "_view_module_version": "1.2.0",
      "_view_name": "StyleView",
      "description_width": ""
     }
    },
    "ec2929e2846f4f3ba9adcdb719aa0734": {
     "model_module": "@jupyter-widgets/controls",
     "model_module_version": "1.5.0",
     "model_name": "HBoxModel",
     "state": {
      "_dom_classes": [],
      "_model_module": "@jupyter-widgets/controls",
      "_model_module_version": "1.5.0",
      "_model_name": "HBoxModel",
      "_view_count": null,
      "_view_module": "@jupyter-widgets/controls",
      "_view_module_version": "1.5.0",
      "_view_name": "HBoxView",
      "box_style": "",
      "children": [
       "IPY_MODEL_7c129a485dd54ff8881a82d3feb0579c",
       "IPY_MODEL_220e48323927424fac008796af507795",
       "IPY_MODEL_dec1ada1356140aeb3a7b1f4628707c5"
      ],
      "layout": "IPY_MODEL_a5d358b0730844c0b02b96bd2f9abf72"
     }
    }
   }
  }
 },
 "nbformat": 4,
 "nbformat_minor": 1
}
