{
 "cells": [
  {
   "cell_type": "code",
   "execution_count": 1,
   "metadata": {},
   "outputs": [],
   "source": [
    "import spacy\n",
    "import pandas as pd"
   ]
  },
  {
   "cell_type": "code",
   "execution_count": 2,
   "metadata": {},
   "outputs": [],
   "source": [
    "nlp = spacy.load('en_core_web_sm', disable=[\"tok2vec\", \"tagger\", \"parser\", \"attribute_ruler\", \"lemmatizer\"])"
   ]
  },
  {
   "cell_type": "code",
   "execution_count": 12,
   "metadata": {},
   "outputs": [],
   "source": [
    "df_train = pd.read_csv('data/train.csv')\n",
    "texts_train = []\n",
    "for doc in nlp.pipe(df_train['text'], batch_size=50, n_process=-1):\n",
    "\ttexts_train.append(\"\".join([ent.text_with_ws for ent in doc if not ent.ent_type_]))\n",
    "df_train['text'] = texts_train\n",
    "df_train.to_csv('data/train_noents.csv', index=False)\n",
    "\n",
    "df_test = pd.read_csv('data/test.csv')\n",
    "texts_test = []\n",
    "for doc in nlp.pipe(df_test['text'], batch_size=50, n_process=-1):\n",
    "\ttexts_test.append(\"\".join([ent.text_with_ws for ent in doc if not ent.ent_type_]))\n",
    "df_test['text'] = texts_test\n",
    "df_test.to_csv('data/test_noents.csv', index=False)"
   ]
  },
  {
   "cell_type": "code",
   "execution_count": null,
   "metadata": {},
   "outputs": [],
   "source": []
  }
 ],
 "metadata": {
  "kernelspec": {
   "display_name": "Python 3.8.13 ('mle')",
   "language": "python",
   "name": "python3"
  },
  "language_info": {
   "codemirror_mode": {
    "name": "ipython",
    "version": 3
   },
   "file_extension": ".py",
   "mimetype": "text/x-python",
   "name": "python",
   "nbconvert_exporter": "python",
   "pygments_lexer": "ipython3",
   "version": "3.8.13"
  },
  "orig_nbformat": 4,
  "vscode": {
   "interpreter": {
    "hash": "ffd476221aad3c65cf7b9cfadca29d1dc25216bb4f6692fc91b0f2c91feb40ba"
   }
  }
 },
 "nbformat": 4,
 "nbformat_minor": 2
}
