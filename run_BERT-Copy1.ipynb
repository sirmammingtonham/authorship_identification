{
 "cells": [
  {
   "cell_type": "code",
   "execution_count": 1,
   "metadata": {
    "colab": {
     "base_uri": "https://localhost:8080/"
    },
    "executionInfo": {
     "elapsed": 804,
     "status": "ok",
     "timestamp": 1668038988074,
     "user": {
      "displayName": "Yang Su",
      "userId": "02255409601147553219"
     },
     "user_tz": 300
    },
    "id": "5rMzpzIpaQox",
    "outputId": "7bc7df52-20b5-4943-b2b7-3dff3d8b6496"
   },
   "outputs": [
    {
     "name": "stderr",
     "output_type": "stream",
     "text": [
      "/home/ys724/.conda/envs/venv/lib/python3.8/site-packages/tqdm/auto.py:22: TqdmWarning: IProgress not found. Please update jupyter and ipywidgets. See https://ipywidgets.readthedocs.io/en/stable/user_install.html\n",
      "  from .autonotebook import tqdm as notebook_tqdm\n",
      "/home/ys724/.conda/envs/venv/lib/python3.8/site-packages/scipy/__init__.py:146: UserWarning: A NumPy version >=1.16.5 and <1.23.0 is required for this version of SciPy (detected version 1.23.4\n",
      "  warnings.warn(f\"A NumPy version >={np_minversion} and <{np_maxversion}\"\n"
     ]
    }
   ],
   "source": [
    "# from google.colab import drive\n",
    "# drive.mount('/content/drive')\n",
    "\n",
    "# import os\n",
    "# os.chdir(\"drive/MyDrive/Colab Notebooks/Authorship Identification/\")\n",
    "\n",
    "import re\n",
    "import torch\n",
    "import numpy as np\n",
    "import pandas as pd\n",
    "from scipy import sparse\n",
    "from sklearn import preprocessing\n",
    "from sklearn.feature_extraction.text import TfidfVectorizer\n",
    "from transformers import DistilBertTokenizer, BertTokenizer, DebertaTokenizer\n",
    "\n",
    "random_seed = 42\n",
    "np.random.seed = 42\n",
    "torch.random.seed = 42"
   ]
  },
  {
   "cell_type": "markdown",
   "metadata": {
    "id": "Ee77QrMg9wSq"
   },
   "source": [
    "### Load C50 Dataset (if already loaded)"
   ]
  },
  {
   "cell_type": "markdown",
   "metadata": {
    "id": "p3bN7yWQkfv8"
   },
   "source": [
    "- this (original dataset) is 50 train - 50 test split"
   ]
  },
  {
   "cell_type": "code",
   "execution_count": null,
   "metadata": {
    "id": "MXBXPc3g9rUN"
   },
   "outputs": [],
   "source": [
    "train_df = pd.read_csv('../authorship_identification/data/train.csv')\n",
    "test_df = pd.read_csv('../authorship_identification/data/test.csv')\n",
    "train_df.rename(columns={'text': 'content', 'label': 'author'}, inplace=True)\n",
    "test_df.rename(columns={'text': 'content', 'label': 'author'}, inplace=True)"
   ]
  },
  {
   "cell_type": "markdown",
   "metadata": {
    "id": "osbEmbZ-4Sgj"
   },
   "source": [
    "- this dataset is the original one with entity names removed"
   ]
  },
  {
   "cell_type": "code",
   "execution_count": 11,
   "metadata": {
    "executionInfo": {
     "elapsed": 210,
     "status": "ok",
     "timestamp": 1668040072128,
     "user": {
      "displayName": "Yang Su",
      "userId": "02255409601147553219"
     },
     "user_tz": 300
    },
    "id": "jtn4mZWz3hqz"
   },
   "outputs": [],
   "source": [
    "train_df = pd.read_csv('../authorship_identification/data/train_noents.csv')\n",
    "test_df = pd.read_csv('../authorship_identification/data/test_noents.csv')\n",
    "train_df.rename(columns={'text': 'content', 'label': 'author'}, inplace=True)\n",
    "test_df.rename(columns={'text': 'content', 'label': 'author'}, inplace=True)"
   ]
  },
  {
   "cell_type": "markdown",
   "metadata": {
    "id": "6KCKg8WBknTs"
   },
   "source": [
    "- this is 90 train - 10 test split"
   ]
  },
  {
   "cell_type": "code",
   "execution_count": null,
   "metadata": {
    "id": "6qizdu9fkmz8"
   },
   "outputs": [],
   "source": [
    "test_frac = 0.1\n",
    "train_df = pd.concat([train_df, test_df])\n",
    "test_df = train_df.sample(frac=test_frac, random_state=random_seed)\n",
    "train_df = train_df.drop(test_df.index)"
   ]
  },
  {
   "cell_type": "markdown",
   "metadata": {
    "id": "X0d03x1zf5Qf"
   },
   "source": [
    "### Load \"All the News\" 1 Dataset"
   ]
  },
  {
   "cell_type": "code",
   "execution_count": null,
   "metadata": {
    "colab": {
     "base_uri": "https://localhost:8080/"
    },
    "executionInfo": {
     "elapsed": 6519,
     "status": "ok",
     "timestamp": 1668036510611,
     "user": {
      "displayName": "Yang Su",
      "userId": "02255409601147553219"
     },
     "user_tz": 300
    },
    "id": "bEqlpU6Ff8eY",
    "outputId": "53eab2d9-b20f-4acd-caef-fe40ce5108ba"
   },
   "outputs": [],
   "source": [
    "train_df = pd.read_csv('data/all_the_news_noents.csv')\n",
    "train_df = train_df[(train_df.publication == 'Breitbart')]\n",
    "top10_authors = train_df[['author','id']].groupby('author').count().sort_values(by='id', ascending=False).head(10).reset_index() # this == what the paper proposed\n",
    "print('The authors are', top10_authors.author.values)\n",
    "train_df = pd.merge(train_df, top10_authors[['author']], on='author', how='right')\n",
    "train_df = train_df.groupby(by='author').sample(500, random_state=random_seed)\n",
    "train_df.shape"
   ]
  },
  {
   "cell_type": "markdown",
   "metadata": {
    "id": "6BDDlKnbeDUu"
   },
   "source": [
    "### Preprocessing"
   ]
  },
  {
   "cell_type": "code",
   "execution_count": 12,
   "metadata": {
    "executionInfo": {
     "elapsed": 875,
     "status": "ok",
     "timestamp": 1668040082236,
     "user": {
      "displayName": "Yang Su",
      "userId": "02255409601147553219"
     },
     "user_tz": 300
    },
    "id": "Wt6Zc73y4sFD"
   },
   "outputs": [],
   "source": [
    "# if C50 split 50-50\n",
    "test_frac = 0\n",
    "\n",
    "# if NOT C50 split 50-50\n",
    "# test_frac = 0.15\n",
    "# test_df = train_df.sample(frac=test_frac, random_state=random_seed)\n",
    "# train_df = train_df.drop(test_df.index).reset_index()\n",
    "# test_df = test_df.reset_index()\n",
    "\n",
    "le = preprocessing.LabelEncoder()\n",
    "le.fit(train_df['author'])\n",
    "train_df['author_id'] = le.transform(train_df['author']).astype(int)\n",
    "test_df['author_id'] = le.transform(test_df['author']).astype(int)\n",
    "tokenizer = BertTokenizer.from_pretrained('bert-base-uncased')"
   ]
  },
  {
   "cell_type": "code",
   "execution_count": 13,
   "metadata": {
    "colab": {
     "base_uri": "https://localhost:8080/"
    },
    "executionInfo": {
     "elapsed": 783,
     "status": "ok",
     "timestamp": 1668040087088,
     "user": {
      "displayName": "Yang Su",
      "userId": "02255409601147553219"
     },
     "user_tz": 300
    },
    "id": "keYoKbPLifti",
    "outputId": "71e76a53-f862-42c1-eef6-da12928d96d7"
   },
   "outputs": [
    {
     "name": "stdout",
     "output_type": "stream",
     "text": [
      "The average length of text of an article in training set is 420.3584 and in test set is 427.668\n"
     ]
    }
   ],
   "source": [
    "print('The average length of text of an article in training set is', np.mean([len(content.split()) for content in train_df['content'].values]), \n",
    "      'and in test set is', np.mean([len(content.split()) for content in test_df['content'].values]))"
   ]
  },
  {
   "cell_type": "code",
   "execution_count": 14,
   "metadata": {},
   "outputs": [],
   "source": [
    "valid_frac = 0.1 / (1 - test_frac)\n",
    "valid_df = train_df.sample(frac=valid_frac, random_state=random_seed)\n",
    "valid_index = valid_df.index\n",
    "train_df = train_df.drop(valid_df.index).reset_index()\n",
    "valid_df = valid_df.reset_index()"
   ]
  },
  {
   "cell_type": "code",
   "execution_count": 15,
   "metadata": {},
   "outputs": [
    {
     "data": {
      "text/plain": [
       "0       The Czech capital market, roundly criticised for a lack of transparency, needs an independent re...\n",
       "1       Sweden beat the Czech Republic 3-0 in a World Cup ice hockey game on Thursday, setting up a show...\n",
       "2       The fall in the Czech trade deficit to 10.5 billion crowns in September from 14.5 billion in Aug...\n",
       "3       Czech paper concern Sepap Group a.s. on Friday said its nine-month net profit fell as a shutdown...\n",
       "4       Czech shares rallied on Monday following the coalition government's win in weekend Senate electi...\n",
       "                                                       ...                                                 \n",
       "2245    \"The Times They Are a-Changin\" -- Bob Dylan's counter-culture anthem of the 1960's  -- is being ...\n",
       "2246    Veronika Hirsch, the flamboyant Canadian stock picker hired recently to spearhead Fidelity Inves...\n",
       "2247    Toronto, Canada's biggest city and financial capital, is bracing for a near shutdown Friday when...\n",
       "2248    Anti-government protests swept across Canada's biggest city on Friday as demonstrators in Toront...\n",
       "2249    Ontario Hydro, North America's biggest power utility, said Tuesday that it would take a huge C$2...\n",
       "Name: text, Length: 2250, dtype: object"
      ]
     },
     "execution_count": 15,
     "metadata": {},
     "output_type": "execute_result"
    }
   ],
   "source": [
    "pd.options.display.max_colwidth = 100\n",
    "tmp_df = pd.read_csv('../authorship_identification/data/train.csv').drop(valid_index).reset_index()\n",
    "# tmp_df = tmp_df.merge(train_df[['Unnamed: 0']], how='right')\n",
    "tmp_df['text']"
   ]
  },
  {
   "cell_type": "code",
   "execution_count": null,
   "metadata": {
    "colab": {
     "base_uri": "https://localhost:8080/"
    },
    "executionInfo": {
     "elapsed": 529,
     "status": "ok",
     "timestamp": 1668040015466,
     "user": {
      "displayName": "Yang Su",
      "userId": "02255409601147553219"
     },
     "user_tz": 300
    },
    "id": "Byd3S_GRhFjr",
    "outputId": "6ea6d056-f683-4608-c999-ee4714a907cd"
   },
   "outputs": [],
   "source": [
    "#     text = tokenizer(\"Commonwealth [MASK] of Australia (_) managing\", padding='max_length', max_length = 32, truncation=True, return_tensors=\"pt\")\n",
    "#     print(text)\n",
    "#     mask_val = tokenizer.vocab.get('[MASK]')\n",
    "#     text['attention_mask'] = torch.where(text['input_ids'] == mask_val, 0, text['attention_mask'])\n",
    "#     print(text)\n",
    "#     text = \"Westpac Banking Corp Ltd is expected to report on Tuesday that its net profit growth was reined\"\n",
    "#     sub = \"Banking\"\n",
    "#     i = text.find(sub)\n",
    "#     print(i, text[i-1], text[i+len(sub)])\n",
    "#     if i == -1 or (i > 0 and text[i-1].isalpha()) or (i+len(sub) < len(text) and text[i+len(sub)].isalpha()):\n",
    "#         print('no')\n",
    "#     else:\n",
    "#         print('yes')\n",
    "# tokenizer.mask_token_id, tokenizer.all_special_ids, tokenizer.special_tokens_map\n",
    "# tokenizer(\"[MASK] fheou  hewoh iwo\")\n",
    "# tmp = tokenizer.tokenize(\"In a column intended to suggest the National Rifle Association (NRA) is exaggerating Hillary\")\n",
    "# tmp2 = tokenizer.convert_tokens_to_string(tmp)\n",
    "# tmp, tmp2"
   ]
  },
  {
   "cell_type": "code",
   "execution_count": 6,
   "metadata": {
    "executionInfo": {
     "elapsed": 330,
     "status": "ok",
     "timestamp": 1668040084521,
     "user": {
      "displayName": "Yang Su",
      "userId": "02255409601147553219"
     },
     "user_tz": 300
    },
    "id": "PFq0C3KtP8iR"
   },
   "outputs": [],
   "source": [
    "import re\n",
    "\n",
    "def mask_contents(threshold, mask_token='[MASK]'):\n",
    "    vectorizer = TfidfVectorizer(ngram_range=(1, 2), lowercase=False) #, stop_words='english')\n",
    "    vectorizer.fit(pd.concat([train_df['content'], valid_df['content']]))\n",
    "    X_train = vectorizer.transform(train_df['content'])\n",
    "    X_valid = vectorizer.transform(valid_df['content'])\n",
    "    X_test = vectorizer.transform(test_df['content'])\n",
    "    feat_names = vectorizer.get_feature_names_out()\n",
    "    feat_idf = vectorizer.idf_\n",
    "\n",
    "    def mask_content(X, df):\n",
    "        mask_words = set(feat_names[feat_idf >= threshold])\n",
    "        ret = []\n",
    "        for i in range(df['content'].shape[0]):\n",
    "            text = df['content'][i]\n",
    "            splits = re.split(r\"(?u)\\b\\w\\w+\\b\", text)\n",
    "            tokens = re.findall(r\"(?u)\\b\\w\\w+\\b\", text)\n",
    "            tokens_masked = []\n",
    "            i = 0\n",
    "            while i < len(tokens):\n",
    "                t = tokens[i]\n",
    "                if t in mask_words: # 1-gram\n",
    "                    tokens_masked.append(mask_token)\n",
    "                    i += 1\n",
    "                elif i < len(tokens_masked)-1 and t + ' ' + tokens[i+1] in mask_words: # 2-gram\n",
    "                    tokens_masked.append(mask_token)\n",
    "                    tokens_masked.append(mask_token)\n",
    "                    i += 2\n",
    "                else:\n",
    "                    tokens_masked.append(t)\n",
    "                    i += 1\n",
    "            text_masked = ''.join([a + b for a, b in zip(splits, tokens_masked)])\n",
    "            ret.append(text_masked)\n",
    "        return ret\n",
    "\n",
    "    train_df['masked_content'] = mask_content(X_train, train_df)\n",
    "    valid_df['masked_content'] = mask_content(X_valid, valid_df)\n",
    "    test_df['masked_content'] = mask_content(X_test, test_df)"
   ]
  },
  {
   "cell_type": "code",
   "execution_count": 7,
   "metadata": {},
   "outputs": [
    {
     "data": {
      "text/plain": [
       "0       The _ market, _ _ for a _ of _, _ an _ _, but it is not a _ for all of the market's _, a _ _ sai...\n",
       "1       _ the _ 3-0 in a _ _ _ on , _ up a _ for _ _ _ and _ the _ _ _ _ for _.\\nThe _-_ _ _ of the _ fr...\n",
       "2       The _ in the _ _ to _ in from in _ market _, and the _ _ _ _ _ is on _, analysts said on .\\n() _...\n",
       "3       _ _ a.s. on said its _ _ _ as a _ of its _ _ _, _ with a _ in the _ _ _ into its _ _.\\nsaid its ...\n",
       "4       _ _ on _ the _ _'s _ in _, but analysts said the _ was _ more to a _ _ than to a _ in _ _.\\n_ _ ...\n",
       "                                                       ...                                                 \n",
       "2245    \"\" -- _-_ _ of the 's  -- is _ _ in a _ for a _ and some _ are up in _.\\nis _ a _ _ _ the _'s _ ...\n",
       "2246    , the _ _ _ _ _ to _ _ to _ the market, has been _ from _ _ as _ is _ by _.\\nThe _ _ -- after 's...\n",
       "2247    , 's _ _ and _ _, is _ for a _ _ when _ _ the _ _ _ _ _ by 's _ _.\\nThe _-_ \"\" on and are _ up t...\n",
       "2248    _-_ _ _ _ 's _ _ on as _ in _ _ the _ _, _ _ and _ to _ into .\\n\"We'_ _ to the _ _ the _ _ is .....\n",
       "2249    , _ _ _, said that it would _ a _ () _ in to _ its _ _.\\nThe _-_, _ _-_ _ said its _ of _ also _...\n",
       "Name: masked_content, Length: 2250, dtype: object"
      ]
     },
     "execution_count": 7,
     "metadata": {},
     "output_type": "execute_result"
    }
   ],
   "source": [
    "# for visualization ONLY\n",
    "pd.options.display.max_colwidth = 100\n",
    "mask_contents(threshold=2., mask_token='_')\n",
    "train_df['masked_content']"
   ]
  },
  {
   "cell_type": "markdown",
   "metadata": {
    "id": "A7xzXXdd6RID"
   },
   "source": [
    "### Dataset Class"
   ]
  },
  {
   "cell_type": "code",
   "execution_count": 8,
   "metadata": {
    "executionInfo": {
     "elapsed": 2,
     "status": "ok",
     "timestamp": 1668040088490,
     "user": {
      "displayName": "Yang Su",
      "userId": "02255409601147553219"
     },
     "user_tz": 300
    },
    "id": "F0fUzQPv5pDE"
   },
   "outputs": [],
   "source": [
    "class Dataset(torch.utils.data.Dataset):\n",
    "\n",
    "    def __init__(self, df):\n",
    "\n",
    "        self.labels = df['author_id'].values\n",
    "        self.texts = [tokenizer(text, \n",
    "                               padding='max_length', max_length = 512, truncation=True,\n",
    "                                return_tensors=\"pt\") for text in df['masked_content']]\n",
    "        # add attention mask\n",
    "#         mask_val = tokenizer.vocab.get('_')\n",
    "#         for text in self.texts:\n",
    "#             text['attention_mask'] = torch.where(text['input_ids'] == mask_val, 0, text['attention_mask'])\n",
    "\n",
    "    def classes(self):\n",
    "        return self.labels\n",
    "\n",
    "    def __len__(self):\n",
    "        return len(self.labels)\n",
    "\n",
    "    def get_batch_labels(self, idx):\n",
    "        # Fetch a batch of labels\n",
    "        return np.array(self.labels[idx])\n",
    "\n",
    "    def get_batch_texts(self, idx):\n",
    "        # Fetch a batch of inputs\n",
    "        return self.texts[idx]\n",
    "\n",
    "    def __getitem__(self, idx):\n",
    "\n",
    "        batch_texts = self.get_batch_texts(idx)\n",
    "        batch_y = self.get_batch_labels(idx)\n",
    "\n",
    "        return batch_texts, batch_y"
   ]
  },
  {
   "cell_type": "markdown",
   "metadata": {
    "id": "PsNlow3J6Us5"
   },
   "source": [
    "### Model Class"
   ]
  },
  {
   "cell_type": "code",
   "execution_count": 9,
   "metadata": {
    "executionInfo": {
     "elapsed": 2,
     "status": "ok",
     "timestamp": 1668040089555,
     "user": {
      "displayName": "Yang Su",
      "userId": "02255409601147553219"
     },
     "user_tz": 300
    },
    "id": "1cGKWv_F6at7"
   },
   "outputs": [],
   "source": [
    "from torch import nn\n",
    "from transformers import DistilBertForSequenceClassification, BertForSequenceClassification, DebertaForSequenceClassification, get_linear_schedule_with_warmup\n",
    "\n",
    "class BertClassifier(nn.Module):\n",
    "\n",
    "    def __init__(self, dropout=0.5):\n",
    "\n",
    "        super().__init__()\n",
    "\n",
    "        self.bert = BertForSequenceClassification.from_pretrained('bert-base-uncased', num_labels=len(le.classes_))\n",
    "        # self.dropout = nn.Dropout(dropout)\n",
    "        # self.linear = nn.Linear(768, 50)\n",
    "        # self.relu = nn.ReLU()\n",
    "\n",
    "    def forward(self, input_id, labels=None):\n",
    "\n",
    "        # pooled_output, = self.bert(input_ids=input_id, attention_mask=mask, return_dict=False)\n",
    "        # pooled_output = pooled_output[:,0,:]\n",
    "        # dropout_output = self.dropout(pooled_output)\n",
    "        # linear_output = self.linear(dropout_output)\n",
    "        # final_layer = self.relu(linear_output)\n",
    "        # print(input_id.shape, labels.shape)\n",
    "        final_layer = self.bert(input_id, labels=labels)\n",
    "\n",
    "        return final_layer"
   ]
  },
  {
   "cell_type": "markdown",
   "metadata": {
    "id": "MOWKtqfQ6zMl"
   },
   "source": [
    "### Training"
   ]
  },
  {
   "cell_type": "code",
   "execution_count": null,
   "metadata": {
    "executionInfo": {
     "elapsed": 2,
     "status": "ok",
     "timestamp": 1668040091489,
     "user": {
      "displayName": "Yang Su",
      "userId": "02255409601147553219"
     },
     "user_tz": 300
    },
    "id": "MDXX8kH8Lifw"
   },
   "outputs": [],
   "source": [
    "# !git clone https://gist.github.com/NTT123/4596e5533e573c8ceab2f319ab5d36a2 jslog\n",
    "# import random\n",
    "# import math\n",
    "# import time\n",
    "# from jslog.jslogger import JSLogger\n",
    "\n",
    "# logger = JSLogger('train/valid loss', ['train', 'valid'])\n",
    "# logger_ = JSLogger('train/valid accuracy', ['train', 'valid'])"
   ]
  },
  {
   "cell_type": "code",
   "execution_count": null,
   "metadata": {
    "colab": {
     "base_uri": "https://localhost:8080/",
     "height": 1000
    },
    "executionInfo": {
     "elapsed": 1179738,
     "status": "ok",
     "timestamp": 1668042674342,
     "user": {
      "displayName": "Yang Su",
      "userId": "02255409601147553219"
     },
     "user_tz": 300
    },
    "id": "wwv_Nnaw6y8t",
    "outputId": "a8710410-5417-4c74-c521-64aecf595737",
    "scrolled": false
   },
   "outputs": [
    {
     "name": "stderr",
     "output_type": "stream",
     "text": [
      "Some weights of the model checkpoint at bert-base-uncased were not used when initializing BertForSequenceClassification: ['cls.predictions.transform.LayerNorm.weight', 'cls.predictions.decoder.weight', 'cls.predictions.transform.LayerNorm.bias', 'cls.seq_relationship.bias', 'cls.predictions.transform.dense.weight', 'cls.seq_relationship.weight', 'cls.predictions.bias', 'cls.predictions.transform.dense.bias']\n",
      "- This IS expected if you are initializing BertForSequenceClassification from the checkpoint of a model trained on another task or with another architecture (e.g. initializing a BertForSequenceClassification model from a BertForPreTraining model).\n",
      "- This IS NOT expected if you are initializing BertForSequenceClassification from the checkpoint of a model that you expect to be exactly identical (initializing a BertForSequenceClassification model from a BertForSequenceClassification model).\n",
      "Some weights of BertForSequenceClassification were not initialized from the model checkpoint at bert-base-uncased and are newly initialized: ['classifier.bias', 'classifier.weight']\n",
      "You should probably TRAIN this model on a down-stream task to be able to use it for predictions and inference.\n"
     ]
    },
    {
     "name": "stdout",
     "output_type": "stream",
     "text": [
      "There are 109520690 parameters\n",
      "0       The [MASK] market, [MASK] [MASK] for a [MASK] of [MASK], [MASK] an [MASK] [MASK], but it is not ...\n",
      "1       [MASK] the [MASK] 3-0 in a [MASK] [MASK] [MASK] on , [MASK] up a [MASK] for group [MASK] against...\n",
      "2       The [MASK] in the [MASK] [MASK] to [MASK] in from in [MASK] market [MASK], and the [MASK] [MASK]...\n",
      "3       [MASK] [MASK] a.s. on said its [MASK] profit [MASK] as a [MASK] of its [MASK] [MASK] [MASK], [MA...\n",
      "4       shares [MASK] on [MASK] the [MASK] government's [MASK] in [MASK], but analysts said the rise was...\n",
      "                                                       ...                                                 \n",
      "2245    \"\" -- [MASK]-[MASK] [MASK] of the 's  -- is being used in a [MASK] for a bank and some [MASK] ar...\n",
      "2246    , the [MASK] stock [MASK] [MASK] [MASK] to [MASK] [MASK] to [MASK] the market, has been [MASK] f...\n",
      "2247    , 's biggest [MASK] and financial [MASK], is [MASK] for a [MASK] [MASK] when [MASK] [MASK] the [...\n",
      "2248    [MASK]-government [MASK] [MASK] [MASK] 's biggest [MASK] on as [MASK] in [MASK] down the [MASK] ...\n",
      "2249    , biggest [MASK] [MASK], said that it would take a [MASK] () [MASK] in to [MASK] its financial [...\n",
      "Name: masked_content, Length: 2250, dtype: object\n"
     ]
    }
   ],
   "source": [
    "from torch.optim import AdamW\n",
    "from tqdm import tqdm\n",
    "from sklearn.metrics import accuracy_score, f1_score\n",
    "\n",
    "def train(model, train_data, val_data, learning_rate, epochs, batch_size):\n",
    "\n",
    "    train, val = Dataset(train_data), Dataset(val_data)\n",
    "\n",
    "    train_dataloader = torch.utils.data.DataLoader(train, batch_size=batch_size, shuffle=True)\n",
    "    val_dataloader = torch.utils.data.DataLoader(val, batch_size=batch_size)\n",
    "\n",
    "    use_cuda = torch.cuda.is_available()\n",
    "    device = torch.device(\"cuda\" if use_cuda else \"cpu\")\n",
    "\n",
    "    criterion = nn.CrossEntropyLoss()\n",
    "    optimizer = AdamW(model.parameters(), lr=learning_rate)\n",
    "    lr_scheduler = get_linear_schedule_with_warmup(\n",
    "        optimizer=optimizer,\n",
    "        num_warmup_steps=100,\n",
    "        num_training_steps=len(train_dataloader) * epochs,\n",
    "    )\n",
    "\n",
    "    if use_cuda:\n",
    "        \n",
    "        print('cuda version', torch.__version__)\n",
    "        model = model.cuda()\n",
    "        criterion = criterion.cuda()\n",
    "\n",
    "    for epoch_num in range(epochs):\n",
    "        \n",
    "        train_loss = 0\n",
    "        train_pred = []\n",
    "        train_truth = []\n",
    "        model.train()\n",
    "\n",
    "        for train_input, train_label in tqdm(train_dataloader):\n",
    "\n",
    "            train_label = train_label.to(device)\n",
    "            # mask = train_input['attention_mask'].to(device)\n",
    "            input_id = train_input['input_ids'].squeeze(1).to(device)\n",
    "\n",
    "            output = model(input_id, train_label)\n",
    "                \n",
    "            # batch_loss = criterion(output, train_label.long())\n",
    "            batch_loss = output.loss\n",
    "            train_loss += batch_loss.item()\n",
    "            train_pred.append(output.logits.argmax(dim=1))\n",
    "            train_truth.append(train_label)\n",
    "\n",
    "            model.zero_grad()\n",
    "            batch_loss.backward()\n",
    "            optimizer.step()\n",
    "            lr_scheduler.step()\n",
    "                \n",
    "        train_truth = torch.cat(train_truth).detach().cpu().numpy()\n",
    "        train_pred = torch.cat(train_pred).detach().cpu().numpy()\n",
    "        train_acc = accuracy_score(train_truth, train_pred)\n",
    "        train_f1 = f1_score(train_truth, train_pred, average='macro')\n",
    "            \n",
    "        val_loss = 0\n",
    "        val_pred = []\n",
    "        val_truth = []\n",
    "        model.eval()\n",
    "\n",
    "        with torch.no_grad():\n",
    "\n",
    "            for val_input, val_label in val_dataloader:\n",
    "\n",
    "                val_label = val_label.to(device)\n",
    "                # mask = val_input['attention_mask'].to(device)\n",
    "                input_id = val_input['input_ids'].squeeze(1).to(device)\n",
    "\n",
    "                output = model(input_id, val_label)\n",
    "\n",
    "                # batch_loss = criterion(output, val_label.long())\n",
    "                batch_loss = output.loss\n",
    "                val_loss += batch_loss.item()\n",
    "                val_pred.append(output.logits.argmax(dim=1))\n",
    "                val_truth.append(val_label)\n",
    "            \n",
    "        val_truth = torch.cat(val_truth).detach().cpu().numpy()\n",
    "        val_pred = torch.cat(val_pred).detach().cpu().numpy()\n",
    "        val_acc = accuracy_score(val_truth, val_pred)\n",
    "        val_f1 = f1_score(val_truth, val_pred, average='macro')\n",
    "            \n",
    "        print('Epochs: {} | Train Loss: {:.4f} | Train Accuracy: {:.4f} | Train F1: {:.4f}'\\\n",
    "                .format(epoch_num + 1, train_loss, train_acc, train_f1))\n",
    "        print('           | Val Loss:   {:.4f} | Val Accuracy:   {:.4f} | Val F1:   {:.4f}'\\\n",
    "                .format(val_loss, val_acc, val_f1))\n",
    "            \n",
    "        # logger.log(epoch_num + 1, {'train': total_loss_train / len(train_data), 'valid': total_loss_val / len(val_data)})\n",
    "        # logger_.log(epoch_num + 1, {'train': total_acc_train / len(train_data), 'valid': total_acc_val / len(val_data)})\n",
    "    return train_acc, train_f1, val_acc, val_f1\n",
    "\n",
    "# logger.show()\n",
    "# logger_.show()\n",
    "EPOCHS = 15\n",
    "LR = 2e-5\n",
    "BATCH_SIZE = 16\n",
    "model = BertClassifier()\n",
    "print('There are', sum(p.numel() for p in model.parameters()), 'parameters')\n",
    "\n",
    "mask_contents(threshold=3.)\n",
    "print(train_df['masked_content'])\n",
    "              \n",
    "train(model, train_df, valid_df, LR, EPOCHS, BATCH_SIZE)"
   ]
  },
  {
   "cell_type": "markdown",
   "metadata": {
    "id": "Rv_BDjcu7MWm"
   },
   "source": [
    "### Evaluate"
   ]
  },
  {
   "cell_type": "code",
   "execution_count": null,
   "metadata": {
    "colab": {
     "base_uri": "https://localhost:8080/"
    },
    "executionInfo": {
     "elapsed": 57465,
     "status": "ok",
     "timestamp": 1668042731796,
     "user": {
      "displayName": "Yang Su",
      "userId": "02255409601147553219"
     },
     "user_tz": 300
    },
    "id": "_v6cYf8e7OMw",
    "outputId": "5606f1c7-0c75-4ec0-ae90-83706ccd36b1"
   },
   "outputs": [],
   "source": [
    "def evaluate(model, test_data):\n",
    "\n",
    "    test = Dataset(test_data)\n",
    "\n",
    "    test_dataloader = torch.utils.data.DataLoader(test, batch_size=32)\n",
    "\n",
    "    use_cuda = torch.cuda.is_available()\n",
    "    device = torch.device(\"cuda\" if use_cuda else \"cpu\")\n",
    "\n",
    "    if use_cuda:\n",
    "\n",
    "        model = model.cuda()\n",
    "\n",
    "    test_pred = []\n",
    "    test_truth = []\n",
    "    model.eval()\n",
    "    \n",
    "    with torch.no_grad():\n",
    "\n",
    "        for test_input, test_label in test_dataloader:\n",
    "            \n",
    "            test_label = test_label.to(device)\n",
    "            # mask = test_input['attention_mask'].to(device)\n",
    "            input_id = test_input['input_ids'].squeeze(1).to(device)\n",
    "\n",
    "            output = model(input_id, test_label)\n",
    "\n",
    "            test_pred.append(output.logits.argmax(dim=1))\n",
    "            test_truth.append(test_label)\n",
    "        \n",
    "        test_truth = torch.cat(test_truth).detach().cpu().numpy()\n",
    "        test_pred = torch.cat(test_pred).detach().cpu().numpy()\n",
    "        test_acc = accuracy_score(test_truth, test_pred)\n",
    "        test_f1 = f1_score(test_truth, test_pred, average='macro')\n",
    "    \n",
    "    print('Test Accuracy:  {:.4f} | Test F1:  {:.4f}'.format(test_acc, test_f1))\n",
    "    return test_acc, test_f1\n",
    "    \n",
    "print(test_df['masked_content'])\n",
    "evaluate(model, test_df)"
   ]
  },
  {
   "cell_type": "markdown",
   "metadata": {},
   "source": [
    "### Fine-Tuning"
   ]
  },
  {
   "cell_type": "code",
   "execution_count": null,
   "metadata": {},
   "outputs": [],
   "source": [
    "def fine_tuning(lr_list, epoch_list, batch_list, checkpoint_path='tuning2'):\n",
    "    \n",
    "    index_list, index2_list, index3_list = [], [], []\n",
    "    train_accs, train_f1s = [], []\n",
    "    test_accs, test_f1s = [], []\n",
    "    \n",
    "    for lr in lr_list:\n",
    "        for epoch in epoch_list:\n",
    "            for batch_size in batch_list:\n",
    "            \n",
    "                model = BertClassifier()\n",
    "                # mask_contents(threshold=threshold)\n",
    "                print('lr at {}, epoch at {}, batch_size at {}'.format(lr, epoch, batch_size))\n",
    "                train_acc, train_f1, val_acc, val_f1 = train(model, train_df, valid_df, lr, epoch, batch_size)\n",
    "                test_acc, test_f1 = evaluate(model, test_df)\n",
    "\n",
    "                train_accs.append(train_acc)\n",
    "                train_f1s.append(train_f1)\n",
    "                test_accs.append(test_acc)\n",
    "                test_f1s.append(test_f1)\n",
    "                index_list.append(lr)\n",
    "                index2_list.append(epoch)\n",
    "                index3_list.append(batch_size)\n",
    "\n",
    "                result_df = pd.DataFrame(index_list, columns=['lr'])\n",
    "                result_df['epoch'] = index2_list\n",
    "                result_df['batch_size'] = index3_list\n",
    "                result_df['train_accs'] = train_accs\n",
    "                result_df['train_f1s'] = train_f1s\n",
    "                result_df['test_accs'] = test_accs\n",
    "                result_df['test_f1s'] = test_f1s\n",
    "                result_df['model_name'] = 'bert_uncased'\n",
    "                result_df.to_csv(checkpoint_path + '.csv', index=False)\n",
    "                # break\n",
    "    return index_list, index2_list, index3_list, train_accs, train_f1s, test_accs, test_f1s"
   ]
  },
  {
   "cell_type": "code",
   "execution_count": null,
   "metadata": {},
   "outputs": [],
   "source": [
    "# C50 [5e-5 + 10 + 16, 2e-5 + 15 + 16, 1e-5 + 15 + 8]\n",
    "# All The News [2e-5 + 15 + 16]\n",
    "lr_list = [2e-5] #[5e-5, 2e-5, 1e-5]\n",
    "epoch_list = [15] #[10, 15]\n",
    "batch_list = [16] #[16]\n",
    "fine_tuning(lr_list=lr_list, epoch_list=epoch_list, batch_list=batch_list)"
   ]
  },
  {
   "cell_type": "markdown",
   "metadata": {},
   "source": [
    "### Grid Search IDF"
   ]
  },
  {
   "cell_type": "code",
   "execution_count": 13,
   "metadata": {},
   "outputs": [],
   "source": [
    "import warnings\n",
    "\n",
    "def grid_search_idf(threshold_list, checkpoint_path='checkpoint_C502'):\n",
    "    \n",
    "    index_list = []\n",
    "    train_accs, train_f1s = [], []\n",
    "    test_accs, test_f1s = [], []\n",
    "    \n",
    "    for threshold in threshold_list:\n",
    "        \n",
    "        # warnings.filterwarnings(action='once')\n",
    "        model = BertClassifier()\n",
    "        mask_contents(threshold=threshold)\n",
    "        print('idf removal threshold at', threshold)\n",
    "        print(train_df['masked_content'])\n",
    "        train_acc, train_f1, val_acc, val_f1 = train(model, train_df, valid_df, LR, EPOCHS, BATCH_SIZE)\n",
    "        test_acc, test_f1 = evaluate(model, test_df)\n",
    "        \n",
    "        train_accs.append(train_acc)\n",
    "        train_f1s.append(train_f1)\n",
    "        test_accs.append(test_acc)\n",
    "        test_f1s.append(test_f1)\n",
    "        index_list.append(threshold)\n",
    "        \n",
    "        result_df = pd.DataFrame(index_list, columns=['idf_threshold'])\n",
    "        result_df['train_accs'] = train_accs\n",
    "        result_df['train_f1s'] = train_f1s\n",
    "        result_df['test_accs'] = test_accs\n",
    "        result_df['test_f1s'] = test_f1s\n",
    "        result_df['model_name'] = 'bert_uncased'\n",
    "        result_df.to_csv(checkpoint_path + '.csv', index=False)\n",
    "        # break\n",
    "    return index_list, train_accs, train_f1s, test_accs, test_f1s"
   ]
  },
  {
   "cell_type": "code",
   "execution_count": null,
   "metadata": {},
   "outputs": [
    {
     "name": "stderr",
     "output_type": "stream",
     "text": [
      "Some weights of the model checkpoint at bert-base-uncased were not used when initializing BertForSequenceClassification: ['cls.predictions.transform.dense.bias', 'cls.predictions.transform.LayerNorm.weight', 'cls.seq_relationship.bias', 'cls.predictions.decoder.weight', 'cls.predictions.transform.dense.weight', 'cls.seq_relationship.weight', 'cls.predictions.transform.LayerNorm.bias', 'cls.predictions.bias']\n",
      "- This IS expected if you are initializing BertForSequenceClassification from the checkpoint of a model trained on another task or with another architecture (e.g. initializing a BertForSequenceClassification model from a BertForPreTraining model).\n",
      "- This IS NOT expected if you are initializing BertForSequenceClassification from the checkpoint of a model that you expect to be exactly identical (initializing a BertForSequenceClassification model from a BertForSequenceClassification model).\n",
      "Some weights of BertForSequenceClassification were not initialized from the model checkpoint at bert-base-uncased and are newly initialized: ['classifier.weight', 'classifier.bias']\n",
      "You should probably TRAIN this model on a down-stream task to be able to use it for predictions and inference.\n"
     ]
    },
    {
     "name": "stdout",
     "output_type": "stream",
     "text": [
      "idf removal threshold at 7.5\n",
      "0       The capital market, [MASK] criticised for a lack of transparency, needs an independent regulator...\n",
      "1       beat the Republic 3-0 in a ice hockey game on , setting up a showdown for group [MASK] against a...\n",
      "2       The fall in the trade deficit to crowns in from in buoyed market sentiment, and the goods import...\n",
      "3       paper concern a.s. on said its net profit fell as a shutdown of its main paper mill, coupled wit...\n",
      "4       shares rallied on following the coalition government's win in elections, but analysts said the r...\n",
      "                                                       ...                                                 \n",
      "2245    \"\" -- counter-culture [MASK] of the 's  -- is being used in a [MASK] for a bank and some fans ar...\n",
      "2246    , the flamboyant stock picker hired recently to spearhead drive to dominate the market, has been...\n",
      "2247    , 's biggest city and financial capital, is [MASK] for a near shutdown when protesters hit the s...\n",
      "2248    Anti-government protests swept across 's biggest city on as demonstrators in shut down the trans...\n",
      "2249    , biggest power utility, said that it would take a huge () charge in to strengthen its financial...\n",
      "Name: masked_content, Length: 2250, dtype: object\n",
      "cuda version 1.13.0+cu117\n"
     ]
    },
    {
     "name": "stderr",
     "output_type": "stream",
     "text": [
      "100%|█████████████████████████████████████████| 141/141 [01:54<00:00,  1.24it/s]\n"
     ]
    },
    {
     "name": "stdout",
     "output_type": "stream",
     "text": [
      "Epochs: 1 | Train Loss: 545.6220 | Train Accuracy: 0.0502 | Train F1: 0.0389\n",
      "           | Val Loss:   58.0571 | Val Accuracy:   0.1560 | Val F1:   0.1045\n"
     ]
    },
    {
     "name": "stderr",
     "output_type": "stream",
     "text": [
      "100%|█████████████████████████████████████████| 141/141 [01:52<00:00,  1.26it/s]\n"
     ]
    },
    {
     "name": "stdout",
     "output_type": "stream",
     "text": [
      "Epochs: 2 | Train Loss: 447.7361 | Train Accuracy: 0.3311 | Train F1: 0.2949\n",
      "           | Val Loss:   43.5375 | Val Accuracy:   0.4720 | Val F1:   0.4092\n"
     ]
    },
    {
     "name": "stderr",
     "output_type": "stream",
     "text": [
      "100%|█████████████████████████████████████████| 141/141 [01:52<00:00,  1.26it/s]\n"
     ]
    },
    {
     "name": "stdout",
     "output_type": "stream",
     "text": [
      "Epochs: 3 | Train Loss: 339.5466 | Train Accuracy: 0.5311 | Train F1: 0.4945\n",
      "           | Val Loss:   34.4097 | Val Accuracy:   0.5560 | Val F1:   0.4879\n"
     ]
    },
    {
     "name": "stderr",
     "output_type": "stream",
     "text": [
      "100%|█████████████████████████████████████████| 141/141 [01:52<00:00,  1.26it/s]\n"
     ]
    },
    {
     "name": "stdout",
     "output_type": "stream",
     "text": [
      "Epochs: 4 | Train Loss: 265.6287 | Train Accuracy: 0.6440 | Train F1: 0.6180\n",
      "           | Val Loss:   27.4112 | Val Accuracy:   0.6560 | Val F1:   0.6003\n"
     ]
    },
    {
     "name": "stderr",
     "output_type": "stream",
     "text": [
      "100%|█████████████████████████████████████████| 141/141 [01:51<00:00,  1.26it/s]\n"
     ]
    },
    {
     "name": "stdout",
     "output_type": "stream",
     "text": [
      "Epochs: 5 | Train Loss: 205.7659 | Train Accuracy: 0.7627 | Train F1: 0.7487\n",
      "           | Val Loss:   23.2328 | Val Accuracy:   0.6920 | Val F1:   0.6503\n"
     ]
    },
    {
     "name": "stderr",
     "output_type": "stream",
     "text": [
      "100%|█████████████████████████████████████████| 141/141 [01:52<00:00,  1.26it/s]\n"
     ]
    },
    {
     "name": "stdout",
     "output_type": "stream",
     "text": [
      "Epochs: 6 | Train Loss: 162.2556 | Train Accuracy: 0.8289 | Train F1: 0.8228\n",
      "           | Val Loss:   19.5558 | Val Accuracy:   0.7400 | Val F1:   0.7161\n"
     ]
    },
    {
     "name": "stderr",
     "output_type": "stream",
     "text": [
      "100%|█████████████████████████████████████████| 141/141 [01:52<00:00,  1.26it/s]\n"
     ]
    },
    {
     "name": "stdout",
     "output_type": "stream",
     "text": [
      "Epochs: 7 | Train Loss: 129.3913 | Train Accuracy: 0.8756 | Train F1: 0.8710\n",
      "           | Val Loss:   17.4828 | Val Accuracy:   0.7560 | Val F1:   0.7263\n"
     ]
    },
    {
     "name": "stderr",
     "output_type": "stream",
     "text": [
      "100%|█████████████████████████████████████████| 141/141 [01:52<00:00,  1.26it/s]\n"
     ]
    },
    {
     "name": "stdout",
     "output_type": "stream",
     "text": [
      "Epochs: 8 | Train Loss: 103.1076 | Train Accuracy: 0.9142 | Train F1: 0.9111\n",
      "           | Val Loss:   15.7156 | Val Accuracy:   0.7520 | Val F1:   0.7288\n"
     ]
    },
    {
     "name": "stderr",
     "output_type": "stream",
     "text": [
      "100%|█████████████████████████████████████████| 141/141 [01:51<00:00,  1.26it/s]\n"
     ]
    },
    {
     "name": "stdout",
     "output_type": "stream",
     "text": [
      "Epochs: 9 | Train Loss: 83.2489 | Train Accuracy: 0.9476 | Train F1: 0.9453\n",
      "           | Val Loss:   14.3978 | Val Accuracy:   0.7880 | Val F1:   0.7717\n"
     ]
    },
    {
     "name": "stderr",
     "output_type": "stream",
     "text": [
      "100%|█████████████████████████████████████████| 141/141 [01:52<00:00,  1.26it/s]\n"
     ]
    },
    {
     "name": "stdout",
     "output_type": "stream",
     "text": [
      "Epochs: 10 | Train Loss: 69.4408 | Train Accuracy: 0.9600 | Train F1: 0.9574\n",
      "           | Val Loss:   13.6299 | Val Accuracy:   0.7760 | Val F1:   0.7538\n"
     ]
    },
    {
     "name": "stderr",
     "output_type": "stream",
     "text": [
      "100%|█████████████████████████████████████████| 141/141 [01:52<00:00,  1.26it/s]\n"
     ]
    },
    {
     "name": "stdout",
     "output_type": "stream",
     "text": [
      "Epochs: 11 | Train Loss: 57.6751 | Train Accuracy: 0.9791 | Train F1: 0.9782\n",
      "           | Val Loss:   12.7011 | Val Accuracy:   0.7960 | Val F1:   0.7570\n"
     ]
    },
    {
     "name": "stderr",
     "output_type": "stream",
     "text": [
      "100%|█████████████████████████████████████████| 141/141 [01:52<00:00,  1.26it/s]\n"
     ]
    },
    {
     "name": "stdout",
     "output_type": "stream",
     "text": [
      "Epochs: 12 | Train Loss: 50.4283 | Train Accuracy: 0.9867 | Train F1: 0.9861\n",
      "           | Val Loss:   12.1603 | Val Accuracy:   0.8000 | Val F1:   0.7835\n"
     ]
    },
    {
     "name": "stderr",
     "output_type": "stream",
     "text": [
      "100%|█████████████████████████████████████████| 141/141 [01:52<00:00,  1.26it/s]\n"
     ]
    },
    {
     "name": "stdout",
     "output_type": "stream",
     "text": [
      "Epochs: 13 | Train Loss: 45.3443 | Train Accuracy: 0.9907 | Train F1: 0.9904\n",
      "           | Val Loss:   11.6232 | Val Accuracy:   0.8160 | Val F1:   0.7990\n"
     ]
    },
    {
     "name": "stderr",
     "output_type": "stream",
     "text": [
      "100%|█████████████████████████████████████████| 141/141 [01:51<00:00,  1.26it/s]\n"
     ]
    },
    {
     "name": "stdout",
     "output_type": "stream",
     "text": [
      "Epochs: 14 | Train Loss: 41.9724 | Train Accuracy: 0.9942 | Train F1: 0.9940\n",
      "           | Val Loss:   11.4854 | Val Accuracy:   0.8040 | Val F1:   0.7897\n"
     ]
    },
    {
     "name": "stderr",
     "output_type": "stream",
     "text": [
      "100%|█████████████████████████████████████████| 141/141 [01:52<00:00,  1.26it/s]\n"
     ]
    },
    {
     "name": "stdout",
     "output_type": "stream",
     "text": [
      "Epochs: 15 | Train Loss: 39.8608 | Train Accuracy: 0.9960 | Train F1: 0.9958\n",
      "           | Val Loss:   11.4543 | Val Accuracy:   0.7960 | Val F1:   0.7774\n",
      "Test Accuracy:  0.6124 | Test F1:  0.6095\n"
     ]
    },
    {
     "name": "stderr",
     "output_type": "stream",
     "text": [
      "Some weights of the model checkpoint at bert-base-uncased were not used when initializing BertForSequenceClassification: ['cls.predictions.transform.dense.bias', 'cls.predictions.transform.LayerNorm.weight', 'cls.seq_relationship.bias', 'cls.predictions.decoder.weight', 'cls.predictions.transform.dense.weight', 'cls.seq_relationship.weight', 'cls.predictions.transform.LayerNorm.bias', 'cls.predictions.bias']\n",
      "- This IS expected if you are initializing BertForSequenceClassification from the checkpoint of a model trained on another task or with another architecture (e.g. initializing a BertForSequenceClassification model from a BertForPreTraining model).\n",
      "- This IS NOT expected if you are initializing BertForSequenceClassification from the checkpoint of a model that you expect to be exactly identical (initializing a BertForSequenceClassification model from a BertForSequenceClassification model).\n",
      "Some weights of BertForSequenceClassification were not initialized from the model checkpoint at bert-base-uncased and are newly initialized: ['classifier.weight', 'classifier.bias']\n",
      "You should probably TRAIN this model on a down-stream task to be able to use it for predictions and inference.\n"
     ]
    },
    {
     "name": "stdout",
     "output_type": "stream",
     "text": [
      "idf removal threshold at 7.0\n",
      "0       The capital market, [MASK] criticised for a lack of transparency, needs an independent regulator...\n",
      "1       beat the Republic 3-0 in a ice hockey game on , setting up a showdown for group [MASK] against a...\n",
      "2       The fall in the trade deficit to crowns in from in buoyed market sentiment, and the goods import...\n",
      "3       paper concern a.s. on said its net profit fell as a shutdown of its main paper mill, coupled wit...\n",
      "4       shares rallied on following the coalition government's win in elections, but analysts said the r...\n",
      "                                                       ...                                                 \n",
      "2245    \"\" -- counter-culture [MASK] of the 's  -- is being used in a [MASK] for a bank and some fans ar...\n",
      "2246    , the flamboyant stock picker hired recently to [MASK] drive to dominate the market, has been re...\n",
      "2247    , 's biggest city and financial capital, is [MASK] for a near shutdown when protesters hit the s...\n",
      "2248    Anti-government protests swept across 's biggest city on as demonstrators in shut down the trans...\n",
      "2249    , biggest power utility, said that it would take a huge () charge in to strengthen its financial...\n",
      "Name: masked_content, Length: 2250, dtype: object\n",
      "cuda version 1.13.0+cu117\n"
     ]
    },
    {
     "name": "stderr",
     "output_type": "stream",
     "text": [
      "100%|█████████████████████████████████████████| 141/141 [01:52<00:00,  1.26it/s]\n"
     ]
    },
    {
     "name": "stdout",
     "output_type": "stream",
     "text": [
      "Epochs: 1 | Train Loss: 549.6167 | Train Accuracy: 0.0347 | Train F1: 0.0200\n",
      "           | Val Loss:   59.2433 | Val Accuracy:   0.1120 | Val F1:   0.0710\n"
     ]
    },
    {
     "name": "stderr",
     "output_type": "stream",
     "text": [
      "100%|█████████████████████████████████████████| 141/141 [01:52<00:00,  1.26it/s]\n"
     ]
    },
    {
     "name": "stdout",
     "output_type": "stream",
     "text": [
      "Epochs: 2 | Train Loss: 453.6790 | Train Accuracy: 0.2947 | Train F1: 0.2699\n",
      "           | Val Loss:   43.1167 | Val Accuracy:   0.4720 | Val F1:   0.4320\n"
     ]
    },
    {
     "name": "stderr",
     "output_type": "stream",
     "text": [
      "100%|█████████████████████████████████████████| 141/141 [01:52<00:00,  1.26it/s]\n"
     ]
    },
    {
     "name": "stdout",
     "output_type": "stream",
     "text": [
      "Epochs: 3 | Train Loss: 336.3838 | Train Accuracy: 0.5511 | Train F1: 0.5204\n",
      "           | Val Loss:   33.3452 | Val Accuracy:   0.5440 | Val F1:   0.5057\n"
     ]
    },
    {
     "name": "stderr",
     "output_type": "stream",
     "text": [
      "100%|█████████████████████████████████████████| 141/141 [01:52<00:00,  1.26it/s]\n"
     ]
    },
    {
     "name": "stdout",
     "output_type": "stream",
     "text": [
      "Epochs: 4 | Train Loss: 259.3028 | Train Accuracy: 0.6413 | Train F1: 0.6178\n",
      "           | Val Loss:   26.8178 | Val Accuracy:   0.6840 | Val F1:   0.6484\n"
     ]
    },
    {
     "name": "stderr",
     "output_type": "stream",
     "text": [
      "100%|█████████████████████████████████████████| 141/141 [01:51<00:00,  1.26it/s]\n"
     ]
    },
    {
     "name": "stdout",
     "output_type": "stream",
     "text": [
      "Epochs: 5 | Train Loss: 204.7271 | Train Accuracy: 0.7280 | Train F1: 0.7154\n",
      "           | Val Loss:   22.0298 | Val Accuracy:   0.7080 | Val F1:   0.6709\n"
     ]
    },
    {
     "name": "stderr",
     "output_type": "stream",
     "text": [
      "100%|█████████████████████████████████████████| 141/141 [01:52<00:00,  1.26it/s]\n"
     ]
    },
    {
     "name": "stdout",
     "output_type": "stream",
     "text": [
      "Epochs: 6 | Train Loss: 163.3233 | Train Accuracy: 0.8004 | Train F1: 0.7950\n",
      "           | Val Loss:   19.5050 | Val Accuracy:   0.7440 | Val F1:   0.7300\n"
     ]
    },
    {
     "name": "stderr",
     "output_type": "stream",
     "text": [
      "100%|█████████████████████████████████████████| 141/141 [01:52<00:00,  1.26it/s]\n"
     ]
    },
    {
     "name": "stdout",
     "output_type": "stream",
     "text": [
      "Epochs: 7 | Train Loss: 131.3244 | Train Accuracy: 0.8627 | Train F1: 0.8593\n",
      "           | Val Loss:   16.6603 | Val Accuracy:   0.8000 | Val F1:   0.7825\n"
     ]
    },
    {
     "name": "stderr",
     "output_type": "stream",
     "text": [
      "100%|█████████████████████████████████████████| 141/141 [01:52<00:00,  1.26it/s]\n"
     ]
    },
    {
     "name": "stdout",
     "output_type": "stream",
     "text": [
      "Epochs: 8 | Train Loss: 106.7543 | Train Accuracy: 0.9053 | Train F1: 0.9035\n",
      "           | Val Loss:   15.1917 | Val Accuracy:   0.8000 | Val F1:   0.7890\n"
     ]
    },
    {
     "name": "stderr",
     "output_type": "stream",
     "text": [
      "100%|█████████████████████████████████████████| 141/141 [01:47<00:00,  1.31it/s]\n"
     ]
    },
    {
     "name": "stdout",
     "output_type": "stream",
     "text": [
      "Epochs: 9 | Train Loss: 87.1474 | Train Accuracy: 0.9387 | Train F1: 0.9376\n",
      "           | Val Loss:   13.8188 | Val Accuracy:   0.8120 | Val F1:   0.7959\n"
     ]
    },
    {
     "name": "stderr",
     "output_type": "stream",
     "text": [
      "100%|█████████████████████████████████████████| 141/141 [01:13<00:00,  1.93it/s]\n"
     ]
    },
    {
     "name": "stdout",
     "output_type": "stream",
     "text": [
      "Epochs: 10 | Train Loss: 71.9550 | Train Accuracy: 0.9609 | Train F1: 0.9603\n",
      "           | Val Loss:   13.2836 | Val Accuracy:   0.8080 | Val F1:   0.7983\n"
     ]
    },
    {
     "name": "stderr",
     "output_type": "stream",
     "text": [
      "100%|█████████████████████████████████████████| 141/141 [01:52<00:00,  1.25it/s]\n"
     ]
    },
    {
     "name": "stdout",
     "output_type": "stream",
     "text": [
      "Epochs: 11 | Train Loss: 59.7395 | Train Accuracy: 0.9778 | Train F1: 0.9775\n",
      "           | Val Loss:   12.5529 | Val Accuracy:   0.8120 | Val F1:   0.7948\n"
     ]
    },
    {
     "name": "stderr",
     "output_type": "stream",
     "text": [
      "100%|█████████████████████████████████████████| 141/141 [01:51<00:00,  1.26it/s]\n"
     ]
    },
    {
     "name": "stdout",
     "output_type": "stream",
     "text": [
      "Epochs: 12 | Train Loss: 51.9792 | Train Accuracy: 0.9889 | Train F1: 0.9887\n",
      "           | Val Loss:   12.2197 | Val Accuracy:   0.8240 | Val F1:   0.8184\n"
     ]
    },
    {
     "name": "stderr",
     "output_type": "stream",
     "text": [
      "100%|█████████████████████████████████████████| 141/141 [01:51<00:00,  1.26it/s]\n"
     ]
    },
    {
     "name": "stdout",
     "output_type": "stream",
     "text": [
      "Epochs: 13 | Train Loss: 46.1539 | Train Accuracy: 0.9947 | Train F1: 0.9946\n",
      "           | Val Loss:   11.9587 | Val Accuracy:   0.8280 | Val F1:   0.8190\n"
     ]
    },
    {
     "name": "stderr",
     "output_type": "stream",
     "text": [
      "100%|█████████████████████████████████████████| 141/141 [01:52<00:00,  1.26it/s]\n"
     ]
    },
    {
     "name": "stdout",
     "output_type": "stream",
     "text": [
      "Epochs: 14 | Train Loss: 42.2235 | Train Accuracy: 0.9947 | Train F1: 0.9945\n",
      "           | Val Loss:   11.7985 | Val Accuracy:   0.8280 | Val F1:   0.8243\n"
     ]
    },
    {
     "name": "stderr",
     "output_type": "stream",
     "text": [
      "100%|█████████████████████████████████████████| 141/141 [01:51<00:00,  1.26it/s]\n"
     ]
    },
    {
     "name": "stdout",
     "output_type": "stream",
     "text": [
      "Epochs: 15 | Train Loss: 40.3989 | Train Accuracy: 0.9973 | Train F1: 0.9973\n",
      "           | Val Loss:   11.6726 | Val Accuracy:   0.8240 | Val F1:   0.8244\n",
      "Test Accuracy:  0.6228 | Test F1:  0.6202\n"
     ]
    },
    {
     "name": "stderr",
     "output_type": "stream",
     "text": [
      "Some weights of the model checkpoint at bert-base-uncased were not used when initializing BertForSequenceClassification: ['cls.predictions.transform.dense.bias', 'cls.predictions.transform.LayerNorm.weight', 'cls.seq_relationship.bias', 'cls.predictions.decoder.weight', 'cls.predictions.transform.dense.weight', 'cls.seq_relationship.weight', 'cls.predictions.transform.LayerNorm.bias', 'cls.predictions.bias']\n",
      "- This IS expected if you are initializing BertForSequenceClassification from the checkpoint of a model trained on another task or with another architecture (e.g. initializing a BertForSequenceClassification model from a BertForPreTraining model).\n",
      "- This IS NOT expected if you are initializing BertForSequenceClassification from the checkpoint of a model that you expect to be exactly identical (initializing a BertForSequenceClassification model from a BertForSequenceClassification model).\n",
      "Some weights of BertForSequenceClassification were not initialized from the model checkpoint at bert-base-uncased and are newly initialized: ['classifier.weight', 'classifier.bias']\n",
      "You should probably TRAIN this model on a down-stream task to be able to use it for predictions and inference.\n"
     ]
    },
    {
     "name": "stdout",
     "output_type": "stream",
     "text": [
      "idf removal threshold at 6.5\n",
      "0       The capital market, [MASK] criticised for a lack of transparency, needs an independent regulator...\n",
      "1       beat the [MASK] 3-0 in a ice [MASK] game on , setting up a [MASK] for group [MASK] against and l...\n",
      "2       The fall in the trade deficit to crowns in from in buoyed market sentiment, and the goods import...\n",
      "3       paper concern a.s. on said its net profit fell as a shutdown of its main paper mill, coupled wit...\n",
      "4       shares rallied on following the coalition government's win in elections, but analysts said the r...\n",
      "                                                       ...                                                 \n",
      "2245    \"\" -- counter-culture [MASK] of the 's  -- is being used in a [MASK] for a bank and some fans ar...\n",
      "2246    , the [MASK] stock [MASK] hired recently to [MASK] drive to dominate the market, has been remove...\n",
      "2247    , 's biggest city and financial capital, is [MASK] for a near shutdown when protesters hit the s...\n",
      "2248    Anti-government protests swept across 's biggest city on as demonstrators in shut down the trans...\n",
      "2249    , biggest power utility, said that it would take a huge () charge in to strengthen its financial...\n",
      "Name: masked_content, Length: 2250, dtype: object\n",
      "cuda version 1.13.0+cu117\n"
     ]
    },
    {
     "name": "stderr",
     "output_type": "stream",
     "text": [
      "100%|█████████████████████████████████████████| 141/141 [01:52<00:00,  1.26it/s]\n"
     ]
    },
    {
     "name": "stdout",
     "output_type": "stream",
     "text": [
      "Epochs: 1 | Train Loss: 544.1699 | Train Accuracy: 0.0418 | Train F1: 0.0343\n",
      "           | Val Loss:   56.1584 | Val Accuracy:   0.1920 | Val F1:   0.1084\n"
     ]
    },
    {
     "name": "stderr",
     "output_type": "stream",
     "text": [
      "100%|█████████████████████████████████████████| 141/141 [01:51<00:00,  1.26it/s]\n"
     ]
    },
    {
     "name": "stdout",
     "output_type": "stream",
     "text": [
      "Epochs: 2 | Train Loss: 432.9175 | Train Accuracy: 0.3249 | Train F1: 0.2891\n",
      "           | Val Loss:   41.9124 | Val Accuracy:   0.4280 | Val F1:   0.3591\n"
     ]
    },
    {
     "name": "stderr",
     "output_type": "stream",
     "text": [
      "100%|█████████████████████████████████████████| 141/141 [01:51<00:00,  1.26it/s]\n"
     ]
    },
    {
     "name": "stdout",
     "output_type": "stream",
     "text": [
      "Epochs: 3 | Train Loss: 330.7208 | Train Accuracy: 0.5209 | Train F1: 0.4858\n",
      "           | Val Loss:   33.0773 | Val Accuracy:   0.5640 | Val F1:   0.5099\n"
     ]
    },
    {
     "name": "stderr",
     "output_type": "stream",
     "text": [
      "100%|█████████████████████████████████████████| 141/141 [01:52<00:00,  1.26it/s]\n"
     ]
    },
    {
     "name": "stdout",
     "output_type": "stream",
     "text": [
      "Epochs: 4 | Train Loss: 258.0788 | Train Accuracy: 0.6311 | Train F1: 0.6016\n",
      "           | Val Loss:   27.1193 | Val Accuracy:   0.6360 | Val F1:   0.5821\n"
     ]
    },
    {
     "name": "stderr",
     "output_type": "stream",
     "text": [
      "100%|█████████████████████████████████████████| 141/141 [01:51<00:00,  1.26it/s]\n"
     ]
    },
    {
     "name": "stdout",
     "output_type": "stream",
     "text": [
      "Epochs: 5 | Train Loss: 202.8932 | Train Accuracy: 0.7378 | Train F1: 0.7224\n",
      "           | Val Loss:   23.2317 | Val Accuracy:   0.6760 | Val F1:   0.6664\n"
     ]
    },
    {
     "name": "stderr",
     "output_type": "stream",
     "text": [
      "100%|█████████████████████████████████████████| 141/141 [01:51<00:00,  1.26it/s]\n"
     ]
    },
    {
     "name": "stdout",
     "output_type": "stream",
     "text": [
      "Epochs: 6 | Train Loss: 161.8172 | Train Accuracy: 0.8200 | Train F1: 0.8114\n",
      "           | Val Loss:   19.6536 | Val Accuracy:   0.7000 | Val F1:   0.6755\n"
     ]
    },
    {
     "name": "stderr",
     "output_type": "stream",
     "text": [
      "100%|█████████████████████████████████████████| 141/141 [01:51<00:00,  1.26it/s]\n"
     ]
    },
    {
     "name": "stdout",
     "output_type": "stream",
     "text": [
      "Epochs: 7 | Train Loss: 128.8161 | Train Accuracy: 0.8769 | Train F1: 0.8709\n",
      "           | Val Loss:   17.4003 | Val Accuracy:   0.7120 | Val F1:   0.6888\n"
     ]
    },
    {
     "name": "stderr",
     "output_type": "stream",
     "text": [
      "100%|█████████████████████████████████████████| 141/141 [01:51<00:00,  1.26it/s]\n"
     ]
    },
    {
     "name": "stdout",
     "output_type": "stream",
     "text": [
      "Epochs: 8 | Train Loss: 102.4966 | Train Accuracy: 0.9196 | Train F1: 0.9171\n",
      "           | Val Loss:   15.5782 | Val Accuracy:   0.7600 | Val F1:   0.7537\n"
     ]
    },
    {
     "name": "stderr",
     "output_type": "stream",
     "text": [
      "100%|█████████████████████████████████████████| 141/141 [01:51<00:00,  1.26it/s]\n"
     ]
    },
    {
     "name": "stdout",
     "output_type": "stream",
     "text": [
      "Epochs: 9 | Train Loss: 82.4903 | Train Accuracy: 0.9498 | Train F1: 0.9473\n",
      "           | Val Loss:   14.5040 | Val Accuracy:   0.7360 | Val F1:   0.7318\n"
     ]
    },
    {
     "name": "stderr",
     "output_type": "stream",
     "text": [
      "100%|█████████████████████████████████████████| 141/141 [01:51<00:00,  1.26it/s]\n"
     ]
    },
    {
     "name": "stdout",
     "output_type": "stream",
     "text": [
      "Epochs: 10 | Train Loss: 67.1494 | Train Accuracy: 0.9680 | Train F1: 0.9672\n",
      "           | Val Loss:   13.4929 | Val Accuracy:   0.7680 | Val F1:   0.7678\n"
     ]
    },
    {
     "name": "stderr",
     "output_type": "stream",
     "text": [
      "100%|█████████████████████████████████████████| 141/141 [01:51<00:00,  1.26it/s]\n"
     ]
    },
    {
     "name": "stdout",
     "output_type": "stream",
     "text": [
      "Epochs: 11 | Train Loss: 56.9779 | Train Accuracy: 0.9796 | Train F1: 0.9790\n",
      "           | Val Loss:   13.1498 | Val Accuracy:   0.7520 | Val F1:   0.7509\n"
     ]
    },
    {
     "name": "stderr",
     "output_type": "stream",
     "text": [
      "100%|█████████████████████████████████████████| 141/141 [01:52<00:00,  1.26it/s]\n"
     ]
    },
    {
     "name": "stdout",
     "output_type": "stream",
     "text": [
      "Epochs: 12 | Train Loss: 49.7417 | Train Accuracy: 0.9844 | Train F1: 0.9842\n",
      "           | Val Loss:   12.7490 | Val Accuracy:   0.7600 | Val F1:   0.7349\n"
     ]
    },
    {
     "name": "stderr",
     "output_type": "stream",
     "text": [
      "100%|█████████████████████████████████████████| 141/141 [01:51<00:00,  1.26it/s]\n"
     ]
    },
    {
     "name": "stdout",
     "output_type": "stream",
     "text": [
      "Epochs: 13 | Train Loss: 44.2114 | Train Accuracy: 0.9889 | Train F1: 0.9886\n",
      "           | Val Loss:   12.1109 | Val Accuracy:   0.7680 | Val F1:   0.7456\n"
     ]
    },
    {
     "name": "stderr",
     "output_type": "stream",
     "text": [
      "100%|█████████████████████████████████████████| 141/141 [01:51<00:00,  1.26it/s]\n"
     ]
    },
    {
     "name": "stdout",
     "output_type": "stream",
     "text": [
      "Epochs: 14 | Train Loss: 41.0691 | Train Accuracy: 0.9938 | Train F1: 0.9938\n",
      "           | Val Loss:   12.0993 | Val Accuracy:   0.7840 | Val F1:   0.7581\n"
     ]
    },
    {
     "name": "stderr",
     "output_type": "stream",
     "text": [
      "100%|█████████████████████████████████████████| 141/141 [01:52<00:00,  1.26it/s]\n"
     ]
    },
    {
     "name": "stdout",
     "output_type": "stream",
     "text": [
      "Epochs: 15 | Train Loss: 39.1543 | Train Accuracy: 0.9924 | Train F1: 0.9923\n",
      "           | Val Loss:   11.9292 | Val Accuracy:   0.7880 | Val F1:   0.7828\n",
      "Test Accuracy:  0.5976 | Test F1:  0.5966\n"
     ]
    },
    {
     "name": "stderr",
     "output_type": "stream",
     "text": [
      "Some weights of the model checkpoint at bert-base-uncased were not used when initializing BertForSequenceClassification: ['cls.predictions.transform.dense.bias', 'cls.predictions.transform.LayerNorm.weight', 'cls.seq_relationship.bias', 'cls.predictions.decoder.weight', 'cls.predictions.transform.dense.weight', 'cls.seq_relationship.weight', 'cls.predictions.transform.LayerNorm.bias', 'cls.predictions.bias']\n",
      "- This IS expected if you are initializing BertForSequenceClassification from the checkpoint of a model trained on another task or with another architecture (e.g. initializing a BertForSequenceClassification model from a BertForPreTraining model).\n",
      "- This IS NOT expected if you are initializing BertForSequenceClassification from the checkpoint of a model that you expect to be exactly identical (initializing a BertForSequenceClassification model from a BertForSequenceClassification model).\n",
      "Some weights of BertForSequenceClassification were not initialized from the model checkpoint at bert-base-uncased and are newly initialized: ['classifier.weight', 'classifier.bias']\n",
      "You should probably TRAIN this model on a down-stream task to be able to use it for predictions and inference.\n"
     ]
    },
    {
     "name": "stdout",
     "output_type": "stream",
     "text": [
      "idf removal threshold at 6.0\n",
      "0       The capital market, [MASK] criticised for a lack of transparency, needs an independent regulator...\n",
      "1       beat the [MASK] 3-0 in a ice [MASK] game on , setting up a [MASK] for group [MASK] against and l...\n",
      "2       The fall in the trade deficit to crowns in from in buoyed market sentiment, and the goods import...\n",
      "3       paper concern a.s. on said its net profit fell as a shutdown of its main paper [MASK], coupled w...\n",
      "4       shares rallied on following the coalition government's win in elections, but analysts said the r...\n",
      "                                                       ...                                                 \n",
      "2245    \"\" -- counter-culture [MASK] of the 's  -- is being used in a [MASK] for a bank and some fans ar...\n",
      "2246    , the [MASK] stock [MASK] hired recently to [MASK] drive to dominate the market, has been remove...\n",
      "2247    , 's biggest city and financial capital, is [MASK] for a near shutdown when protesters hit the s...\n",
      "2248    [MASK]-government protests swept across 's biggest city on as demonstrators in shut down the [MA...\n",
      "2249    , biggest power utility, said that it would take a huge () charge in to strengthen its financial...\n",
      "Name: masked_content, Length: 2250, dtype: object\n",
      "cuda version 1.13.0+cu117\n"
     ]
    },
    {
     "name": "stderr",
     "output_type": "stream",
     "text": [
      "100%|█████████████████████████████████████████| 141/141 [01:52<00:00,  1.26it/s]\n"
     ]
    },
    {
     "name": "stdout",
     "output_type": "stream",
     "text": [
      "Epochs: 1 | Train Loss: 548.9754 | Train Accuracy: 0.0356 | Train F1: 0.0239\n",
      "           | Val Loss:   59.7495 | Val Accuracy:   0.1240 | Val F1:   0.0684\n"
     ]
    },
    {
     "name": "stderr",
     "output_type": "stream",
     "text": [
      "100%|█████████████████████████████████████████| 141/141 [01:52<00:00,  1.26it/s]\n"
     ]
    },
    {
     "name": "stdout",
     "output_type": "stream",
     "text": [
      "Epochs: 2 | Train Loss: 466.5549 | Train Accuracy: 0.2773 | Train F1: 0.2369\n",
      "           | Val Loss:   45.4791 | Val Accuracy:   0.3920 | Val F1:   0.3008\n"
     ]
    },
    {
     "name": "stderr",
     "output_type": "stream",
     "text": [
      "100%|█████████████████████████████████████████| 141/141 [01:43<00:00,  1.37it/s]\n"
     ]
    },
    {
     "name": "stdout",
     "output_type": "stream",
     "text": [
      "Epochs: 3 | Train Loss: 356.8728 | Train Accuracy: 0.4973 | Train F1: 0.4517\n",
      "           | Val Loss:   36.3457 | Val Accuracy:   0.5160 | Val F1:   0.4452\n"
     ]
    },
    {
     "name": "stderr",
     "output_type": "stream",
     "text": [
      "100%|█████████████████████████████████████████| 141/141 [01:20<00:00,  1.76it/s]\n"
     ]
    },
    {
     "name": "stdout",
     "output_type": "stream",
     "text": [
      "Epochs: 4 | Train Loss: 279.6385 | Train Accuracy: 0.6169 | Train F1: 0.5863\n",
      "           | Val Loss:   29.7333 | Val Accuracy:   0.6080 | Val F1:   0.5359\n"
     ]
    },
    {
     "name": "stderr",
     "output_type": "stream",
     "text": [
      "100%|█████████████████████████████████████████| 141/141 [01:51<00:00,  1.26it/s]\n"
     ]
    },
    {
     "name": "stdout",
     "output_type": "stream",
     "text": [
      "Epochs: 5 | Train Loss: 220.4230 | Train Accuracy: 0.7218 | Train F1: 0.7069\n",
      "           | Val Loss:   25.2484 | Val Accuracy:   0.6800 | Val F1:   0.6374\n"
     ]
    },
    {
     "name": "stderr",
     "output_type": "stream",
     "text": [
      "100%|█████████████████████████████████████████| 141/141 [01:51<00:00,  1.26it/s]\n"
     ]
    },
    {
     "name": "stdout",
     "output_type": "stream",
     "text": [
      "Epochs: 6 | Train Loss: 175.0443 | Train Accuracy: 0.7960 | Train F1: 0.7879\n",
      "           | Val Loss:   21.7051 | Val Accuracy:   0.6920 | Val F1:   0.6501\n"
     ]
    },
    {
     "name": "stderr",
     "output_type": "stream",
     "text": [
      "100%|█████████████████████████████████████████| 141/141 [01:51<00:00,  1.26it/s]\n"
     ]
    },
    {
     "name": "stdout",
     "output_type": "stream",
     "text": [
      "Epochs: 7 | Train Loss: 136.8756 | Train Accuracy: 0.8693 | Train F1: 0.8644\n",
      "           | Val Loss:   19.5945 | Val Accuracy:   0.6880 | Val F1:   0.6595\n"
     ]
    },
    {
     "name": "stderr",
     "output_type": "stream",
     "text": [
      "100%|█████████████████████████████████████████| 141/141 [01:52<00:00,  1.26it/s]\n"
     ]
    },
    {
     "name": "stdout",
     "output_type": "stream",
     "text": [
      "Epochs: 8 | Train Loss: 109.1586 | Train Accuracy: 0.9164 | Train F1: 0.9143\n",
      "           | Val Loss:   17.8169 | Val Accuracy:   0.7000 | Val F1:   0.6697\n"
     ]
    },
    {
     "name": "stderr",
     "output_type": "stream",
     "text": [
      "100%|█████████████████████████████████████████| 141/141 [01:51<00:00,  1.26it/s]\n"
     ]
    },
    {
     "name": "stdout",
     "output_type": "stream",
     "text": [
      "Epochs: 9 | Train Loss: 89.0146 | Train Accuracy: 0.9427 | Train F1: 0.9397\n",
      "           | Val Loss:   16.7080 | Val Accuracy:   0.7400 | Val F1:   0.7126\n"
     ]
    },
    {
     "name": "stderr",
     "output_type": "stream",
     "text": [
      "100%|█████████████████████████████████████████| 141/141 [01:51<00:00,  1.26it/s]\n"
     ]
    },
    {
     "name": "stdout",
     "output_type": "stream",
     "text": [
      "Epochs: 10 | Train Loss: 73.2950 | Train Accuracy: 0.9658 | Train F1: 0.9655\n",
      "           | Val Loss:   15.6824 | Val Accuracy:   0.7360 | Val F1:   0.7124\n"
     ]
    },
    {
     "name": "stderr",
     "output_type": "stream",
     "text": [
      "100%|█████████████████████████████████████████| 141/141 [01:51<00:00,  1.26it/s]\n"
     ]
    },
    {
     "name": "stdout",
     "output_type": "stream",
     "text": [
      "Epochs: 11 | Train Loss: 61.3197 | Train Accuracy: 0.9756 | Train F1: 0.9751\n",
      "           | Val Loss:   14.4076 | Val Accuracy:   0.7840 | Val F1:   0.7471\n"
     ]
    },
    {
     "name": "stderr",
     "output_type": "stream",
     "text": [
      "100%|█████████████████████████████████████████| 141/141 [01:51<00:00,  1.26it/s]\n"
     ]
    },
    {
     "name": "stdout",
     "output_type": "stream",
     "text": [
      "Epochs: 12 | Train Loss: 52.8451 | Train Accuracy: 0.9889 | Train F1: 0.9888\n",
      "           | Val Loss:   14.0333 | Val Accuracy:   0.7720 | Val F1:   0.7466\n"
     ]
    },
    {
     "name": "stderr",
     "output_type": "stream",
     "text": [
      "100%|█████████████████████████████████████████| 141/141 [01:51<00:00,  1.26it/s]\n"
     ]
    },
    {
     "name": "stdout",
     "output_type": "stream",
     "text": [
      "Epochs: 13 | Train Loss: 47.4702 | Train Accuracy: 0.9889 | Train F1: 0.9887\n",
      "           | Val Loss:   13.9435 | Val Accuracy:   0.7760 | Val F1:   0.7470\n"
     ]
    },
    {
     "name": "stderr",
     "output_type": "stream",
     "text": [
      "100%|█████████████████████████████████████████| 141/141 [01:52<00:00,  1.26it/s]\n"
     ]
    },
    {
     "name": "stdout",
     "output_type": "stream",
     "text": [
      "Epochs: 14 | Train Loss: 43.3586 | Train Accuracy: 0.9964 | Train F1: 0.9963\n",
      "           | Val Loss:   13.6656 | Val Accuracy:   0.7840 | Val F1:   0.7538\n"
     ]
    },
    {
     "name": "stderr",
     "output_type": "stream",
     "text": [
      "100%|█████████████████████████████████████████| 141/141 [01:51<00:00,  1.26it/s]\n"
     ]
    },
    {
     "name": "stdout",
     "output_type": "stream",
     "text": [
      "Epochs: 15 | Train Loss: 41.4762 | Train Accuracy: 0.9978 | Train F1: 0.9978\n",
      "           | Val Loss:   13.6168 | Val Accuracy:   0.7880 | Val F1:   0.7624\n",
      "Test Accuracy:  0.6076 | Test F1:  0.6043\n"
     ]
    },
    {
     "name": "stderr",
     "output_type": "stream",
     "text": [
      "Some weights of the model checkpoint at bert-base-uncased were not used when initializing BertForSequenceClassification: ['cls.predictions.transform.dense.bias', 'cls.predictions.transform.LayerNorm.weight', 'cls.seq_relationship.bias', 'cls.predictions.decoder.weight', 'cls.predictions.transform.dense.weight', 'cls.seq_relationship.weight', 'cls.predictions.transform.LayerNorm.bias', 'cls.predictions.bias']\n",
      "- This IS expected if you are initializing BertForSequenceClassification from the checkpoint of a model trained on another task or with another architecture (e.g. initializing a BertForSequenceClassification model from a BertForPreTraining model).\n",
      "- This IS NOT expected if you are initializing BertForSequenceClassification from the checkpoint of a model that you expect to be exactly identical (initializing a BertForSequenceClassification model from a BertForSequenceClassification model).\n",
      "Some weights of BertForSequenceClassification were not initialized from the model checkpoint at bert-base-uncased and are newly initialized: ['classifier.weight', 'classifier.bias']\n",
      "You should probably TRAIN this model on a down-stream task to be able to use it for predictions and inference.\n"
     ]
    },
    {
     "name": "stdout",
     "output_type": "stream",
     "text": [
      "idf removal threshold at 5.5\n",
      "0       The capital market, [MASK] criticised for a lack of transparency, needs an independent regulator...\n",
      "1       beat the [MASK] 3-0 in a [MASK] [MASK] game on , setting up a [MASK] for group [MASK] against an...\n",
      "2       The fall in the trade deficit to crowns in from in [MASK] market sentiment, and the goods import...\n",
      "3       paper concern a.s. on said its net profit fell as a [MASK] of its main paper [MASK], [MASK] with...\n",
      "4       shares [MASK] on following the coalition government's win in elections, but analysts said the ri...\n",
      "                                                       ...                                                 \n",
      "2245    \"\" -- counter-culture [MASK] of the 's  -- is being used in a [MASK] for a bank and some [MASK] ...\n",
      "2246    , the [MASK] stock [MASK] hired recently to [MASK] drive to [MASK] the market, has been removed ...\n",
      "2247    , 's biggest city and financial capital, is [MASK] for a near [MASK] when [MASK] hit the [MASK] ...\n",
      "2248    [MASK]-government protests [MASK] across 's biggest city on as [MASK] in shut down the [MASK] sy...\n",
      "2249    , biggest power utility, said that it would take a huge () charge in to strengthen its financial...\n",
      "Name: masked_content, Length: 2250, dtype: object\n",
      "cuda version 1.13.0+cu117\n"
     ]
    },
    {
     "name": "stderr",
     "output_type": "stream",
     "text": [
      "100%|█████████████████████████████████████████| 141/141 [01:51<00:00,  1.26it/s]\n"
     ]
    },
    {
     "name": "stdout",
     "output_type": "stream",
     "text": [
      "Epochs: 1 | Train Loss: 547.8099 | Train Accuracy: 0.0231 | Train F1: 0.0124\n",
      "           | Val Loss:   60.5135 | Val Accuracy:   0.0720 | Val F1:   0.0396\n"
     ]
    },
    {
     "name": "stderr",
     "output_type": "stream",
     "text": [
      "100%|█████████████████████████████████████████| 141/141 [01:52<00:00,  1.26it/s]\n"
     ]
    },
    {
     "name": "stdout",
     "output_type": "stream",
     "text": [
      "Epochs: 2 | Train Loss: 476.1477 | Train Accuracy: 0.2071 | Train F1: 0.1823\n",
      "           | Val Loss:   46.0089 | Val Accuracy:   0.3760 | Val F1:   0.2948\n"
     ]
    },
    {
     "name": "stderr",
     "output_type": "stream",
     "text": [
      "100%|█████████████████████████████████████████| 141/141 [01:51<00:00,  1.26it/s]\n"
     ]
    },
    {
     "name": "stdout",
     "output_type": "stream",
     "text": [
      "Epochs: 3 | Train Loss: 366.5328 | Train Accuracy: 0.4520 | Train F1: 0.4053\n",
      "           | Val Loss:   37.0279 | Val Accuracy:   0.4800 | Val F1:   0.3967\n"
     ]
    },
    {
     "name": "stderr",
     "output_type": "stream",
     "text": [
      "100%|█████████████████████████████████████████| 141/141 [01:52<00:00,  1.26it/s]\n"
     ]
    },
    {
     "name": "stdout",
     "output_type": "stream",
     "text": [
      "Epochs: 4 | Train Loss: 289.8503 | Train Accuracy: 0.5951 | Train F1: 0.5626\n",
      "           | Val Loss:   30.2448 | Val Accuracy:   0.5880 | Val F1:   0.5189\n"
     ]
    },
    {
     "name": "stderr",
     "output_type": "stream",
     "text": [
      "100%|█████████████████████████████████████████| 141/141 [01:51<00:00,  1.26it/s]\n"
     ]
    },
    {
     "name": "stdout",
     "output_type": "stream",
     "text": [
      "Epochs: 5 | Train Loss: 233.2129 | Train Accuracy: 0.6804 | Train F1: 0.6598\n",
      "           | Val Loss:   25.3220 | Val Accuracy:   0.6800 | Val F1:   0.6351\n"
     ]
    },
    {
     "name": "stderr",
     "output_type": "stream",
     "text": [
      "100%|█████████████████████████████████████████| 141/141 [01:51<00:00,  1.26it/s]\n"
     ]
    },
    {
     "name": "stdout",
     "output_type": "stream",
     "text": [
      "Epochs: 6 | Train Loss: 188.3929 | Train Accuracy: 0.7693 | Train F1: 0.7559\n",
      "           | Val Loss:   22.4553 | Val Accuracy:   0.6640 | Val F1:   0.6250\n"
     ]
    },
    {
     "name": "stderr",
     "output_type": "stream",
     "text": [
      "100%|█████████████████████████████████████████| 141/141 [01:51<00:00,  1.26it/s]\n"
     ]
    },
    {
     "name": "stdout",
     "output_type": "stream",
     "text": [
      "Epochs: 7 | Train Loss: 149.4913 | Train Accuracy: 0.8418 | Train F1: 0.8337\n",
      "           | Val Loss:   20.0157 | Val Accuracy:   0.7040 | Val F1:   0.6716\n"
     ]
    },
    {
     "name": "stderr",
     "output_type": "stream",
     "text": [
      "100%|█████████████████████████████████████████| 141/141 [01:51<00:00,  1.26it/s]\n"
     ]
    },
    {
     "name": "stdout",
     "output_type": "stream",
     "text": [
      "Epochs: 8 | Train Loss: 120.7579 | Train Accuracy: 0.8960 | Train F1: 0.8924\n",
      "           | Val Loss:   18.3130 | Val Accuracy:   0.7400 | Val F1:   0.7017\n"
     ]
    },
    {
     "name": "stderr",
     "output_type": "stream",
     "text": [
      "100%|█████████████████████████████████████████| 141/141 [01:52<00:00,  1.26it/s]\n"
     ]
    },
    {
     "name": "stdout",
     "output_type": "stream",
     "text": [
      "Epochs: 9 | Train Loss: 98.2069 | Train Accuracy: 0.9316 | Train F1: 0.9298\n",
      "           | Val Loss:   16.6134 | Val Accuracy:   0.7600 | Val F1:   0.7201\n"
     ]
    },
    {
     "name": "stderr",
     "output_type": "stream",
     "text": [
      "100%|█████████████████████████████████████████| 141/141 [01:51<00:00,  1.26it/s]\n"
     ]
    },
    {
     "name": "stdout",
     "output_type": "stream",
     "text": [
      "Epochs: 10 | Train Loss: 80.4475 | Train Accuracy: 0.9604 | Train F1: 0.9594\n",
      "           | Val Loss:   16.3649 | Val Accuracy:   0.7520 | Val F1:   0.7348\n"
     ]
    },
    {
     "name": "stderr",
     "output_type": "stream",
     "text": [
      "100%|█████████████████████████████████████████| 141/141 [01:51<00:00,  1.26it/s]\n"
     ]
    },
    {
     "name": "stdout",
     "output_type": "stream",
     "text": [
      "Epochs: 11 | Train Loss: 67.9212 | Train Accuracy: 0.9769 | Train F1: 0.9762\n",
      "           | Val Loss:   15.3137 | Val Accuracy:   0.7520 | Val F1:   0.7116\n"
     ]
    },
    {
     "name": "stderr",
     "output_type": "stream",
     "text": [
      "100%|█████████████████████████████████████████| 141/141 [01:51<00:00,  1.26it/s]\n"
     ]
    },
    {
     "name": "stdout",
     "output_type": "stream",
     "text": [
      "Epochs: 12 | Train Loss: 59.5063 | Train Accuracy: 0.9836 | Train F1: 0.9832\n",
      "           | Val Loss:   15.2100 | Val Accuracy:   0.7680 | Val F1:   0.7511\n"
     ]
    },
    {
     "name": "stderr",
     "output_type": "stream",
     "text": [
      "100%|█████████████████████████████████████████| 141/141 [01:39<00:00,  1.42it/s]\n"
     ]
    },
    {
     "name": "stdout",
     "output_type": "stream",
     "text": [
      "Epochs: 13 | Train Loss: 52.8927 | Train Accuracy: 0.9884 | Train F1: 0.9882\n",
      "           | Val Loss:   14.4009 | Val Accuracy:   0.7800 | Val F1:   0.7389\n"
     ]
    },
    {
     "name": "stderr",
     "output_type": "stream",
     "text": [
      "100%|█████████████████████████████████████████| 141/141 [01:22<00:00,  1.70it/s]\n"
     ]
    },
    {
     "name": "stdout",
     "output_type": "stream",
     "text": [
      "Epochs: 14 | Train Loss: 49.1406 | Train Accuracy: 0.9911 | Train F1: 0.9909\n",
      "           | Val Loss:   14.2964 | Val Accuracy:   0.7800 | Val F1:   0.7583\n"
     ]
    },
    {
     "name": "stderr",
     "output_type": "stream",
     "text": [
      "100%|█████████████████████████████████████████| 141/141 [01:52<00:00,  1.26it/s]\n"
     ]
    },
    {
     "name": "stdout",
     "output_type": "stream",
     "text": [
      "Epochs: 15 | Train Loss: 47.0589 | Train Accuracy: 0.9920 | Train F1: 0.9918\n",
      "           | Val Loss:   14.2722 | Val Accuracy:   0.7680 | Val F1:   0.7279\n",
      "Test Accuracy:  0.5872 | Test F1:  0.5845\n"
     ]
    },
    {
     "name": "stderr",
     "output_type": "stream",
     "text": [
      "Some weights of the model checkpoint at bert-base-uncased were not used when initializing BertForSequenceClassification: ['cls.predictions.transform.dense.bias', 'cls.predictions.transform.LayerNorm.weight', 'cls.seq_relationship.bias', 'cls.predictions.decoder.weight', 'cls.predictions.transform.dense.weight', 'cls.seq_relationship.weight', 'cls.predictions.transform.LayerNorm.bias', 'cls.predictions.bias']\n",
      "- This IS expected if you are initializing BertForSequenceClassification from the checkpoint of a model trained on another task or with another architecture (e.g. initializing a BertForSequenceClassification model from a BertForPreTraining model).\n",
      "- This IS NOT expected if you are initializing BertForSequenceClassification from the checkpoint of a model that you expect to be exactly identical (initializing a BertForSequenceClassification model from a BertForSequenceClassification model).\n",
      "Some weights of BertForSequenceClassification were not initialized from the model checkpoint at bert-base-uncased and are newly initialized: ['classifier.weight', 'classifier.bias']\n",
      "You should probably TRAIN this model on a down-stream task to be able to use it for predictions and inference.\n"
     ]
    },
    {
     "name": "stdout",
     "output_type": "stream",
     "text": [
      "idf removal threshold at 5.0\n",
      "0       The capital market, [MASK] criticised for a lack of [MASK], needs an independent [MASK], but it ...\n",
      "1       beat the [MASK] 3-0 in a [MASK] [MASK] game on , setting up a [MASK] for group [MASK] against an...\n",
      "2       The fall in the trade deficit to crowns in from in [MASK] market sentiment, and the goods [MASK]...\n",
      "3       paper concern a.s. on said its net profit fell as a [MASK] of its main paper [MASK], [MASK] with...\n",
      "4       shares [MASK] on following the coalition government's win in elections, but analysts said the ri...\n",
      "                                                       ...                                                 \n",
      "2245    \"\" -- counter-[MASK] [MASK] of the 's  -- is being used in a [MASK] for a bank and some [MASK] a...\n",
      "2246    , the [MASK] stock [MASK] [MASK] recently to [MASK] drive to [MASK] the market, has been [MASK] ...\n",
      "2247    , 's biggest city and financial capital, is [MASK] for a near [MASK] when [MASK] hit the [MASK] ...\n",
      "2248    [MASK]-government protests [MASK] across 's biggest city on as [MASK] in shut down the [MASK] sy...\n",
      "2249    , biggest power utility, said that it would take a huge () charge in to strengthen its financial...\n",
      "Name: masked_content, Length: 2250, dtype: object\n",
      "cuda version 1.13.0+cu117\n"
     ]
    },
    {
     "name": "stderr",
     "output_type": "stream",
     "text": [
      "100%|█████████████████████████████████████████| 141/141 [01:52<00:00,  1.26it/s]\n"
     ]
    },
    {
     "name": "stdout",
     "output_type": "stream",
     "text": [
      "Epochs: 1 | Train Loss: 545.7100 | Train Accuracy: 0.0427 | Train F1: 0.0252\n",
      "           | Val Loss:   58.2900 | Val Accuracy:   0.1800 | Val F1:   0.0999\n"
     ]
    },
    {
     "name": "stderr",
     "output_type": "stream",
     "text": [
      "100%|█████████████████████████████████████████| 141/141 [01:51<00:00,  1.26it/s]\n"
     ]
    },
    {
     "name": "stdout",
     "output_type": "stream",
     "text": [
      "Epochs: 2 | Train Loss: 454.5500 | Train Accuracy: 0.2729 | Train F1: 0.2319\n",
      "           | Val Loss:   44.3573 | Val Accuracy:   0.4200 | Val F1:   0.3269\n"
     ]
    },
    {
     "name": "stderr",
     "output_type": "stream",
     "text": [
      "100%|█████████████████████████████████████████| 141/141 [01:51<00:00,  1.26it/s]\n"
     ]
    },
    {
     "name": "stdout",
     "output_type": "stream",
     "text": [
      "Epochs: 3 | Train Loss: 352.0671 | Train Accuracy: 0.4911 | Train F1: 0.4614\n",
      "           | Val Loss:   35.7943 | Val Accuracy:   0.5520 | Val F1:   0.4763\n"
     ]
    },
    {
     "name": "stderr",
     "output_type": "stream",
     "text": [
      "100%|█████████████████████████████████████████| 141/141 [01:52<00:00,  1.26it/s]\n"
     ]
    },
    {
     "name": "stdout",
     "output_type": "stream",
     "text": [
      "Epochs: 4 | Train Loss: 279.3149 | Train Accuracy: 0.6129 | Train F1: 0.5913\n",
      "           | Val Loss:   29.3050 | Val Accuracy:   0.6280 | Val F1:   0.5853\n"
     ]
    },
    {
     "name": "stderr",
     "output_type": "stream",
     "text": [
      "100%|█████████████████████████████████████████| 141/141 [01:51<00:00,  1.26it/s]\n"
     ]
    },
    {
     "name": "stdout",
     "output_type": "stream",
     "text": [
      "Epochs: 5 | Train Loss: 222.3236 | Train Accuracy: 0.7302 | Train F1: 0.7232\n",
      "           | Val Loss:   25.0981 | Val Accuracy:   0.6640 | Val F1:   0.6154\n"
     ]
    },
    {
     "name": "stderr",
     "output_type": "stream",
     "text": [
      "100%|█████████████████████████████████████████| 141/141 [01:51<00:00,  1.26it/s]\n"
     ]
    },
    {
     "name": "stdout",
     "output_type": "stream",
     "text": [
      "Epochs: 6 | Train Loss: 177.3865 | Train Accuracy: 0.7991 | Train F1: 0.7961\n",
      "           | Val Loss:   21.8781 | Val Accuracy:   0.6960 | Val F1:   0.6462\n"
     ]
    },
    {
     "name": "stderr",
     "output_type": "stream",
     "text": [
      "100%|█████████████████████████████████████████| 141/141 [01:51<00:00,  1.26it/s]\n"
     ]
    },
    {
     "name": "stdout",
     "output_type": "stream",
     "text": [
      "Epochs: 7 | Train Loss: 143.9766 | Train Accuracy: 0.8591 | Train F1: 0.8560\n",
      "           | Val Loss:   19.1461 | Val Accuracy:   0.7320 | Val F1:   0.7040\n"
     ]
    },
    {
     "name": "stderr",
     "output_type": "stream",
     "text": [
      "100%|█████████████████████████████████████████| 141/141 [01:51<00:00,  1.26it/s]\n"
     ]
    },
    {
     "name": "stdout",
     "output_type": "stream",
     "text": [
      "Epochs: 8 | Train Loss: 115.3475 | Train Accuracy: 0.9107 | Train F1: 0.9101\n",
      "           | Val Loss:   17.1016 | Val Accuracy:   0.7560 | Val F1:   0.7295\n"
     ]
    },
    {
     "name": "stderr",
     "output_type": "stream",
     "text": [
      "100%|█████████████████████████████████████████| 141/141 [01:51<00:00,  1.26it/s]\n"
     ]
    },
    {
     "name": "stdout",
     "output_type": "stream",
     "text": [
      "Epochs: 9 | Train Loss: 95.1079 | Train Accuracy: 0.9413 | Train F1: 0.9407\n",
      "           | Val Loss:   15.6445 | Val Accuracy:   0.7640 | Val F1:   0.7580\n"
     ]
    },
    {
     "name": "stderr",
     "output_type": "stream",
     "text": [
      "100%|█████████████████████████████████████████| 141/141 [01:51<00:00,  1.26it/s]\n"
     ]
    },
    {
     "name": "stdout",
     "output_type": "stream",
     "text": [
      "Epochs: 10 | Train Loss: 78.9620 | Train Accuracy: 0.9622 | Train F1: 0.9622\n",
      "           | Val Loss:   15.0728 | Val Accuracy:   0.7680 | Val F1:   0.7383\n"
     ]
    },
    {
     "name": "stderr",
     "output_type": "stream",
     "text": [
      "100%|█████████████████████████████████████████| 141/141 [01:51<00:00,  1.26it/s]\n"
     ]
    },
    {
     "name": "stdout",
     "output_type": "stream",
     "text": [
      "Epochs: 11 | Train Loss: 66.9025 | Train Accuracy: 0.9773 | Train F1: 0.9773\n",
      "           | Val Loss:   13.8849 | Val Accuracy:   0.7880 | Val F1:   0.7757\n"
     ]
    },
    {
     "name": "stderr",
     "output_type": "stream",
     "text": [
      "100%|█████████████████████████████████████████| 141/141 [01:51<00:00,  1.26it/s]\n"
     ]
    },
    {
     "name": "stdout",
     "output_type": "stream",
     "text": [
      "Epochs: 12 | Train Loss: 58.1027 | Train Accuracy: 0.9809 | Train F1: 0.9811\n",
      "           | Val Loss:   13.0409 | Val Accuracy:   0.8000 | Val F1:   0.7843\n"
     ]
    },
    {
     "name": "stderr",
     "output_type": "stream",
     "text": [
      "100%|█████████████████████████████████████████| 141/141 [01:51<00:00,  1.26it/s]\n"
     ]
    },
    {
     "name": "stdout",
     "output_type": "stream",
     "text": [
      "Epochs: 13 | Train Loss: 52.7792 | Train Accuracy: 0.9871 | Train F1: 0.9871\n",
      "           | Val Loss:   12.6830 | Val Accuracy:   0.8000 | Val F1:   0.7861\n"
     ]
    },
    {
     "name": "stderr",
     "output_type": "stream",
     "text": [
      "100%|█████████████████████████████████████████| 141/141 [01:51<00:00,  1.26it/s]\n"
     ]
    },
    {
     "name": "stdout",
     "output_type": "stream",
     "text": [
      "Epochs: 14 | Train Loss: 48.5319 | Train Accuracy: 0.9898 | Train F1: 0.9898\n",
      "           | Val Loss:   12.5250 | Val Accuracy:   0.8120 | Val F1:   0.7938\n"
     ]
    },
    {
     "name": "stderr",
     "output_type": "stream",
     "text": [
      "100%|█████████████████████████████████████████| 141/141 [01:51<00:00,  1.26it/s]\n"
     ]
    },
    {
     "name": "stdout",
     "output_type": "stream",
     "text": [
      "Epochs: 15 | Train Loss: 46.0941 | Train Accuracy: 0.9942 | Train F1: 0.9942\n",
      "           | Val Loss:   12.4411 | Val Accuracy:   0.8160 | Val F1:   0.7974\n",
      "Test Accuracy:  0.5860 | Test F1:  0.5800\n"
     ]
    },
    {
     "name": "stderr",
     "output_type": "stream",
     "text": [
      "Some weights of the model checkpoint at bert-base-uncased were not used when initializing BertForSequenceClassification: ['cls.predictions.transform.dense.bias', 'cls.predictions.transform.LayerNorm.weight', 'cls.seq_relationship.bias', 'cls.predictions.decoder.weight', 'cls.predictions.transform.dense.weight', 'cls.seq_relationship.weight', 'cls.predictions.transform.LayerNorm.bias', 'cls.predictions.bias']\n",
      "- This IS expected if you are initializing BertForSequenceClassification from the checkpoint of a model trained on another task or with another architecture (e.g. initializing a BertForSequenceClassification model from a BertForPreTraining model).\n",
      "- This IS NOT expected if you are initializing BertForSequenceClassification from the checkpoint of a model that you expect to be exactly identical (initializing a BertForSequenceClassification model from a BertForSequenceClassification model).\n",
      "Some weights of BertForSequenceClassification were not initialized from the model checkpoint at bert-base-uncased and are newly initialized: ['classifier.weight', 'classifier.bias']\n",
      "You should probably TRAIN this model on a down-stream task to be able to use it for predictions and inference.\n"
     ]
    },
    {
     "name": "stdout",
     "output_type": "stream",
     "text": [
      "idf removal threshold at 4.5\n",
      "0       The capital market, [MASK] [MASK] for a lack of [MASK], needs an independent [MASK], but it is n...\n",
      "1       [MASK] the [MASK] 3-0 in a [MASK] [MASK] [MASK] on , setting up a [MASK] for group [MASK] agains...\n",
      "2       The fall in the trade [MASK] to [MASK] in from in [MASK] market [MASK], and the goods [MASK] sho...\n",
      "3       [MASK] concern a.s. on said its net profit fell as a [MASK] of its main [MASK] [MASK], [MASK] wi...\n",
      "4       shares [MASK] on following the [MASK] government's win in [MASK], but analysts said the rise was...\n",
      "                                                       ...                                                 \n",
      "2245    \"\" -- counter-[MASK] [MASK] of the 's  -- is being used in a [MASK] for a bank and some [MASK] a...\n",
      "2246    , the [MASK] stock [MASK] [MASK] recently to [MASK] drive to [MASK] the market, has been [MASK] ...\n",
      "2247    , 's biggest city and financial capital, is [MASK] for a near [MASK] when [MASK] hit the [MASK] ...\n",
      "2248    [MASK]-government [MASK] [MASK] across 's biggest city on as [MASK] in [MASK] down the [MASK] sy...\n",
      "2249    , biggest power utility, said that it would take a huge () charge in to [MASK] its financial str...\n",
      "Name: masked_content, Length: 2250, dtype: object\n",
      "cuda version 1.13.0+cu117\n"
     ]
    },
    {
     "name": "stderr",
     "output_type": "stream",
     "text": [
      "100%|█████████████████████████████████████████| 141/141 [01:52<00:00,  1.26it/s]\n"
     ]
    },
    {
     "name": "stdout",
     "output_type": "stream",
     "text": [
      "Epochs: 1 | Train Loss: 541.7176 | Train Accuracy: 0.0418 | Train F1: 0.0217\n",
      "           | Val Loss:   57.9537 | Val Accuracy:   0.1200 | Val F1:   0.0555\n"
     ]
    },
    {
     "name": "stderr",
     "output_type": "stream",
     "text": [
      "100%|█████████████████████████████████████████| 141/141 [01:52<00:00,  1.26it/s]\n"
     ]
    },
    {
     "name": "stdout",
     "output_type": "stream",
     "text": [
      "Epochs: 2 | Train Loss: 458.7334 | Train Accuracy: 0.2458 | Train F1: 0.2025\n",
      "           | Val Loss:   45.6261 | Val Accuracy:   0.3960 | Val F1:   0.2888\n"
     ]
    },
    {
     "name": "stderr",
     "output_type": "stream",
     "text": [
      "100%|█████████████████████████████████████████| 141/141 [01:51<00:00,  1.26it/s]\n"
     ]
    },
    {
     "name": "stdout",
     "output_type": "stream",
     "text": [
      "Epochs: 3 | Train Loss: 364.8114 | Train Accuracy: 0.4604 | Train F1: 0.4113\n",
      "           | Val Loss:   36.6449 | Val Accuracy:   0.4960 | Val F1:   0.4048\n"
     ]
    },
    {
     "name": "stderr",
     "output_type": "stream",
     "text": [
      "100%|█████████████████████████████████████████| 141/141 [01:51<00:00,  1.26it/s]\n"
     ]
    },
    {
     "name": "stdout",
     "output_type": "stream",
     "text": [
      "Epochs: 4 | Train Loss: 294.7287 | Train Accuracy: 0.5840 | Train F1: 0.5518\n",
      "           | Val Loss:   30.6858 | Val Accuracy:   0.5640 | Val F1:   0.4974\n"
     ]
    },
    {
     "name": "stderr",
     "output_type": "stream",
     "text": [
      "100%|█████████████████████████████████████████| 141/141 [01:51<00:00,  1.26it/s]\n"
     ]
    },
    {
     "name": "stdout",
     "output_type": "stream",
     "text": [
      "Epochs: 5 | Train Loss: 239.0493 | Train Accuracy: 0.7009 | Train F1: 0.6840\n",
      "           | Val Loss:   26.6210 | Val Accuracy:   0.6280 | Val F1:   0.5533\n"
     ]
    },
    {
     "name": "stderr",
     "output_type": "stream",
     "text": [
      "100%|█████████████████████████████████████████| 141/141 [01:51<00:00,  1.26it/s]\n"
     ]
    },
    {
     "name": "stdout",
     "output_type": "stream",
     "text": [
      "Epochs: 6 | Train Loss: 193.8860 | Train Accuracy: 0.7760 | Train F1: 0.7644\n",
      "           | Val Loss:   23.3854 | Val Accuracy:   0.6720 | Val F1:   0.6208\n"
     ]
    },
    {
     "name": "stderr",
     "output_type": "stream",
     "text": [
      "100%|█████████████████████████████████████████| 141/141 [01:32<00:00,  1.53it/s]\n"
     ]
    },
    {
     "name": "stdout",
     "output_type": "stream",
     "text": [
      "Epochs: 7 | Train Loss: 158.0726 | Train Accuracy: 0.8360 | Train F1: 0.8271\n",
      "           | Val Loss:   21.2787 | Val Accuracy:   0.7000 | Val F1:   0.6617\n"
     ]
    },
    {
     "name": "stderr",
     "output_type": "stream",
     "text": [
      "100%|█████████████████████████████████████████| 141/141 [01:31<00:00,  1.54it/s]\n"
     ]
    },
    {
     "name": "stdout",
     "output_type": "stream",
     "text": [
      "Epochs: 8 | Train Loss: 128.5365 | Train Accuracy: 0.8827 | Train F1: 0.8746\n",
      "           | Val Loss:   19.0155 | Val Accuracy:   0.7080 | Val F1:   0.6774\n"
     ]
    },
    {
     "name": "stderr",
     "output_type": "stream",
     "text": [
      "100%|█████████████████████████████████████████| 141/141 [01:51<00:00,  1.26it/s]\n"
     ]
    },
    {
     "name": "stdout",
     "output_type": "stream",
     "text": [
      "Epochs: 9 | Train Loss: 106.9023 | Train Accuracy: 0.9142 | Train F1: 0.9095\n",
      "           | Val Loss:   17.9724 | Val Accuracy:   0.7440 | Val F1:   0.7052\n"
     ]
    },
    {
     "name": "stderr",
     "output_type": "stream",
     "text": [
      "100%|█████████████████████████████████████████| 141/141 [01:51<00:00,  1.26it/s]\n"
     ]
    },
    {
     "name": "stdout",
     "output_type": "stream",
     "text": [
      "Epochs: 10 | Train Loss: 90.0413 | Train Accuracy: 0.9396 | Train F1: 0.9365\n",
      "           | Val Loss:   16.4505 | Val Accuracy:   0.7640 | Val F1:   0.7194\n"
     ]
    },
    {
     "name": "stderr",
     "output_type": "stream",
     "text": [
      "100%|█████████████████████████████████████████| 141/141 [01:51<00:00,  1.26it/s]\n"
     ]
    },
    {
     "name": "stdout",
     "output_type": "stream",
     "text": [
      "Epochs: 11 | Train Loss: 77.5789 | Train Accuracy: 0.9578 | Train F1: 0.9552\n",
      "           | Val Loss:   15.6234 | Val Accuracy:   0.7760 | Val F1:   0.7278\n"
     ]
    },
    {
     "name": "stderr",
     "output_type": "stream",
     "text": [
      "100%|█████████████████████████████████████████| 141/141 [01:51<00:00,  1.26it/s]\n"
     ]
    },
    {
     "name": "stdout",
     "output_type": "stream",
     "text": [
      "Epochs: 12 | Train Loss: 68.9398 | Train Accuracy: 0.9658 | Train F1: 0.9643\n",
      "           | Val Loss:   15.0269 | Val Accuracy:   0.7840 | Val F1:   0.7435\n"
     ]
    },
    {
     "name": "stderr",
     "output_type": "stream",
     "text": [
      "100%|█████████████████████████████████████████| 141/141 [01:52<00:00,  1.26it/s]\n"
     ]
    },
    {
     "name": "stdout",
     "output_type": "stream",
     "text": [
      "Epochs: 13 | Train Loss: 62.9596 | Train Accuracy: 0.9724 | Train F1: 0.9711\n",
      "           | Val Loss:   14.6032 | Val Accuracy:   0.7880 | Val F1:   0.7452\n"
     ]
    },
    {
     "name": "stderr",
     "output_type": "stream",
     "text": [
      "100%|█████████████████████████████████████████| 141/141 [01:51<00:00,  1.26it/s]\n"
     ]
    },
    {
     "name": "stdout",
     "output_type": "stream",
     "text": [
      "Epochs: 14 | Train Loss: 58.0641 | Train Accuracy: 0.9827 | Train F1: 0.9821\n",
      "           | Val Loss:   14.5141 | Val Accuracy:   0.7880 | Val F1:   0.7409\n"
     ]
    },
    {
     "name": "stderr",
     "output_type": "stream",
     "text": [
      "100%|█████████████████████████████████████████| 141/141 [01:51<00:00,  1.26it/s]\n"
     ]
    },
    {
     "name": "stdout",
     "output_type": "stream",
     "text": [
      "Epochs: 15 | Train Loss: 55.5388 | Train Accuracy: 0.9840 | Train F1: 0.9836\n",
      "           | Val Loss:   14.4432 | Val Accuracy:   0.7840 | Val F1:   0.7528\n",
      "Test Accuracy:  0.5608 | Test F1:  0.5589\n"
     ]
    },
    {
     "name": "stderr",
     "output_type": "stream",
     "text": [
      "Some weights of the model checkpoint at bert-base-uncased were not used when initializing BertForSequenceClassification: ['cls.predictions.transform.dense.bias', 'cls.predictions.transform.LayerNorm.weight', 'cls.seq_relationship.bias', 'cls.predictions.decoder.weight', 'cls.predictions.transform.dense.weight', 'cls.seq_relationship.weight', 'cls.predictions.transform.LayerNorm.bias', 'cls.predictions.bias']\n",
      "- This IS expected if you are initializing BertForSequenceClassification from the checkpoint of a model trained on another task or with another architecture (e.g. initializing a BertForSequenceClassification model from a BertForPreTraining model).\n",
      "- This IS NOT expected if you are initializing BertForSequenceClassification from the checkpoint of a model that you expect to be exactly identical (initializing a BertForSequenceClassification model from a BertForSequenceClassification model).\n",
      "Some weights of BertForSequenceClassification were not initialized from the model checkpoint at bert-base-uncased and are newly initialized: ['classifier.weight', 'classifier.bias']\n",
      "You should probably TRAIN this model on a down-stream task to be able to use it for predictions and inference.\n"
     ]
    },
    {
     "name": "stdout",
     "output_type": "stream",
     "text": [
      "idf removal threshold at 4.0\n",
      "0       The capital market, [MASK] [MASK] for a [MASK] of [MASK], needs an independent [MASK], but it is...\n",
      "1       [MASK] the [MASK] 3-0 in a [MASK] [MASK] [MASK] on , [MASK] up a [MASK] for group [MASK] against...\n",
      "2       The fall in the trade [MASK] to [MASK] in from in [MASK] market [MASK], and the [MASK] [MASK] sh...\n",
      "3       [MASK] concern a.s. on said its net profit fell as a [MASK] of its main [MASK] [MASK], [MASK] wi...\n",
      "4       shares [MASK] on following the [MASK] government's win in [MASK], but analysts said the rise was...\n",
      "                                                       ...                                                 \n",
      "2245    \"\" -- [MASK]-[MASK] [MASK] of the 's  -- is being used in a [MASK] for a bank and some [MASK] ar...\n",
      "2246    , the [MASK] stock [MASK] [MASK] recently to [MASK] [MASK] to [MASK] the market, has been [MASK]...\n",
      "2247    , 's biggest city and financial capital, is [MASK] for a near [MASK] when [MASK] hit the [MASK] ...\n",
      "2248    [MASK]-government [MASK] [MASK] across 's biggest city on as [MASK] in [MASK] down the [MASK] sy...\n",
      "2249    , biggest power [MASK], said that it would take a huge () charge in to [MASK] its financial [MAS...\n",
      "Name: masked_content, Length: 2250, dtype: object\n",
      "cuda version 1.13.0+cu117\n"
     ]
    },
    {
     "name": "stderr",
     "output_type": "stream",
     "text": [
      "100%|█████████████████████████████████████████| 141/141 [01:52<00:00,  1.26it/s]\n"
     ]
    },
    {
     "name": "stdout",
     "output_type": "stream",
     "text": [
      "Epochs: 1 | Train Loss: 549.9063 | Train Accuracy: 0.0316 | Train F1: 0.0185\n",
      "           | Val Loss:   59.1606 | Val Accuracy:   0.1280 | Val F1:   0.0702\n"
     ]
    },
    {
     "name": "stderr",
     "output_type": "stream",
     "text": [
      "100%|█████████████████████████████████████████| 141/141 [01:51<00:00,  1.26it/s]\n"
     ]
    },
    {
     "name": "stdout",
     "output_type": "stream",
     "text": [
      "Epochs: 2 | Train Loss: 482.3045 | Train Accuracy: 0.1676 | Train F1: 0.1376\n",
      "           | Val Loss:   48.4814 | Val Accuracy:   0.3000 | Val F1:   0.2473\n"
     ]
    },
    {
     "name": "stderr",
     "output_type": "stream",
     "text": [
      "100%|█████████████████████████████████████████| 141/141 [01:51<00:00,  1.26it/s]\n"
     ]
    },
    {
     "name": "stdout",
     "output_type": "stream",
     "text": [
      "Epochs: 3 | Train Loss: 385.0199 | Train Accuracy: 0.3942 | Train F1: 0.3524\n",
      "           | Val Loss:   40.2737 | Val Accuracy:   0.4200 | Val F1:   0.3531\n"
     ]
    },
    {
     "name": "stderr",
     "output_type": "stream",
     "text": [
      "100%|█████████████████████████████████████████| 141/141 [01:52<00:00,  1.26it/s]\n"
     ]
    },
    {
     "name": "stdout",
     "output_type": "stream",
     "text": [
      "Epochs: 4 | Train Loss: 306.7330 | Train Accuracy: 0.5511 | Train F1: 0.5231\n",
      "           | Val Loss:   34.6659 | Val Accuracy:   0.5320 | Val F1:   0.4795\n"
     ]
    },
    {
     "name": "stderr",
     "output_type": "stream",
     "text": [
      "100%|█████████████████████████████████████████| 141/141 [01:52<00:00,  1.26it/s]\n"
     ]
    },
    {
     "name": "stdout",
     "output_type": "stream",
     "text": [
      "Epochs: 5 | Train Loss: 247.5588 | Train Accuracy: 0.6729 | Train F1: 0.6573\n",
      "           | Val Loss:   30.6568 | Val Accuracy:   0.5400 | Val F1:   0.5105\n"
     ]
    },
    {
     "name": "stderr",
     "output_type": "stream",
     "text": [
      "100%|█████████████████████████████████████████| 141/141 [01:51<00:00,  1.26it/s]\n"
     ]
    },
    {
     "name": "stdout",
     "output_type": "stream",
     "text": [
      "Epochs: 6 | Train Loss: 198.9951 | Train Accuracy: 0.7742 | Train F1: 0.7684\n",
      "           | Val Loss:   27.6614 | Val Accuracy:   0.6040 | Val F1:   0.5656\n"
     ]
    },
    {
     "name": "stderr",
     "output_type": "stream",
     "text": [
      "100%|█████████████████████████████████████████| 141/141 [01:51<00:00,  1.26it/s]\n"
     ]
    },
    {
     "name": "stdout",
     "output_type": "stream",
     "text": [
      "Epochs: 7 | Train Loss: 161.6145 | Train Accuracy: 0.8489 | Train F1: 0.8458\n",
      "           | Val Loss:   25.4013 | Val Accuracy:   0.6200 | Val F1:   0.5860\n"
     ]
    },
    {
     "name": "stderr",
     "output_type": "stream",
     "text": [
      "100%|█████████████████████████████████████████| 141/141 [01:51<00:00,  1.26it/s]\n"
     ]
    },
    {
     "name": "stdout",
     "output_type": "stream",
     "text": [
      "Epochs: 8 | Train Loss: 131.2773 | Train Accuracy: 0.8929 | Train F1: 0.8918\n",
      "           | Val Loss:   22.9831 | Val Accuracy:   0.6600 | Val F1:   0.6239\n"
     ]
    },
    {
     "name": "stderr",
     "output_type": "stream",
     "text": [
      "100%|█████████████████████████████████████████| 141/141 [01:51<00:00,  1.26it/s]\n"
     ]
    },
    {
     "name": "stdout",
     "output_type": "stream",
     "text": [
      "Epochs: 9 | Train Loss: 106.8936 | Train Accuracy: 0.9471 | Train F1: 0.9467\n",
      "           | Val Loss:   21.3648 | Val Accuracy:   0.6960 | Val F1:   0.6504\n"
     ]
    },
    {
     "name": "stderr",
     "output_type": "stream",
     "text": [
      "100%|█████████████████████████████████████████| 141/141 [01:51<00:00,  1.26it/s]\n"
     ]
    },
    {
     "name": "stdout",
     "output_type": "stream",
     "text": [
      "Epochs: 10 | Train Loss: 88.1611 | Train Accuracy: 0.9693 | Train F1: 0.9689\n",
      "           | Val Loss:   20.8369 | Val Accuracy:   0.6920 | Val F1:   0.6462\n"
     ]
    },
    {
     "name": "stderr",
     "output_type": "stream",
     "text": [
      "100%|█████████████████████████████████████████| 141/141 [01:51<00:00,  1.26it/s]\n"
     ]
    },
    {
     "name": "stdout",
     "output_type": "stream",
     "text": [
      "Epochs: 11 | Train Loss: 73.9095 | Train Accuracy: 0.9804 | Train F1: 0.9803\n",
      "           | Val Loss:   19.5531 | Val Accuracy:   0.6920 | Val F1:   0.6476\n"
     ]
    },
    {
     "name": "stderr",
     "output_type": "stream",
     "text": [
      "100%|█████████████████████████████████████████| 141/141 [01:51<00:00,  1.26it/s]\n"
     ]
    },
    {
     "name": "stdout",
     "output_type": "stream",
     "text": [
      "Epochs: 12 | Train Loss: 64.2626 | Train Accuracy: 0.9853 | Train F1: 0.9853\n",
      "           | Val Loss:   19.0821 | Val Accuracy:   0.7000 | Val F1:   0.6551\n"
     ]
    },
    {
     "name": "stderr",
     "output_type": "stream",
     "text": [
      "100%|█████████████████████████████████████████| 141/141 [01:51<00:00,  1.26it/s]\n"
     ]
    },
    {
     "name": "stdout",
     "output_type": "stream",
     "text": [
      "Epochs: 13 | Train Loss: 57.3878 | Train Accuracy: 0.9902 | Train F1: 0.9902\n",
      "           | Val Loss:   18.7842 | Val Accuracy:   0.7160 | Val F1:   0.6717\n"
     ]
    },
    {
     "name": "stderr",
     "output_type": "stream",
     "text": [
      "100%|█████████████████████████████████████████| 141/141 [01:52<00:00,  1.26it/s]\n"
     ]
    },
    {
     "name": "stdout",
     "output_type": "stream",
     "text": [
      "Epochs: 14 | Train Loss: 52.5469 | Train Accuracy: 0.9947 | Train F1: 0.9947\n",
      "           | Val Loss:   18.5915 | Val Accuracy:   0.7120 | Val F1:   0.6716\n"
     ]
    },
    {
     "name": "stderr",
     "output_type": "stream",
     "text": [
      "100%|█████████████████████████████████████████| 141/141 [01:51<00:00,  1.26it/s]\n"
     ]
    },
    {
     "name": "stdout",
     "output_type": "stream",
     "text": [
      "Epochs: 15 | Train Loss: 50.0411 | Train Accuracy: 0.9956 | Train F1: 0.9955\n",
      "           | Val Loss:   18.5940 | Val Accuracy:   0.7120 | Val F1:   0.6724\n",
      "Test Accuracy:  0.5212 | Test F1:  0.5173\n"
     ]
    },
    {
     "name": "stderr",
     "output_type": "stream",
     "text": [
      "Some weights of the model checkpoint at bert-base-uncased were not used when initializing BertForSequenceClassification: ['cls.predictions.transform.dense.bias', 'cls.predictions.transform.LayerNorm.weight', 'cls.seq_relationship.bias', 'cls.predictions.decoder.weight', 'cls.predictions.transform.dense.weight', 'cls.seq_relationship.weight', 'cls.predictions.transform.LayerNorm.bias', 'cls.predictions.bias']\n",
      "- This IS expected if you are initializing BertForSequenceClassification from the checkpoint of a model trained on another task or with another architecture (e.g. initializing a BertForSequenceClassification model from a BertForPreTraining model).\n",
      "- This IS NOT expected if you are initializing BertForSequenceClassification from the checkpoint of a model that you expect to be exactly identical (initializing a BertForSequenceClassification model from a BertForSequenceClassification model).\n",
      "Some weights of BertForSequenceClassification were not initialized from the model checkpoint at bert-base-uncased and are newly initialized: ['classifier.weight', 'classifier.bias']\n",
      "You should probably TRAIN this model on a down-stream task to be able to use it for predictions and inference.\n"
     ]
    },
    {
     "name": "stdout",
     "output_type": "stream",
     "text": [
      "idf removal threshold at 3.5\n",
      "0       The capital market, [MASK] [MASK] for a [MASK] of [MASK], [MASK] an [MASK] [MASK], but it is not...\n",
      "1       [MASK] the [MASK] 3-0 in a [MASK] [MASK] [MASK] on , [MASK] up a [MASK] for group [MASK] against...\n",
      "2       The [MASK] in the trade [MASK] to [MASK] in from in [MASK] market [MASK], and the [MASK] [MASK] ...\n",
      "3       [MASK] [MASK] a.s. on said its net profit fell as a [MASK] of its main [MASK] [MASK], [MASK] wit...\n",
      "4       shares [MASK] on [MASK] the [MASK] government's [MASK] in [MASK], but analysts said the rise was...\n",
      "                                                       ...                                                 \n",
      "2245    \"\" -- [MASK]-[MASK] [MASK] of the 's  -- is being used in a [MASK] for a bank and some [MASK] ar...\n",
      "2246    , the [MASK] stock [MASK] [MASK] recently to [MASK] [MASK] to [MASK] the market, has been [MASK]...\n",
      "2247    , 's biggest [MASK] and financial capital, is [MASK] for a [MASK] [MASK] when [MASK] hit the [MA...\n",
      "2248    [MASK]-government [MASK] [MASK] [MASK] 's biggest [MASK] on as [MASK] in [MASK] down the [MASK] ...\n",
      "2249    , biggest power [MASK], said that it would take a huge () [MASK] in to [MASK] its financial [MAS...\n",
      "Name: masked_content, Length: 2250, dtype: object\n",
      "cuda version 1.13.0+cu117\n"
     ]
    },
    {
     "name": "stderr",
     "output_type": "stream",
     "text": [
      "100%|█████████████████████████████████████████| 141/141 [01:27<00:00,  1.62it/s]\n"
     ]
    },
    {
     "name": "stdout",
     "output_type": "stream",
     "text": [
      "Epochs: 1 | Train Loss: 547.0889 | Train Accuracy: 0.0338 | Train F1: 0.0175\n",
      "           | Val Loss:   60.6153 | Val Accuracy:   0.0520 | Val F1:   0.0234\n"
     ]
    },
    {
     "name": "stderr",
     "output_type": "stream",
     "text": [
      "100%|█████████████████████████████████████████| 141/141 [01:35<00:00,  1.47it/s]\n"
     ]
    },
    {
     "name": "stdout",
     "output_type": "stream",
     "text": [
      "Epochs: 2 | Train Loss: 494.0034 | Train Accuracy: 0.1271 | Train F1: 0.0991\n",
      "           | Val Loss:   53.2623 | Val Accuracy:   0.1800 | Val F1:   0.1581\n"
     ]
    },
    {
     "name": "stderr",
     "output_type": "stream",
     "text": [
      "100%|█████████████████████████████████████████| 141/141 [01:51<00:00,  1.26it/s]\n"
     ]
    },
    {
     "name": "stdout",
     "output_type": "stream",
     "text": [
      "Epochs: 3 | Train Loss: 420.6854 | Train Accuracy: 0.2938 | Train F1: 0.2533\n",
      "           | Val Loss:   45.2726 | Val Accuracy:   0.3280 | Val F1:   0.2724\n"
     ]
    },
    {
     "name": "stderr",
     "output_type": "stream",
     "text": [
      "100%|█████████████████████████████████████████| 141/141 [01:52<00:00,  1.26it/s]\n"
     ]
    },
    {
     "name": "stdout",
     "output_type": "stream",
     "text": [
      "Epochs: 4 | Train Loss: 354.3292 | Train Accuracy: 0.4391 | Train F1: 0.4042\n",
      "           | Val Loss:   38.7722 | Val Accuracy:   0.4280 | Val F1:   0.3666\n"
     ]
    },
    {
     "name": "stderr",
     "output_type": "stream",
     "text": [
      "100%|█████████████████████████████████████████| 141/141 [01:51<00:00,  1.26it/s]\n"
     ]
    },
    {
     "name": "stdout",
     "output_type": "stream",
     "text": [
      "Epochs: 5 | Train Loss: 299.3403 | Train Accuracy: 0.5716 | Train F1: 0.5440\n",
      "           | Val Loss:   34.6691 | Val Accuracy:   0.4840 | Val F1:   0.4109\n"
     ]
    },
    {
     "name": "stderr",
     "output_type": "stream",
     "text": [
      "100%|█████████████████████████████████████████| 141/141 [01:52<00:00,  1.26it/s]\n"
     ]
    },
    {
     "name": "stdout",
     "output_type": "stream",
     "text": [
      "Epochs: 6 | Train Loss: 250.5143 | Train Accuracy: 0.6756 | Train F1: 0.6572\n",
      "           | Val Loss:   30.6782 | Val Accuracy:   0.5720 | Val F1:   0.4955\n"
     ]
    },
    {
     "name": "stderr",
     "output_type": "stream",
     "text": [
      "100%|█████████████████████████████████████████| 141/141 [01:51<00:00,  1.26it/s]\n"
     ]
    },
    {
     "name": "stdout",
     "output_type": "stream",
     "text": [
      "Epochs: 7 | Train Loss: 210.2275 | Train Accuracy: 0.7667 | Train F1: 0.7547\n",
      "           | Val Loss:   28.7212 | Val Accuracy:   0.5800 | Val F1:   0.5279\n"
     ]
    },
    {
     "name": "stderr",
     "output_type": "stream",
     "text": [
      "100%|█████████████████████████████████████████| 141/141 [01:52<00:00,  1.26it/s]\n"
     ]
    },
    {
     "name": "stdout",
     "output_type": "stream",
     "text": [
      "Epochs: 8 | Train Loss: 176.7877 | Train Accuracy: 0.8347 | Train F1: 0.8271\n",
      "           | Val Loss:   26.3846 | Val Accuracy:   0.6160 | Val F1:   0.5684\n"
     ]
    },
    {
     "name": "stderr",
     "output_type": "stream",
     "text": [
      "100%|█████████████████████████████████████████| 141/141 [01:52<00:00,  1.26it/s]\n"
     ]
    },
    {
     "name": "stdout",
     "output_type": "stream",
     "text": [
      "Epochs: 9 | Train Loss: 150.6214 | Train Accuracy: 0.8791 | Train F1: 0.8725\n",
      "           | Val Loss:   24.7050 | Val Accuracy:   0.6400 | Val F1:   0.6079\n"
     ]
    },
    {
     "name": "stderr",
     "output_type": "stream",
     "text": [
      "100%|█████████████████████████████████████████| 141/141 [01:51<00:00,  1.26it/s]\n"
     ]
    },
    {
     "name": "stdout",
     "output_type": "stream",
     "text": [
      "Epochs: 10 | Train Loss: 127.9251 | Train Accuracy: 0.9191 | Train F1: 0.9147\n",
      "           | Val Loss:   23.4515 | Val Accuracy:   0.6240 | Val F1:   0.5782\n"
     ]
    },
    {
     "name": "stderr",
     "output_type": "stream",
     "text": [
      "100%|█████████████████████████████████████████| 141/141 [01:52<00:00,  1.26it/s]\n"
     ]
    },
    {
     "name": "stdout",
     "output_type": "stream",
     "text": [
      "Epochs: 11 | Train Loss: 111.0971 | Train Accuracy: 0.9444 | Train F1: 0.9409\n",
      "           | Val Loss:   22.3239 | Val Accuracy:   0.6600 | Val F1:   0.6065\n"
     ]
    },
    {
     "name": "stderr",
     "output_type": "stream",
     "text": [
      "100%|█████████████████████████████████████████| 141/141 [01:52<00:00,  1.26it/s]\n"
     ]
    },
    {
     "name": "stdout",
     "output_type": "stream",
     "text": [
      "Epochs: 12 | Train Loss: 98.0472 | Train Accuracy: 0.9640 | Train F1: 0.9624\n",
      "           | Val Loss:   21.6013 | Val Accuracy:   0.6720 | Val F1:   0.6236\n"
     ]
    },
    {
     "name": "stderr",
     "output_type": "stream",
     "text": [
      "100%|█████████████████████████████████████████| 141/141 [01:51<00:00,  1.26it/s]\n"
     ]
    },
    {
     "name": "stdout",
     "output_type": "stream",
     "text": [
      "Epochs: 13 | Train Loss: 88.5133 | Train Accuracy: 0.9698 | Train F1: 0.9671\n",
      "           | Val Loss:   21.1635 | Val Accuracy:   0.6800 | Val F1:   0.6360\n"
     ]
    },
    {
     "name": "stderr",
     "output_type": "stream",
     "text": [
      "100%|█████████████████████████████████████████| 141/141 [01:52<00:00,  1.26it/s]\n"
     ]
    },
    {
     "name": "stdout",
     "output_type": "stream",
     "text": [
      "Epochs: 14 | Train Loss: 82.5992 | Train Accuracy: 0.9729 | Train F1: 0.9705\n",
      "           | Val Loss:   20.9410 | Val Accuracy:   0.6720 | Val F1:   0.6259\n"
     ]
    },
    {
     "name": "stderr",
     "output_type": "stream",
     "text": [
      "100%|█████████████████████████████████████████| 141/141 [01:52<00:00,  1.26it/s]\n"
     ]
    },
    {
     "name": "stdout",
     "output_type": "stream",
     "text": [
      "Epochs: 15 | Train Loss: 78.5644 | Train Accuracy: 0.9787 | Train F1: 0.9775\n",
      "           | Val Loss:   20.7751 | Val Accuracy:   0.6720 | Val F1:   0.6248\n",
      "Test Accuracy:  0.5052 | Test F1:  0.5000\n"
     ]
    },
    {
     "name": "stderr",
     "output_type": "stream",
     "text": [
      "Some weights of the model checkpoint at bert-base-uncased were not used when initializing BertForSequenceClassification: ['cls.predictions.transform.dense.bias', 'cls.predictions.transform.LayerNorm.weight', 'cls.seq_relationship.bias', 'cls.predictions.decoder.weight', 'cls.predictions.transform.dense.weight', 'cls.seq_relationship.weight', 'cls.predictions.transform.LayerNorm.bias', 'cls.predictions.bias']\n",
      "- This IS expected if you are initializing BertForSequenceClassification from the checkpoint of a model trained on another task or with another architecture (e.g. initializing a BertForSequenceClassification model from a BertForPreTraining model).\n",
      "- This IS NOT expected if you are initializing BertForSequenceClassification from the checkpoint of a model that you expect to be exactly identical (initializing a BertForSequenceClassification model from a BertForSequenceClassification model).\n",
      "Some weights of BertForSequenceClassification were not initialized from the model checkpoint at bert-base-uncased and are newly initialized: ['classifier.weight', 'classifier.bias']\n",
      "You should probably TRAIN this model on a down-stream task to be able to use it for predictions and inference.\n"
     ]
    },
    {
     "name": "stdout",
     "output_type": "stream",
     "text": [
      "idf removal threshold at 3.0\n",
      "0       The [MASK] market, [MASK] [MASK] for a [MASK] of [MASK], [MASK] an [MASK] [MASK], but it is not ...\n",
      "1       [MASK] the [MASK] 3-0 in a [MASK] [MASK] [MASK] on , [MASK] up a [MASK] for group [MASK] against...\n",
      "2       The [MASK] in the [MASK] [MASK] to [MASK] in from in [MASK] market [MASK], and the [MASK] [MASK]...\n",
      "3       [MASK] [MASK] a.s. on said its [MASK] profit [MASK] as a [MASK] of its [MASK] [MASK] [MASK], [MA...\n",
      "4       shares [MASK] on [MASK] the [MASK] government's [MASK] in [MASK], but analysts said the rise was...\n",
      "                                                       ...                                                 \n",
      "2245    \"\" -- [MASK]-[MASK] [MASK] of the 's  -- is being used in a [MASK] for a bank and some [MASK] ar...\n",
      "2246    , the [MASK] stock [MASK] [MASK] [MASK] to [MASK] [MASK] to [MASK] the market, has been [MASK] f...\n",
      "2247    , 's biggest [MASK] and financial [MASK], is [MASK] for a [MASK] [MASK] when [MASK] [MASK] the [...\n",
      "2248    [MASK]-government [MASK] [MASK] [MASK] 's biggest [MASK] on as [MASK] in [MASK] down the [MASK] ...\n",
      "2249    , biggest [MASK] [MASK], said that it would take a [MASK] () [MASK] in to [MASK] its financial [...\n",
      "Name: masked_content, Length: 2250, dtype: object\n",
      "cuda version 1.13.0+cu117\n"
     ]
    },
    {
     "name": "stderr",
     "output_type": "stream",
     "text": [
      "100%|█████████████████████████████████████████| 141/141 [01:51<00:00,  1.26it/s]\n"
     ]
    },
    {
     "name": "stdout",
     "output_type": "stream",
     "text": [
      "Epochs: 1 | Train Loss: 551.2820 | Train Accuracy: 0.0302 | Train F1: 0.0163\n",
      "           | Val Loss:   62.0649 | Val Accuracy:   0.0320 | Val F1:   0.0126\n"
     ]
    },
    {
     "name": "stderr",
     "output_type": "stream",
     "text": [
      "100%|█████████████████████████████████████████| 141/141 [01:52<00:00,  1.26it/s]\n"
     ]
    },
    {
     "name": "stdout",
     "output_type": "stream",
     "text": [
      "Epochs: 2 | Train Loss: 528.5446 | Train Accuracy: 0.0707 | Train F1: 0.0463\n",
      "           | Val Loss:   57.2686 | Val Accuracy:   0.1200 | Val F1:   0.0780\n"
     ]
    },
    {
     "name": "stderr",
     "output_type": "stream",
     "text": [
      "100%|█████████████████████████████████████████| 141/141 [01:51<00:00,  1.26it/s]\n"
     ]
    },
    {
     "name": "stdout",
     "output_type": "stream",
     "text": [
      "Epochs: 3 | Train Loss: 462.4399 | Train Accuracy: 0.2018 | Train F1: 0.1557\n",
      "           | Val Loss:   49.5421 | Val Accuracy:   0.2280 | Val F1:   0.1698\n"
     ]
    },
    {
     "name": "stderr",
     "output_type": "stream",
     "text": [
      "100%|█████████████████████████████████████████| 141/141 [01:51<00:00,  1.26it/s]\n"
     ]
    },
    {
     "name": "stdout",
     "output_type": "stream",
     "text": [
      "Epochs: 4 | Train Loss: 393.0654 | Train Accuracy: 0.3480 | Train F1: 0.3152\n",
      "           | Val Loss:   43.8207 | Val Accuracy:   0.3640 | Val F1:   0.3439\n"
     ]
    },
    {
     "name": "stderr",
     "output_type": "stream",
     "text": [
      "100%|█████████████████████████████████████████| 141/141 [01:52<00:00,  1.26it/s]\n"
     ]
    },
    {
     "name": "stdout",
     "output_type": "stream",
     "text": [
      "Epochs: 5 | Train Loss: 331.0932 | Train Accuracy: 0.5071 | Train F1: 0.4763\n",
      "           | Val Loss:   39.4798 | Val Accuracy:   0.3880 | Val F1:   0.3650\n"
     ]
    },
    {
     "name": "stderr",
     "output_type": "stream",
     "text": [
      "100%|█████████████████████████████████████████| 141/141 [01:52<00:00,  1.26it/s]\n"
     ]
    },
    {
     "name": "stdout",
     "output_type": "stream",
     "text": [
      "Epochs: 6 | Train Loss: 280.0661 | Train Accuracy: 0.6196 | Train F1: 0.5973\n",
      "           | Val Loss:   34.4112 | Val Accuracy:   0.4640 | Val F1:   0.4259\n"
     ]
    },
    {
     "name": "stderr",
     "output_type": "stream",
     "text": [
      "100%|█████████████████████████████████████████| 141/141 [01:52<00:00,  1.26it/s]\n"
     ]
    },
    {
     "name": "stdout",
     "output_type": "stream",
     "text": [
      "Epochs: 7 | Train Loss: 233.8610 | Train Accuracy: 0.7298 | Train F1: 0.7190\n",
      "           | Val Loss:   31.1638 | Val Accuracy:   0.5320 | Val F1:   0.4990\n"
     ]
    },
    {
     "name": "stderr",
     "output_type": "stream",
     "text": [
      "100%|█████████████████████████████████████████| 141/141 [01:51<00:00,  1.26it/s]\n"
     ]
    },
    {
     "name": "stdout",
     "output_type": "stream",
     "text": [
      "Epochs: 8 | Train Loss: 198.2557 | Train Accuracy: 0.8071 | Train F1: 0.8018\n",
      "           | Val Loss:   28.6500 | Val Accuracy:   0.5760 | Val F1:   0.5375\n"
     ]
    },
    {
     "name": "stderr",
     "output_type": "stream",
     "text": [
      "100%|█████████████████████████████████████████| 141/141 [01:52<00:00,  1.26it/s]\n"
     ]
    },
    {
     "name": "stdout",
     "output_type": "stream",
     "text": [
      "Epochs: 9 | Train Loss: 166.4290 | Train Accuracy: 0.8676 | Train F1: 0.8652\n",
      "           | Val Loss:   26.5200 | Val Accuracy:   0.5960 | Val F1:   0.5580\n"
     ]
    },
    {
     "name": "stderr",
     "output_type": "stream",
     "text": [
      "100%|█████████████████████████████████████████| 141/141 [01:52<00:00,  1.26it/s]\n"
     ]
    },
    {
     "name": "stdout",
     "output_type": "stream",
     "text": [
      "Epochs: 10 | Train Loss: 140.5103 | Train Accuracy: 0.9080 | Train F1: 0.9067\n",
      "           | Val Loss:   24.7068 | Val Accuracy:   0.6440 | Val F1:   0.6133\n"
     ]
    },
    {
     "name": "stderr",
     "output_type": "stream",
     "text": [
      "100%|█████████████████████████████████████████| 141/141 [01:27<00:00,  1.62it/s]\n"
     ]
    },
    {
     "name": "stdout",
     "output_type": "stream",
     "text": [
      "Epochs: 11 | Train Loss: 120.5554 | Train Accuracy: 0.9458 | Train F1: 0.9454\n",
      "           | Val Loss:   23.1640 | Val Accuracy:   0.6560 | Val F1:   0.6225\n"
     ]
    },
    {
     "name": "stderr",
     "output_type": "stream",
     "text": [
      "100%|█████████████████████████████████████████| 141/141 [01:38<00:00,  1.44it/s]\n"
     ]
    },
    {
     "name": "stdout",
     "output_type": "stream",
     "text": [
      "Epochs: 12 | Train Loss: 106.0102 | Train Accuracy: 0.9596 | Train F1: 0.9595\n",
      "           | Val Loss:   22.9754 | Val Accuracy:   0.6400 | Val F1:   0.6137\n"
     ]
    },
    {
     "name": "stderr",
     "output_type": "stream",
     "text": [
      "100%|█████████████████████████████████████████| 141/141 [01:52<00:00,  1.26it/s]\n"
     ]
    },
    {
     "name": "stdout",
     "output_type": "stream",
     "text": [
      "Epochs: 13 | Train Loss: 94.9433 | Train Accuracy: 0.9751 | Train F1: 0.9750\n",
      "           | Val Loss:   22.0794 | Val Accuracy:   0.6560 | Val F1:   0.6239\n"
     ]
    },
    {
     "name": "stderr",
     "output_type": "stream",
     "text": [
      "100%|█████████████████████████████████████████| 141/141 [01:52<00:00,  1.26it/s]\n"
     ]
    },
    {
     "name": "stdout",
     "output_type": "stream",
     "text": [
      "Epochs: 14 | Train Loss: 87.8684 | Train Accuracy: 0.9813 | Train F1: 0.9813\n",
      "           | Val Loss:   21.5223 | Val Accuracy:   0.6600 | Val F1:   0.6346\n"
     ]
    },
    {
     "name": "stderr",
     "output_type": "stream",
     "text": [
      "100%|█████████████████████████████████████████| 141/141 [01:51<00:00,  1.26it/s]\n"
     ]
    },
    {
     "name": "stdout",
     "output_type": "stream",
     "text": [
      "Epochs: 15 | Train Loss: 83.9098 | Train Accuracy: 0.9844 | Train F1: 0.9843\n",
      "           | Val Loss:   21.5298 | Val Accuracy:   0.6600 | Val F1:   0.6228\n",
      "Test Accuracy:  0.4668 | Test F1:  0.4609\n"
     ]
    },
    {
     "name": "stderr",
     "output_type": "stream",
     "text": [
      "Some weights of the model checkpoint at bert-base-uncased were not used when initializing BertForSequenceClassification: ['cls.predictions.transform.dense.bias', 'cls.predictions.transform.LayerNorm.weight', 'cls.seq_relationship.bias', 'cls.predictions.decoder.weight', 'cls.predictions.transform.dense.weight', 'cls.seq_relationship.weight', 'cls.predictions.transform.LayerNorm.bias', 'cls.predictions.bias']\n",
      "- This IS expected if you are initializing BertForSequenceClassification from the checkpoint of a model trained on another task or with another architecture (e.g. initializing a BertForSequenceClassification model from a BertForPreTraining model).\n",
      "- This IS NOT expected if you are initializing BertForSequenceClassification from the checkpoint of a model that you expect to be exactly identical (initializing a BertForSequenceClassification model from a BertForSequenceClassification model).\n",
      "Some weights of BertForSequenceClassification were not initialized from the model checkpoint at bert-base-uncased and are newly initialized: ['classifier.weight', 'classifier.bias']\n",
      "You should probably TRAIN this model on a down-stream task to be able to use it for predictions and inference.\n"
     ]
    },
    {
     "name": "stdout",
     "output_type": "stream",
     "text": [
      "idf removal threshold at 2.5\n",
      "0       The [MASK] market, [MASK] [MASK] for a [MASK] of [MASK], [MASK] an [MASK] [MASK], but it is not ...\n",
      "1       [MASK] the [MASK] 3-0 in a [MASK] [MASK] [MASK] on , [MASK] up a [MASK] for group [MASK] [MASK] ...\n",
      "2       The [MASK] in the [MASK] [MASK] to [MASK] in from in [MASK] market [MASK], and the [MASK] [MASK]...\n",
      "3       [MASK] [MASK] a.s. on said its [MASK] [MASK] [MASK] as a [MASK] of its [MASK] [MASK] [MASK], [MA...\n",
      "4       shares [MASK] on [MASK] the [MASK] government's [MASK] in [MASK], but analysts said the [MASK] w...\n",
      "                                                       ...                                                 \n",
      "2245    \"\" -- [MASK]-[MASK] [MASK] of the 's  -- is [MASK] [MASK] in a [MASK] for a [MASK] and some [MAS...\n",
      "2246    , the [MASK] stock [MASK] [MASK] [MASK] to [MASK] [MASK] to [MASK] the market, has been [MASK] f...\n",
      "2247    , 's [MASK] [MASK] and [MASK] [MASK], is [MASK] for a [MASK] [MASK] when [MASK] [MASK] the [MASK...\n",
      "2248    [MASK]-government [MASK] [MASK] [MASK] 's [MASK] [MASK] on as [MASK] in [MASK] down the [MASK] [...\n",
      "2249    , [MASK] [MASK] [MASK], said that it would take a [MASK] () [MASK] in to [MASK] its [MASK] [MASK...\n",
      "Name: masked_content, Length: 2250, dtype: object\n",
      "cuda version 1.13.0+cu117\n"
     ]
    },
    {
     "name": "stderr",
     "output_type": "stream",
     "text": [
      "100%|█████████████████████████████████████████| 141/141 [01:51<00:00,  1.26it/s]\n"
     ]
    },
    {
     "name": "stdout",
     "output_type": "stream",
     "text": [
      "Epochs: 1 | Train Loss: 550.3019 | Train Accuracy: 0.0302 | Train F1: 0.0128\n",
      "           | Val Loss:   61.4204 | Val Accuracy:   0.0640 | Val F1:   0.0222\n"
     ]
    },
    {
     "name": "stderr",
     "output_type": "stream",
     "text": [
      "100%|█████████████████████████████████████████| 141/141 [01:51<00:00,  1.26it/s]\n"
     ]
    },
    {
     "name": "stdout",
     "output_type": "stream",
     "text": [
      "Epochs: 2 | Train Loss: 517.8528 | Train Accuracy: 0.0929 | Train F1: 0.0594\n",
      "           | Val Loss:   55.4452 | Val Accuracy:   0.1520 | Val F1:   0.0913\n"
     ]
    },
    {
     "name": "stderr",
     "output_type": "stream",
     "text": [
      "100%|█████████████████████████████████████████| 141/141 [01:52<00:00,  1.26it/s]\n"
     ]
    },
    {
     "name": "stdout",
     "output_type": "stream",
     "text": [
      "Epochs: 3 | Train Loss: 459.5212 | Train Accuracy: 0.2027 | Train F1: 0.1467\n",
      "           | Val Loss:   50.3324 | Val Accuracy:   0.2040 | Val F1:   0.1523\n"
     ]
    },
    {
     "name": "stderr",
     "output_type": "stream",
     "text": [
      "100%|█████████████████████████████████████████| 141/141 [01:52<00:00,  1.26it/s]\n"
     ]
    },
    {
     "name": "stdout",
     "output_type": "stream",
     "text": [
      "Epochs: 4 | Train Loss: 406.3584 | Train Accuracy: 0.3378 | Train F1: 0.2868\n",
      "           | Val Loss:   45.5399 | Val Accuracy:   0.3000 | Val F1:   0.2276\n"
     ]
    },
    {
     "name": "stderr",
     "output_type": "stream",
     "text": [
      "100%|█████████████████████████████████████████| 141/141 [01:51<00:00,  1.26it/s]\n"
     ]
    },
    {
     "name": "stdout",
     "output_type": "stream",
     "text": [
      "Epochs: 5 | Train Loss: 353.1768 | Train Accuracy: 0.4604 | Train F1: 0.4229\n",
      "           | Val Loss:   40.9750 | Val Accuracy:   0.4080 | Val F1:   0.3543\n"
     ]
    },
    {
     "name": "stderr",
     "output_type": "stream",
     "text": [
      "100%|█████████████████████████████████████████| 141/141 [01:51<00:00,  1.26it/s]\n"
     ]
    },
    {
     "name": "stdout",
     "output_type": "stream",
     "text": [
      "Epochs: 6 | Train Loss: 302.8521 | Train Accuracy: 0.5796 | Train F1: 0.5469\n",
      "           | Val Loss:   37.3131 | Val Accuracy:   0.4680 | Val F1:   0.4279\n"
     ]
    },
    {
     "name": "stderr",
     "output_type": "stream",
     "text": [
      "100%|█████████████████████████████████████████| 141/141 [01:51<00:00,  1.26it/s]\n"
     ]
    },
    {
     "name": "stdout",
     "output_type": "stream",
     "text": [
      "Epochs: 7 | Train Loss: 259.7113 | Train Accuracy: 0.6862 | Train F1: 0.6621\n",
      "           | Val Loss:   33.8603 | Val Accuracy:   0.4960 | Val F1:   0.4577\n"
     ]
    },
    {
     "name": "stderr",
     "output_type": "stream",
     "text": [
      "100%|█████████████████████████████████████████| 141/141 [01:52<00:00,  1.26it/s]\n"
     ]
    },
    {
     "name": "stdout",
     "output_type": "stream",
     "text": [
      "Epochs: 8 | Train Loss: 221.4255 | Train Accuracy: 0.7729 | Train F1: 0.7576\n",
      "           | Val Loss:   31.7443 | Val Accuracy:   0.5240 | Val F1:   0.4878\n"
     ]
    },
    {
     "name": "stderr",
     "output_type": "stream",
     "text": [
      "100%|█████████████████████████████████████████| 141/141 [01:52<00:00,  1.26it/s]\n"
     ]
    },
    {
     "name": "stdout",
     "output_type": "stream",
     "text": [
      "Epochs: 9 | Train Loss: 189.8386 | Train Accuracy: 0.8307 | Train F1: 0.8199\n",
      "           | Val Loss:   29.0415 | Val Accuracy:   0.5600 | Val F1:   0.5021\n"
     ]
    },
    {
     "name": "stderr",
     "output_type": "stream",
     "text": [
      "100%|█████████████████████████████████████████| 141/141 [01:52<00:00,  1.26it/s]\n"
     ]
    },
    {
     "name": "stdout",
     "output_type": "stream",
     "text": [
      "Epochs: 10 | Train Loss: 162.8583 | Train Accuracy: 0.8813 | Train F1: 0.8749\n",
      "           | Val Loss:   27.7113 | Val Accuracy:   0.5720 | Val F1:   0.5378\n"
     ]
    },
    {
     "name": "stderr",
     "output_type": "stream",
     "text": [
      "100%|█████████████████████████████████████████| 141/141 [01:51<00:00,  1.26it/s]\n"
     ]
    },
    {
     "name": "stdout",
     "output_type": "stream",
     "text": [
      "Epochs: 11 | Train Loss: 143.3459 | Train Accuracy: 0.9098 | Train F1: 0.9061\n",
      "           | Val Loss:   27.0041 | Val Accuracy:   0.6000 | Val F1:   0.5683\n"
     ]
    },
    {
     "name": "stderr",
     "output_type": "stream",
     "text": [
      "100%|█████████████████████████████████████████| 141/141 [01:51<00:00,  1.26it/s]\n"
     ]
    },
    {
     "name": "stdout",
     "output_type": "stream",
     "text": [
      "Epochs: 12 | Train Loss: 126.5472 | Train Accuracy: 0.9351 | Train F1: 0.9331\n",
      "           | Val Loss:   25.8264 | Val Accuracy:   0.5960 | Val F1:   0.5683\n"
     ]
    },
    {
     "name": "stderr",
     "output_type": "stream",
     "text": [
      "100%|█████████████████████████████████████████| 141/141 [01:52<00:00,  1.26it/s]\n"
     ]
    },
    {
     "name": "stdout",
     "output_type": "stream",
     "text": [
      "Epochs: 13 | Train Loss: 116.3483 | Train Accuracy: 0.9480 | Train F1: 0.9467\n",
      "           | Val Loss:   25.1467 | Val Accuracy:   0.6160 | Val F1:   0.5917\n"
     ]
    },
    {
     "name": "stderr",
     "output_type": "stream",
     "text": [
      " 81%|█████████████████████████████████▏       | 114/141 [01:30<00:21,  1.26it/s]"
     ]
    }
   ],
   "source": [
    "pd.options.display.max_colwidth = 100\n",
    "EPOCHS = 15\n",
    "LR = 2e-5\n",
    "BATCH_SIZE = 16\n",
    "grid_search_idf(threshold_list=np.arange(7.5, 1, -0.5))"
   ]
  },
  {
   "cell_type": "markdown",
   "metadata": {
    "id": "ZApbTcWjQMde"
   },
   "source": [
    "### Saliency Map"
   ]
  },
  {
   "cell_type": "code",
   "execution_count": null,
   "metadata": {
    "id": "sBiT2X4NQOL1"
   },
   "outputs": [],
   "source": [
    "def get_saliency_map(model, df):\n",
    "    input_text = [tokenizer(text, padding='max_length', max_length = 512, truncation=True, return_tensors=\"pt\") for text in df['content']]\n",
    "    input = input_text[0]\n",
    "    print(input.shape)\n",
    "    for param in model.parameters():\n",
    "        param.requires_grad = False\n",
    "    model.eval()\n",
    "    # input.unsqueeze_(0)\n",
    "    input.requires_grad = True\n",
    "    preds = model(input)\n",
    "    score, indices = torch.max(preds, 1)\n",
    "    #backward pass to get gradients of score predicted class w.r.t. input image\n",
    "    score.backward()\n",
    "    #get max along channel axis\n",
    "    slc, _ = torch.max(torch.abs(input.grad[0]), dim=0)\n",
    "    #normalize to [0..1]\n",
    "    slc = (slc - slc.min())/(slc.max()-slc.min())\n",
    "    return slc\n",
    "\n",
    "input_slc = get_saliency_map(model, train_df)\n",
    "print(input_slc.shape)\n",
    "input_slc"
   ]
  },
  {
   "cell_type": "markdown",
   "metadata": {
    "id": "D88rs5MvQLQ9"
   },
   "source": [
    "### SHAP"
   ]
  },
  {
   "cell_type": "code",
   "execution_count": null,
   "metadata": {
    "colab": {
     "base_uri": "https://localhost:8080/",
     "height": 69,
     "referenced_widgets": [
      "dcab5a979939476c82f093439fff5727",
      "5cbbe15dece24cf3911c00f7db8e1614",
      "5e90c71339ef41249bb67de526223c54",
      "2523a9bcd4e64d7aba736eb8d4969c0c",
      "c822bbdecfbb47b7997fdf9da6e6e696",
      "06860822f884497ba299cc9293ecb57a",
      "abd33785ca0a4446a322acd52b003cef",
      "793d44f5f6cd4b61a43d33e8bdf8c1c2",
      "7920057913524c9b82b2d786c9de04bb",
      "9e162044bfb54506a6bdf64347ac3954",
      "0c9de959b02449e285794ad424e5b7c5",
      "ec2929e2846f4f3ba9adcdb719aa0734",
      "7c129a485dd54ff8881a82d3feb0579c",
      "220e48323927424fac008796af507795",
      "dec1ada1356140aeb3a7b1f4628707c5",
      "a5d358b0730844c0b02b96bd2f9abf72",
      "877ab9697e3f4a4a93559e8e11bae1da",
      "1444797dd2b7452986ce271d39181035",
      "a860e95402d7473e9575cb3c34b816ed",
      "bb692e7025e84973b48def9548dc2c38",
      "75b20cfd32344c9e83d6d06fed412c66",
      "e15c4d7ec9f54cd38cca81d59cca6e69",
      "a75980817b6645c2976f7b78b31ebe35",
      "2c09c7b13b6848bcaa01c7edc83df2b2",
      "0fbab92fb5d141c599118fcb0b017ed0",
      "89410ad834764d259ce47ea8a0f569a2",
      "a63ed4e90e5f4d848798167662a19977",
      "a0684f736a954d1daeca0da348913608",
      "312b4ab6e5e341d18eb385d5fff9ad52",
      "0d435e9934a846eba201bc46ffc7e535",
      "3bb8f7dae8e9417c900c00913bf62335",
      "995280c29b654f7895700a8880219e16",
      "b0f69226bef346babd2bb8364bc47265"
     ]
    },
    "executionInfo": {
     "elapsed": 34753,
     "status": "ok",
     "timestamp": 1668042766547,
     "user": {
      "displayName": "Yang Su",
      "userId": "02255409601147553219"
     },
     "user_tz": 300
    },
    "id": "1pa1MPloNwzx",
    "outputId": "2b92a177-3102-4e0f-dcef-7a50774f989b"
   },
   "outputs": [],
   "source": [
    "import shap\n",
    "import scipy as sp\n",
    "\n",
    "def f(x):\n",
    "    tv = torch.tensor([tokenizer.encode(v, padding='max_length', \\\n",
    "        max_length=512, truncation=True) for v in x]).cuda()\n",
    "    outputs = model(tv)[0].detach().cpu().numpy()\n",
    "    scores = (np.exp(outputs).T / np.exp(outputs).sum(-1)).T\n",
    "    val = sp.special.logit(scores[:,1]) # use one vs rest logit units\n",
    "    return val\n",
    "\n",
    "explainer = shap.Explainer(f, tokenizer)\n",
    "shap_values = explainer(train_df['masked_content'][:3], fixed_context=1, batch_size=32)"
   ]
  },
  {
   "cell_type": "code",
   "execution_count": null,
   "metadata": {
    "id": "Jk6VyEd0Oqkx"
   },
   "outputs": [],
   "source": [
    "shap.plots.bar(shap_values.abs.mean(0)) # default"
   ]
  },
  {
   "cell_type": "code",
   "execution_count": null,
   "metadata": {
    "id": "V6UetRMHOrGi"
   },
   "outputs": [],
   "source": [
    "shap.plots.bar(shap_values.abs.sum(0))"
   ]
  },
  {
   "cell_type": "code",
   "execution_count": null,
   "metadata": {
    "id": "fnPH7iWNED1A"
   },
   "outputs": [],
   "source": [
    "shap.plots.bar(shap_values.abs.max(0))"
   ]
  },
  {
   "cell_type": "code",
   "execution_count": null,
   "metadata": {
    "colab": {
     "base_uri": "https://localhost:8080/",
     "height": 758,
     "output_embedded_package_id": "1-F4-hjXaPqU5Map1uBCuiDCO7Xm3DTFs"
    },
    "executionInfo": {
     "elapsed": 1569,
     "status": "ok",
     "timestamp": 1668042768104,
     "user": {
      "displayName": "Yang Su",
      "userId": "02255409601147553219"
     },
     "user_tz": 300
    },
    "id": "fiRXOjnkebQ7",
    "outputId": "4737b43c-4bdf-47cf-cbd0-46c7b8dd9b66",
    "scrolled": false
   },
   "outputs": [],
   "source": [
    "shap.plots.text(shap_values)"
   ]
  },
  {
   "cell_type": "code",
   "execution_count": null,
   "metadata": {},
   "outputs": [],
   "source": []
  }
 ],
 "metadata": {
  "accelerator": "GPU",
  "colab": {
   "authorship_tag": "ABX9TyOXSKqSuD+oAsk0hGEM557k",
   "collapsed_sections": [],
   "mount_file_id": "1ZO6zy-jb5c4IFPs9bJj9_z3Pqk4m9KHQ",
   "provenance": []
  },
  "gpuClass": "standard",
  "kernelspec": {
   "display_name": "ys724",
   "language": "python",
   "name": "ys724"
  },
  "language_info": {
   "codemirror_mode": {
    "name": "ipython",
    "version": 3
   },
   "file_extension": ".py",
   "mimetype": "text/x-python",
   "name": "python",
   "nbconvert_exporter": "python",
   "pygments_lexer": "ipython3",
   "version": "3.8.8"
  },
  "vscode": {
   "interpreter": {
    "hash": "20093269b19d49e29b5b3c0cabfa6df86376d30f0399478180579ee0de4d490b"
   }
  },
  "widgets": {
   "application/vnd.jupyter.widget-state+json": {
    "06860822f884497ba299cc9293ecb57a": {
     "model_module": "@jupyter-widgets/base",
     "model_module_version": "1.2.0",
     "model_name": "LayoutModel",
     "state": {
      "_model_module": "@jupyter-widgets/base",
      "_model_module_version": "1.2.0",
      "_model_name": "LayoutModel",
      "_view_count": null,
      "_view_module": "@jupyter-widgets/base",
      "_view_module_version": "1.2.0",
      "_view_name": "LayoutView",
      "align_content": null,
      "align_items": null,
      "align_self": null,
      "border": null,
      "bottom": null,
      "display": null,
      "flex": null,
      "flex_flow": null,
      "grid_area": null,
      "grid_auto_columns": null,
      "grid_auto_flow": null,
      "grid_auto_rows": null,
      "grid_column": null,
      "grid_gap": null,
      "grid_row": null,
      "grid_template_areas": null,
      "grid_template_columns": null,
      "grid_template_rows": null,
      "height": null,
      "justify_content": null,
      "justify_items": null,
      "left": null,
      "margin": null,
      "max_height": null,
      "max_width": null,
      "min_height": null,
      "min_width": null,
      "object_fit": null,
      "object_position": null,
      "order": null,
      "overflow": null,
      "overflow_x": null,
      "overflow_y": null,
      "padding": null,
      "right": null,
      "top": null,
      "visibility": null,
      "width": null
     }
    },
    "0c9de959b02449e285794ad424e5b7c5": {
     "model_module": "@jupyter-widgets/controls",
     "model_module_version": "1.5.0",
     "model_name": "DescriptionStyleModel",
     "state": {
      "_model_module": "@jupyter-widgets/controls",
      "_model_module_version": "1.5.0",
      "_model_name": "DescriptionStyleModel",
      "_view_count": null,
      "_view_module": "@jupyter-widgets/base",
      "_view_module_version": "1.2.0",
      "_view_name": "StyleView",
      "description_width": ""
     }
    },
    "0d435e9934a846eba201bc46ffc7e535": {
     "model_module": "@jupyter-widgets/base",
     "model_module_version": "1.2.0",
     "model_name": "LayoutModel",
     "state": {
      "_model_module": "@jupyter-widgets/base",
      "_model_module_version": "1.2.0",
      "_model_name": "LayoutModel",
      "_view_count": null,
      "_view_module": "@jupyter-widgets/base",
      "_view_module_version": "1.2.0",
      "_view_name": "LayoutView",
      "align_content": null,
      "align_items": null,
      "align_self": null,
      "border": null,
      "bottom": null,
      "display": null,
      "flex": null,
      "flex_flow": null,
      "grid_area": null,
      "grid_auto_columns": null,
      "grid_auto_flow": null,
      "grid_auto_rows": null,
      "grid_column": null,
      "grid_gap": null,
      "grid_row": null,
      "grid_template_areas": null,
      "grid_template_columns": null,
      "grid_template_rows": null,
      "height": null,
      "justify_content": null,
      "justify_items": null,
      "left": null,
      "margin": null,
      "max_height": null,
      "max_width": null,
      "min_height": null,
      "min_width": null,
      "object_fit": null,
      "object_position": null,
      "order": null,
      "overflow": null,
      "overflow_x": null,
      "overflow_y": null,
      "padding": null,
      "right": null,
      "top": null,
      "visibility": null,
      "width": null
     }
    },
    "0fbab92fb5d141c599118fcb0b017ed0": {
     "model_module": "@jupyter-widgets/controls",
     "model_module_version": "1.5.0",
     "model_name": "FloatProgressModel",
     "state": {
      "_dom_classes": [],
      "_model_module": "@jupyter-widgets/controls",
      "_model_module_version": "1.5.0",
      "_model_name": "FloatProgressModel",
      "_view_count": null,
      "_view_module": "@jupyter-widgets/controls",
      "_view_module_version": "1.5.0",
      "_view_name": "ProgressView",
      "bar_style": "",
      "description": "",
      "description_tooltip": null,
      "layout": "IPY_MODEL_0d435e9934a846eba201bc46ffc7e535",
      "max": 498,
      "min": 0,
      "orientation": "horizontal",
      "style": "IPY_MODEL_3bb8f7dae8e9417c900c00913bf62335",
      "value": 498
     }
    },
    "1444797dd2b7452986ce271d39181035": {
     "model_module": "@jupyter-widgets/controls",
     "model_module_version": "1.5.0",
     "model_name": "DescriptionStyleModel",
     "state": {
      "_model_module": "@jupyter-widgets/controls",
      "_model_module_version": "1.5.0",
      "_model_name": "DescriptionStyleModel",
      "_view_count": null,
      "_view_module": "@jupyter-widgets/base",
      "_view_module_version": "1.2.0",
      "_view_name": "StyleView",
      "description_width": ""
     }
    },
    "220e48323927424fac008796af507795": {
     "model_module": "@jupyter-widgets/controls",
     "model_module_version": "1.5.0",
     "model_name": "FloatProgressModel",
     "state": {
      "_dom_classes": [],
      "_model_module": "@jupyter-widgets/controls",
      "_model_module_version": "1.5.0",
      "_model_name": "FloatProgressModel",
      "_view_count": null,
      "_view_module": "@jupyter-widgets/controls",
      "_view_module_version": "1.5.0",
      "_view_name": "ProgressView",
      "bar_style": "",
      "description": "",
      "description_tooltip": null,
      "layout": "IPY_MODEL_a860e95402d7473e9575cb3c34b816ed",
      "max": 498,
      "min": 0,
      "orientation": "horizontal",
      "style": "IPY_MODEL_bb692e7025e84973b48def9548dc2c38",
      "value": 498
     }
    },
    "2523a9bcd4e64d7aba736eb8d4969c0c": {
     "model_module": "@jupyter-widgets/controls",
     "model_module_version": "1.5.0",
     "model_name": "HTMLModel",
     "state": {
      "_dom_classes": [],
      "_model_module": "@jupyter-widgets/controls",
      "_model_module_version": "1.5.0",
      "_model_name": "HTMLModel",
      "_view_count": null,
      "_view_module": "@jupyter-widgets/controls",
      "_view_module_version": "1.5.0",
      "_view_name": "HTMLView",
      "description": "",
      "description_tooltip": null,
      "layout": "IPY_MODEL_9e162044bfb54506a6bdf64347ac3954",
      "placeholder": "​",
      "style": "IPY_MODEL_0c9de959b02449e285794ad424e5b7c5",
      "value": " 530/? [00:05&lt;00:00, 60.52it/s]"
     }
    },
    "2c09c7b13b6848bcaa01c7edc83df2b2": {
     "model_module": "@jupyter-widgets/controls",
     "model_module_version": "1.5.0",
     "model_name": "HTMLModel",
     "state": {
      "_dom_classes": [],
      "_model_module": "@jupyter-widgets/controls",
      "_model_module_version": "1.5.0",
      "_model_name": "HTMLModel",
      "_view_count": null,
      "_view_module": "@jupyter-widgets/controls",
      "_view_module_version": "1.5.0",
      "_view_name": "HTMLView",
      "description": "",
      "description_tooltip": null,
      "layout": "IPY_MODEL_a0684f736a954d1daeca0da348913608",
      "placeholder": "​",
      "style": "IPY_MODEL_312b4ab6e5e341d18eb385d5fff9ad52",
      "value": ""
     }
    },
    "312b4ab6e5e341d18eb385d5fff9ad52": {
     "model_module": "@jupyter-widgets/controls",
     "model_module_version": "1.5.0",
     "model_name": "DescriptionStyleModel",
     "state": {
      "_model_module": "@jupyter-widgets/controls",
      "_model_module_version": "1.5.0",
      "_model_name": "DescriptionStyleModel",
      "_view_count": null,
      "_view_module": "@jupyter-widgets/base",
      "_view_module_version": "1.2.0",
      "_view_name": "StyleView",
      "description_width": ""
     }
    },
    "3bb8f7dae8e9417c900c00913bf62335": {
     "model_module": "@jupyter-widgets/controls",
     "model_module_version": "1.5.0",
     "model_name": "ProgressStyleModel",
     "state": {
      "_model_module": "@jupyter-widgets/controls",
      "_model_module_version": "1.5.0",
      "_model_name": "ProgressStyleModel",
      "_view_count": null,
      "_view_module": "@jupyter-widgets/base",
      "_view_module_version": "1.2.0",
      "_view_name": "StyleView",
      "bar_color": null,
      "description_width": ""
     }
    },
    "5cbbe15dece24cf3911c00f7db8e1614": {
     "model_module": "@jupyter-widgets/controls",
     "model_module_version": "1.5.0",
     "model_name": "HTMLModel",
     "state": {
      "_dom_classes": [],
      "_model_module": "@jupyter-widgets/controls",
      "_model_module_version": "1.5.0",
      "_model_name": "HTMLModel",
      "_view_count": null,
      "_view_module": "@jupyter-widgets/controls",
      "_view_module_version": "1.5.0",
      "_view_name": "HTMLView",
      "description": "",
      "description_tooltip": null,
      "layout": "IPY_MODEL_06860822f884497ba299cc9293ecb57a",
      "placeholder": "​",
      "style": "IPY_MODEL_abd33785ca0a4446a322acd52b003cef",
      "value": ""
     }
    },
    "5e90c71339ef41249bb67de526223c54": {
     "model_module": "@jupyter-widgets/controls",
     "model_module_version": "1.5.0",
     "model_name": "FloatProgressModel",
     "state": {
      "_dom_classes": [],
      "_model_module": "@jupyter-widgets/controls",
      "_model_module_version": "1.5.0",
      "_model_name": "FloatProgressModel",
      "_view_count": null,
      "_view_module": "@jupyter-widgets/controls",
      "_view_module_version": "1.5.0",
      "_view_name": "ProgressView",
      "bar_style": "",
      "description": "",
      "description_tooltip": null,
      "layout": "IPY_MODEL_793d44f5f6cd4b61a43d33e8bdf8c1c2",
      "max": 498,
      "min": 0,
      "orientation": "horizontal",
      "style": "IPY_MODEL_7920057913524c9b82b2d786c9de04bb",
      "value": 498
     }
    },
    "75b20cfd32344c9e83d6d06fed412c66": {
     "model_module": "@jupyter-widgets/base",
     "model_module_version": "1.2.0",
     "model_name": "LayoutModel",
     "state": {
      "_model_module": "@jupyter-widgets/base",
      "_model_module_version": "1.2.0",
      "_model_name": "LayoutModel",
      "_view_count": null,
      "_view_module": "@jupyter-widgets/base",
      "_view_module_version": "1.2.0",
      "_view_name": "LayoutView",
      "align_content": null,
      "align_items": null,
      "align_self": null,
      "border": null,
      "bottom": null,
      "display": null,
      "flex": null,
      "flex_flow": null,
      "grid_area": null,
      "grid_auto_columns": null,
      "grid_auto_flow": null,
      "grid_auto_rows": null,
      "grid_column": null,
      "grid_gap": null,
      "grid_row": null,
      "grid_template_areas": null,
      "grid_template_columns": null,
      "grid_template_rows": null,
      "height": null,
      "justify_content": null,
      "justify_items": null,
      "left": null,
      "margin": null,
      "max_height": null,
      "max_width": null,
      "min_height": null,
      "min_width": null,
      "object_fit": null,
      "object_position": null,
      "order": null,
      "overflow": null,
      "overflow_x": null,
      "overflow_y": null,
      "padding": null,
      "right": null,
      "top": null,
      "visibility": null,
      "width": null
     }
    },
    "7920057913524c9b82b2d786c9de04bb": {
     "model_module": "@jupyter-widgets/controls",
     "model_module_version": "1.5.0",
     "model_name": "ProgressStyleModel",
     "state": {
      "_model_module": "@jupyter-widgets/controls",
      "_model_module_version": "1.5.0",
      "_model_name": "ProgressStyleModel",
      "_view_count": null,
      "_view_module": "@jupyter-widgets/base",
      "_view_module_version": "1.2.0",
      "_view_name": "StyleView",
      "bar_color": null,
      "description_width": ""
     }
    },
    "793d44f5f6cd4b61a43d33e8bdf8c1c2": {
     "model_module": "@jupyter-widgets/base",
     "model_module_version": "1.2.0",
     "model_name": "LayoutModel",
     "state": {
      "_model_module": "@jupyter-widgets/base",
      "_model_module_version": "1.2.0",
      "_model_name": "LayoutModel",
      "_view_count": null,
      "_view_module": "@jupyter-widgets/base",
      "_view_module_version": "1.2.0",
      "_view_name": "LayoutView",
      "align_content": null,
      "align_items": null,
      "align_self": null,
      "border": null,
      "bottom": null,
      "display": null,
      "flex": null,
      "flex_flow": null,
      "grid_area": null,
      "grid_auto_columns": null,
      "grid_auto_flow": null,
      "grid_auto_rows": null,
      "grid_column": null,
      "grid_gap": null,
      "grid_row": null,
      "grid_template_areas": null,
      "grid_template_columns": null,
      "grid_template_rows": null,
      "height": null,
      "justify_content": null,
      "justify_items": null,
      "left": null,
      "margin": null,
      "max_height": null,
      "max_width": null,
      "min_height": null,
      "min_width": null,
      "object_fit": null,
      "object_position": null,
      "order": null,
      "overflow": null,
      "overflow_x": null,
      "overflow_y": null,
      "padding": null,
      "right": null,
      "top": null,
      "visibility": null,
      "width": null
     }
    },
    "7c129a485dd54ff8881a82d3feb0579c": {
     "model_module": "@jupyter-widgets/controls",
     "model_module_version": "1.5.0",
     "model_name": "HTMLModel",
     "state": {
      "_dom_classes": [],
      "_model_module": "@jupyter-widgets/controls",
      "_model_module_version": "1.5.0",
      "_model_name": "HTMLModel",
      "_view_count": null,
      "_view_module": "@jupyter-widgets/controls",
      "_view_module_version": "1.5.0",
      "_view_name": "HTMLView",
      "description": "",
      "description_tooltip": null,
      "layout": "IPY_MODEL_877ab9697e3f4a4a93559e8e11bae1da",
      "placeholder": "​",
      "style": "IPY_MODEL_1444797dd2b7452986ce271d39181035",
      "value": ""
     }
    },
    "877ab9697e3f4a4a93559e8e11bae1da": {
     "model_module": "@jupyter-widgets/base",
     "model_module_version": "1.2.0",
     "model_name": "LayoutModel",
     "state": {
      "_model_module": "@jupyter-widgets/base",
      "_model_module_version": "1.2.0",
      "_model_name": "LayoutModel",
      "_view_count": null,
      "_view_module": "@jupyter-widgets/base",
      "_view_module_version": "1.2.0",
      "_view_name": "LayoutView",
      "align_content": null,
      "align_items": null,
      "align_self": null,
      "border": null,
      "bottom": null,
      "display": null,
      "flex": null,
      "flex_flow": null,
      "grid_area": null,
      "grid_auto_columns": null,
      "grid_auto_flow": null,
      "grid_auto_rows": null,
      "grid_column": null,
      "grid_gap": null,
      "grid_row": null,
      "grid_template_areas": null,
      "grid_template_columns": null,
      "grid_template_rows": null,
      "height": null,
      "justify_content": null,
      "justify_items": null,
      "left": null,
      "margin": null,
      "max_height": null,
      "max_width": null,
      "min_height": null,
      "min_width": null,
      "object_fit": null,
      "object_position": null,
      "order": null,
      "overflow": null,
      "overflow_x": null,
      "overflow_y": null,
      "padding": null,
      "right": null,
      "top": null,
      "visibility": null,
      "width": null
     }
    },
    "89410ad834764d259ce47ea8a0f569a2": {
     "model_module": "@jupyter-widgets/controls",
     "model_module_version": "1.5.0",
     "model_name": "HTMLModel",
     "state": {
      "_dom_classes": [],
      "_model_module": "@jupyter-widgets/controls",
      "_model_module_version": "1.5.0",
      "_model_name": "HTMLModel",
      "_view_count": null,
      "_view_module": "@jupyter-widgets/controls",
      "_view_module_version": "1.5.0",
      "_view_name": "HTMLView",
      "description": "",
      "description_tooltip": null,
      "layout": "IPY_MODEL_995280c29b654f7895700a8880219e16",
      "placeholder": "​",
      "style": "IPY_MODEL_b0f69226bef346babd2bb8364bc47265",
      "value": " 530/? [00:04&lt;00:00, 78.77it/s]"
     }
    },
    "995280c29b654f7895700a8880219e16": {
     "model_module": "@jupyter-widgets/base",
     "model_module_version": "1.2.0",
     "model_name": "LayoutModel",
     "state": {
      "_model_module": "@jupyter-widgets/base",
      "_model_module_version": "1.2.0",
      "_model_name": "LayoutModel",
      "_view_count": null,
      "_view_module": "@jupyter-widgets/base",
      "_view_module_version": "1.2.0",
      "_view_name": "LayoutView",
      "align_content": null,
      "align_items": null,
      "align_self": null,
      "border": null,
      "bottom": null,
      "display": null,
      "flex": null,
      "flex_flow": null,
      "grid_area": null,
      "grid_auto_columns": null,
      "grid_auto_flow": null,
      "grid_auto_rows": null,
      "grid_column": null,
      "grid_gap": null,
      "grid_row": null,
      "grid_template_areas": null,
      "grid_template_columns": null,
      "grid_template_rows": null,
      "height": null,
      "justify_content": null,
      "justify_items": null,
      "left": null,
      "margin": null,
      "max_height": null,
      "max_width": null,
      "min_height": null,
      "min_width": null,
      "object_fit": null,
      "object_position": null,
      "order": null,
      "overflow": null,
      "overflow_x": null,
      "overflow_y": null,
      "padding": null,
      "right": null,
      "top": null,
      "visibility": null,
      "width": null
     }
    },
    "9e162044bfb54506a6bdf64347ac3954": {
     "model_module": "@jupyter-widgets/base",
     "model_module_version": "1.2.0",
     "model_name": "LayoutModel",
     "state": {
      "_model_module": "@jupyter-widgets/base",
      "_model_module_version": "1.2.0",
      "_model_name": "LayoutModel",
      "_view_count": null,
      "_view_module": "@jupyter-widgets/base",
      "_view_module_version": "1.2.0",
      "_view_name": "LayoutView",
      "align_content": null,
      "align_items": null,
      "align_self": null,
      "border": null,
      "bottom": null,
      "display": null,
      "flex": null,
      "flex_flow": null,
      "grid_area": null,
      "grid_auto_columns": null,
      "grid_auto_flow": null,
      "grid_auto_rows": null,
      "grid_column": null,
      "grid_gap": null,
      "grid_row": null,
      "grid_template_areas": null,
      "grid_template_columns": null,
      "grid_template_rows": null,
      "height": null,
      "justify_content": null,
      "justify_items": null,
      "left": null,
      "margin": null,
      "max_height": null,
      "max_width": null,
      "min_height": null,
      "min_width": null,
      "object_fit": null,
      "object_position": null,
      "order": null,
      "overflow": null,
      "overflow_x": null,
      "overflow_y": null,
      "padding": null,
      "right": null,
      "top": null,
      "visibility": null,
      "width": null
     }
    },
    "a0684f736a954d1daeca0da348913608": {
     "model_module": "@jupyter-widgets/base",
     "model_module_version": "1.2.0",
     "model_name": "LayoutModel",
     "state": {
      "_model_module": "@jupyter-widgets/base",
      "_model_module_version": "1.2.0",
      "_model_name": "LayoutModel",
      "_view_count": null,
      "_view_module": "@jupyter-widgets/base",
      "_view_module_version": "1.2.0",
      "_view_name": "LayoutView",
      "align_content": null,
      "align_items": null,
      "align_self": null,
      "border": null,
      "bottom": null,
      "display": null,
      "flex": null,
      "flex_flow": null,
      "grid_area": null,
      "grid_auto_columns": null,
      "grid_auto_flow": null,
      "grid_auto_rows": null,
      "grid_column": null,
      "grid_gap": null,
      "grid_row": null,
      "grid_template_areas": null,
      "grid_template_columns": null,
      "grid_template_rows": null,
      "height": null,
      "justify_content": null,
      "justify_items": null,
      "left": null,
      "margin": null,
      "max_height": null,
      "max_width": null,
      "min_height": null,
      "min_width": null,
      "object_fit": null,
      "object_position": null,
      "order": null,
      "overflow": null,
      "overflow_x": null,
      "overflow_y": null,
      "padding": null,
      "right": null,
      "top": null,
      "visibility": null,
      "width": null
     }
    },
    "a5d358b0730844c0b02b96bd2f9abf72": {
     "model_module": "@jupyter-widgets/base",
     "model_module_version": "1.2.0",
     "model_name": "LayoutModel",
     "state": {
      "_model_module": "@jupyter-widgets/base",
      "_model_module_version": "1.2.0",
      "_model_name": "LayoutModel",
      "_view_count": null,
      "_view_module": "@jupyter-widgets/base",
      "_view_module_version": "1.2.0",
      "_view_name": "LayoutView",
      "align_content": null,
      "align_items": null,
      "align_self": null,
      "border": null,
      "bottom": null,
      "display": null,
      "flex": null,
      "flex_flow": null,
      "grid_area": null,
      "grid_auto_columns": null,
      "grid_auto_flow": null,
      "grid_auto_rows": null,
      "grid_column": null,
      "grid_gap": null,
      "grid_row": null,
      "grid_template_areas": null,
      "grid_template_columns": null,
      "grid_template_rows": null,
      "height": null,
      "justify_content": null,
      "justify_items": null,
      "left": null,
      "margin": null,
      "max_height": null,
      "max_width": null,
      "min_height": null,
      "min_width": null,
      "object_fit": null,
      "object_position": null,
      "order": null,
      "overflow": null,
      "overflow_x": null,
      "overflow_y": null,
      "padding": null,
      "right": null,
      "top": null,
      "visibility": "hidden",
      "width": null
     }
    },
    "a63ed4e90e5f4d848798167662a19977": {
     "model_module": "@jupyter-widgets/base",
     "model_module_version": "1.2.0",
     "model_name": "LayoutModel",
     "state": {
      "_model_module": "@jupyter-widgets/base",
      "_model_module_version": "1.2.0",
      "_model_name": "LayoutModel",
      "_view_count": null,
      "_view_module": "@jupyter-widgets/base",
      "_view_module_version": "1.2.0",
      "_view_name": "LayoutView",
      "align_content": null,
      "align_items": null,
      "align_self": null,
      "border": null,
      "bottom": null,
      "display": null,
      "flex": null,
      "flex_flow": null,
      "grid_area": null,
      "grid_auto_columns": null,
      "grid_auto_flow": null,
      "grid_auto_rows": null,
      "grid_column": null,
      "grid_gap": null,
      "grid_row": null,
      "grid_template_areas": null,
      "grid_template_columns": null,
      "grid_template_rows": null,
      "height": null,
      "justify_content": null,
      "justify_items": null,
      "left": null,
      "margin": null,
      "max_height": null,
      "max_width": null,
      "min_height": null,
      "min_width": null,
      "object_fit": null,
      "object_position": null,
      "order": null,
      "overflow": null,
      "overflow_x": null,
      "overflow_y": null,
      "padding": null,
      "right": null,
      "top": null,
      "visibility": "hidden",
      "width": null
     }
    },
    "a75980817b6645c2976f7b78b31ebe35": {
     "model_module": "@jupyter-widgets/controls",
     "model_module_version": "1.5.0",
     "model_name": "HBoxModel",
     "state": {
      "_dom_classes": [],
      "_model_module": "@jupyter-widgets/controls",
      "_model_module_version": "1.5.0",
      "_model_name": "HBoxModel",
      "_view_count": null,
      "_view_module": "@jupyter-widgets/controls",
      "_view_module_version": "1.5.0",
      "_view_name": "HBoxView",
      "box_style": "",
      "children": [
       "IPY_MODEL_2c09c7b13b6848bcaa01c7edc83df2b2",
       "IPY_MODEL_0fbab92fb5d141c599118fcb0b017ed0",
       "IPY_MODEL_89410ad834764d259ce47ea8a0f569a2"
      ],
      "layout": "IPY_MODEL_a63ed4e90e5f4d848798167662a19977"
     }
    },
    "a860e95402d7473e9575cb3c34b816ed": {
     "model_module": "@jupyter-widgets/base",
     "model_module_version": "1.2.0",
     "model_name": "LayoutModel",
     "state": {
      "_model_module": "@jupyter-widgets/base",
      "_model_module_version": "1.2.0",
      "_model_name": "LayoutModel",
      "_view_count": null,
      "_view_module": "@jupyter-widgets/base",
      "_view_module_version": "1.2.0",
      "_view_name": "LayoutView",
      "align_content": null,
      "align_items": null,
      "align_self": null,
      "border": null,
      "bottom": null,
      "display": null,
      "flex": null,
      "flex_flow": null,
      "grid_area": null,
      "grid_auto_columns": null,
      "grid_auto_flow": null,
      "grid_auto_rows": null,
      "grid_column": null,
      "grid_gap": null,
      "grid_row": null,
      "grid_template_areas": null,
      "grid_template_columns": null,
      "grid_template_rows": null,
      "height": null,
      "justify_content": null,
      "justify_items": null,
      "left": null,
      "margin": null,
      "max_height": null,
      "max_width": null,
      "min_height": null,
      "min_width": null,
      "object_fit": null,
      "object_position": null,
      "order": null,
      "overflow": null,
      "overflow_x": null,
      "overflow_y": null,
      "padding": null,
      "right": null,
      "top": null,
      "visibility": null,
      "width": null
     }
    },
    "abd33785ca0a4446a322acd52b003cef": {
     "model_module": "@jupyter-widgets/controls",
     "model_module_version": "1.5.0",
     "model_name": "DescriptionStyleModel",
     "state": {
      "_model_module": "@jupyter-widgets/controls",
      "_model_module_version": "1.5.0",
      "_model_name": "DescriptionStyleModel",
      "_view_count": null,
      "_view_module": "@jupyter-widgets/base",
      "_view_module_version": "1.2.0",
      "_view_name": "StyleView",
      "description_width": ""
     }
    },
    "b0f69226bef346babd2bb8364bc47265": {
     "model_module": "@jupyter-widgets/controls",
     "model_module_version": "1.5.0",
     "model_name": "DescriptionStyleModel",
     "state": {
      "_model_module": "@jupyter-widgets/controls",
      "_model_module_version": "1.5.0",
      "_model_name": "DescriptionStyleModel",
      "_view_count": null,
      "_view_module": "@jupyter-widgets/base",
      "_view_module_version": "1.2.0",
      "_view_name": "StyleView",
      "description_width": ""
     }
    },
    "bb692e7025e84973b48def9548dc2c38": {
     "model_module": "@jupyter-widgets/controls",
     "model_module_version": "1.5.0",
     "model_name": "ProgressStyleModel",
     "state": {
      "_model_module": "@jupyter-widgets/controls",
      "_model_module_version": "1.5.0",
      "_model_name": "ProgressStyleModel",
      "_view_count": null,
      "_view_module": "@jupyter-widgets/base",
      "_view_module_version": "1.2.0",
      "_view_name": "StyleView",
      "bar_color": null,
      "description_width": ""
     }
    },
    "c822bbdecfbb47b7997fdf9da6e6e696": {
     "model_module": "@jupyter-widgets/base",
     "model_module_version": "1.2.0",
     "model_name": "LayoutModel",
     "state": {
      "_model_module": "@jupyter-widgets/base",
      "_model_module_version": "1.2.0",
      "_model_name": "LayoutModel",
      "_view_count": null,
      "_view_module": "@jupyter-widgets/base",
      "_view_module_version": "1.2.0",
      "_view_name": "LayoutView",
      "align_content": null,
      "align_items": null,
      "align_self": null,
      "border": null,
      "bottom": null,
      "display": null,
      "flex": null,
      "flex_flow": null,
      "grid_area": null,
      "grid_auto_columns": null,
      "grid_auto_flow": null,
      "grid_auto_rows": null,
      "grid_column": null,
      "grid_gap": null,
      "grid_row": null,
      "grid_template_areas": null,
      "grid_template_columns": null,
      "grid_template_rows": null,
      "height": null,
      "justify_content": null,
      "justify_items": null,
      "left": null,
      "margin": null,
      "max_height": null,
      "max_width": null,
      "min_height": null,
      "min_width": null,
      "object_fit": null,
      "object_position": null,
      "order": null,
      "overflow": null,
      "overflow_x": null,
      "overflow_y": null,
      "padding": null,
      "right": null,
      "top": null,
      "visibility": "hidden",
      "width": null
     }
    },
    "dcab5a979939476c82f093439fff5727": {
     "model_module": "@jupyter-widgets/controls",
     "model_module_version": "1.5.0",
     "model_name": "HBoxModel",
     "state": {
      "_dom_classes": [],
      "_model_module": "@jupyter-widgets/controls",
      "_model_module_version": "1.5.0",
      "_model_name": "HBoxModel",
      "_view_count": null,
      "_view_module": "@jupyter-widgets/controls",
      "_view_module_version": "1.5.0",
      "_view_name": "HBoxView",
      "box_style": "",
      "children": [
       "IPY_MODEL_5cbbe15dece24cf3911c00f7db8e1614",
       "IPY_MODEL_5e90c71339ef41249bb67de526223c54",
       "IPY_MODEL_2523a9bcd4e64d7aba736eb8d4969c0c"
      ],
      "layout": "IPY_MODEL_c822bbdecfbb47b7997fdf9da6e6e696"
     }
    },
    "dec1ada1356140aeb3a7b1f4628707c5": {
     "model_module": "@jupyter-widgets/controls",
     "model_module_version": "1.5.0",
     "model_name": "HTMLModel",
     "state": {
      "_dom_classes": [],
      "_model_module": "@jupyter-widgets/controls",
      "_model_module_version": "1.5.0",
      "_model_name": "HTMLModel",
      "_view_count": null,
      "_view_module": "@jupyter-widgets/controls",
      "_view_module_version": "1.5.0",
      "_view_name": "HTMLView",
      "description": "",
      "description_tooltip": null,
      "layout": "IPY_MODEL_75b20cfd32344c9e83d6d06fed412c66",
      "placeholder": "​",
      "style": "IPY_MODEL_e15c4d7ec9f54cd38cca81d59cca6e69",
      "value": " 530/? [00:06&lt;00:00, 50.13it/s]"
     }
    },
    "e15c4d7ec9f54cd38cca81d59cca6e69": {
     "model_module": "@jupyter-widgets/controls",
     "model_module_version": "1.5.0",
     "model_name": "DescriptionStyleModel",
     "state": {
      "_model_module": "@jupyter-widgets/controls",
      "_model_module_version": "1.5.0",
      "_model_name": "DescriptionStyleModel",
      "_view_count": null,
      "_view_module": "@jupyter-widgets/base",
      "_view_module_version": "1.2.0",
      "_view_name": "StyleView",
      "description_width": ""
     }
    },
    "ec2929e2846f4f3ba9adcdb719aa0734": {
     "model_module": "@jupyter-widgets/controls",
     "model_module_version": "1.5.0",
     "model_name": "HBoxModel",
     "state": {
      "_dom_classes": [],
      "_model_module": "@jupyter-widgets/controls",
      "_model_module_version": "1.5.0",
      "_model_name": "HBoxModel",
      "_view_count": null,
      "_view_module": "@jupyter-widgets/controls",
      "_view_module_version": "1.5.0",
      "_view_name": "HBoxView",
      "box_style": "",
      "children": [
       "IPY_MODEL_7c129a485dd54ff8881a82d3feb0579c",
       "IPY_MODEL_220e48323927424fac008796af507795",
       "IPY_MODEL_dec1ada1356140aeb3a7b1f4628707c5"
      ],
      "layout": "IPY_MODEL_a5d358b0730844c0b02b96bd2f9abf72"
     }
    }
   }
  }
 },
 "nbformat": 4,
 "nbformat_minor": 1
}
